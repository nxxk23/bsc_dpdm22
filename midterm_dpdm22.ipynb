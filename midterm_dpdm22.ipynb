{
  "nbformat": 4,
  "nbformat_minor": 0,
  "metadata": {
    "colab": {
      "private_outputs": true,
      "provenance": [],
      "toc_visible": true,
      "authorship_tag": "ABX9TyPHhYn6ZMeiYGgdTruvzC8X",
      "include_colab_link": true
    },
    "kernelspec": {
      "name": "python3",
      "display_name": "Python 3"
    },
    "language_info": {
      "name": "python"
    }
  },
  "cells": [
    {
      "cell_type": "markdown",
      "metadata": {
        "id": "view-in-github",
        "colab_type": "text"
      },
      "source": [
        "<a href=\"https://colab.research.google.com/github/nxxk23/bsc_dpdm22/blob/main/midterm_dpdm22.ipynb\" target=\"_parent\"><img src=\"https://colab.research.google.com/assets/colab-badge.svg\" alt=\"Open In Colab\"/></a>"
      ]
    },
    {
      "cell_type": "markdown",
      "source": [
        "## การเตรียมข้อมูลประกอบด้วย กำจัด outlier, แก้ missing, normalization, one-hot-encoder และ อื่นๆ ที่นักศึกษาเห็นว่าเหมาะสม"
      ],
      "metadata": {
        "id": "_ApHToINnxBw"
      }
    },
    {
      "cell_type": "markdown",
      "source": [
        "# 1 ทำนายราคาบ้าน 10 คะแนน\n",
        "เตรียมข้อมูลเพื่อทำนายราคาบ้าน ราคาประเมินบ้าน และ คะแนนทรัพย์ จาก [google drive](https://drive.google.com/drive/folders/1uIcUFY1yldIq-A3wijh2n2N6az-EljIe?usp=sharing) โดยข้อมูลที่เตรียมต้องประกอบด้วย columns ต่อไปนี้\n",
        "\n",
        "* ```'renovate','number_of_rai','number_of_ngan','number_of_va','number_of_story','number_of_bedroom','number_of_bathroom','direction','furniture','usable_area','number_of_parking', 'sell_price'``` จากตาราง \"คำตอบนักประเมิน(ID)\"\n",
        "\n",
        "* ```จำนวน 7-11 และ โรงเรียน ในรัศมี 200,500,1000,2000 เมตร (ตั้งชื่อ d200-7/11','d500-7/11',...,'d2000-7/11' แบะ ;d200-school','d500-school',...,'d2000-school')``` จากตาราง \"7-eleven.json\" และ \"school.json\"\n",
        "\n",
        "* ```ประเมินราคาซื้อขาย และ คะแนนทรัพย์ (ตั้งชื่อ 'estimator' และ 'score')``` จากตาราง คำตอบนักประเมิน(ID) โดยราคาประเมินกับคะแนนทรัพย์ อ้างอิงของนักประเมิน ID=01 คนเดียว"
      ],
      "metadata": {
        "id": "ZQCBgFwZnyPs"
      }
    },
    {
      "cell_type": "code",
      "source": [
        "from google.colab import drive\n",
        "drive.mount('/content/drive')"
      ],
      "metadata": {
        "id": "GLIlvvAhn5wL"
      },
      "execution_count": null,
      "outputs": []
    },
    {
      "cell_type": "markdown",
      "source": [
        "#📋 Data House"
      ],
      "metadata": {
        "id": "IJ-w1WRv696Z"
      }
    },
    {
      "cell_type": "code",
      "source": [
        "from google.colab import auth\n",
        "auth.authenticate_user()\n",
        "\n",
        "import gspread\n",
        "from google.auth import default\n",
        "creds, _ = default()\n",
        "\n",
        "gc = gspread.authorize(creds)"
      ],
      "metadata": {
        "id": "7x6RMhGMozfo"
      },
      "execution_count": null,
      "outputs": []
    },
    {
      "cell_type": "markdown",
      "source": [
        "#**Home1**"
      ],
      "metadata": {
        "id": "sYLQa4xllw9j"
      }
    },
    {
      "cell_type": "code",
      "source": [
        "import pandas as pd\n",
        "gsht = gc.open_by_key('1RPoAJb0oRiVvXHvy3n8IP7ocEQeAVSwQ4wMROq1M5hw')\n",
        "worksheet = gsht.worksheet(\"บ้านมือ1\")\n",
        "rows = worksheet.get_all_values()\n",
        "home1 = pd.DataFrame.from_records(rows)\n",
        "home1.columns=home1.iloc[0] \n",
        "home1 = home1.iloc[1:,]"
      ],
      "metadata": {
        "id": "x9d0oH7Co0rO"
      },
      "execution_count": null,
      "outputs": []
    },
    {
      "cell_type": "code",
      "source": [
        "home1.columns"
      ],
      "metadata": {
        "id": "JeQ_sT2y-Xur"
      },
      "execution_count": null,
      "outputs": []
    },
    {
      "cell_type": "code",
      "source": [
        "h1 = home1[['id','latitude','longitude','number_of_rai','number_of_ngan','number_of_va','number_of_story','number_of_bedroom','number_of_bathroom','direction','furniture','usable_area','number_of_parking', 'sell_price']] # ไม่มี renovate"
      ],
      "metadata": {
        "id": "o5vptj0ml4cr"
      },
      "execution_count": null,
      "outputs": []
    },
    {
      "cell_type": "code",
      "source": [
        "h1_1 = h1.mask(h1 == '') ##replace blank values with NAN with DataFrame.mask()"
      ],
      "metadata": {
        "id": "iOgw2kkDmJ8x"
      },
      "execution_count": null,
      "outputs": []
    },
    {
      "cell_type": "code",
      "source": [
        "h1_1.isnull().any()"
      ],
      "metadata": {
        "id": "16OB3EfumPir"
      },
      "execution_count": null,
      "outputs": []
    },
    {
      "cell_type": "code",
      "source": [
        "h1_1.shape"
      ],
      "metadata": {
        "id": "YrRgFYEDnQ7e"
      },
      "execution_count": null,
      "outputs": []
    },
    {
      "cell_type": "markdown",
      "source": [
        "###missing I\n",
        "- number of rai\n",
        "- number of ngan\n",
        "- number of va\n",
        "\n",
        "\n",
        "```\n",
        "fill na with 0\n",
        "```\n",
        "\n"
      ],
      "metadata": {
        "id": "0NrxXzgqovSa"
      }
    },
    {
      "cell_type": "code",
      "source": [
        "h1_1['number_of_rai'] = h1_1['number_of_rai'].replace(np.nan,0)"
      ],
      "metadata": {
        "id": "iI3LGa8qnxFq"
      },
      "execution_count": null,
      "outputs": []
    },
    {
      "cell_type": "code",
      "source": [
        "h1_1['number_of_ngan'] = h1_1['number_of_ngan'].replace(np.nan,0)"
      ],
      "metadata": {
        "id": "BHt56ZLppJuT"
      },
      "execution_count": null,
      "outputs": []
    },
    {
      "cell_type": "code",
      "source": [
        "h1_1['number_of_va'] = h1_1['number_of_va'].replace(np.nan,0)"
      ],
      "metadata": {
        "id": "A2O-TDN1pO76"
      },
      "execution_count": null,
      "outputs": []
    },
    {
      "cell_type": "code",
      "source": [
        "h1_1.isnull().any()"
      ],
      "metadata": {
        "id": "X6Yvb9D9pSDU"
      },
      "execution_count": null,
      "outputs": []
    },
    {
      "cell_type": "markdown",
      "source": [
        "### missing II\n",
        "- number of story\n",
        "\n",
        "```\n",
        "fill na with ไม่ได้ระบุ + replace value\n",
        "```\n"
      ],
      "metadata": {
        "id": "nudNzzkvpVDN"
      }
    },
    {
      "cell_type": "code",
      "source": [
        "h1_1['number_of_story'] = h1_1['number_of_story'].replace(np.nan,'ไม่ได้ระบุ')"
      ],
      "metadata": {
        "id": "LX-JTkYVpqZP"
      },
      "execution_count": null,
      "outputs": []
    },
    {
      "cell_type": "code",
      "source": [
        "h1_1['number_of_story'] = h1_1['number_of_story'].replace(0,'ไม่มีสิ่งปลูกสร้าง / มีสิ่งปลูกสร้าง 1 ชั้น')"
      ],
      "metadata": {
        "id": "wTGucKw-qDYo"
      },
      "execution_count": null,
      "outputs": []
    },
    {
      "cell_type": "code",
      "source": [
        "h1_1['number_of_story'] = h1_1['number_of_story'].replace(1,'มีสิ่งปลูกสร้าง 1 ชั้น')"
      ],
      "metadata": {
        "id": "6_NxxK8rpztY"
      },
      "execution_count": null,
      "outputs": []
    },
    {
      "cell_type": "code",
      "source": [
        "h1_1['number_of_story'] = h1_1['number_of_story'].replace(2,'มีสิ่งปลูกสร้าง 2 ชั้น')"
      ],
      "metadata": {
        "id": "aUAFT7R3p2vi"
      },
      "execution_count": null,
      "outputs": []
    },
    {
      "cell_type": "code",
      "source": [
        "h1_1.isnull().any()"
      ],
      "metadata": {
        "id": "O-KcRzWFqICs"
      },
      "execution_count": null,
      "outputs": []
    },
    {
      "cell_type": "markdown",
      "source": [
        "###missing III\n",
        "- number of bedroom จำนวนห้องนอน \n",
        "- number of bathroom จำนวนห้องน้ำ\n",
        "+ number of parking จำนวนที่จอดรถ\n",
        "+ sell_price ราคาขาย\n",
        "+ area usable พื้นที่ใช้สอย\n",
        "\n",
        "\n",
        "\n",
        "\n",
        "```\n",
        "ควรเติมค่าว่างด้วย ไม่ระบุ เพราะบางบ้านอาจมี 0 ห้องนอน เลยไม่เติม 0 เพราะอาจ misslead \n",
        "```\n"
      ],
      "metadata": {
        "id": "Qx_EwODkqGy2"
      }
    },
    {
      "cell_type": "code",
      "source": [
        "h1_1['number_of_bedroom'] = h1_1['number_of_bedroom'].replace(np.nan,'ไม่ได้ระบุ')"
      ],
      "metadata": {
        "id": "lYWHDpjdqh8-"
      },
      "execution_count": null,
      "outputs": []
    },
    {
      "cell_type": "code",
      "source": [
        "h1_1['number_of_bathroom'] = h1_1['number_of_bathroom'].replace(np.nan,'ไม่ได้ระบุ')"
      ],
      "metadata": {
        "id": "59q3Ozy-qd0l"
      },
      "execution_count": null,
      "outputs": []
    },
    {
      "cell_type": "code",
      "source": [
        "h1_1['number_of_parking'] = h1_1['number_of_parking'].replace(np.nan,'ไม่ได้ระบุ')"
      ],
      "metadata": {
        "id": "fuRpa01Wqh8_"
      },
      "execution_count": null,
      "outputs": []
    },
    {
      "cell_type": "code",
      "source": [
        "h1_1['sell_price'] = h1_1['sell_price'].replace(np.nan,'ไม่ได้ระบุ')"
      ],
      "metadata": {
        "id": "fxcbtDPsqh8_"
      },
      "execution_count": null,
      "outputs": []
    },
    {
      "cell_type": "code",
      "source": [
        "h1_1['usable_area'] = h1_1['usable_area'].replace(np.nan,'ไม่ได้ระบุ')"
      ],
      "metadata": {
        "id": "F6hIZqeuqh8_"
      },
      "execution_count": null,
      "outputs": []
    },
    {
      "cell_type": "markdown",
      "source": [
        "###missing IIII\n",
        "- direction\n",
        "- furniture\n",
        "\n",
        "\n",
        "\n",
        "```\n",
        "เติมค่าว่างด้วย  0\n",
        "```"
      ],
      "metadata": {
        "id": "tkspKwzxuHH-"
      }
    },
    {
      "cell_type": "code",
      "source": [
        "h1_1['furniture'] = h1_1['furniture'].replace(np.nan, 0)"
      ],
      "metadata": {
        "id": "I6eO72afqz7y"
      },
      "execution_count": null,
      "outputs": []
    },
    {
      "cell_type": "code",
      "source": [
        "h1_1['direction'] = h1_1['direction'].replace(np.nan, 0)"
      ],
      "metadata": {
        "id": "XjXBZg9huGdS"
      },
      "execution_count": null,
      "outputs": []
    },
    {
      "cell_type": "code",
      "source": [
        "h1_1.isnull().any()"
      ],
      "metadata": {
        "id": "PbrFFDaCqh9A"
      },
      "execution_count": null,
      "outputs": []
    },
    {
      "cell_type": "markdown",
      "source": [
        "### missing IIIII\n",
        "- lat,lng"
      ],
      "metadata": {
        "id": "oMKHbME_Ecp7"
      }
    },
    {
      "cell_type": "code",
      "source": [
        "h1_1['longitude'] = h1_1['longitude'].replace(np.nan,'ไม่ได้ระบุ')"
      ],
      "metadata": {
        "id": "C9MtpYywEdEb"
      },
      "execution_count": null,
      "outputs": []
    },
    {
      "cell_type": "code",
      "source": [
        "h1_1['latitude'] = h1_1['latitude'].replace(np.nan,'ไม่ได้ระบุ')"
      ],
      "metadata": {
        "id": "0letWjIDEg7E"
      },
      "execution_count": null,
      "outputs": []
    },
    {
      "cell_type": "code",
      "source": [
        "home1 = h1_1[['id','latitude','longitude','number_of_rai','number_of_ngan','number_of_va','number_of_story','number_of_bedroom','number_of_bathroom','direction','furniture','usable_area','number_of_parking', 'sell_price']]"
      ],
      "metadata": {
        "id": "x4T9RIr3vRSf"
      },
      "execution_count": null,
      "outputs": []
    },
    {
      "cell_type": "code",
      "source": [
        "h1_1.isnull().any()"
      ],
      "metadata": {
        "id": "ZGkGW5oTFEyw"
      },
      "execution_count": null,
      "outputs": []
    },
    {
      "cell_type": "markdown",
      "source": [
        "#**Home2**"
      ],
      "metadata": {
        "id": "doXTI5Zale0s"
      }
    },
    {
      "cell_type": "code",
      "source": [
        "gsht = gc.open_by_key('1QO6OiGqyr8i78MVnjyLBBtr5Y8AoBM1tHZRg0Ud5CW4')\n",
        "worksheet = gsht.worksheet(\"บ้านมือ2\")\n",
        "rows = worksheet.get_all_values()\n",
        "home2 = pd.DataFrame.from_records(rows)\n",
        "home2.columns=home2.iloc[0] \n",
        "home2 = home2.iloc[1:,]"
      ],
      "metadata": {
        "id": "yzR16BI-qZIW"
      },
      "execution_count": null,
      "outputs": []
    },
    {
      "cell_type": "code",
      "source": [
        "h2 = home2[['id','name_th','latitude','longitude','renovate','number_of_rai','number_of_ngan','number_of_va','number_of_story','number_of_bedroom','number_of_bathroom','direction','furniture','usable_area','number_of_parking', 'sell_price']]"
      ],
      "metadata": {
        "id": "fry-5NUvqt1f"
      },
      "execution_count": null,
      "outputs": []
    },
    {
      "cell_type": "code",
      "source": [
        "h2.info()"
      ],
      "metadata": {
        "id": "Myabdftfth-4"
      },
      "execution_count": null,
      "outputs": []
    },
    {
      "cell_type": "code",
      "source": [
        "h2_2 = h2.mask(h2 == '') ##replace blank values with NAN with DataFrame.mask()"
      ],
      "metadata": {
        "id": "ZT50PjaAveKk"
      },
      "execution_count": null,
      "outputs": []
    },
    {
      "cell_type": "code",
      "source": [
        "h2_2.isnull().any()"
      ],
      "metadata": {
        "id": "2O3RlwJGxHJX"
      },
      "execution_count": null,
      "outputs": []
    },
    {
      "cell_type": "code",
      "source": [
        "h2_2.shape"
      ],
      "metadata": {
        "id": "fB5SnEtR9wPU"
      },
      "execution_count": null,
      "outputs": []
    },
    {
      "cell_type": "markdown",
      "source": [
        "\n",
        "### missing I\n",
        "- renovate ค่าว่างคือที่ดินเปล่า จึงไม่มีการ renovate ได้ ถ้าอันที่มีค่า มักเป็นบ้านหรือ ที่ดินพร้อมสิ่งปลูกสร้างที่ตอบได้ว่าเคยหรือไม่เคย renovate\n",
        "\n",
        "\n",
        "```\n",
        "แต่จากที่ดู พบว่า มีคละๆกันไป แม้จะเป็นที่ดิน ก็มีการตอบ no หรือ yes ได้ ดังนั้น เลือกเติม renovate ด้วยค่า *ไม่ได้ระบุ*\n",
        "```\n",
        "\n",
        "- ครบ 1656 แถวจ้า\n",
        "\n"
      ],
      "metadata": {
        "id": "a6-ZhL59zlhE"
      }
    },
    {
      "cell_type": "code",
      "source": [
        "#h2[h2['name_th'].str.startswith('ขายที่ดินพร้อมสิ่งปลูกสร้าง')].eq('').any() #138 renovate is not null"
      ],
      "metadata": {
        "id": "b0bWXB93-qXv"
      },
      "execution_count": null,
      "outputs": []
    },
    {
      "cell_type": "code",
      "source": [
        "#h2[h2['name_th'].str.startswith('ขายที่ดินพร้อมสิ่งปลูกสร้าง')]['number_of_story'].replace('',1)"
      ],
      "metadata": {
        "id": "XHMneeBlLrsJ"
      },
      "execution_count": null,
      "outputs": []
    },
    {
      "cell_type": "code",
      "source": [
        "#h2[h2['name_th'].str.startswith('ขายที่ดินเปล่า')].eq('').any() #1 renovate is not null"
      ],
      "metadata": {
        "id": "k_WBtQJJ-eZt"
      },
      "execution_count": null,
      "outputs": []
    },
    {
      "cell_type": "code",
      "source": [
        "#h2[h2['name_th'].str.startswith('ขายบ้าน')].eq('').any() #814 มีค่าว่าง"
      ],
      "metadata": {
        "id": "vVOMVMH8933s"
      },
      "execution_count": null,
      "outputs": []
    },
    {
      "cell_type": "code",
      "source": [
        "#h2[h2['name_th'].str.startswith('บ้าน')].eq('').any() #323 มีค่าว่าง"
      ],
      "metadata": {
        "id": "YU72W3Xk9u5L"
      },
      "execution_count": null,
      "outputs": []
    },
    {
      "cell_type": "code",
      "source": [
        "#h2[h2['name_th'].str.startswith('ที่ดิน')].eq('').any() #47 มีค่าว่าง"
      ],
      "metadata": {
        "id": "prsrxgiS9qxD"
      },
      "execution_count": null,
      "outputs": []
    },
    {
      "cell_type": "code",
      "source": [
        "#h2[h2['name_th'].str.startswith('ที่ดินเปล่า')].eq('').any() #4 มีค่าว่าง"
      ],
      "metadata": {
        "id": "j66tWciy9D-t"
      },
      "execution_count": null,
      "outputs": []
    },
    {
      "cell_type": "code",
      "source": [
        "#h2[h2['name_th'].str.startswith('ที่ดินพร้อมสิ่งปลูกสร้าง')].eq('').any() # มี 43 rows renovate is not null"
      ],
      "metadata": {
        "id": "65D46Nw18xe-"
      },
      "execution_count": null,
      "outputs": []
    },
    {
      "cell_type": "code",
      "source": [
        "#h2[h2['name_th'].str.startswith('📌')].eq('').any() # 11 renovate is not null"
      ],
      "metadata": {
        "id": "HfCjYPx5Q10U"
      },
      "execution_count": null,
      "outputs": []
    },
    {
      "cell_type": "code",
      "source": [
        "#h2[h2['name_th'].str.startswith('ขาย')].eq('').any() #1173"
      ],
      "metadata": {
        "id": "soGRK3YbRdSo"
      },
      "execution_count": null,
      "outputs": []
    },
    {
      "cell_type": "markdown",
      "source": [
        "**Replace** 'null' with not specifieed"
      ],
      "metadata": {
        "id": "XU_MSXDRaJFz"
      }
    },
    {
      "cell_type": "code",
      "source": [
        "import numpy as np"
      ],
      "metadata": {
        "id": "WXQfzzeAhA9A"
      },
      "execution_count": null,
      "outputs": []
    },
    {
      "cell_type": "code",
      "source": [
        "h2_2['renovate'] = h2_2['renovate'].replace(np.nan,'ไม่ได้ระบุ')"
      ],
      "metadata": {
        "id": "ojYY1-AVTSNg"
      },
      "execution_count": null,
      "outputs": []
    },
    {
      "cell_type": "code",
      "source": [
        "h2_2.isnull().any()"
      ],
      "metadata": {
        "id": "-1rmmYH7gEx1"
      },
      "execution_count": null,
      "outputs": []
    },
    {
      "cell_type": "code",
      "source": [
        "#h2[h2['renovate']=='not specified'].count() #211"
      ],
      "metadata": {
        "id": "gm4AyXXnUGI2"
      },
      "execution_count": null,
      "outputs": []
    },
    {
      "cell_type": "code",
      "source": [
        "#h2[h2['renovate']=='no'].count() #1393"
      ],
      "metadata": {
        "id": "poxz1tPJUWOZ"
      },
      "execution_count": null,
      "outputs": []
    },
    {
      "cell_type": "code",
      "source": [
        "#h2[h2['renovate']=='yes'].count() #24"
      ],
      "metadata": {
        "id": "6jC_P7KFUZ9Z"
      },
      "execution_count": null,
      "outputs": []
    },
    {
      "cell_type": "code",
      "source": [
        "#h2[h2['renovate']=='ไม่ระบุ'].count() #28"
      ],
      "metadata": {
        "id": "O35guVlJUvkD"
      },
      "execution_count": null,
      "outputs": []
    },
    {
      "cell_type": "markdown",
      "source": [
        "###missing II\n",
        "- number of story น่าจะเป็นจำนวนชั้นของสิ่งปลูกสร้าง \n",
        "- ซึ่งมีกรณีชื่อ ที่ดินเปล่า แต่เติมเลข 0, 1, 2 \n",
        "- หรือกรณีชื่อ บ้าน แต่เติมเลข 0, 1, 2 เช่นกัน \n",
        "-- แปลว่า อาจจะต้องทำ dummy variable \n",
        "\n",
        "\n",
        "```\n",
        "0 : ไม่มีสิ่งปลูกสร้าง / มีสิ่งปลูกสร้าง 1 ชั้น แต่ไม่เข้าใจ metadata คิดว่า บ้านไม่มีชั้น\n",
        "1 : มีสิ่งปลูกสร้าง 1 ชั้น\n",
        "2 : มีสิ่งปลูกสร้าง 2 ชั้น \n",
        "ไม่ระบุ\n",
        "```\n",
        "\n",
        "\n",
        "\n",
        "```\n",
        "เติม ไม่ระบุ : ช่องว่าง ไม่เติม 0 เพราะอาจ misslead \n",
        "```\n",
        "\n"
      ],
      "metadata": {
        "id": "kfTMz8NI2VPn"
      }
    },
    {
      "cell_type": "code",
      "source": [
        "#h2[h2['name_th'].str.startswith('ที่ดินเปล่า')].eq('').any() #มีค่าว่าง"
      ],
      "metadata": {
        "id": "DRmrBuoUYZH6"
      },
      "execution_count": null,
      "outputs": []
    },
    {
      "cell_type": "code",
      "source": [
        "#h2[h2['name_th'].str.startswith('บ้าน')].eq('').any()  #มีค่าว่าง"
      ],
      "metadata": {
        "id": "ptuU23IgYcvZ"
      },
      "execution_count": null,
      "outputs": []
    },
    {
      "cell_type": "markdown",
      "source": [
        "**Replace null with not specifieed**"
      ],
      "metadata": {
        "id": "pmSDiuo1eIO3"
      }
    },
    {
      "cell_type": "code",
      "source": [
        "h2_2['number_of_story'] = h2_2['number_of_story'].replace(np.nan,'ไม่ได้ระบุ')"
      ],
      "metadata": {
        "id": "0_gEg6LoaqcI"
      },
      "execution_count": null,
      "outputs": []
    },
    {
      "cell_type": "markdown",
      "source": [
        "**Replace 0 with ไม่มีสิ่งปลูกสร้าง / มีสิ่งปลูกสร้าง 1 ชั้น**"
      ],
      "metadata": {
        "id": "8xIrs12EeO2P"
      }
    },
    {
      "cell_type": "code",
      "source": [
        "h2_2['number_of_story'] = h2_2['number_of_story'].replace(0,'ไม่มีสิ่งปลูกสร้าง / มีสิ่งปลูกสร้าง 1 ชั้น')"
      ],
      "metadata": {
        "id": "HAZ0UHoUd2Gt"
      },
      "execution_count": null,
      "outputs": []
    },
    {
      "cell_type": "markdown",
      "source": [
        "**Replace 1 with มีสิ่งปลูกสร้าง 1 ชั้น**"
      ],
      "metadata": {
        "id": "DIkw96LxeTt0"
      }
    },
    {
      "cell_type": "code",
      "source": [
        "h2_2['number_of_story'] = h2_2['number_of_story'].replace(1,'มีสิ่งปลูกสร้าง 1 ชั้น')"
      ],
      "metadata": {
        "id": "neJN-_Qsd-wn"
      },
      "execution_count": null,
      "outputs": []
    },
    {
      "cell_type": "markdown",
      "source": [
        "**Replace 2 with มีสิ่งปลูกสร้าง 2 ชั้น**"
      ],
      "metadata": {
        "id": "dJvSgPeUeauz"
      }
    },
    {
      "cell_type": "code",
      "source": [
        "h2_2['number_of_story'] = h2_2['number_of_story'].replace(2,'มีสิ่งปลูกสร้าง 2 ชั้น')"
      ],
      "metadata": {
        "id": "Jh6Fci6LeDHh"
      },
      "execution_count": null,
      "outputs": []
    },
    {
      "cell_type": "code",
      "source": [
        "h2_2.isnull().any()"
      ],
      "metadata": {
        "id": "-61WjtSSeszl"
      },
      "execution_count": null,
      "outputs": []
    },
    {
      "cell_type": "markdown",
      "source": [
        "### missing III\n",
        "- number of bedroom จำนวนห้องนอน \n",
        "+ number of parking จำนวนที่จอดรถ\n",
        "+ sell_price ราคาขาย\n",
        "+ area usable พื้นที่ใช้สอย\n",
        "\n",
        "\n",
        "\n",
        "```\n",
        "ควรเติมค่าว่างด้วย ไม่ระบุ เพราะบางบ้านอาจมี 0 ห้องนอน เลยไม่เติม 0 เพราะอาจ misslead \n",
        "```\n",
        "\n"
      ],
      "metadata": {
        "id": "lRpd0Zfn2l06"
      }
    },
    {
      "cell_type": "code",
      "source": [
        "h2_2['number_of_bedroom'] = h2_2['number_of_bedroom'].replace(np.nan,'ไม่ได้ระบุ')"
      ],
      "metadata": {
        "id": "Cu12dr1K2h2H"
      },
      "execution_count": null,
      "outputs": []
    },
    {
      "cell_type": "code",
      "source": [
        "h2_2['number_of_parking'] = h2_2['number_of_parking'].replace(np.nan,'ไม่ได้ระบุ')"
      ],
      "metadata": {
        "id": "yCQXzjuHknKh"
      },
      "execution_count": null,
      "outputs": []
    },
    {
      "cell_type": "code",
      "source": [
        "h2_2['sell_price'] = h2_2['sell_price'].replace(np.nan,'ไม่ได้ระบุ')"
      ],
      "metadata": {
        "id": "tpNns2t0k4HN"
      },
      "execution_count": null,
      "outputs": []
    },
    {
      "cell_type": "code",
      "source": [
        "h2_2['usable_area'] = h2_2['usable_area'].replace(np.nan,'ไม่ได้ระบุ')"
      ],
      "metadata": {
        "id": "OUIGsWhClHe6"
      },
      "execution_count": null,
      "outputs": []
    },
    {
      "cell_type": "code",
      "source": [
        "h2_2.isnull().any()"
      ],
      "metadata": {
        "id": "WPipgx4VkAnE"
      },
      "execution_count": null,
      "outputs": []
    },
    {
      "cell_type": "markdown",
      "source": [
        "### missing IIII\n",
        "- lat,lng"
      ],
      "metadata": {
        "id": "e5ISTo2QEJC6"
      }
    },
    {
      "cell_type": "code",
      "source": [],
      "metadata": {
        "id": "Ux54KixAE2yk"
      },
      "execution_count": null,
      "outputs": []
    },
    {
      "cell_type": "code",
      "source": [
        "h2_2['latitude'] = h2_2['latitude'].replace(np.nan,'ไม่ได้ระบุ')"
      ],
      "metadata": {
        "id": "QwjIF6AWEPp2"
      },
      "execution_count": null,
      "outputs": []
    },
    {
      "cell_type": "code",
      "source": [
        "h2_2['longitude'] = h2_2['longitude'].replace(np.nan,'ไม่ได้ระบุ')"
      ],
      "metadata": {
        "id": "5m7-9jd0ETuB"
      },
      "execution_count": null,
      "outputs": []
    },
    {
      "cell_type": "code",
      "source": [
        "h2_2.isnull().any()"
      ],
      "metadata": {
        "id": "OwfC7KkfE-Z9"
      },
      "execution_count": null,
      "outputs": []
    },
    {
      "cell_type": "code",
      "source": [
        "home2 = h2_2[['id','latitude','longitude','renovate','number_of_rai','number_of_ngan','number_of_va','number_of_story','number_of_bedroom','number_of_bathroom','direction','furniture','usable_area','number_of_parking', 'sell_price']]"
      ],
      "metadata": {
        "id": "6b9AeBq0lORQ"
      },
      "execution_count": null,
      "outputs": []
    },
    {
      "cell_type": "markdown",
      "source": [
        "##Insert Column\n"
      ],
      "metadata": {
        "id": "trRLvDsqu16_"
      }
    },
    {
      "cell_type": "code",
      "source": [
        "home1['renovate'] = 'ไม่ได้ระบุ'"
      ],
      "metadata": {
        "id": "-U_I4g_ru-q2"
      },
      "execution_count": null,
      "outputs": []
    },
    {
      "cell_type": "code",
      "source": [
        "home1['second_hand']='บ้านมือ1'"
      ],
      "metadata": {
        "id": "yvgdurQyu4nW"
      },
      "execution_count": null,
      "outputs": []
    },
    {
      "cell_type": "code",
      "source": [
        "home2['second_hand']='บ้านมือ2'"
      ],
      "metadata": {
        "id": "LGKnoQiSu6Hr"
      },
      "execution_count": null,
      "outputs": []
    },
    {
      "cell_type": "code",
      "source": [
        "home1.shape"
      ],
      "metadata": {
        "id": "YrpRb5-BvHfW"
      },
      "execution_count": null,
      "outputs": []
    },
    {
      "cell_type": "code",
      "source": [
        "home2.shape"
      ],
      "metadata": {
        "id": "XnrKkplLvNom"
      },
      "execution_count": null,
      "outputs": []
    },
    {
      "cell_type": "markdown",
      "source": [
        "#📌 Result : House \n",
        "2410 rows × 14 columns"
      ],
      "metadata": {
        "id": "6-JdRtn_viWE"
      }
    },
    {
      "cell_type": "code",
      "source": [
        "house = pd.concat([home2, home1])\n",
        "house"
      ],
      "metadata": {
        "id": "6zSEv36GvhTp"
      },
      "execution_count": null,
      "outputs": []
    },
    {
      "cell_type": "code",
      "source": [
        "house.isnull().any()"
      ],
      "metadata": {
        "id": "_HOHfS2Tv6W0"
      },
      "execution_count": null,
      "outputs": []
    },
    {
      "cell_type": "markdown",
      "source": [
        "#📋Data Assessor "
      ],
      "metadata": {
        "id": "G8lgC2z-wjCD"
      }
    },
    {
      "cell_type": "code",
      "source": [
        "gsht = gc.open_by_key('1A3A-Yl4Tmcq2kPWf37QG6xdRZZ-4XDWULRPfORGPrNQ')\n",
        "worksheet = gsht.worksheet(\"บ้าน\")\n",
        "rows = worksheet.get_all_values()\n",
        "ass = pd.DataFrame.from_records(rows)\n",
        "ass.columns=ass.iloc[0] \n",
        "ass = ass.iloc[1:,]\n",
        "ass.head()"
      ],
      "metadata": {
        "id": "RrATrzg4x0bi"
      },
      "execution_count": null,
      "outputs": []
    },
    {
      "cell_type": "code",
      "source": [
        "ass1 = ass[ass['ID ผู้ประเมิน']=='1']\n",
        "ass1.info()"
      ],
      "metadata": {
        "id": "PqQIleHTx5CU"
      },
      "execution_count": null,
      "outputs": []
    },
    {
      "cell_type": "code",
      "source": [
        "a1 = ass1[['ID','ประเมินราคาซื้อ-ขาย','ให้คะแนนทรัพย์']]"
      ],
      "metadata": {
        "id": "f6g2SFzOyKvW"
      },
      "execution_count": null,
      "outputs": []
    },
    {
      "cell_type": "code",
      "source": [
        "#a1.rename(columns={'ประเมินราคาซื้อ-ขาย':'estimator', 'ให้คะแนนทรัพย์':'score'})"
      ],
      "metadata": {
        "id": "7ZLheKRnykKH"
      },
      "execution_count": null,
      "outputs": []
    },
    {
      "cell_type": "code",
      "source": [
        "a1.eq('').any() #มันมีค่าว่างแต่เพราะเป็น object เลยเป็นงี้"
      ],
      "metadata": {
        "id": "IjxF3no_yrG4"
      },
      "execution_count": null,
      "outputs": []
    },
    {
      "cell_type": "markdown",
      "source": [
        "###**Replace space with nan**"
      ],
      "metadata": {
        "id": "uSBmzhC5zSoi"
      }
    },
    {
      "cell_type": "code",
      "source": [
        "a1_1 = a1.mask(a1 == '') "
      ],
      "metadata": {
        "id": "BxUenNBNyltw"
      },
      "execution_count": null,
      "outputs": []
    },
    {
      "cell_type": "code",
      "source": [
        "a1_1.isnull().any()"
      ],
      "metadata": {
        "id": "ohc6ESxVzZCP"
      },
      "execution_count": null,
      "outputs": []
    },
    {
      "cell_type": "markdown",
      "source": [
        "### missing\n",
        "- ประเมินราคาทรัพย์\n",
        "- ให้คะแนนทรัพย์\n",
        "\n",
        "```\n",
        "เติม ไม่ได้ประเมินราคาทรัพย์ และไม่ได้ให้คะแนน\n",
        "```"
      ],
      "metadata": {
        "id": "T5i-qrwP06hJ"
      }
    },
    {
      "cell_type": "code",
      "source": [
        "a1_1['ประเมินราคาซื้อ-ขาย'] = a1_1['ประเมินราคาซื้อ-ขาย'].replace(np.nan,'ไม่ได้ประเมินราคา')"
      ],
      "metadata": {
        "id": "TkzCmcK01Ani"
      },
      "execution_count": null,
      "outputs": []
    },
    {
      "cell_type": "code",
      "source": [
        "a1_1['ให้คะแนนทรัพย์'] = a1_1['ให้คะแนนทรัพย์'].replace(np.nan,'ไม่ได้ให้คะแนน')"
      ],
      "metadata": {
        "id": "AF6jS5WA2OF0"
      },
      "execution_count": null,
      "outputs": []
    },
    {
      "cell_type": "code",
      "source": [
        "ass = a1_1.rename(columns={'ประเมินราคาซื้อ-ขาย':'estimator', 'ให้คะแนนทรัพย์':'score'})"
      ],
      "metadata": {
        "id": "5BD0xExF2fDw"
      },
      "execution_count": null,
      "outputs": []
    },
    {
      "cell_type": "code",
      "source": [
        "ass.isnull().any()"
      ],
      "metadata": {
        "id": "_BYvFovH2qzH"
      },
      "execution_count": null,
      "outputs": []
    },
    {
      "cell_type": "markdown",
      "source": [
        "###One-Hot-Encoder"
      ],
      "metadata": {
        "id": "LLq_fD8k0lg9"
      }
    },
    {
      "cell_type": "code",
      "source": [
        "ass_data_dummies = pd.get_dummies(ass,columns=['score']) "
      ],
      "metadata": {
        "id": "M_3XKgd30m20"
      },
      "execution_count": null,
      "outputs": []
    },
    {
      "cell_type": "markdown",
      "source": [
        "#📌 Result : Assessor \n",
        "1217 rows × 7 columns"
      ],
      "metadata": {
        "id": "krYFnn_h_2N1"
      }
    },
    {
      "cell_type": "code",
      "source": [
        "ass_data_dummies"
      ],
      "metadata": {
        "id": "A2ui8STi3fZa"
      },
      "execution_count": null,
      "outputs": []
    },
    {
      "cell_type": "code",
      "source": [
        "ass_data_dummies.isnull().any()"
      ],
      "metadata": {
        "id": "TzkjTnq13jRe"
      },
      "execution_count": null,
      "outputs": []
    },
    {
      "cell_type": "markdown",
      "source": [
        "#📋Data 7/11 vs home vs school"
      ],
      "metadata": {
        "id": "VGs-wqdy6p4p"
      }
    },
    {
      "cell_type": "code",
      "source": [
        "import pandas as pd\n",
        "import json\n",
        "with open('/content/drive/MyDrive/DPDM/Midterm/MIDterm/7-eleven.json') as json_file:\n",
        "    sv = json.loads(json_file.read())"
      ],
      "metadata": {
        "id": "SAGKrFsx6vF1"
      },
      "execution_count": null,
      "outputs": []
    },
    {
      "cell_type": "code",
      "source": [
        "with open('/content/drive/MyDrive/DPDM/Midterm/MIDterm/school.json') as json_file:\n",
        "    sc = json.loads(json_file.read())"
      ],
      "metadata": {
        "id": "ueWMNzm664rc"
      },
      "execution_count": null,
      "outputs": []
    },
    {
      "cell_type": "markdown",
      "source": [
        "###table Merge : house + ass"
      ],
      "metadata": {
        "id": "lsL2JcmwFwMV"
      }
    },
    {
      "cell_type": "code",
      "source": [
        "ha = house.merge(ass_data_dummies, left_on='id', right_on='ID')"
      ],
      "metadata": {
        "id": "F2ZBcUWXCLl0"
      },
      "execution_count": null,
      "outputs": []
    },
    {
      "cell_type": "code",
      "source": [
        "ha"
      ],
      "metadata": {
        "id": "udFXl0NTC9K3"
      },
      "execution_count": null,
      "outputs": []
    },
    {
      "cell_type": "code",
      "source": [
        "seven_id = {}\n",
        "for t in sv:\n",
        "    l = list()\n",
        "    for x in sv[t]:\n",
        "        l.append(x['geometry']['location'])\n",
        "    #print(t)\n",
        "    #print(l)\n",
        "    seven_id[t]=l"
      ],
      "metadata": {
        "id": "LiQvQav8F8kd"
      },
      "execution_count": null,
      "outputs": []
    },
    {
      "cell_type": "code",
      "source": [
        "school_id = {}\n",
        "for t in sc:\n",
        "    l = list()\n",
        "    for x in sc[t]:\n",
        "        l.append(x['geometry']['location'])\n",
        "    #print(t)\n",
        "    #print(l)\n",
        "    school_id[t]=l"
      ],
      "metadata": {
        "id": "hPW3vjCtGOlZ"
      },
      "execution_count": null,
      "outputs": []
    },
    {
      "cell_type": "markdown",
      "source": [
        "##**Test**"
      ],
      "metadata": {
        "id": "2uJ-ZFkjGclm"
      }
    },
    {
      "cell_type": "code",
      "source": [
        "id = '16'"
      ],
      "metadata": {
        "id": "IUEr8VMvGy32"
      },
      "execution_count": null,
      "outputs": []
    },
    {
      "cell_type": "code",
      "source": [
        "this_home = ha[ha['id']==id]"
      ],
      "metadata": {
        "id": "a3Onjm19GesI"
      },
      "execution_count": null,
      "outputs": []
    },
    {
      "cell_type": "code",
      "source": [
        "h_lat = this_home['latitude'].values\n",
        "h_lng = this_home['longitude'].values"
      ],
      "metadata": {
        "id": "7ZZ5VA3TG77N"
      },
      "execution_count": null,
      "outputs": []
    },
    {
      "cell_type": "code",
      "source": [
        "this_seven = seven_id[str(id)]\n",
        "this_seven"
      ],
      "metadata": {
        "id": "zCzaITrsG-aT"
      },
      "execution_count": null,
      "outputs": []
    },
    {
      "cell_type": "code",
      "source": [
        "import geopy.distance"
      ],
      "metadata": {
        "id": "LwA1k3BZHImx"
      },
      "execution_count": null,
      "outputs": []
    },
    {
      "cell_type": "code",
      "source": [
        "seven_dist=list()\n",
        "loc1 = [h_lat,h_lng]\n",
        "for seven in this_seven:\n",
        "    loc2 = [seven['lat'],seven['lng']]\n",
        "    dist = geopy.distance.geodesic(loc1,loc2).m\n",
        "    seven_dist.append(dist)\n",
        "\n",
        "seven_dist"
      ],
      "metadata": {
        "id": "iI2ZB6yCHPfh"
      },
      "execution_count": null,
      "outputs": []
    },
    {
      "cell_type": "code",
      "source": [
        "def cal_seven_radius(seven_dist_list,radius):\n",
        "    num = 0\n",
        "    for seven in seven_dist_list:\n",
        "        if seven < radius:\n",
        "            num = num + 1\n",
        "    return num"
      ],
      "metadata": {
        "id": "ZcHcp1B1HS0Y"
      },
      "execution_count": null,
      "outputs": []
    },
    {
      "cell_type": "code",
      "source": [
        "record_list = list()"
      ],
      "metadata": {
        "id": "E0KB7aZAHVqG"
      },
      "execution_count": null,
      "outputs": []
    },
    {
      "cell_type": "code",
      "source": [
        "record_dict = {}\n",
        "record_dict['id'] = id \n",
        "record_dict['d200-7/11'] = sum(np.array(seven_dist) < 200)\n",
        "record_dict['d500-7/11'] = sum(np.array(seven_dist) < 500)\n",
        "record_dict['d1000-7/11'] = sum(np.array(seven_dist) < 1000)\n",
        "record_dict['d2000-7/11'] = sum(np.array(seven_dist) < 2000)"
      ],
      "metadata": {
        "id": "f3-N8Fw7HXyH"
      },
      "execution_count": null,
      "outputs": []
    },
    {
      "cell_type": "code",
      "source": [
        "record_dict"
      ],
      "metadata": {
        "id": "B9Hls4VBHaek"
      },
      "execution_count": null,
      "outputs": []
    },
    {
      "cell_type": "code",
      "source": [
        "record_list.append(record_dict)"
      ],
      "metadata": {
        "id": "h9SewNhPHdND"
      },
      "execution_count": null,
      "outputs": []
    },
    {
      "cell_type": "markdown",
      "source": [
        "##คำนวณจริง"
      ],
      "metadata": {
        "id": "rgutTiMDIXUh"
      }
    },
    {
      "cell_type": "code",
      "source": [
        "record_list = list()\n",
        "for id in ha['id']:\n",
        "    print(id)\n",
        "    this_home = ha[ha['id']== id]\n",
        "    h_lat=this_home['latitude'].values[0]\n",
        "    h_long=this_home['longitude'].values[0]\n",
        "    this_seven = seven_id[str(int(id))] #7/11 ไม่มี key 3295 \n",
        "    seven_dist=list()\n",
        "    loc1 = [h_lat,h_long]\n",
        "    for seven in this_seven:\n",
        "        loc2 = [seven['lat'],seven['lng']]\n",
        "        dist = geopy.distance.geodesic(loc1,loc2).m\n",
        "        seven_dist.append(dist)\n",
        "\n",
        "    record_dict = {}\n",
        "    record_dict['id'] = id \n",
        "    record_dict['d200-7/11'] = sum(np.array(seven_dist) < 200)\n",
        "    record_dict['d500-7/11'] = sum(np.array(seven_dist) < 500)\n",
        "    record_dict['d1000-7/11'] = sum(np.array(seven_dist) < 1000)\n",
        "    record_dict['d2000-7/11'] = sum(np.array(seven_dist) < 2000)\n",
        "    record_list.append(record_dict)\n",
        "\n",
        "final_table = pd.DataFrame(record_list)"
      ],
      "metadata": {
        "id": "xGaUg3vsHilI"
      },
      "execution_count": null,
      "outputs": []
    },
    {
      "cell_type": "markdown",
      "source": [
        "# 2 ทำนายสภาพอากาศ 10 คะแนน\n",
        "เตรียมข้อมูลเพื่อทำนายสภาพอากาศของวันถัดไป โดย \n",
        "- กลุ่มที่ 1 และ 9 ทำนาย อุณหภูมิตุ้มแห้ง (Y)\n",
        "- กลุ่มที่ 2 ทำนาย อุณหภูมิต่ำสุด (Y)\n",
        "- กลุ่มที่ 3 ทำนาย อุณหภูมิจุดน้ำค้าง (Y)\n",
        "- กลุ่มที่ 4 ทำนาย จำนวนเมฆ (Y)\n",
        "- กลุ่มที่ 5 ทำนาย ปริมาณฝน (Y)\n",
        "- กลุ่มที่ 6 ทำนาย ความชื้นสัมพัทธ์ (Y)\n",
        "- กลุ่มที่ 7 ทำนาย ความกด (Y)\n",
        "- กลุ่มที่ 8 ทำนาย ความเร็วลม (Y)\n",
        "\n",
        "ลักษณะของ data เป็นดังนี้ Xi คือ features อื่นๆที่ใช้ในทำนาย และ Y คือค่าที่ต้องการทำนาย\n",
        "\n",
        "![Screen Shot 2566-02-05 at 20.05.21.png](data:image/png;base64,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)\n",
        "\n"
      ],
      "metadata": {
        "id": "TJ-G8GD8n2D7"
      }
    },
    {
      "cell_type": "markdown",
      "source": [
        "#**Weather**"
      ],
      "metadata": {
        "id": "_OG33BQj34nR"
      }
    },
    {
      "cell_type": "code",
      "source": [
        "import pandas as pd\n",
        "weather = pd.read_csv('/content/drive/MyDrive/DPDM/Midterm/Group7_17ธนภรณ์_19นารากร_20สุริยา_35อรัญญา.csv')"
      ],
      "metadata": {
        "id": "BNKEU1YIn7kv"
      },
      "execution_count": null,
      "outputs": []
    },
    {
      "cell_type": "code",
      "source": [
        "features = weather[['อุณหภูมิตุ้มแห้ง','อุณหภูมิต่ำสุด','อุณหภูมิจุดน้ำค้าง','จำนวนเมฆ','ปริมาณฝน','ความชื้นสัมพัทธ์','ความเร็วลม','ความกด']]\n",
        "features"
      ],
      "metadata": {
        "id": "_O757yTb39Cb"
      },
      "execution_count": null,
      "outputs": []
    },
    {
      "cell_type": "markdown",
      "source": [
        "# 📌 missing\n",
        "\n",
        "\n",
        "```\n",
        "    มีค่า - และ T เลือกดรอป แล้วเอาแค่ค่าที่มีข้อมูลครบ\n",
        "```\n",
        "\n"
      ],
      "metadata": {
        "id": "GeX82mMk5dsJ"
      }
    },
    {
      "cell_type": "code",
      "source": [
        "features = features.replace(regex=r'^ba.$', value='')"
      ],
      "metadata": {
        "id": "w7BuSgpX4a21"
      },
      "execution_count": null,
      "outputs": []
    },
    {
      "cell_type": "code",
      "source": [
        "features.eq('').any() #ไม่มี"
      ],
      "metadata": {
        "id": "ngJ_1O8W5If1"
      },
      "execution_count": null,
      "outputs": []
    },
    {
      "cell_type": "code",
      "source": [
        "features.eq('-').any()"
      ],
      "metadata": {
        "id": "GlM9w3Ww4Qee"
      },
      "execution_count": null,
      "outputs": []
    },
    {
      "cell_type": "code",
      "source": [
        "features.eq('T').any()"
      ],
      "metadata": {
        "id": "_-mCRQmT4YaT"
      },
      "execution_count": null,
      "outputs": []
    },
    {
      "cell_type": "code",
      "source": [
        "features[features.eq('-').any(1)==True]"
      ],
      "metadata": {
        "id": "eI082OXM4yOT"
      },
      "execution_count": null,
      "outputs": []
    },
    {
      "cell_type": "code",
      "source": [
        "features[features.eq('T').any(1)==True]"
      ],
      "metadata": {
        "id": "D7QLjBaG5XEg"
      },
      "execution_count": null,
      "outputs": []
    },
    {
      "cell_type": "code",
      "source": [
        "data_features_d = features[features.eq('-').any(1)==False]\n",
        "data_features_d.shape"
      ],
      "metadata": {
        "id": "sZfeR8qM5Y9Z"
      },
      "execution_count": null,
      "outputs": []
    },
    {
      "cell_type": "code",
      "source": [
        "data_features_d = data_features_d[data_features_d.eq('T').any(1)==False]\n",
        "data_features_d.shape"
      ],
      "metadata": {
        "id": "9RuZuZSY5vyK"
      },
      "execution_count": null,
      "outputs": []
    },
    {
      "cell_type": "code",
      "source": [
        "data_features_d['ความเร็วลม'] = data_features_d['ความเร็วลม'].astype(float)\n",
        "data_features_d['จำนวนเมฆ'] = data_features_d['จำนวนเมฆ'].astype(float)\n",
        "data_features_d['ปริมาณฝน'] = data_features_d['ปริมาณฝน'].astype(float)\n",
        "data_features_d['อุณหภูมิต่ำสุด'] = data_features_d['อุณหภูมิต่ำสุด'].astype(float)"
      ],
      "metadata": {
        "id": "2CcuQZXU5xwF"
      },
      "execution_count": null,
      "outputs": []
    },
    {
      "cell_type": "code",
      "source": [
        "data_features_d.isnull().any()"
      ],
      "metadata": {
        "id": "9WvnFNRc50CH"
      },
      "execution_count": null,
      "outputs": []
    },
    {
      "cell_type": "markdown",
      "source": [
        "# Result : Weather"
      ],
      "metadata": {
        "id": "PHxrA_r86Aqw"
      }
    },
    {
      "cell_type": "code",
      "source": [
        "data_features_d"
      ],
      "metadata": {
        "id": "T1Tp5vQB583t"
      },
      "execution_count": null,
      "outputs": []
    },
    {
      "cell_type": "markdown",
      "source": [
        "# **Predict**"
      ],
      "metadata": {
        "id": "326u4E-4557r"
      }
    },
    {
      "cell_type": "code",
      "source": [
        "X = data_features_d[['อุณหภูมิตุ้มแห้ง','อุณหภูมิต่ำสุด','อุณหภูมิจุดน้ำค้าง','จำนวนเมฆ','ปริมาณฝน','ความชื้นสัมพัทธ์','ความเร็วลม']]\n",
        "Y = data_features_d[['ความกด']]"
      ],
      "metadata": {
        "id": "jcIf5VG453vS"
      },
      "execution_count": null,
      "outputs": []
    },
    {
      "cell_type": "code",
      "source": [
        "import pandas as pd\n",
        "from sklearn import linear_model\n",
        "import statsmodels.api as sm\n",
        "\n",
        "\n",
        "x = data_features_d[['อุณหภูมิตุ้มแห้ง','อุณหภูมิต่ำสุด','อุณหภูมิจุดน้ำค้าง','จำนวนเมฆ','ปริมาณฝน','ความชื้นสัมพัทธ์','ความเร็วลม']]\n",
        "y = data_features_d[['ความกด']]\n",
        "\n",
        "\n",
        "# with sklearn\n",
        "regr = linear_model.LinearRegression()\n",
        "regr.fit(x, y)\n",
        "\n",
        "print('Intercept: \\n', regr.intercept_)\n",
        "print('Coefficients: \\n', regr.coef_)\n",
        "\n",
        "# with statsmodels\n",
        "X = sm.add_constant(x) # adding a constant\n",
        "\n",
        "model = sm.OLS(y, x).fit()\n",
        "predictions = model.predict(x) \n",
        " \n",
        "print_model = model.summary()\n",
        "print(print_model)"
      ],
      "metadata": {
        "id": "6L_dAqjV6HES"
      },
      "execution_count": null,
      "outputs": []
    },
    {
      "cell_type": "code",
      "source": [
        "from sklearn.linear_model import LinearRegression\n",
        "\n",
        "x = data_features_d[['อุณหภูมิตุ้มแห้ง','อุณหภูมิต่ำสุด','อุณหภูมิจุดน้ำค้าง','จำนวนเมฆ','ปริมาณฝน','ความชื้นสัมพัทธ์','ความเร็วลม']]\n",
        "y = data_features_d[['ความกด']]\n",
        "\n",
        "#Define the multiple linear regression model\n",
        "linear_regression = LinearRegression()\n",
        "\n",
        "#Fit the multiple linear regression model\n",
        "linear_regression.fit(x,y)\n",
        "\n",
        "#predict with the data\n",
        "y_pred = linear_regression.predict(x)\n",
        "\n",
        "y_pred"
      ],
      "metadata": {
        "id": "8NQzbARJ6Hzo"
      },
      "execution_count": null,
      "outputs": []
    },
    {
      "cell_type": "code",
      "source": [
        "pred_y = pd.DataFrame(y_pred)"
      ],
      "metadata": {
        "id": "_lEgNzCL6L4t"
      },
      "execution_count": null,
      "outputs": []
    },
    {
      "cell_type": "code",
      "source": [
        "df1 = x.rename(columns={'อุณหภูมิตุ้มแห้ง':'X1','อุณหภูมิต่ำสุด':'X2','อุณหภูมิจุดน้ำค้าง':'X3','จำนวนเมฆ':'X4','ปริมาณฝน':'X5','ความชื้นสัมพัทธ์':'X6','ความเร็วลม':'X7'})"
      ],
      "metadata": {
        "id": "-x1dASgf6Ot-"
      },
      "execution_count": null,
      "outputs": []
    },
    {
      "cell_type": "code",
      "source": [
        "df2 = pred_y.rename(columns={0:'Y'})"
      ],
      "metadata": {
        "id": "U8cKjSnB6RIK"
      },
      "execution_count": null,
      "outputs": []
    },
    {
      "cell_type": "markdown",
      "source": [
        "**Merge**"
      ],
      "metadata": {
        "id": "NanKu88a6T1O"
      }
    },
    {
      "cell_type": "code",
      "source": [
        "df1['อะไรก็ได้'] = range(0,5061)\n",
        "df2['อะไรวะ'] = range(0,5061)"
      ],
      "metadata": {
        "id": "2HdiKSjv6TZG"
      },
      "execution_count": null,
      "outputs": []
    },
    {
      "cell_type": "code",
      "source": [
        "result = df1.merge(df2, left_on = 'อะไรก็ได้', right_on ='อะไรวะ')\n",
        "results = result[['X1','X2','X3','X4','X5','X6','X7','Y']]\n",
        "results"
      ],
      "metadata": {
        "id": "PAYbmouF6c-d"
      },
      "execution_count": null,
      "outputs": []
    },
    {
      "cell_type": "code",
      "source": [],
      "metadata": {
        "id": "Qyr5_RqO6fef"
      },
      "execution_count": null,
      "outputs": []
    }
  ]
}