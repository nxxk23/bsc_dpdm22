{
  "nbformat": 4,
  "nbformat_minor": 0,
  "metadata": {
    "colab": {
      "provenance": [],
      "toc_visible": true,
      "authorship_tag": "ABX9TyNAI1txgJ7kSZqlk2B5TxJ9",
      "include_colab_link": true
    },
    "kernelspec": {
      "name": "python3",
      "display_name": "Python 3"
    },
    "language_info": {
      "name": "python"
    }
  },
  "cells": [
    {
      "cell_type": "markdown",
      "metadata": {
        "id": "view-in-github",
        "colab_type": "text"
      },
      "source": [
        "<a href=\"https://colab.research.google.com/github/nxxk23/bsc_dpdm22/blob/main/Classification_KNN.ipynb\" target=\"_parent\"><img src=\"https://colab.research.google.com/assets/colab-badge.svg\" alt=\"Open In Colab\"/></a>"
      ]
    },
    {
      "cell_type": "markdown",
      "source": [
        "#Import Digits Data"
      ],
      "metadata": {
        "id": "-yjosrqBjSxv"
      }
    },
    {
      "cell_type": "code",
      "execution_count": 73,
      "metadata": {
        "colab": {
          "base_uri": "https://localhost:8080/"
        },
        "id": "FxECz905U5VK",
        "outputId": "a7a8ea40-fda5-402d-80ce-3550e18a71fd"
      },
      "outputs": [
        {
          "output_type": "stream",
          "name": "stdout",
          "text": [
            "(1797, 64)\n"
          ]
        }
      ],
      "source": [
        "from sklearn.datasets import load_digits\n",
        "digits = load_digits()\n",
        "print(digits.data.shape)"
      ]
    },
    {
      "cell_type": "code",
      "source": [
        "import matplotlib.pyplot as plt"
      ],
      "metadata": {
        "id": "DBhP47qhV5ur"
      },
      "execution_count": 74,
      "outputs": []
    },
    {
      "cell_type": "code",
      "source": [
        "digits"
      ],
      "metadata": {
        "colab": {
          "base_uri": "https://localhost:8080/"
        },
        "id": "HeY6LXdXV_xn",
        "outputId": "04e84215-1718-4275-e55b-1433e8b826a4"
      },
      "execution_count": 75,
      "outputs": [
        {
          "output_type": "execute_result",
          "data": {
            "text/plain": [
              "{'data': array([[ 0.,  0.,  5., ...,  0.,  0.,  0.],\n",
              "        [ 0.,  0.,  0., ..., 10.,  0.,  0.],\n",
              "        [ 0.,  0.,  0., ..., 16.,  9.,  0.],\n",
              "        ...,\n",
              "        [ 0.,  0.,  1., ...,  6.,  0.,  0.],\n",
              "        [ 0.,  0.,  2., ..., 12.,  0.,  0.],\n",
              "        [ 0.,  0., 10., ..., 12.,  1.,  0.]]),\n",
              " 'target': array([0, 1, 2, ..., 8, 9, 8]),\n",
              " 'frame': None,\n",
              " 'feature_names': ['pixel_0_0',\n",
              "  'pixel_0_1',\n",
              "  'pixel_0_2',\n",
              "  'pixel_0_3',\n",
              "  'pixel_0_4',\n",
              "  'pixel_0_5',\n",
              "  'pixel_0_6',\n",
              "  'pixel_0_7',\n",
              "  'pixel_1_0',\n",
              "  'pixel_1_1',\n",
              "  'pixel_1_2',\n",
              "  'pixel_1_3',\n",
              "  'pixel_1_4',\n",
              "  'pixel_1_5',\n",
              "  'pixel_1_6',\n",
              "  'pixel_1_7',\n",
              "  'pixel_2_0',\n",
              "  'pixel_2_1',\n",
              "  'pixel_2_2',\n",
              "  'pixel_2_3',\n",
              "  'pixel_2_4',\n",
              "  'pixel_2_5',\n",
              "  'pixel_2_6',\n",
              "  'pixel_2_7',\n",
              "  'pixel_3_0',\n",
              "  'pixel_3_1',\n",
              "  'pixel_3_2',\n",
              "  'pixel_3_3',\n",
              "  'pixel_3_4',\n",
              "  'pixel_3_5',\n",
              "  'pixel_3_6',\n",
              "  'pixel_3_7',\n",
              "  'pixel_4_0',\n",
              "  'pixel_4_1',\n",
              "  'pixel_4_2',\n",
              "  'pixel_4_3',\n",
              "  'pixel_4_4',\n",
              "  'pixel_4_5',\n",
              "  'pixel_4_6',\n",
              "  'pixel_4_7',\n",
              "  'pixel_5_0',\n",
              "  'pixel_5_1',\n",
              "  'pixel_5_2',\n",
              "  'pixel_5_3',\n",
              "  'pixel_5_4',\n",
              "  'pixel_5_5',\n",
              "  'pixel_5_6',\n",
              "  'pixel_5_7',\n",
              "  'pixel_6_0',\n",
              "  'pixel_6_1',\n",
              "  'pixel_6_2',\n",
              "  'pixel_6_3',\n",
              "  'pixel_6_4',\n",
              "  'pixel_6_5',\n",
              "  'pixel_6_6',\n",
              "  'pixel_6_7',\n",
              "  'pixel_7_0',\n",
              "  'pixel_7_1',\n",
              "  'pixel_7_2',\n",
              "  'pixel_7_3',\n",
              "  'pixel_7_4',\n",
              "  'pixel_7_5',\n",
              "  'pixel_7_6',\n",
              "  'pixel_7_7'],\n",
              " 'target_names': array([0, 1, 2, 3, 4, 5, 6, 7, 8, 9]),\n",
              " 'images': array([[[ 0.,  0.,  5., ...,  1.,  0.,  0.],\n",
              "         [ 0.,  0., 13., ..., 15.,  5.,  0.],\n",
              "         [ 0.,  3., 15., ..., 11.,  8.,  0.],\n",
              "         ...,\n",
              "         [ 0.,  4., 11., ..., 12.,  7.,  0.],\n",
              "         [ 0.,  2., 14., ..., 12.,  0.,  0.],\n",
              "         [ 0.,  0.,  6., ...,  0.,  0.,  0.]],\n",
              " \n",
              "        [[ 0.,  0.,  0., ...,  5.,  0.,  0.],\n",
              "         [ 0.,  0.,  0., ...,  9.,  0.,  0.],\n",
              "         [ 0.,  0.,  3., ...,  6.,  0.,  0.],\n",
              "         ...,\n",
              "         [ 0.,  0.,  1., ...,  6.,  0.,  0.],\n",
              "         [ 0.,  0.,  1., ...,  6.,  0.,  0.],\n",
              "         [ 0.,  0.,  0., ..., 10.,  0.,  0.]],\n",
              " \n",
              "        [[ 0.,  0.,  0., ..., 12.,  0.,  0.],\n",
              "         [ 0.,  0.,  3., ..., 14.,  0.,  0.],\n",
              "         [ 0.,  0.,  8., ..., 16.,  0.,  0.],\n",
              "         ...,\n",
              "         [ 0.,  9., 16., ...,  0.,  0.,  0.],\n",
              "         [ 0.,  3., 13., ..., 11.,  5.,  0.],\n",
              "         [ 0.,  0.,  0., ..., 16.,  9.,  0.]],\n",
              " \n",
              "        ...,\n",
              " \n",
              "        [[ 0.,  0.,  1., ...,  1.,  0.,  0.],\n",
              "         [ 0.,  0., 13., ...,  2.,  1.,  0.],\n",
              "         [ 0.,  0., 16., ..., 16.,  5.,  0.],\n",
              "         ...,\n",
              "         [ 0.,  0., 16., ..., 15.,  0.,  0.],\n",
              "         [ 0.,  0., 15., ..., 16.,  0.,  0.],\n",
              "         [ 0.,  0.,  2., ...,  6.,  0.,  0.]],\n",
              " \n",
              "        [[ 0.,  0.,  2., ...,  0.,  0.,  0.],\n",
              "         [ 0.,  0., 14., ..., 15.,  1.,  0.],\n",
              "         [ 0.,  4., 16., ..., 16.,  7.,  0.],\n",
              "         ...,\n",
              "         [ 0.,  0.,  0., ..., 16.,  2.,  0.],\n",
              "         [ 0.,  0.,  4., ..., 16.,  2.,  0.],\n",
              "         [ 0.,  0.,  5., ..., 12.,  0.,  0.]],\n",
              " \n",
              "        [[ 0.,  0., 10., ...,  1.,  0.,  0.],\n",
              "         [ 0.,  2., 16., ...,  1.,  0.,  0.],\n",
              "         [ 0.,  0., 15., ..., 15.,  0.,  0.],\n",
              "         ...,\n",
              "         [ 0.,  4., 16., ..., 16.,  6.,  0.],\n",
              "         [ 0.,  8., 16., ..., 16.,  8.,  0.],\n",
              "         [ 0.,  1.,  8., ..., 12.,  1.,  0.]]]),\n",
              " 'DESCR': \".. _digits_dataset:\\n\\nOptical recognition of handwritten digits dataset\\n--------------------------------------------------\\n\\n**Data Set Characteristics:**\\n\\n    :Number of Instances: 1797\\n    :Number of Attributes: 64\\n    :Attribute Information: 8x8 image of integer pixels in the range 0..16.\\n    :Missing Attribute Values: None\\n    :Creator: E. Alpaydin (alpaydin '@' boun.edu.tr)\\n    :Date: July; 1998\\n\\nThis is a copy of the test set of the UCI ML hand-written digits datasets\\nhttps://archive.ics.uci.edu/ml/datasets/Optical+Recognition+of+Handwritten+Digits\\n\\nThe data set contains images of hand-written digits: 10 classes where\\neach class refers to a digit.\\n\\nPreprocessing programs made available by NIST were used to extract\\nnormalized bitmaps of handwritten digits from a preprinted form. From a\\ntotal of 43 people, 30 contributed to the training set and different 13\\nto the test set. 32x32 bitmaps are divided into nonoverlapping blocks of\\n4x4 and the number of on pixels are counted in each block. This generates\\nan input matrix of 8x8 where each element is an integer in the range\\n0..16. This reduces dimensionality and gives invariance to small\\ndistortions.\\n\\nFor info on NIST preprocessing routines, see M. D. Garris, J. L. Blue, G.\\nT. Candela, D. L. Dimmick, J. Geist, P. J. Grother, S. A. Janet, and C.\\nL. Wilson, NIST Form-Based Handprint Recognition System, NISTIR 5469,\\n1994.\\n\\n.. topic:: References\\n\\n  - C. Kaynak (1995) Methods of Combining Multiple Classifiers and Their\\n    Applications to Handwritten Digit Recognition, MSc Thesis, Institute of\\n    Graduate Studies in Science and Engineering, Bogazici University.\\n  - E. Alpaydin, C. Kaynak (1998) Cascading Classifiers, Kybernetika.\\n  - Ken Tang and Ponnuthurai N. Suganthan and Xi Yao and A. Kai Qin.\\n    Linear dimensionalityreduction using relevance weighted LDA. School of\\n    Electrical and Electronic Engineering Nanyang Technological University.\\n    2005.\\n  - Claudio Gentile. A New Approximate Maximal Margin Classification\\n    Algorithm. NIPS. 2000.\\n\"}"
            ]
          },
          "metadata": {},
          "execution_count": 75
        }
      ]
    },
    {
      "cell_type": "code",
      "source": [
        "ind = 28\n",
        "plt.gray()\n",
        "plt.matshow(digits.images[ind])\n",
        "print(digits.target[ind])"
      ],
      "metadata": {
        "colab": {
          "base_uri": "https://localhost:8080/",
          "height": 310
        },
        "id": "xkUuGCagWCR0",
        "outputId": "52942a9c-baef-4e02-b7c9-9b3c41ee0c00"
      },
      "execution_count": 76,
      "outputs": [
        {
          "output_type": "stream",
          "name": "stdout",
          "text": [
            "8\n"
          ]
        },
        {
          "output_type": "display_data",
          "data": {
            "text/plain": [
              "<Figure size 432x288 with 0 Axes>"
            ]
          },
          "metadata": {}
        },
        {
          "output_type": "display_data",
          "data": {
            "text/plain": [
              "<Figure size 288x288 with 1 Axes>"
            ],
            "image/png": "[encoded data removed]"
          },
          "metadata": {
            "needs_background": "light"
          }
        }
      ]
    },
    {
      "cell_type": "markdown",
      "source": [
        "# Quiz 3 march\n",
        "- แบ่ง data ออกเป็น 80(train) 20(test) โดยใช้ randome_state = 9 shuffle=True\n",
        "- หา parameters ที่ดีที่สุด(K (1,3,5) Distance_weighted(yes/no)) ด้วย 10-fold-cross-validation \n",
        "-test parameters ที่ดีที่สุด กับ test data "
      ],
      "metadata": {
        "id": "tBzjn-1rXOkm"
      }
    },
    {
      "cell_type": "code",
      "source": [
        "# Split the dataset into training and testing sets\n",
        "from sklearn.model_selection import train_test_split\n",
        "X_train, X_test, y_train, y_test = train_test_split(digits.data, digits.target, test_size=0.2, shuffle=True, random_state=7)\n",
        "# Print the shape of the training and testing sets\n",
        "print(\"Shape of training data:\", X_train.shape)\n",
        "print(\"Shape of testing data:\", X_test.shape)"
      ],
      "metadata": {
        "colab": {
          "base_uri": "https://localhost:8080/"
        },
        "id": "uBDB5O_fWgHA",
        "outputId": "02b3265a-2c84-4037-c682-a023e7b62f49"
      },
      "execution_count": 77,
      "outputs": [
        {
          "output_type": "stream",
          "name": "stdout",
          "text": [
            "Shape of training data: (1437, 64)\n",
            "Shape of testing data: (360, 64)\n"
          ]
        }
      ]
    },
    {
      "cell_type": "markdown",
      "source": [
        "## Model1 (k1, weighted)"
      ],
      "metadata": {
        "id": "rZMv78bibPMa"
      }
    },
    {
      "cell_type": "code",
      "source": [
        "from sklearn.datasets import load_digits\n",
        "from sklearn.model_selection import train_test_split, cross_val_score\n",
        "from sklearn.neighbors import KNeighborsClassifier\n",
        "\n",
        "# Create a KNN classifier with distance weighting\n",
        "knn1y = KNeighborsClassifier(n_neighbors=1, weights='distance')\n",
        "\n",
        "# Train the classifier on the training data\n",
        "knn1y.fit(X_train, y_train)\n",
        "\n",
        "\n",
        "# Perform 10-fold cross-validation on the training data and calculate the accuracy\n",
        "scores = cross_val_score(knn1y, X_train, y_train, cv=10)\n",
        "accuracy = scores.mean()\n",
        "\n",
        "# Print the cross-validation accuracy\n",
        "print(\"Cross-validation accuracy:\", accuracy)"
      ],
      "metadata": {
        "colab": {
          "base_uri": "https://localhost:8080/"
        },
        "id": "dIvEwdU6YsA9",
        "outputId": "0213d9ae-f30f-4fa8-fb65-c2309ee6f7d5"
      },
      "execution_count": 78,
      "outputs": [
        {
          "output_type": "stream",
          "name": "stdout",
          "text": [
            "Cross-validation accuracy: 0.9909527972027974\n"
          ]
        }
      ]
    },
    {
      "cell_type": "markdown",
      "source": [
        "## Model 2 (k1, no weighted)"
      ],
      "metadata": {
        "id": "UsL2F3VMgdUn"
      }
    },
    {
      "cell_type": "code",
      "source": [
        "from sklearn.datasets import load_digits\n",
        "from sklearn.model_selection import train_test_split, cross_val_score\n",
        "from sklearn.neighbors import KNeighborsClassifier\n",
        "from sklearn.metrics import classification_report\n",
        "\n",
        "# Create a KNN classifier with distance weighting\n",
        "knn1n = KNeighborsClassifier(n_neighbors=1)\n",
        "\n",
        "# Train the classifier on the training data\n",
        "knn1n.fit(X_train, y_train)\n",
        "\n",
        "\n",
        "# Perform 10-fold cross-validation on the training data and calculate the accuracy\n",
        "scores = cross_val_score(knn1n, X_train, y_train, cv=10)\n",
        "accuracy = scores.mean()\n",
        "\n",
        "# Print the cross-validation accuracy\n",
        "print(\"Cross-validation accuracy:\", accuracy)"
      ],
      "metadata": {
        "colab": {
          "base_uri": "https://localhost:8080/"
        },
        "id": "sAPPwkWGbWuV",
        "outputId": "6fcd56bf-dfe3-448e-9423-94938ad16469"
      },
      "execution_count": 79,
      "outputs": [
        {
          "output_type": "stream",
          "name": "stdout",
          "text": [
            "Cross-validation accuracy: 0.9909527972027974\n"
          ]
        }
      ]
    },
    {
      "cell_type": "markdown",
      "source": [
        "## Model 3 (k3, weighted)"
      ],
      "metadata": {
        "id": "Zm_gwBr3eMW0"
      }
    },
    {
      "cell_type": "code",
      "source": [
        "from sklearn.datasets import load_digits\n",
        "from sklearn.model_selection import train_test_split, cross_val_score\n",
        "from sklearn.neighbors import KNeighborsClassifier\n",
        "\n",
        "# Create a KNN classifier with distance weighting\n",
        "knn3y = KNeighborsClassifier(n_neighbors=3, weights='distance')\n",
        "\n",
        "# Train the classifier on the training data\n",
        "knn3y.fit(X_train, y_train)\n",
        "\n",
        "\n",
        "# Perform 10-fold cross-validation on the training data and calculate the accuracy\n",
        "scores = cross_val_score(knn3y, X_train, y_train, cv=10)\n",
        "accuracy = scores.mean()\n",
        "\n",
        "# Print the cross-validation accuracy\n",
        "print(\"Cross-validation accuracy:\", accuracy)"
      ],
      "metadata": {
        "colab": {
          "base_uri": "https://localhost:8080/"
        },
        "id": "nProM2WKZtNE",
        "outputId": "c69c1766-4d31-455e-c28b-2d47920166e5"
      },
      "execution_count": 80,
      "outputs": [
        {
          "output_type": "stream",
          "name": "stdout",
          "text": [
            "Cross-validation accuracy: 0.9902534965034965\n"
          ]
        }
      ]
    },
    {
      "cell_type": "markdown",
      "source": [
        "## Model 4 (k3, no weighted)"
      ],
      "metadata": {
        "id": "g2dZ5vo8ehoJ"
      }
    },
    {
      "cell_type": "code",
      "source": [
        "from sklearn.datasets import load_digits\n",
        "from sklearn.model_selection import train_test_split, cross_val_score\n",
        "from sklearn.neighbors import KNeighborsClassifier\n",
        "\n",
        "# Create a KNN classifier with distance weighting\n",
        "knn3n = KNeighborsClassifier(n_neighbors=3)\n",
        "\n",
        "# Train the classifier on the training data\n",
        "knn3n.fit(X_train, y_train)\n",
        "\n",
        "\n",
        "# Perform 10-fold cross-validation on the training data and calculate the accuracy\n",
        "scores = cross_val_score(knn3n, X_train, y_train, cv=10)\n",
        "accuracy = scores.mean()\n",
        "\n",
        "# Print the cross-validation accuracy\n",
        "print(\"Cross-validation accuracy:\", accuracy)"
      ],
      "metadata": {
        "colab": {
          "base_uri": "https://localhost:8080/"
        },
        "id": "V6EzKcC-ZvQg",
        "outputId": "4fd5f530-225a-41c0-d8ce-c364ff082681"
      },
      "execution_count": 81,
      "outputs": [
        {
          "output_type": "stream",
          "name": "stdout",
          "text": [
            "Cross-validation accuracy: 0.989559052059052\n"
          ]
        }
      ]
    },
    {
      "cell_type": "markdown",
      "source": [
        "## Model 5 (k5, weighted)"
      ],
      "metadata": {
        "id": "H-nFMWZsesuf"
      }
    },
    {
      "cell_type": "code",
      "source": [
        "from sklearn.datasets import load_digits\n",
        "from sklearn.model_selection import train_test_split, cross_val_score\n",
        "from sklearn.neighbors import KNeighborsClassifier\n",
        "from sklearn.metrics import classification_report\n",
        "\n",
        "# Create a KNN classifier with distance weighting\n",
        "knn5y = KNeighborsClassifier(n_neighbors=5, weights='distance')\n",
        "\n",
        "# Train the classifier on the training data\n",
        "knn5y.fit(X_train, y_train)\n",
        "\n",
        "\n",
        "# Perform 10-fold cross-validation on the training data and calculate the accuracy\n",
        "scores = cross_val_score(knn5y, X_train, y_train, cv=10)\n",
        "accuracy = scores.mean()\n",
        "\n",
        "# Print the cross-validation accuracy\n",
        "print(\"Cross-validation accuracy:\", accuracy)"
      ],
      "metadata": {
        "colab": {
          "base_uri": "https://localhost:8080/"
        },
        "id": "7w7oHPGSeq_z",
        "outputId": "d5a9bee3-3671-4613-c3b2-e43f0ad07958"
      },
      "execution_count": 82,
      "outputs": [
        {
          "output_type": "stream",
          "name": "stdout",
          "text": [
            "Cross-validation accuracy: 0.9860819735819737\n"
          ]
        }
      ]
    },
    {
      "cell_type": "markdown",
      "source": [
        "## Model 6 (K5, no weighted)"
      ],
      "metadata": {
        "id": "7hL_4CB8hrwr"
      }
    },
    {
      "cell_type": "code",
      "source": [
        "from sklearn.datasets import load_digits\n",
        "from sklearn.model_selection import train_test_split, cross_val_score\n",
        "from sklearn.neighbors import KNeighborsClassifier\n",
        "from sklearn.metrics import classification_report\n",
        "\n",
        "# Create a KNN classifier with distance weighting\n",
        "knn5n = KNeighborsClassifier(n_neighbors=5)\n",
        "\n",
        "# Train the classifier on the training data\n",
        "knn5n.fit(X_train, y_train)\n",
        "\n",
        "\n",
        "# Perform 10-fold cross-validation on the training data and calculate the accuracy\n",
        "scores = cross_val_score(knn5n, X_train, y_train, cv=10)\n",
        "accuracy = scores.mean()\n",
        "\n",
        "# Print the cross-validation accuracy\n",
        "print(\"Cross-validation accuracy:\", accuracy)"
      ],
      "metadata": {
        "colab": {
          "base_uri": "https://localhost:8080/"
        },
        "id": "z0DIvpZreunl",
        "outputId": "0e9342c2-9a1d-4a63-c09e-77aefd992cb5"
      },
      "execution_count": 83,
      "outputs": [
        {
          "output_type": "stream",
          "name": "stdout",
          "text": [
            "Cross-validation accuracy: 0.9853875291375293\n"
          ]
        }
      ]
    },
    {
      "cell_type": "markdown",
      "source": [
        "## Test"
      ],
      "metadata": {
        "id": "YDrZielbj68g"
      }
    },
    {
      "cell_type": "code",
      "source": [
        "knn1y.fit(X_train, y_train)\n",
        "test_accuracy = knn1y.score(X_test, y_test)\n",
        "\n",
        "# Print the testing accuracy\n",
        "print(\"Testing accuracy:\", test_accuracy)"
      ],
      "metadata": {
        "colab": {
          "base_uri": "https://localhost:8080/"
        },
        "id": "tYE7_sini09x",
        "outputId": "ab437bc8-2eb2-4b09-a894-b21b90f14f6a"
      },
      "execution_count": 84,
      "outputs": [
        {
          "output_type": "stream",
          "name": "stdout",
          "text": [
            "Testing accuracy: 0.9805555555555555\n"
          ]
        }
      ]
    },
    {
      "cell_type": "markdown",
      "source": [
        "#Answer"
      ],
      "metadata": {
        "id": "HRO6kWtxhx5j"
      }
    },
    {
      "cell_type": "code",
      "source": [
        "#model 1 (K=1, weighted)\n",
        "knn_distance = KNeighborsClassifier(n_neighbors=1, weights='distance')\n",
        "scores = cross_val_score(knn_distance, X_train, y_train, cv=10)\n",
        "accuracy = scores.mean()\n",
        "print(\"Cross-validation accuracy:\", accuracy)\n",
        "\n",
        "#model 2 (K=1, no weighted)\n",
        "knn_distance = KNeighborsClassifier(n_neighbors=1)\n",
        "scores = cross_val_score(knn_distance, X_train, y_train, cv=10)\n",
        "accuracy = scores.mean()\n",
        "print(\"Cross-validation accuracy:\", accuracy)\n",
        "\n",
        "#model 3 (K=3, weighted)\n",
        "knn_distance = KNeighborsClassifier(n_neighbors=3, weights='distance')\n",
        "scores = cross_val_score(knn_distance, X_train, y_train, cv=10)\n",
        "accuracy = scores.mean()\n",
        "print(\"Cross-validation accuracy:\", accuracy)\n",
        "\n",
        "#model 4 (K=3, no weighted)\n",
        "knn_distance = KNeighborsClassifier(n_neighbors=3)\n",
        "scores = cross_val_score(knn_distance, X_train, y_train, cv=10)\n",
        "accuracy = scores.mean()\n",
        "print(\"Cross-validation accuracy:\", accuracy)\n",
        "\n",
        "#model 5 (K=5, weighted)\n",
        "knn_distance = KNeighborsClassifier(n_neighbors=5, weights='distance')\n",
        "scores = cross_val_score(knn_distance, X_train, y_train, cv=10)\n",
        "accuracy = scores.mean()\n",
        "print(\"Cross-validation accuracy:\", accuracy)\n",
        "\n",
        "#model 6 (K=5, no weighted)\n",
        "knn_distance = KNeighborsClassifier(n_neighbors=5)\n",
        "scores = cross_val_score(knn_distance, X_train, y_train, cv=10)\n",
        "accuracy = scores.mean()\n",
        "print(\"Cross-validation accuracy:\", accuracy)"
      ],
      "metadata": {
        "colab": {
          "base_uri": "https://localhost:8080/"
        },
        "id": "sFONCCj4fwI1",
        "outputId": "e8767450-2508-46ac-aba4-54926e28e25f"
      },
      "execution_count": 85,
      "outputs": [
        {
          "output_type": "stream",
          "name": "stdout",
          "text": [
            "Cross-validation accuracy: 0.9909527972027974\n",
            "Cross-validation accuracy: 0.9909527972027974\n",
            "Cross-validation accuracy: 0.9902534965034965\n",
            "Cross-validation accuracy: 0.989559052059052\n",
            "Cross-validation accuracy: 0.9860819735819737\n",
            "Cross-validation accuracy: 0.9853875291375293\n"
          ]
        }
      ]
    },
    {
      "cell_type": "markdown",
      "source": [
        "## Evaluate with Test set"
      ],
      "metadata": {
        "id": "itGFlp00jqA8"
      }
    },
    {
      "cell_type": "code",
      "source": [
        "knn_distance = KNeighborsClassifier(n_neighbors=1, weights='distance')\n",
        "knn_distance.fit(X_train, y_train)\n",
        "y_pred = knn_distance.predict(X_test)"
      ],
      "metadata": {
        "id": "f0zusTbMjNgz"
      },
      "execution_count": 86,
      "outputs": []
    },
    {
      "cell_type": "code",
      "source": [
        "from sklearn.metrics import accuracy_score\n",
        "accuracy = accuracy_score(y_test, y_pred)\n",
        "print(\"Accuracy score: \", accuracy)"
      ],
      "metadata": {
        "colab": {
          "base_uri": "https://localhost:8080/"
        },
        "id": "wdt4ZnfEixin",
        "outputId": "fdc6c995-d10d-4c5a-a405-0e517ca548bd"
      },
      "execution_count": 87,
      "outputs": [
        {
          "output_type": "stream",
          "name": "stdout",
          "text": [
            "Accuracy score:  0.9805555555555555\n"
          ]
        }
      ]
    },
    {
      "cell_type": "markdown",
      "source": [
        "#HW 7\n",
        "หา โมเดลที่ดีที่สุด จาก DT, Naive Bayes, KNN, ANN โดยเปรียบเทียบ อย่างละสอง partameter sets"
      ],
      "metadata": {
        "id": "JzHvoznjykVb"
      }
    },
    {
      "cell_type": "markdown",
      "source": [
        "# Decision Tree"
      ],
      "metadata": {
        "id": "qKTnirQQi_ev"
      }
    },
    {
      "cell_type": "code",
      "source": [
        "# Split the dataset into training and testing sets\n",
        "from sklearn.model_selection import train_test_split\n",
        "X_train, X_test, y_train, y_test = train_test_split(digits.data, digits.target, test_size=0.2, shuffle=True, random_state=7)\n",
        "# Print the shape of the training and testing sets\n",
        "print(\"Shape of training data:\", X_train.shape)\n",
        "print(\"Shape of testing data:\", X_test.shape)"
      ],
      "metadata": {
        "id": "mJRb9otQjqTI",
        "outputId": "02934551-4cbe-4f3c-fd86-9b944f4209fa",
        "colab": {
          "base_uri": "https://localhost:8080/"
        }
      },
      "execution_count": 88,
      "outputs": [
        {
          "output_type": "stream",
          "name": "stdout",
          "text": [
            "Shape of training data: (1437, 64)\n",
            "Shape of testing data: (360, 64)\n"
          ]
        }
      ]
    },
    {
      "cell_type": "code",
      "source": [
        "from sklearn.tree import DecisionTreeClassifier\n",
        "clf = DecisionTreeClassifier(random_state = 7)\n",
        "clf.fit(X_train, y_train)\n",
        "y_predict = clf.predict(X_test)"
      ],
      "metadata": {
        "id": "YZJAAxAaj4wI"
      },
      "execution_count": 89,
      "outputs": []
    },
    {
      "cell_type": "markdown",
      "source": [
        "##Evaluate"
      ],
      "metadata": {
        "id": "iYXsHRBYjyJj"
      }
    },
    {
      "cell_type": "code",
      "source": [
        "from sklearn.metrics import classification_report\n",
        "print(classification_report(y_test, y_predict))"
      ],
      "metadata": {
        "id": "gu95Traajxlm",
        "outputId": "308f09fe-f963-403f-9b61-a45a6adf6c03",
        "colab": {
          "base_uri": "https://localhost:8080/"
        }
      },
      "execution_count": 90,
      "outputs": [
        {
          "output_type": "stream",
          "name": "stdout",
          "text": [
            "              precision    recall  f1-score   support\n",
            "\n",
            "           0       1.00      0.95      0.98        43\n",
            "           1       0.75      0.79      0.77        42\n",
            "           2       0.77      0.82      0.80        40\n",
            "           3       0.84      0.91      0.87        34\n",
            "           4       0.83      0.92      0.87        37\n",
            "           5       0.90      0.96      0.93        28\n",
            "           6       0.90      0.93      0.91        28\n",
            "           7       0.90      0.82      0.86        33\n",
            "           8       0.90      0.63      0.74        43\n",
            "           9       0.74      0.81      0.78        32\n",
            "\n",
            "    accuracy                           0.85       360\n",
            "   macro avg       0.85      0.85      0.85       360\n",
            "weighted avg       0.85      0.85      0.85       360\n",
            "\n"
          ]
        }
      ]
    },
    {
      "cell_type": "markdown",
      "source": [
        "##Accuracy"
      ],
      "metadata": {
        "id": "V8AhIAmwkgT9"
      }
    },
    {
      "cell_type": "code",
      "source": [
        "from sklearn.datasets import load_digits\n",
        "from sklearn.tree import DecisionTreeClassifier\n",
        "from sklearn.model_selection import train_test_split\n",
        "from sklearn.metrics import accuracy_score\n",
        "\n",
        "# Load the digits dataset\n",
        "digits = load_digits()\n",
        "\n",
        "# Split the data into training and testing sets\n",
        "X_train, X_test, y_train, y_test = train_test_split(digits.data, digits.target, test_size=0.2, random_state=7)\n",
        "\n",
        "# Define the decision tree classifier\n",
        "clf = DecisionTreeClassifier(random_state=7)\n",
        "\n",
        "# Train the decision tree classifier on the training set\n",
        "clf.fit(X_train, y_train)\n",
        "\n",
        "# Predict the labels of the test set\n",
        "y_pred = clf.predict(X_test)\n",
        "\n",
        "# Compute the accuracy of the classifier\n",
        "accuracy = accuracy_score(y_test, y_pred)\n",
        "\n",
        "# Print the accuracy of the classifier\n",
        "print(\"Accuracy: {:.2f}%\".format(accuracy*100))"
      ],
      "metadata": {
        "id": "l1KNS7dWkclg",
        "outputId": "99c7f5d4-c6b0-4ec2-a75c-95ff09817ea7",
        "colab": {
          "base_uri": "https://localhost:8080/"
        }
      },
      "execution_count": 91,
      "outputs": [
        {
          "output_type": "stream",
          "name": "stdout",
          "text": [
            "Accuracy: 84.72%\n"
          ]
        }
      ]
    },
    {
      "cell_type": "markdown",
      "source": [
        "##Plot"
      ],
      "metadata": {
        "id": "SB9mVD-UlwGm"
      }
    },
    {
      "cell_type": "code",
      "source": [
        "from sklearn.tree import plot_tree\n",
        "# Create a figure with a size of 10 inches by 8 inches\n",
        "fig = plt.figure(figsize=(10,8))\n",
        "\n",
        "# Plot the decision tree on the figure with a maximum depth of 3\n",
        "plot_tree(clf, max_depth=3, fontsize=10, filled=True)\n",
        "\n",
        "# Set the title of the figure\n",
        "fig.suptitle(\"Decision Tree Classifier for Digits Dataset\")"
      ],
      "metadata": {
        "id": "erh7LQYqj5bt",
        "outputId": "20363f85-da6b-43c8-a1dd-56a3d43c22e9",
        "colab": {
          "base_uri": "https://localhost:8080/",
          "height": 540
        }
      },
      "execution_count": 92,
      "outputs": [
        {
          "output_type": "execute_result",
          "data": {
            "text/plain": [
              "Text(0.5, 0.98, 'Decision Tree Classifier for Digits Dataset')"
            ]
          },
          "metadata": {},
          "execution_count": 92
        },
        {
          "output_type": "display_data",
          "data": {
            "text/plain": [
              "<Figure size 720x576 with 1 Axes>"
            ],
            "image/png": "[encoded data removed]"
          },
          "metadata": {
            "needs_background": "light"
          }
        }
      ]
    },
    {
      "cell_type": "code",
      "source": [
        "from sklearn.datasets import load_digits\n",
        "from sklearn.tree import DecisionTreeClassifier\n",
        "from sklearn.model_selection import train_test_split\n",
        "from sklearn.metrics import confusion_matrix\n",
        "import matplotlib.pyplot as plt\n",
        "import seaborn as sns\n",
        "\n",
        "# Load the digits dataset\n",
        "digits = load_digits()\n",
        "\n",
        "# Split the data into training and testing sets\n",
        "X_train, X_test, y_train, y_test = train_test_split(digits.data, digits.target, test_size=0.2, random_state=7)\n",
        "\n",
        "# Define the decision tree classifier\n",
        "clf = DecisionTreeClassifier(random_state=7)\n",
        "\n",
        "# Train the decision tree classifier on the training set\n",
        "clf.fit(X_train, y_train)\n",
        "\n",
        "# Predict the labels of the test set\n",
        "y_pred = clf.predict(X_test)\n",
        "\n",
        "# Compute the confusion matrix of the classifier\n",
        "cm = confusion_matrix(y_test, y_pred)\n",
        "\n",
        "# Plot the confusion matrix\n",
        "sns.heatmap(cm, annot=True, cmap='Blues', fmt='g')\n",
        "plt.xlabel('Predicted')\n",
        "plt.ylabel('True')\n",
        "plt.show()"
      ],
      "metadata": {
        "id": "iUbtfsnnj76V",
        "outputId": "0d40329a-5897-471f-8b3b-d2f3794813ed",
        "colab": {
          "base_uri": "https://localhost:8080/",
          "height": 279
        }
      },
      "execution_count": 93,
      "outputs": [
        {
          "output_type": "display_data",
          "data": {
            "text/plain": [
              "<Figure size 432x288 with 2 Axes>"
            ],
            "image/png": "[encoded data removed]"
          },
          "metadata": {
            "needs_background": "light"
          }
        }
      ]
    },
    {
      "cell_type": "markdown",
      "source": [
        "# Naïve Bayes"
      ],
      "metadata": {
        "id": "y3wJPChOl4TT"
      }
    },
    {
      "cell_type": "code",
      "source": [
        "from sklearn.naive_bayes import GaussianNB\n",
        "\n",
        "# Define the Naive Bayes classifier\n",
        "nb = GaussianNB()\n",
        "\n",
        "# Train the Naive Bayes classifier on the training set\n",
        "nb.fit(X_train, y_train)\n",
        "\n",
        "# Predict the labels of the test set\n",
        "y_pred = nb.predict(X_test)"
      ],
      "metadata": {
        "id": "qIoJp_6Gl0p9"
      },
      "execution_count": 94,
      "outputs": []
    },
    {
      "cell_type": "markdown",
      "source": [
        "##Accuracy"
      ],
      "metadata": {
        "id": "8TpZV8TVn9h6"
      }
    },
    {
      "cell_type": "code",
      "source": [
        "# Calculate the accuracy of the predictions\n",
        "accuracy = accuracy_score(y_test, y_pred)\n",
        "\n",
        "# Print the accuracy score\n",
        "print(\"Accuracy:\", accuracy)"
      ],
      "metadata": {
        "id": "Wmfcu0j0pR0X",
        "outputId": "cd121632-0259-42d7-b377-20b1e21f1478",
        "colab": {
          "base_uri": "https://localhost:8080/"
        }
      },
      "execution_count": 95,
      "outputs": [
        {
          "output_type": "stream",
          "name": "stdout",
          "text": [
            "Accuracy: 0.8277777777777777\n"
          ]
        }
      ]
    },
    {
      "cell_type": "markdown",
      "source": [
        "##Evaluate"
      ],
      "metadata": {
        "id": "y1WjKWdrnGz_"
      }
    },
    {
      "cell_type": "code",
      "source": [
        "# Evaluate the Naive Bayes classifier using cross-validation with 10 folds\n",
        "scores = cross_val_score(nb, digits.data, digits.target, cv=10)\n",
        "\n",
        "# Print the accuracy score and mean score across all folds\n",
        "print(\"Accuracy scores:\", scores)\n",
        "print(\"Mean accuracy:\", scores.mean())"
      ],
      "metadata": {
        "id": "isylpNHXn8Pi",
        "outputId": "c11f4448-2bc5-42c5-e080-19ed8fc8aab2",
        "colab": {
          "base_uri": "https://localhost:8080/"
        }
      },
      "execution_count": 96,
      "outputs": [
        {
          "output_type": "stream",
          "name": "stdout",
          "text": [
            "Accuracy scores: [0.76111111 0.81666667 0.90555556 0.68333333 0.73888889 0.83888889\n",
            " 0.86666667 0.86592179 0.82681564 0.81005587]\n",
            "Mean accuracy: 0.8113904407200497\n"
          ]
        }
      ]
    },
    {
      "cell_type": "markdown",
      "source": [
        "#K-nearest Neighbor"
      ],
      "metadata": {
        "id": "23ClmkxunTdn"
      }
    },
    {
      "cell_type": "code",
      "source": [
        "# model 1 (K=1, weighted)\n",
        "knn_distance = KNeighborsClassifier(n_neighbors=1, weights='distance')\n",
        "scores = cross_val_score(knn_distance, X_train, y_train, cv=10)\n",
        "print(\"Mean Cross-Validation Score: K1weighted\", scores.mean())\n",
        "\n",
        "# model 2 (K=3, weighted)\n",
        "knn_distance = KNeighborsClassifier(n_neighbors=3, weights='distance')\n",
        "scores = cross_val_score(knn_distance, X_train, y_train, cv=10)\n",
        "print(\"Mean Cross-Validation Score: K3weighted\", scores.mean())\n",
        "\n",
        "# model 3 (K=5, weighted)\n",
        "knn_distance = KNeighborsClassifier(n_neighbors=5, weights='distance')\n",
        "scores = cross_val_score(knn_distance, X_train, y_train, cv=10)\n",
        "print(\"Mean Cross-Validation Score: K5weighted\", scores.mean())\n",
        "\n",
        "# model 4 (K=7, weighted)\n",
        "knn_distance = KNeighborsClassifier(n_neighbors=7, weights='distance')\n",
        "scores = cross_val_score(knn_distance, X_train, y_train, cv=10)\n",
        "print(\"Mean Cross-Validation Score: K7weighted\", scores.mean())\n",
        "\n",
        "# model 6 (K=9, weighted)\n",
        "knn_distance = KNeighborsClassifier(n_neighbors=9, weights='distance')\n",
        "scores = cross_val_score(knn_distance, X_train, y_train, cv=10)\n",
        "print(\"Mean Cross-Validation Score: K9weighted\", scores.mean())\n",
        "\n",
        "# model 4 (K=1, no weighted)\n",
        "knn_distance = KNeighborsClassifier(n_neighbors=1, weights='uniform')\n",
        "scores = cross_val_score(knn_distance, X_train, y_train, cv=10)\n",
        "print(\"Mean Cross-Validation Score: K1NOweighted\", scores.mean())\n",
        "\n",
        "# model 5 (K=3, no weighted)\n",
        "knn_distance = KNeighborsClassifier(n_neighbors=3, weights='uniform')\n",
        "scores = cross_val_score(knn_distance, X_train, y_train, cv=10)\n",
        "print(\"Mean Cross-Validation Score: K3NOweighted\", scores.mean())\n",
        "\n",
        "# model 6 (K=5, no weighted)\n",
        "knn_distance = KNeighborsClassifier(n_neighbors=5, weights='uniform')\n",
        "scores = cross_val_score(knn_distance, X_train, y_train, cv=10)\n",
        "print(\"Mean Cross-Validation Score: K5NOweighted\", scores.mean())\n",
        "\n",
        "# model 7 (K=7, no weighted)\n",
        "knn_distance = KNeighborsClassifier(n_neighbors=7, weights='uniform')\n",
        "scores = cross_val_score(knn_distance, X_train, y_train, cv=10)\n",
        "print(\"Mean Cross-Validation Score: K7NOweighted\", scores.mean())\n",
        "\n",
        "# model 8 (K=9, no weighted)\n",
        "knn_distance = KNeighborsClassifier(n_neighbors=9, weights='uniform')\n",
        "scores = cross_val_score(knn_distance, X_train, y_train, cv=10)\n",
        "print(\"Mean Cross-Validation Score: K9NOweighted\", scores.mean())"
      ],
      "metadata": {
        "id": "7ketAjZInIwn",
        "outputId": "c5a11730-30ed-4a74-9196-c01ec61da1bc",
        "colab": {
          "base_uri": "https://localhost:8080/"
        }
      },
      "execution_count": 99,
      "outputs": [
        {
          "output_type": "stream",
          "name": "stdout",
          "text": [
            "Mean Cross-Validation Score: K1weighted 0.9909527972027974\n",
            "Mean Cross-Validation Score: K3weighted 0.9902534965034965\n",
            "Mean Cross-Validation Score: K5weighted 0.9860819735819737\n",
            "Mean Cross-Validation Score: K7weighted 0.9867812742812744\n",
            "Mean Cross-Validation Score: K9weighted 0.9860819735819737\n",
            "Mean Cross-Validation Score: K1NOweighted 0.9909527972027974\n",
            "Mean Cross-Validation Score: K3NOweighted 0.989559052059052\n",
            "Mean Cross-Validation Score: K5NOweighted 0.9853875291375293\n",
            "Mean Cross-Validation Score: K7NOweighted 0.9860868298368299\n",
            "Mean Cross-Validation Score: K9NOweighted 0.9839986402486403\n"
          ]
        }
      ]
    },
    {
      "cell_type": "markdown",
      "source": [
        "##Evaluate"
      ],
      "metadata": {
        "id": "_cnV3Fwts3me"
      }
    },
    {
      "cell_type": "code",
      "source": [
        "knn_distance = KNeighborsClassifier(n_neighbors=1, weights='distance')\n",
        "\n",
        "knn_distance.fit(X_train,y_train)\n",
        "\n",
        "y_pred = knn_distance.predict(X_test)\n",
        "\n",
        "from sklearn.metrics import accuracy_score\n",
        "\n",
        "# Assume y_true and y_pred are the true and predicted labels, respectively\n",
        "accuracy = accuracy_score(y_test, y_pred)\n",
        "\n",
        "# Print the accuracy score\n",
        "print(\"Accuracy score: \", accuracy)"
      ],
      "metadata": {
        "id": "F6zcng_dsKNF",
        "outputId": "80c79d71-8a35-44a6-96bd-7619775f9ed1",
        "colab": {
          "base_uri": "https://localhost:8080/"
        }
      },
      "execution_count": 100,
      "outputs": [
        {
          "output_type": "stream",
          "name": "stdout",
          "text": [
            "Accuracy score:  0.9805555555555555\n"
          ]
        }
      ]
    },
    {
      "cell_type": "markdown",
      "source": [
        "#Artificial Neural Network"
      ],
      "metadata": {
        "id": "AQIDx70Ktt_T"
      }
    },
    {
      "cell_type": "code",
      "source": [
        "import numpy as np\n",
        "from sklearn.datasets import load_digits\n",
        "from sklearn.model_selection import train_test_split\n",
        "from tensorflow.keras import models, layers\n",
        "\n",
        "# Load the digits dataset\n",
        "digits = load_digits()\n",
        "\n",
        "# Split the data into training and test sets\n",
        "X_train, X_test, y_train, y_test = train_test_split(digits.data, digits.target, test_size=0.2, random_state=7)\n",
        "\n",
        "# Normalize the input data\n",
        "X_train = X_train.astype('float32') / 255.0\n",
        "X_test = X_test.astype('float32') / 255.0\n",
        "\n",
        "# Convert the target data to one-hot encoding\n",
        "num_classes = len(np.unique(y_train))\n",
        "y_train = np.eye(num_classes)[y_train]\n",
        "y_test = np.eye(num_classes)[y_test]\n",
        "\n",
        "# Define the ANN model architecture\n",
        "model = models.Sequential([\n",
        "    layers.Dense(128, activation='relu', input_shape=(64,)),\n",
        "    layers.Dense(64, activation='relu'),\n",
        "    layers.Dense(num_classes, activation='softmax')\n",
        "])\n",
        "\n",
        "# Compile the model\n",
        "model.compile(optimizer='adam', loss='categorical_crossentropy', metrics=['accuracy'])\n",
        "\n",
        "# Train the model on the training data\n",
        "model.fit(X_train, y_train, epochs=10, batch_size=32, validation_data=(X_test, y_test))\n",
        "\n",
        "# Evaluate the model on the test data\n",
        "test_loss, test_acc = model.evaluate(X_test, y_test)\n",
        "print('Test accuracy:', test_acc)"
      ],
      "metadata": {
        "id": "15YQ5QGrtukP",
        "outputId": "5467dbae-32f3-4dc0-f540-1871bb5d696b",
        "colab": {
          "base_uri": "https://localhost:8080/"
        }
      },
      "execution_count": 101,
      "outputs": [
        {
          "output_type": "stream",
          "name": "stdout",
          "text": [
            "Epoch 1/10\n",
            "45/45 [==============================] - 1s 11ms/step - loss: 2.2665 - accuracy: 0.3598 - val_loss: 2.2089 - val_accuracy: 0.5056\n",
            "Epoch 2/10\n",
            "45/45 [==============================] - 0s 4ms/step - loss: 2.0921 - accuracy: 0.6646 - val_loss: 1.9206 - val_accuracy: 0.7056\n",
            "Epoch 3/10\n",
            "45/45 [==============================] - 0s 3ms/step - loss: 1.6835 - accuracy: 0.7509 - val_loss: 1.4315 - val_accuracy: 0.7278\n",
            "Epoch 4/10\n",
            "45/45 [==============================] - 0s 4ms/step - loss: 1.1904 - accuracy: 0.8163 - val_loss: 1.0033 - val_accuracy: 0.8056\n",
            "Epoch 5/10\n",
            "45/45 [==============================] - 0s 4ms/step - loss: 0.8456 - accuracy: 0.8434 - val_loss: 0.7551 - val_accuracy: 0.8444\n",
            "Epoch 6/10\n",
            "45/45 [==============================] - 0s 3ms/step - loss: 0.6511 - accuracy: 0.8706 - val_loss: 0.6108 - val_accuracy: 0.8556\n",
            "Epoch 7/10\n",
            "45/45 [==============================] - 0s 3ms/step - loss: 0.5219 - accuracy: 0.8928 - val_loss: 0.5053 - val_accuracy: 0.8833\n",
            "Epoch 8/10\n",
            "45/45 [==============================] - 0s 3ms/step - loss: 0.4375 - accuracy: 0.9005 - val_loss: 0.4450 - val_accuracy: 0.8917\n",
            "Epoch 9/10\n",
            "45/45 [==============================] - 0s 2ms/step - loss: 0.3781 - accuracy: 0.9095 - val_loss: 0.3885 - val_accuracy: 0.9028\n",
            "Epoch 10/10\n",
            "45/45 [==============================] - 0s 3ms/step - loss: 0.3313 - accuracy: 0.9228 - val_loss: 0.3494 - val_accuracy: 0.9083\n",
            "12/12 [==============================] - 0s 2ms/step - loss: 0.3494 - accuracy: 0.9083\n",
            "Test accuracy: 0.9083333611488342\n"
          ]
        }
      ]
    },
    {
      "cell_type": "markdown",
      "source": [
        "##Evaluate"
      ],
      "metadata": {
        "id": "DQiFs__2t-aa"
      }
    },
    {
      "cell_type": "code",
      "source": [
        "import numpy as np\n",
        "import tensorflow as tf\n",
        "from sklearn.datasets import load_digits\n",
        "from sklearn.model_selection import train_test_split\n",
        "from sklearn.preprocessing import StandardScaler\n",
        "\n",
        "# Load the digits dataset and split it into training and testing sets\n",
        "digits = load_digits()\n",
        "X_train, X_test, y_train, y_test = train_test_split(digits.data, digits.target, test_size=0.2, random_state=7)\n",
        "\n",
        "# Scale the feature data\n",
        "scaler = StandardScaler()\n",
        "X_train_scaled = scaler.fit_transform(X_train)\n",
        "X_test_scaled = scaler.transform(X_test)\n",
        "\n",
        "# Convert the target data to one-hot encoding\n",
        "y_train_encoded = tf.keras.utils.to_categorical(y_train)\n",
        "y_test_encoded = tf.keras.utils.to_categorical(y_test)\n",
        "\n",
        "# Define the ANN model architecture\n",
        "model = tf.keras.Sequential([\n",
        "    tf.keras.layers.Dense(128, activation='relu', input_shape=(64,)),\n",
        "    tf.keras.layers.Dropout(0.2),\n",
        "    tf.keras.layers.Dense(10, activation='softmax')\n",
        "])\n",
        "\n",
        "# Compile the model with appropriate loss function and optimizer\n",
        "model.compile(optimizer='adam', loss='categorical_crossentropy', metrics=['accuracy'])\n",
        "\n",
        "# Train the model\n",
        "model.fit(X_train_scaled, y_train_encoded, epochs=10, validation_split=0.2, verbose=1)\n",
        "\n",
        "# Evaluate the model on the testing set\n",
        "test_loss, test_accuracy = model.evaluate(X_test_scaled, y_test_encoded, verbose=0)\n",
        "print(f'Test loss: {test_loss:.4f}\\nTest accuracy: {test_accuracy:.4f}')"
      ],
      "metadata": {
        "id": "Kf4wNWBVtTHO",
        "outputId": "355854c6-24d9-4490-9450-55a2199f8246",
        "colab": {
          "base_uri": "https://localhost:8080/"
        }
      },
      "execution_count": 103,
      "outputs": [
        {
          "output_type": "stream",
          "name": "stdout",
          "text": [
            "Epoch 1/10\n",
            "36/36 [==============================] - 2s 15ms/step - loss: 1.9326 - accuracy: 0.3777 - val_loss: 1.1964 - val_accuracy: 0.7639\n",
            "Epoch 2/10\n",
            "36/36 [==============================] - 0s 4ms/step - loss: 0.8908 - accuracy: 0.8294 - val_loss: 0.6523 - val_accuracy: 0.8750\n",
            "Epoch 3/10\n",
            "36/36 [==============================] - 0s 4ms/step - loss: 0.5115 - accuracy: 0.8982 - val_loss: 0.4311 - val_accuracy: 0.9132\n",
            "Epoch 4/10\n",
            "36/36 [==============================] - 0s 5ms/step - loss: 0.3536 - accuracy: 0.9339 - val_loss: 0.3287 - val_accuracy: 0.9375\n",
            "Epoch 5/10\n",
            "36/36 [==============================] - 0s 3ms/step - loss: 0.2607 - accuracy: 0.9487 - val_loss: 0.2729 - val_accuracy: 0.9444\n",
            "Epoch 6/10\n",
            "36/36 [==============================] - 0s 3ms/step - loss: 0.2022 - accuracy: 0.9591 - val_loss: 0.2360 - val_accuracy: 0.9479\n",
            "Epoch 7/10\n",
            "36/36 [==============================] - 0s 3ms/step - loss: 0.1819 - accuracy: 0.9626 - val_loss: 0.2087 - val_accuracy: 0.9444\n",
            "Epoch 8/10\n",
            "36/36 [==============================] - 0s 4ms/step - loss: 0.1468 - accuracy: 0.9704 - val_loss: 0.1836 - val_accuracy: 0.9583\n",
            "Epoch 9/10\n",
            "36/36 [==============================] - 0s 4ms/step - loss: 0.1255 - accuracy: 0.9730 - val_loss: 0.1687 - val_accuracy: 0.9583\n",
            "Epoch 10/10\n",
            "36/36 [==============================] - 0s 4ms/step - loss: 0.1034 - accuracy: 0.9826 - val_loss: 0.1592 - val_accuracy: 0.9583\n",
            "Test loss: 0.1622\n",
            "Test accuracy: 0.9500\n"
          ]
        }
      ]
    }
  ]
}