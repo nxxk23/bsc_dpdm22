{
  "nbformat": 4,
  "nbformat_minor": 0,
  "metadata": {
    "colab": {
      "provenance": [],
      "toc_visible": true,
      "mount_file_id": "1xsqMiCIPDxQezTQ8MR0qTaLntPSlPMvA",
      "authorship_tag": "ABX9TyOR22aUzEqDi5RJ4q6EFj26",
      "include_colab_link": true
    },
    "kernelspec": {
      "name": "python3",
      "display_name": "Python 3"
    },
    "language_info": {
      "name": "python"
    }
  },
  "cells": [
    {
      "cell_type": "markdown",
      "metadata": {
        "id": "view-in-github",
        "colab_type": "text"
      },
      "source": [
        "<a href=\"https://colab.research.google.com/github/nxxk23/bsc_dpdm22/blob/main/Quiz_Group_5_20_of_Midterm.ipynb\" target=\"_parent\"><img src=\"https://colab.research.google.com/assets/colab-badge.svg\" alt=\"Open In Colab\"/></a>"
      ]
    },
    {
      "cell_type": "markdown",
      "source": [
        "เตรียมข้อมูลของกรม อุตุ() ให้อยู่ในรูปแบบ ตารางด้านล่าง เพื่อเตรียมข้อมูลสำหรับสร้าง Model ทำนาย อุณหภูมิต่ำสุดของวันจากค่าอื่นๆ"
      ],
      "metadata": {
        "id": "6lCjv1-EuUke"
      }
    },
    {
      "cell_type": "markdown",
      "source": [
        "![image.png](data:image/png;base64,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)"
      ],
      "metadata": {
        "id": "0WX-SkbsvqnQ"
      }
    },
    {
      "cell_type": "markdown",
      "source": [
        "column เดือน-ปี สามารถยุบรวมเป็น 1 column ได้"
      ],
      "metadata": {
        "id": "NCjiKo94vTUJ"
      }
    },
    {
      "cell_type": "code",
      "execution_count": 1,
      "metadata": {
        "colab": {
          "base_uri": "https://localhost:8080/"
        },
        "id": "AZmElLwIuE_G",
        "outputId": "2b67fe80-ee07-4a38-9388-5bf502bdfbf5"
      },
      "outputs": [
        {
          "output_type": "stream",
          "name": "stdout",
          "text": [
            "Drive already mounted at /content/drive; to attempt to forcibly remount, call drive.mount(\"/content/drive\", force_remount=True).\n"
          ]
        }
      ],
      "source": [
        "#เชื่อม google drive \n",
        "from google.colab import drive\n",
        "drive.mount('/content/drive')"
      ]
    },
    {
      "cell_type": "markdown",
      "source": [
        "#pressure"
      ],
      "metadata": {
        "id": "gJLP7iQjxFh4"
      }
    },
    {
      "cell_type": "code",
      "source": [
        "import pandas as pd\n",
        "p1 = pd.read_excel('/content/drive/MyDrive/DPDM/ความกด(เปอร์เซ็นต์)/จ.ขอนแก่น.xlsx',sheet_name='Sheet1',skiprows=4)\n",
        "p2 = pd.read_excel('/content/drive/MyDrive/DPDM/ความกด(เปอร์เซ็นต์)/จ.นครพนม.xlsx',sheet_name='Sheet1',skiprows=4)\n",
        "p3 = pd.read_excel('/content/drive/MyDrive/DPDM/ความกด(เปอร์เซ็นต์)/จ.สกลนคร.xlsx',sheet_name='Sheet1',skiprows=4)\n",
        "p4 = pd.read_excel('/content/drive/MyDrive/DPDM/ความกด(เปอร์เซ็นต์)/จ.หนองคาย.xlsx',sheet_name='Sheet1',skiprows=4)\n",
        "p5 = pd.read_excel('/content/drive/MyDrive/DPDM/ความกด(เปอร์เซ็นต์)/จ.เลย.xlsx',sheet_name='Sheet1',skiprows=4)"
      ],
      "metadata": {
        "id": "xY8x9VXhv5y_"
      },
      "execution_count": 20,
      "outputs": []
    },
    {
      "cell_type": "code",
      "source": [
        "p1.head()"
      ],
      "metadata": {
        "colab": {
          "base_uri": "https://localhost:8080/",
          "height": 490
        },
        "id": "UXcWzt4_2rVM",
        "outputId": "f574c648-09c6-4d8b-9af4-598f0e3e84b9"
      },
      "execution_count": 31,
      "outputs": [
        {
          "output_type": "execute_result",
          "data": {
            "text/plain": [
              "  Unnamed: 0                Unnamed: 1 Unnamed: 2        1        2        3  \\\n",
              "0        1    352201-หนองคาย จ.หนองคาย 2011-10-01  1005.47  1006.65  1007.49   \n",
              "1        2    352201-หนองคาย จ.หนองคาย 2011-11-01  1011.79  1010.83  1010.74   \n",
              "2        3    352201-หนองคาย จ.หนองคาย 2011-12-01  1011.43  1012.57  1012.28   \n",
              "3        1    352201-หนองคาย จ.หนองคาย 2012-01-01  1015.67  1014.11  1012.91   \n",
              "4        2    352201-หนองคาย จ.หนองคาย 2012-02-01  1013.26  1012.92  1013.61   \n",
              "\n",
              "         4        5        6        7  ...       23       24       25  \\\n",
              "0  1008.28  1009.88  1011.36  1011.17  ...  1010.76  1010.23  1011.34   \n",
              "1  1010.71  1010.09  1009.24  1008.03  ...  1014.07  1015.40  1013.95   \n",
              "2  1012.97  1013.09  1012.03  1012.05  ...  1012.88  1015.78  1018.56   \n",
              "3  1014.06  1015.51  1015.88  1017.72  ...  1010.91  1011.27  1011.65   \n",
              "4  1013.18  1011.26  1008.80  1008.16  ...  1005.75  1005.46  1004.80   \n",
              "\n",
              "        26       27       28       29       30       31  Unnamed: 34  \n",
              "0  1011.84  1011.89  1012.29  1011.67   1011.3  1011.52  1010.350645  \n",
              "1  1012.35  1011.31  1009.59  1010.13  1010.47        -  1011.717000  \n",
              "2  1018.65  1016.88  1016.05  1014.98  1015.53   1016.4  1016.470000  \n",
              "3  1012.56  1010.76  1010.26  1010.69  1012.34  1014.52  1012.484516  \n",
              "4  1005.08  1006.57  1005.96  1006.53  1010.47        -  1009.749667  \n",
              "\n",
              "[5 rows x 35 columns]"
            ],
            "text/html": [
              "\n",
              "  <div id=\"df-44b40d97-eb89-46d5-8690-e4eabc4f8b75\">\n",
              "    <div class=\"colab-df-container\">\n",
              "      <div>\n",
              "<style scoped>\n",
              "    .dataframe tbody tr th:only-of-type {\n",
              "        vertical-align: middle;\n",
              "    }\n",
              "\n",
              "    .dataframe tbody tr th {\n",
              "        vertical-align: top;\n",
              "    }\n",
              "\n",
              "    .dataframe thead th {\n",
              "        text-align: right;\n",
              "    }\n",
              "</style>\n",
              "<table border=\"1\" class=\"dataframe\">\n",
              "  <thead>\n",
              "    <tr style=\"text-align: right;\">\n",
              "      <th></th>\n",
              "      <th>Unnamed: 0</th>\n",
              "      <th>Unnamed: 1</th>\n",
              "      <th>Unnamed: 2</th>\n",
              "      <th>1</th>\n",
              "      <th>2</th>\n",
              "      <th>3</th>\n",
              "      <th>4</th>\n",
              "      <th>5</th>\n",
              "      <th>6</th>\n",
              "      <th>7</th>\n",
              "      <th>...</th>\n",
              "      <th>23</th>\n",
              "      <th>24</th>\n",
              "      <th>25</th>\n",
              "      <th>26</th>\n",
              "      <th>27</th>\n",
              "      <th>28</th>\n",
              "      <th>29</th>\n",
              "      <th>30</th>\n",
              "      <th>31</th>\n",
              "      <th>Unnamed: 34</th>\n",
              "    </tr>\n",
              "  </thead>\n",
              "  <tbody>\n",
              "    <tr>\n",
              "      <th>0</th>\n",
              "      <td>1</td>\n",
              "      <td>352201-หนองคาย จ.หนองคาย</td>\n",
              "      <td>2011-10-01</td>\n",
              "      <td>1005.47</td>\n",
              "      <td>1006.65</td>\n",
              "      <td>1007.49</td>\n",
              "      <td>1008.28</td>\n",
              "      <td>1009.88</td>\n",
              "      <td>1011.36</td>\n",
              "      <td>1011.17</td>\n",
              "      <td>...</td>\n",
              "      <td>1010.76</td>\n",
              "      <td>1010.23</td>\n",
              "      <td>1011.34</td>\n",
              "      <td>1011.84</td>\n",
              "      <td>1011.89</td>\n",
              "      <td>1012.29</td>\n",
              "      <td>1011.67</td>\n",
              "      <td>1011.3</td>\n",
              "      <td>1011.52</td>\n",
              "      <td>1010.350645</td>\n",
              "    </tr>\n",
              "    <tr>\n",
              "      <th>1</th>\n",
              "      <td>2</td>\n",
              "      <td>352201-หนองคาย จ.หนองคาย</td>\n",
              "      <td>2011-11-01</td>\n",
              "      <td>1011.79</td>\n",
              "      <td>1010.83</td>\n",
              "      <td>1010.74</td>\n",
              "      <td>1010.71</td>\n",
              "      <td>1010.09</td>\n",
              "      <td>1009.24</td>\n",
              "      <td>1008.03</td>\n",
              "      <td>...</td>\n",
              "      <td>1014.07</td>\n",
              "      <td>1015.40</td>\n",
              "      <td>1013.95</td>\n",
              "      <td>1012.35</td>\n",
              "      <td>1011.31</td>\n",
              "      <td>1009.59</td>\n",
              "      <td>1010.13</td>\n",
              "      <td>1010.47</td>\n",
              "      <td>-</td>\n",
              "      <td>1011.717000</td>\n",
              "    </tr>\n",
              "    <tr>\n",
              "      <th>2</th>\n",
              "      <td>3</td>\n",
              "      <td>352201-หนองคาย จ.หนองคาย</td>\n",
              "      <td>2011-12-01</td>\n",
              "      <td>1011.43</td>\n",
              "      <td>1012.57</td>\n",
              "      <td>1012.28</td>\n",
              "      <td>1012.97</td>\n",
              "      <td>1013.09</td>\n",
              "      <td>1012.03</td>\n",
              "      <td>1012.05</td>\n",
              "      <td>...</td>\n",
              "      <td>1012.88</td>\n",
              "      <td>1015.78</td>\n",
              "      <td>1018.56</td>\n",
              "      <td>1018.65</td>\n",
              "      <td>1016.88</td>\n",
              "      <td>1016.05</td>\n",
              "      <td>1014.98</td>\n",
              "      <td>1015.53</td>\n",
              "      <td>1016.4</td>\n",
              "      <td>1016.470000</td>\n",
              "    </tr>\n",
              "    <tr>\n",
              "      <th>3</th>\n",
              "      <td>1</td>\n",
              "      <td>352201-หนองคาย จ.หนองคาย</td>\n",
              "      <td>2012-01-01</td>\n",
              "      <td>1015.67</td>\n",
              "      <td>1014.11</td>\n",
              "      <td>1012.91</td>\n",
              "      <td>1014.06</td>\n",
              "      <td>1015.51</td>\n",
              "      <td>1015.88</td>\n",
              "      <td>1017.72</td>\n",
              "      <td>...</td>\n",
              "      <td>1010.91</td>\n",
              "      <td>1011.27</td>\n",
              "      <td>1011.65</td>\n",
              "      <td>1012.56</td>\n",
              "      <td>1010.76</td>\n",
              "      <td>1010.26</td>\n",
              "      <td>1010.69</td>\n",
              "      <td>1012.34</td>\n",
              "      <td>1014.52</td>\n",
              "      <td>1012.484516</td>\n",
              "    </tr>\n",
              "    <tr>\n",
              "      <th>4</th>\n",
              "      <td>2</td>\n",
              "      <td>352201-หนองคาย จ.หนองคาย</td>\n",
              "      <td>2012-02-01</td>\n",
              "      <td>1013.26</td>\n",
              "      <td>1012.92</td>\n",
              "      <td>1013.61</td>\n",
              "      <td>1013.18</td>\n",
              "      <td>1011.26</td>\n",
              "      <td>1008.80</td>\n",
              "      <td>1008.16</td>\n",
              "      <td>...</td>\n",
              "      <td>1005.75</td>\n",
              "      <td>1005.46</td>\n",
              "      <td>1004.80</td>\n",
              "      <td>1005.08</td>\n",
              "      <td>1006.57</td>\n",
              "      <td>1005.96</td>\n",
              "      <td>1006.53</td>\n",
              "      <td>1010.47</td>\n",
              "      <td>-</td>\n",
              "      <td>1009.749667</td>\n",
              "    </tr>\n",
              "  </tbody>\n",
              "</table>\n",
              "<p>5 rows × 35 columns</p>\n",
              "</div>\n",
              "      <button class=\"colab-df-convert\" onclick=\"convertToInteractive('df-44b40d97-eb89-46d5-8690-e4eabc4f8b75')\"\n",
              "              title=\"Convert this dataframe to an interactive table.\"\n",
              "              style=\"display:none;\">\n",
              "        \n",
              "  <svg xmlns=\"http://www.w3.org/2000/svg\" height=\"24px\"viewBox=\"0 0 24 24\"\n",
              "       width=\"24px\">\n",
              "    <path d=\"M0 0h24v24H0V0z\" fill=\"none\"/>\n",
              "    <path d=\"M18.56 5.44l.94 2.06.94-2.06 2.06-.94-2.06-.94-.94-2.06-.94 2.06-2.06.94zm-11 1L8.5 8.5l.94-2.06 2.06-.94-2.06-.94L8.5 2.5l-.94 2.06-2.06.94zm10 10l.94 2.06.94-2.06 2.06-.94-2.06-.94-.94-2.06-.94 2.06-2.06.94z\"/><path d=\"M17.41 7.96l-1.37-1.37c-.4-.4-.92-.59-1.43-.59-.52 0-1.04.2-1.43.59L10.3 9.45l-7.72 7.72c-.78.78-.78 2.05 0 2.83L4 21.41c.39.39.9.59 1.41.59.51 0 1.02-.2 1.41-.59l7.78-7.78 2.81-2.81c.8-.78.8-2.07 0-2.86zM5.41 20L4 18.59l7.72-7.72 1.47 1.35L5.41 20z\"/>\n",
              "  </svg>\n",
              "      </button>\n",
              "      \n",
              "  <style>\n",
              "    .colab-df-container {\n",
              "      display:flex;\n",
              "      flex-wrap:wrap;\n",
              "      gap: 12px;\n",
              "    }\n",
              "\n",
              "    .colab-df-convert {\n",
              "      background-color: #E8F0FE;\n",
              "      border: none;\n",
              "      border-radius: 50%;\n",
              "      cursor: pointer;\n",
              "      display: none;\n",
              "      fill: #1967D2;\n",
              "      height: 32px;\n",
              "      padding: 0 0 0 0;\n",
              "      width: 32px;\n",
              "    }\n",
              "\n",
              "    .colab-df-convert:hover {\n",
              "      background-color: #E2EBFA;\n",
              "      box-shadow: 0px 1px 2px rgba(60, 64, 67, 0.3), 0px 1px 3px 1px rgba(60, 64, 67, 0.15);\n",
              "      fill: #174EA6;\n",
              "    }\n",
              "\n",
              "    [theme=dark] .colab-df-convert {\n",
              "      background-color: #3B4455;\n",
              "      fill: #D2E3FC;\n",
              "    }\n",
              "\n",
              "    [theme=dark] .colab-df-convert:hover {\n",
              "      background-color: #434B5C;\n",
              "      box-shadow: 0px 1px 3px 1px rgba(0, 0, 0, 0.15);\n",
              "      filter: drop-shadow(0px 1px 2px rgba(0, 0, 0, 0.3));\n",
              "      fill: #FFFFFF;\n",
              "    }\n",
              "  </style>\n",
              "\n",
              "      <script>\n",
              "        const buttonEl =\n",
              "          document.querySelector('#df-44b40d97-eb89-46d5-8690-e4eabc4f8b75 button.colab-df-convert');\n",
              "        buttonEl.style.display =\n",
              "          google.colab.kernel.accessAllowed ? 'block' : 'none';\n",
              "\n",
              "        async function convertToInteractive(key) {\n",
              "          const element = document.querySelector('#df-44b40d97-eb89-46d5-8690-e4eabc4f8b75');\n",
              "          const dataTable =\n",
              "            await google.colab.kernel.invokeFunction('convertToInteractive',\n",
              "                                                     [key], {});\n",
              "          if (!dataTable) return;\n",
              "\n",
              "          const docLinkHtml = 'Like what you see? Visit the ' +\n",
              "            '<a target=\"_blank\" href=https://colab.research.google.com/notebooks/data_table.ipynb>data table notebook</a>'\n",
              "            + ' to learn more about interactive tables.';\n",
              "          element.innerHTML = '';\n",
              "          dataTable['output_type'] = 'display_data';\n",
              "          await google.colab.output.renderOutput(dataTable, element);\n",
              "          const docLink = document.createElement('div');\n",
              "          docLink.innerHTML = docLinkHtml;\n",
              "          element.appendChild(docLink);\n",
              "        }\n",
              "      </script>\n",
              "    </div>\n",
              "  </div>\n",
              "  "
            ]
          },
          "metadata": {},
          "execution_count": 31
        }
      ]
    },
    {
      "cell_type": "code",
      "source": [],
      "metadata": {
        "id": "4mFjNEYr2vxS"
      },
      "execution_count": null,
      "outputs": []
    },
    {
      "cell_type": "markdown",
      "source": [
        "#moisture"
      ],
      "metadata": {
        "id": "zzoI0275xayk"
      }
    },
    {
      "cell_type": "code",
      "source": [
        "import pandas as pd\n",
        "m1 = pd.read_excel('/content/drive/MyDrive/DPDM/ความชื้นสัมพัทธ์(เปอร์เซ็นต์)/จ.ขอนแก่น.xlsx',sheet_name='Sheet1',skiprows=3)\n",
        "m2 = pd.read_excel('/content/drive/MyDrive/DPDM/ความชื้นสัมพัทธ์(เปอร์เซ็นต์)/จ.นครพนม.xlsx',sheet_name='Sheet1',skiprows=3)\n",
        "m3 = pd.read_excel('/content/drive/MyDrive/DPDM/ความชื้นสัมพัทธ์(เปอร์เซ็นต์)/จ.สกลนคร.xlsx',sheet_name='Sheet1',skiprows=3)\n",
        "m4 = pd.read_excel('/content/drive/MyDrive/DPDM/ความชื้นสัมพัทธ์(เปอร์เซ็นต์)/จ.หนองคาย.xlsx',sheet_name='Sheet1',skiprows=3)\n",
        "m5 = pd.read_excel('/content/drive/MyDrive/DPDM/ความชื้นสัมพัทธ์(เปอร์เซ็นต์)/จ.เลย.xlsx',sheet_name='Sheet1',skiprows=3)"
      ],
      "metadata": {
        "id": "sX7fKhsMwaFl"
      },
      "execution_count": 21,
      "outputs": []
    },
    {
      "cell_type": "markdown",
      "source": [
        "#wind speed"
      ],
      "metadata": {
        "id": "SL-K0ovsx8PV"
      }
    },
    {
      "cell_type": "code",
      "source": [
        "import pandas as pd\n",
        "w1 = pd.read_excel('/content/drive/MyDrive/DPDM/ความเร็วลม(นอต)/จ.ขอนแก่น.xlsx',sheet_name='Sheet1',skiprows=3)\n",
        "w2 = pd.read_excel('/content/drive/MyDrive/DPDM/ความเร็วลม(นอต)/จ.นครพนม.xlsx',sheet_name='Sheet1',skiprows=3)\n",
        "w3 = pd.read_excel('/content/drive/MyDrive/DPDM/ความเร็วลม(นอต)/จ.สกลนคร.xlsx',sheet_name='Sheet1',skiprows=3)\n",
        "w4 = pd.read_excel('/content/drive/MyDrive/DPDM/ความเร็วลม(นอต)/จ.หนองคาย.xlsx',sheet_name='Sheet1',skiprows=3)\n",
        "w5 = pd.read_excel('/content/drive/MyDrive/DPDM/ความชื้นสัมพัทธ์(เปอร์เซ็นต์)/จ.เลย.xlsx',sheet_name='Sheet1',skiprows=3)"
      ],
      "metadata": {
        "id": "1H2LOx0XxdA3"
      },
      "execution_count": 24,
      "outputs": []
    },
    {
      "cell_type": "markdown",
      "source": [
        "#number of clouds"
      ],
      "metadata": {
        "id": "MRwrVBq00EcS"
      }
    },
    {
      "cell_type": "code",
      "source": [
        "c1 = pd.read_excel('/content/drive/MyDrive/DPDM/จำนวนเมฆ(10ส่วน)/จ.ขอนแก่น.xlsx',sheet_name='Sheet1',skiprows=3)\n",
        "c2 = pd.read_excel('/content/drive/MyDrive/DPDM/จำนวนเมฆ(10ส่วน)/จ.นครพนม.xlsx',sheet_name='Sheet1',skiprows=3)\n",
        "c3 = pd.read_excel('/content/drive/MyDrive/DPDM/จำนวนเมฆ(10ส่วน)/จ.สกลนคร.xlsx',sheet_name='Sheet1',skiprows=3)\n",
        "c4 = pd.read_excel('/content/drive/MyDrive/DPDM/จำนวนเมฆ(10ส่วน)/จ.หนองคาย.xlsx',sheet_name='Sheet1',skiprows=3)\n",
        "c5 = pd.read_excel('/content/drive/MyDrive/DPDM/จำนวนเมฆ(10ส่วน)/จ.เลย.xlsx',sheet_name='Sheet1',skiprows=3)"
      ],
      "metadata": {
        "id": "TFqvLdku0C-5"
      },
      "execution_count": 23,
      "outputs": []
    },
    {
      "cell_type": "markdown",
      "source": [
        "#amount of rain"
      ],
      "metadata": {
        "id": "uNMBL1vv0jZ8"
      }
    },
    {
      "cell_type": "code",
      "source": [
        "r1 = pd.read_excel('/content/drive/MyDrive/DPDM/ปริมาณฝน(มิลลิเมตร)/จ.ขอนแก่น.xlsx',sheet_name='Sheet1',skiprows=3)\n",
        "r2 = pd.read_excel('/content/drive/MyDrive/DPDM/ปริมาณฝน(มิลลิเมตร)/จ.นครพนม.xlsx',sheet_name='Sheet1',skiprows=3)\n",
        "r3 = pd.read_excel('/content/drive/MyDrive/DPDM/ปริมาณฝน(มิลลิเมตร)/จ.สกล.xlsx',sheet_name='Sheet1',skiprows=3)\n",
        "r4 = pd.read_excel('/content/drive/MyDrive/DPDM/ปริมาณฝน(มิลลิเมตร)/จ.หนองคาย.xlsx',sheet_name='Sheet1',skiprows=3)\n",
        "r5 = pd.read_excel('/content/drive/MyDrive/DPDM/ปริมาณฝน(มิลลิเมตร)/จ.เลย.xlsx',sheet_name='Sheet1',skiprows=3)"
      ],
      "metadata": {
        "id": "ZHeV3NB80i8b"
      },
      "execution_count": 26,
      "outputs": []
    },
    {
      "cell_type": "markdown",
      "source": [
        "#frost point temperature"
      ],
      "metadata": {
        "id": "GnLxh58k067y"
      }
    },
    {
      "cell_type": "code",
      "source": [
        "f1 = pd.read_excel('/content/drive/MyDrive/DPDM/อุณหภูมิจุดน้ำค้าง(เซลเซียส)/จ.ขอนแก่น.xlsx',sheet_name='Sheet1',skiprows=3)\n",
        "f2 = pd.read_excel('/content/drive/MyDrive/DPDM/อุณหภูมิจุดน้ำค้าง(เซลเซียส)/จ.นครพนม.xlsx',sheet_name='Sheet1',skiprows=3)\n",
        "f3 = pd.read_excel('/content/drive/MyDrive/DPDM/อุณหภูมิจุดน้ำค้าง(เซลเซียส)/จ.สกล.xlsx',sheet_name='Sheet1',skiprows=3)\n",
        "f4 = pd.read_excel('/content/drive/MyDrive/DPDM/อุณหภูมิจุดน้ำค้าง(เซลเซียส)/จ.หนองคาย.xlsx',sheet_name='Sheet1',skiprows=3)\n",
        "f5 = pd.read_excel('/content/drive/MyDrive/DPDM/อุณหภูมิจุดน้ำค้าง(เซลเซียส)/จ.เลย.xlsx',sheet_name='Sheet1',skiprows=3)"
      ],
      "metadata": {
        "id": "tcofv1r-0hu8"
      },
      "execution_count": 30,
      "outputs": []
    },
    {
      "cell_type": "markdown",
      "source": [
        "#dry weight temperature"
      ],
      "metadata": {
        "id": "ztW9V0xr1ZvO"
      }
    },
    {
      "cell_type": "code",
      "source": [
        "d1 = pd.read_excel('/content/drive/MyDrive/DPDM/อุณหภูมิตุ้มแห้ง(เซลเซียส)/จ.ขอนแก่น.xlsx',sheet_name='Sheet1',skiprows=3)\n",
        "d2 = pd.read_excel('/content/drive/MyDrive/DPDM/อุณหภูมิตุ้มแห้ง(เซลเซียส)/จ.นครพนม.xlsx',sheet_name='Sheet1',skiprows=3)\n",
        "d3 = pd.read_excel('/content/drive/MyDrive/DPDM/อุณหภูมิตุ้มแห้ง(เซลเซียส)/จ.สกล.xlsx',sheet_name='Sheet1',skiprows=3)\n",
        "d4 = pd.read_excel('/content/drive/MyDrive/DPDM/อุณหภูมิตุ้มแห้ง(เซลเซียส)/จ.หนองคาย.xlsx',sheet_name='Sheet1',skiprows=3)\n",
        "d5 = pd.read_excel('/content/drive/MyDrive/DPDM/อุณหภูมิตุ้มแห้ง(เซลเซียส)/จ.เลย.xlsx',sheet_name='Sheet1',skiprows=3)"
      ],
      "metadata": {
        "id": "kClmQzMJ1ZBA"
      },
      "execution_count": 28,
      "outputs": []
    },
    {
      "cell_type": "markdown",
      "source": [
        "#lowest temperature"
      ],
      "metadata": {
        "id": "l7hcxG8h12_E"
      }
    },
    {
      "cell_type": "code",
      "source": [
        "l1 = pd.read_excel('/content/drive/MyDrive/DPDM/อุณหภูมิตุ้มแห้ง(เซลเซียส)/จ.ขอนแก่น.xlsx',sheet_name='Sheet1',skiprows=3)\n",
        "l2 = pd.read_excel('/content/drive/MyDrive/DPDM/อุณหภูมิตุ้มแห้ง(เซลเซียส)/จ.นครพนม.xlsx',sheet_name='Sheet1',skiprows=3)\n",
        "l3 = pd.read_excel('/content/drive/MyDrive/DPDM/อุณหภูมิตุ้มแห้ง(เซลเซียส)/จ.สกล.xlsx',sheet_name='Sheet1',skiprows=3)\n",
        "l4 = pd.read_excel('/content/drive/MyDrive/DPDM/อุณหภูมิตุ้มแห้ง(เซลเซียส)/จ.หนองคาย.xlsx',sheet_name='Sheet1',skiprows=3)\n",
        "l5 = pd.read_excel('/content/drive/MyDrive/DPDM/อุณหภูมิตุ้มแห้ง(เซลเซียส)/จ.เลย.xlsx',sheet_name='Sheet1',skiprows=3)"
      ],
      "metadata": {
        "id": "MzPTUdkp11Yw"
      },
      "execution_count": 29,
      "outputs": []
    },
    {
      "cell_type": "code",
      "source": [],
      "metadata": {
        "id": "OFIBBjJL2E8R"
      },
      "execution_count": null,
      "outputs": []
    }
  ]
}