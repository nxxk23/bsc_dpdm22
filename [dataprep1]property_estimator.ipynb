{
  "nbformat": 4,
  "nbformat_minor": 0,
  "metadata": {
    "colab": {
      "provenance": [],
      "toc_visible": true,
      "authorship_tag": "ABX9TyOB9jKnbRx6Hz/orodU5k2m",
      "include_colab_link": true
    },
    "kernelspec": {
      "name": "python3",
      "display_name": "Python 3"
    },
    "language_info": {
      "name": "python"
    }
  },
  "cells": [
    {
      "cell_type": "markdown",
      "metadata": {
        "id": "view-in-github",
        "colab_type": "text"
      },
      "source": [
        "<a href=\"https://colab.research.google.com/github/nxxk23/bsc_dpdm22/blob/main/%5Bdataprep1%5Dproperty_estimator.ipynb\" target=\"_parent\"><img src=\"https://colab.research.google.com/assets/colab-badge.svg\" alt=\"Open In Colab\"/></a>"
      ]
    },
    {
      "cell_type": "markdown",
      "source": [
        "#สรุปข้อมูลของนักประเมินแต่ละคน \n",
        "    โดยพิจารณาจากความมั่นใจในการประเมิน ประเมินราคาซื้อ-ขาย ให้คะแนนทรัพย์\n"
      ],
      "metadata": {
        "id": "O-_DbzjvX8-4"
      }
    },
    {
      "cell_type": "code",
      "source": [
        "from google.colab import drive\n",
        "drive.mount('/content/drive')"
      ],
      "metadata": {
        "colab": {
          "base_uri": "https://localhost:8080/"
        },
        "id": "BMAF0b1YWTmv",
        "outputId": "6a734b3b-ed6b-46ef-88f3-cd6c4e5cfe14"
      },
      "execution_count": 1,
      "outputs": [
        {
          "output_type": "stream",
          "name": "stdout",
          "text": [
            "Mounted at /content/drive\n"
          ]
        }
      ]
    },
    {
      "cell_type": "code",
      "source": [
        "import pandas as pd\n",
        "df1 = pd.read_excel('/content/drive/MyDrive/DPDM/คำตอบนักประเมิน.xlsx',sheet_name='บ้าน',skiprows=0)\n",
        "df2 = pd.read_excel('/content/drive/MyDrive/DPDM/คำตอบนักประเมิน.xlsx',sheet_name='ที่ดิน',skiprows=0)\n",
        "df3 = pd.read_excel('/content/drive/MyDrive/DPDM/คำตอบนักประเมิน.xlsx',sheet_name='คอนโด',skiprows=0)\n",
        "df4 = pd.read_excel('/content/drive/MyDrive/DPDM/คำตอบนักประเมิน.xlsx',sheet_name='ทาวน์โฮม',skiprows=0)\n",
        "df5 = pd.read_excel('/content/drive/MyDrive/DPDM/คำตอบนักประเมิน.xlsx',sheet_name='อาคารพาณิชย์',skiprows=0)"
      ],
      "metadata": {
        "id": "Ghqz3bCKWbfN"
      },
      "execution_count": 2,
      "outputs": []
    },
    {
      "cell_type": "code",
      "source": [
        "df1.isnull().any()"
      ],
      "metadata": {
        "colab": {
          "base_uri": "https://localhost:8080/"
        },
        "id": "W3rehCTcRU54",
        "outputId": "1b18572c-7855-486d-941a-36f45e7a062f"
      },
      "execution_count": 3,
      "outputs": [
        {
          "output_type": "execute_result",
          "data": {
            "text/plain": [
              "ID ผู้ประเมิน                     False\n",
              "post id                           False\n",
              "property_type                     False\n",
              "ความมั่นใจในการเมินราคาทรัพย์     False\n",
              "ราคาทรัพย์                        False\n",
              "ประเมินราคาซื้อ-ขาย                True\n",
              "ปัจจัยในการประเมินราคาซื้อ-ขาย     True\n",
              "เหตุผลไม่มั่นใจราคาประเมิน         True\n",
              "ให้คะแนนทรัพย์                     True\n",
              "Unnamed: 9                         True\n",
              "Unnamed: 10                        True\n",
              "Unnamed: 11                        True\n",
              "Unnamed: 12                        True\n",
              "Unnamed: 13                        True\n",
              "dtype: bool"
            ]
          },
          "metadata": {},
          "execution_count": 3
        }
      ]
    },
    {
      "cell_type": "code",
      "source": [
        "df2.isnull().any()"
      ],
      "metadata": {
        "id": "-TSZgOmKEy1C",
        "outputId": "e6637059-ec06-46d9-b7c7-af43092d66b3",
        "colab": {
          "base_uri": "https://localhost:8080/"
        }
      },
      "execution_count": 4,
      "outputs": [
        {
          "output_type": "execute_result",
          "data": {
            "text/plain": [
              "ID ผู้ประเมิน                     False\n",
              "post id                           False\n",
              "property_type                     False\n",
              "ความมั่นใจในการเมินราคาทรัพย์     False\n",
              "ราคาทรัพย์                        False\n",
              "ประเมินราคาซื้อ-ขาย                True\n",
              "ปัจจัยในการประเมินราคาซื้อ-ขาย     True\n",
              "เหตุผลไม่มั่นใจราคาประเมิน         True\n",
              "ให้คะแนนทรัพย์                     True\n",
              "Unnamed: 9                         True\n",
              "Unnamed: 10                        True\n",
              "Unnamed: 11                        True\n",
              "Unnamed: 12                        True\n",
              "dtype: bool"
            ]
          },
          "metadata": {},
          "execution_count": 4
        }
      ]
    },
    {
      "cell_type": "code",
      "source": [
        "df3.isnull().any()"
      ],
      "metadata": {
        "id": "moUWpjhaE3in",
        "outputId": "ada45fb2-c6d5-408c-d6cb-f149e7fee890",
        "colab": {
          "base_uri": "https://localhost:8080/"
        }
      },
      "execution_count": 5,
      "outputs": [
        {
          "output_type": "execute_result",
          "data": {
            "text/plain": [
              "ID ผู้ประเมิน                     False\n",
              "post id                           False\n",
              "property_type                     False\n",
              "ความมั่นใจในการเมินราคาทรัพย์     False\n",
              "ราคาทรัพย์                        False\n",
              "ประเมินราคาซื้อ-ขาย               False\n",
              "ปัจจัยในการประเมินราคาซื้อ-ขาย    False\n",
              "เหตุผลไม่มั่นใจราคาประเมิน         True\n",
              "ให้คะแนนทรัพย์                    False\n",
              "Unnamed: 9                        False\n",
              "Unnamed: 10                       False\n",
              "dtype: bool"
            ]
          },
          "metadata": {},
          "execution_count": 5
        }
      ]
    },
    {
      "cell_type": "code",
      "source": [
        "df4.isnull().any()"
      ],
      "metadata": {
        "id": "dSoqke17E6Gf",
        "outputId": "12666cf1-d7d8-4f71-973c-8d9b9c126d86",
        "colab": {
          "base_uri": "https://localhost:8080/"
        }
      },
      "execution_count": 6,
      "outputs": [
        {
          "output_type": "execute_result",
          "data": {
            "text/plain": [
              "ID ผู้ประเมิน                     False\n",
              "post id                           False\n",
              "property_type                     False\n",
              "ความมั่นใจในการเมินราคาทรัพย์     False\n",
              "ราคาทรัพย์                        False\n",
              "ประเมินราคาซื้อ-ขาย               False\n",
              "ปัจจัยในการประเมินราคาซื้อ-ขาย    False\n",
              "เหตุผลไม่มั่นใจราคาประเมิน         True\n",
              "ให้คะแนนทรัพย์                    False\n",
              "Unnamed: 9                         True\n",
              "Unnamed: 10                        True\n",
              "Unnamed: 11                        True\n",
              "Unnamed: 12                        True\n",
              "dtype: bool"
            ]
          },
          "metadata": {},
          "execution_count": 6
        }
      ]
    },
    {
      "cell_type": "code",
      "source": [
        "df5.isnull().any()"
      ],
      "metadata": {
        "id": "B_1Gc1SgFEv7",
        "outputId": "c11d835a-ee88-421e-c670-25ad05e938d1",
        "colab": {
          "base_uri": "https://localhost:8080/"
        }
      },
      "execution_count": 7,
      "outputs": [
        {
          "output_type": "execute_result",
          "data": {
            "text/plain": [
              "ID ผู้ประเมิน                     False\n",
              "post id                           False\n",
              "property_type                     False\n",
              "ความมั่นใจในการเมินราคาทรัพย์     False\n",
              "ราคาทรัพย์                        False\n",
              "ประเมินราคาซื้อ-ขาย               False\n",
              "ปัจจัยในการประเมินราคาซื้อ-ขาย    False\n",
              "เหตุผลไม่มั่นใจราคาประเมิน         True\n",
              "ให้คะแนนทรัพย์                    False\n",
              "Unnamed: 9                        False\n",
              "Unnamed: 10                       False\n",
              "Unnamed: 11                        True\n",
              "Unnamed: 12                        True\n",
              "Unnamed: 13                        True\n",
              "dtype: bool"
            ]
          },
          "metadata": {},
          "execution_count": 7
        }
      ]
    },
    {
      "cell_type": "markdown",
      "source": [
        "#ข้อมูลประเมิน(บ้าน)"
      ],
      "metadata": {
        "id": "JbNx5ziRNtRi"
      }
    },
    {
      "cell_type": "code",
      "source": [
        "df1.head()"
      ],
      "metadata": {
        "colab": {
          "base_uri": "https://localhost:8080/",
          "height": 458
        },
        "id": "eUJAy1FGYwFt",
        "outputId": "43153348-a6ae-4a81-e269-81631b10b7a7"
      },
      "execution_count": 8,
      "outputs": [
        {
          "output_type": "execute_result",
          "data": {
            "text/plain": [
              "   ID ผู้ประเมิน                              post id property_type  \\\n",
              "0              1   https://nayoo.co/khonkaen/posts/25    บ้านเดี่ยว   \n",
              "1              2   https://nayoo.co/khonkaen/posts/25    บ้านเดี่ยว   \n",
              "2              1   https://nayoo.co/khonkaen/posts/33    บ้านเดี่ยว   \n",
              "3              2   https://nayoo.co/khonkaen/posts/33    บ้านเดี่ยว   \n",
              "4              1  https://nayoo.co/khonkaen/posts/495    บ้านเดี่ยว   \n",
              "\n",
              "  ความมั่นใจในการเมินราคาทรัพย์  ราคาทรัพย์  ประเมินราคาซื้อ-ขาย  \\\n",
              "0                        มั่นใจ   2700000.0            2500000.0   \n",
              "1                        มั่นใจ   2700000.0            2700000.0   \n",
              "2                        มั่นใจ   2600000.0            2200000.0   \n",
              "3                        มั่นใจ   2600000.0            2400000.0   \n",
              "4                        มั่นใจ   5900000.0            5000000.0   \n",
              "\n",
              "                      ปัจจัยในการประเมินราคาซื้อ-ขาย  \\\n",
              "0                                       5,000-15,000   \n",
              "1  โครงการนี้ราคาเสนอขาย 2,500,000-3,000,000 บาท/...   \n",
              "2                                       5,000-15,000   \n",
              "3   ราคาเสนอขายประมาณ 2,200,000 - 2,500,000 บาท/หลัง   \n",
              "4                                       5,000-15,000   \n",
              "\n",
              "  เหตุผลไม่มั่นใจราคาประเมิน                      ให้คะแนนทรัพย์  Unnamed: 9  \\\n",
              "0                        NaN   3 ขายได้ ใช้ระยะเวลา 7 - 12 เดือน         NaN   \n",
              "1                        NaN    4 ขายได้ ใช้ระยะเวลา 4 - 6 เดือน         NaN   \n",
              "2                        NaN  2 ขายได้ยาก ใช้ระยะเวลามากว่า 1 ปี         NaN   \n",
              "3                        NaN   3 ขายได้ ใช้ระยะเวลา 7 - 12 เดือน         NaN   \n",
              "4                        NaN   3 ขายได้ ใช้ระยะเวลา 7 - 12 เดือน         NaN   \n",
              "\n",
              "   Unnamed: 10  Unnamed: 11  Unnamed: 12  Unnamed: 13  \n",
              "0          NaN          NaN          NaN        100.0  \n",
              "1          NaN          NaN          NaN          NaN  \n",
              "2          NaN          NaN          NaN          NaN  \n",
              "3          NaN          NaN          NaN          NaN  \n",
              "4          NaN          NaN          NaN          NaN  "
            ],
            "text/html": [
              "\n",
              "  <div id=\"df-f9cf9563-0651-4ebf-98dc-52144c20bc36\">\n",
              "    <div class=\"colab-df-container\">\n",
              "      <div>\n",
              "<style scoped>\n",
              "    .dataframe tbody tr th:only-of-type {\n",
              "        vertical-align: middle;\n",
              "    }\n",
              "\n",
              "    .dataframe tbody tr th {\n",
              "        vertical-align: top;\n",
              "    }\n",
              "\n",
              "    .dataframe thead th {\n",
              "        text-align: right;\n",
              "    }\n",
              "</style>\n",
              "<table border=\"1\" class=\"dataframe\">\n",
              "  <thead>\n",
              "    <tr style=\"text-align: right;\">\n",
              "      <th></th>\n",
              "      <th>ID ผู้ประเมิน</th>\n",
              "      <th>post id</th>\n",
              "      <th>property_type</th>\n",
              "      <th>ความมั่นใจในการเมินราคาทรัพย์</th>\n",
              "      <th>ราคาทรัพย์</th>\n",
              "      <th>ประเมินราคาซื้อ-ขาย</th>\n",
              "      <th>ปัจจัยในการประเมินราคาซื้อ-ขาย</th>\n",
              "      <th>เหตุผลไม่มั่นใจราคาประเมิน</th>\n",
              "      <th>ให้คะแนนทรัพย์</th>\n",
              "      <th>Unnamed: 9</th>\n",
              "      <th>Unnamed: 10</th>\n",
              "      <th>Unnamed: 11</th>\n",
              "      <th>Unnamed: 12</th>\n",
              "      <th>Unnamed: 13</th>\n",
              "    </tr>\n",
              "  </thead>\n",
              "  <tbody>\n",
              "    <tr>\n",
              "      <th>0</th>\n",
              "      <td>1</td>\n",
              "      <td>https://nayoo.co/khonkaen/posts/25</td>\n",
              "      <td>บ้านเดี่ยว</td>\n",
              "      <td>มั่นใจ</td>\n",
              "      <td>2700000.0</td>\n",
              "      <td>2500000.0</td>\n",
              "      <td>5,000-15,000</td>\n",
              "      <td>NaN</td>\n",
              "      <td>3 ขายได้ ใช้ระยะเวลา 7 - 12 เดือน</td>\n",
              "      <td>NaN</td>\n",
              "      <td>NaN</td>\n",
              "      <td>NaN</td>\n",
              "      <td>NaN</td>\n",
              "      <td>100.0</td>\n",
              "    </tr>\n",
              "    <tr>\n",
              "      <th>1</th>\n",
              "      <td>2</td>\n",
              "      <td>https://nayoo.co/khonkaen/posts/25</td>\n",
              "      <td>บ้านเดี่ยว</td>\n",
              "      <td>มั่นใจ</td>\n",
              "      <td>2700000.0</td>\n",
              "      <td>2700000.0</td>\n",
              "      <td>โครงการนี้ราคาเสนอขาย 2,500,000-3,000,000 บาท/...</td>\n",
              "      <td>NaN</td>\n",
              "      <td>4 ขายได้ ใช้ระยะเวลา 4 - 6 เดือน</td>\n",
              "      <td>NaN</td>\n",
              "      <td>NaN</td>\n",
              "      <td>NaN</td>\n",
              "      <td>NaN</td>\n",
              "      <td>NaN</td>\n",
              "    </tr>\n",
              "    <tr>\n",
              "      <th>2</th>\n",
              "      <td>1</td>\n",
              "      <td>https://nayoo.co/khonkaen/posts/33</td>\n",
              "      <td>บ้านเดี่ยว</td>\n",
              "      <td>มั่นใจ</td>\n",
              "      <td>2600000.0</td>\n",
              "      <td>2200000.0</td>\n",
              "      <td>5,000-15,000</td>\n",
              "      <td>NaN</td>\n",
              "      <td>2 ขายได้ยาก ใช้ระยะเวลามากว่า 1 ปี</td>\n",
              "      <td>NaN</td>\n",
              "      <td>NaN</td>\n",
              "      <td>NaN</td>\n",
              "      <td>NaN</td>\n",
              "      <td>NaN</td>\n",
              "    </tr>\n",
              "    <tr>\n",
              "      <th>3</th>\n",
              "      <td>2</td>\n",
              "      <td>https://nayoo.co/khonkaen/posts/33</td>\n",
              "      <td>บ้านเดี่ยว</td>\n",
              "      <td>มั่นใจ</td>\n",
              "      <td>2600000.0</td>\n",
              "      <td>2400000.0</td>\n",
              "      <td>ราคาเสนอขายประมาณ 2,200,000 - 2,500,000 บาท/หลัง</td>\n",
              "      <td>NaN</td>\n",
              "      <td>3 ขายได้ ใช้ระยะเวลา 7 - 12 เดือน</td>\n",
              "      <td>NaN</td>\n",
              "      <td>NaN</td>\n",
              "      <td>NaN</td>\n",
              "      <td>NaN</td>\n",
              "      <td>NaN</td>\n",
              "    </tr>\n",
              "    <tr>\n",
              "      <th>4</th>\n",
              "      <td>1</td>\n",
              "      <td>https://nayoo.co/khonkaen/posts/495</td>\n",
              "      <td>บ้านเดี่ยว</td>\n",
              "      <td>มั่นใจ</td>\n",
              "      <td>5900000.0</td>\n",
              "      <td>5000000.0</td>\n",
              "      <td>5,000-15,000</td>\n",
              "      <td>NaN</td>\n",
              "      <td>3 ขายได้ ใช้ระยะเวลา 7 - 12 เดือน</td>\n",
              "      <td>NaN</td>\n",
              "      <td>NaN</td>\n",
              "      <td>NaN</td>\n",
              "      <td>NaN</td>\n",
              "      <td>NaN</td>\n",
              "    </tr>\n",
              "  </tbody>\n",
              "</table>\n",
              "</div>\n",
              "      <button class=\"colab-df-convert\" onclick=\"convertToInteractive('df-f9cf9563-0651-4ebf-98dc-52144c20bc36')\"\n",
              "              title=\"Convert this dataframe to an interactive table.\"\n",
              "              style=\"display:none;\">\n",
              "        \n",
              "  <svg xmlns=\"http://www.w3.org/2000/svg\" height=\"24px\"viewBox=\"0 0 24 24\"\n",
              "       width=\"24px\">\n",
              "    <path d=\"M0 0h24v24H0V0z\" fill=\"none\"/>\n",
              "    <path d=\"M18.56 5.44l.94 2.06.94-2.06 2.06-.94-2.06-.94-.94-2.06-.94 2.06-2.06.94zm-11 1L8.5 8.5l.94-2.06 2.06-.94-2.06-.94L8.5 2.5l-.94 2.06-2.06.94zm10 10l.94 2.06.94-2.06 2.06-.94-2.06-.94-.94-2.06-.94 2.06-2.06.94z\"/><path d=\"M17.41 7.96l-1.37-1.37c-.4-.4-.92-.59-1.43-.59-.52 0-1.04.2-1.43.59L10.3 9.45l-7.72 7.72c-.78.78-.78 2.05 0 2.83L4 21.41c.39.39.9.59 1.41.59.51 0 1.02-.2 1.41-.59l7.78-7.78 2.81-2.81c.8-.78.8-2.07 0-2.86zM5.41 20L4 18.59l7.72-7.72 1.47 1.35L5.41 20z\"/>\n",
              "  </svg>\n",
              "      </button>\n",
              "      \n",
              "  <style>\n",
              "    .colab-df-container {\n",
              "      display:flex;\n",
              "      flex-wrap:wrap;\n",
              "      gap: 12px;\n",
              "    }\n",
              "\n",
              "    .colab-df-convert {\n",
              "      background-color: #E8F0FE;\n",
              "      border: none;\n",
              "      border-radius: 50%;\n",
              "      cursor: pointer;\n",
              "      display: none;\n",
              "      fill: #1967D2;\n",
              "      height: 32px;\n",
              "      padding: 0 0 0 0;\n",
              "      width: 32px;\n",
              "    }\n",
              "\n",
              "    .colab-df-convert:hover {\n",
              "      background-color: #E2EBFA;\n",
              "      box-shadow: 0px 1px 2px rgba(60, 64, 67, 0.3), 0px 1px 3px 1px rgba(60, 64, 67, 0.15);\n",
              "      fill: #174EA6;\n",
              "    }\n",
              "\n",
              "    [theme=dark] .colab-df-convert {\n",
              "      background-color: #3B4455;\n",
              "      fill: #D2E3FC;\n",
              "    }\n",
              "\n",
              "    [theme=dark] .colab-df-convert:hover {\n",
              "      background-color: #434B5C;\n",
              "      box-shadow: 0px 1px 3px 1px rgba(0, 0, 0, 0.15);\n",
              "      filter: drop-shadow(0px 1px 2px rgba(0, 0, 0, 0.3));\n",
              "      fill: #FFFFFF;\n",
              "    }\n",
              "  </style>\n",
              "\n",
              "      <script>\n",
              "        const buttonEl =\n",
              "          document.querySelector('#df-f9cf9563-0651-4ebf-98dc-52144c20bc36 button.colab-df-convert');\n",
              "        buttonEl.style.display =\n",
              "          google.colab.kernel.accessAllowed ? 'block' : 'none';\n",
              "\n",
              "        async function convertToInteractive(key) {\n",
              "          const element = document.querySelector('#df-f9cf9563-0651-4ebf-98dc-52144c20bc36');\n",
              "          const dataTable =\n",
              "            await google.colab.kernel.invokeFunction('convertToInteractive',\n",
              "                                                     [key], {});\n",
              "          if (!dataTable) return;\n",
              "\n",
              "          const docLinkHtml = 'Like what you see? Visit the ' +\n",
              "            '<a target=\"_blank\" href=https://colab.research.google.com/notebooks/data_table.ipynb>data table notebook</a>'\n",
              "            + ' to learn more about interactive tables.';\n",
              "          element.innerHTML = '';\n",
              "          dataTable['output_type'] = 'display_data';\n",
              "          await google.colab.output.renderOutput(dataTable, element);\n",
              "          const docLink = document.createElement('div');\n",
              "          docLink.innerHTML = docLinkHtml;\n",
              "          element.appendChild(docLink);\n",
              "        }\n",
              "      </script>\n",
              "    </div>\n",
              "  </div>\n",
              "  "
            ]
          },
          "metadata": {},
          "execution_count": 8
        }
      ]
    },
    {
      "cell_type": "markdown",
      "source": [
        "##ผู้ประเมินคนที่ 1"
      ],
      "metadata": {
        "id": "Ex087wwvgOSM"
      }
    },
    {
      "cell_type": "code",
      "source": [
        "#เลือกคอลัมน์ผู้ประเมินคนที่ 1 \n",
        "a1 = df1[df1['ID ผู้ประเมิน']==1]\n",
        "a1.count()"
      ],
      "metadata": {
        "colab": {
          "base_uri": "https://localhost:8080/"
        },
        "id": "Czt4iEhgW6Zx",
        "outputId": "38576e74-1a99-441b-c054-8c814dafbd8f"
      },
      "execution_count": 9,
      "outputs": [
        {
          "output_type": "execute_result",
          "data": {
            "text/plain": [
              "ID ผู้ประเมิน                     100\n",
              "post id                           100\n",
              "property_type                     100\n",
              "ความมั่นใจในการเมินราคาทรัพย์     100\n",
              "ราคาทรัพย์                        100\n",
              "ประเมินราคาซื้อ-ขาย               100\n",
              "ปัจจัยในการประเมินราคาซื้อ-ขาย    100\n",
              "เหตุผลไม่มั่นใจราคาประเมิน          0\n",
              "ให้คะแนนทรัพย์                    100\n",
              "Unnamed: 9                          0\n",
              "Unnamed: 10                         0\n",
              "Unnamed: 11                         0\n",
              "Unnamed: 12                         0\n",
              "Unnamed: 13                         1\n",
              "dtype: int64"
            ]
          },
          "metadata": {},
          "execution_count": 9
        }
      ]
    },
    {
      "cell_type": "markdown",
      "source": [
        "ผู้ประเมินคนที่ 1 ประเมินบ้านไว้ทั้งหมด 100 ทรัพย์"
      ],
      "metadata": {
        "id": "ope31WbaZu9o"
      }
    },
    {
      "cell_type": "code",
      "source": [
        "a1.describe()"
      ],
      "metadata": {
        "colab": {
          "base_uri": "https://localhost:8080/",
          "height": 300
        },
        "id": "5vycaJTdc19P",
        "outputId": "1a87e538-fdec-41fa-c2f4-bcb6bb248192"
      },
      "execution_count": 10,
      "outputs": [
        {
          "output_type": "execute_result",
          "data": {
            "text/plain": [
              "       ID ผู้ประเมิน    ราคาทรัพย์  ประเมินราคาซื้อ-ขาย  Unnamed: 9  \\\n",
              "count          100.0  1.000000e+02         1.000000e+02         0.0   \n",
              "mean             1.0  4.316360e+06         3.938500e+06         NaN   \n",
              "std              0.0  2.865391e+06         2.368553e+06         NaN   \n",
              "min              1.0  3.900000e+05         6.000000e+05         NaN   \n",
              "25%              1.0  2.892750e+06         2.775000e+06         NaN   \n",
              "50%              1.0  3.962000e+06         3.600000e+06         NaN   \n",
              "75%              1.0  5.000000e+06         4.500000e+06         NaN   \n",
              "max              1.0  2.094900e+07         1.600000e+07         NaN   \n",
              "\n",
              "       Unnamed: 10  Unnamed: 11  Unnamed: 12  Unnamed: 13  \n",
              "count          0.0          0.0          0.0          1.0  \n",
              "mean           NaN          NaN          NaN        100.0  \n",
              "std            NaN          NaN          NaN          NaN  \n",
              "min            NaN          NaN          NaN        100.0  \n",
              "25%            NaN          NaN          NaN        100.0  \n",
              "50%            NaN          NaN          NaN        100.0  \n",
              "75%            NaN          NaN          NaN        100.0  \n",
              "max            NaN          NaN          NaN        100.0  "
            ],
            "text/html": [
              "\n",
              "  <div id=\"df-321850ba-4be1-4d6a-bbab-ce51ec8d2160\">\n",
              "    <div class=\"colab-df-container\">\n",
              "      <div>\n",
              "<style scoped>\n",
              "    .dataframe tbody tr th:only-of-type {\n",
              "        vertical-align: middle;\n",
              "    }\n",
              "\n",
              "    .dataframe tbody tr th {\n",
              "        vertical-align: top;\n",
              "    }\n",
              "\n",
              "    .dataframe thead th {\n",
              "        text-align: right;\n",
              "    }\n",
              "</style>\n",
              "<table border=\"1\" class=\"dataframe\">\n",
              "  <thead>\n",
              "    <tr style=\"text-align: right;\">\n",
              "      <th></th>\n",
              "      <th>ID ผู้ประเมิน</th>\n",
              "      <th>ราคาทรัพย์</th>\n",
              "      <th>ประเมินราคาซื้อ-ขาย</th>\n",
              "      <th>Unnamed: 9</th>\n",
              "      <th>Unnamed: 10</th>\n",
              "      <th>Unnamed: 11</th>\n",
              "      <th>Unnamed: 12</th>\n",
              "      <th>Unnamed: 13</th>\n",
              "    </tr>\n",
              "  </thead>\n",
              "  <tbody>\n",
              "    <tr>\n",
              "      <th>count</th>\n",
              "      <td>100.0</td>\n",
              "      <td>1.000000e+02</td>\n",
              "      <td>1.000000e+02</td>\n",
              "      <td>0.0</td>\n",
              "      <td>0.0</td>\n",
              "      <td>0.0</td>\n",
              "      <td>0.0</td>\n",
              "      <td>1.0</td>\n",
              "    </tr>\n",
              "    <tr>\n",
              "      <th>mean</th>\n",
              "      <td>1.0</td>\n",
              "      <td>4.316360e+06</td>\n",
              "      <td>3.938500e+06</td>\n",
              "      <td>NaN</td>\n",
              "      <td>NaN</td>\n",
              "      <td>NaN</td>\n",
              "      <td>NaN</td>\n",
              "      <td>100.0</td>\n",
              "    </tr>\n",
              "    <tr>\n",
              "      <th>std</th>\n",
              "      <td>0.0</td>\n",
              "      <td>2.865391e+06</td>\n",
              "      <td>2.368553e+06</td>\n",
              "      <td>NaN</td>\n",
              "      <td>NaN</td>\n",
              "      <td>NaN</td>\n",
              "      <td>NaN</td>\n",
              "      <td>NaN</td>\n",
              "    </tr>\n",
              "    <tr>\n",
              "      <th>min</th>\n",
              "      <td>1.0</td>\n",
              "      <td>3.900000e+05</td>\n",
              "      <td>6.000000e+05</td>\n",
              "      <td>NaN</td>\n",
              "      <td>NaN</td>\n",
              "      <td>NaN</td>\n",
              "      <td>NaN</td>\n",
              "      <td>100.0</td>\n",
              "    </tr>\n",
              "    <tr>\n",
              "      <th>25%</th>\n",
              "      <td>1.0</td>\n",
              "      <td>2.892750e+06</td>\n",
              "      <td>2.775000e+06</td>\n",
              "      <td>NaN</td>\n",
              "      <td>NaN</td>\n",
              "      <td>NaN</td>\n",
              "      <td>NaN</td>\n",
              "      <td>100.0</td>\n",
              "    </tr>\n",
              "    <tr>\n",
              "      <th>50%</th>\n",
              "      <td>1.0</td>\n",
              "      <td>3.962000e+06</td>\n",
              "      <td>3.600000e+06</td>\n",
              "      <td>NaN</td>\n",
              "      <td>NaN</td>\n",
              "      <td>NaN</td>\n",
              "      <td>NaN</td>\n",
              "      <td>100.0</td>\n",
              "    </tr>\n",
              "    <tr>\n",
              "      <th>75%</th>\n",
              "      <td>1.0</td>\n",
              "      <td>5.000000e+06</td>\n",
              "      <td>4.500000e+06</td>\n",
              "      <td>NaN</td>\n",
              "      <td>NaN</td>\n",
              "      <td>NaN</td>\n",
              "      <td>NaN</td>\n",
              "      <td>100.0</td>\n",
              "    </tr>\n",
              "    <tr>\n",
              "      <th>max</th>\n",
              "      <td>1.0</td>\n",
              "      <td>2.094900e+07</td>\n",
              "      <td>1.600000e+07</td>\n",
              "      <td>NaN</td>\n",
              "      <td>NaN</td>\n",
              "      <td>NaN</td>\n",
              "      <td>NaN</td>\n",
              "      <td>100.0</td>\n",
              "    </tr>\n",
              "  </tbody>\n",
              "</table>\n",
              "</div>\n",
              "      <button class=\"colab-df-convert\" onclick=\"convertToInteractive('df-321850ba-4be1-4d6a-bbab-ce51ec8d2160')\"\n",
              "              title=\"Convert this dataframe to an interactive table.\"\n",
              "              style=\"display:none;\">\n",
              "        \n",
              "  <svg xmlns=\"http://www.w3.org/2000/svg\" height=\"24px\"viewBox=\"0 0 24 24\"\n",
              "       width=\"24px\">\n",
              "    <path d=\"M0 0h24v24H0V0z\" fill=\"none\"/>\n",
              "    <path d=\"M18.56 5.44l.94 2.06.94-2.06 2.06-.94-2.06-.94-.94-2.06-.94 2.06-2.06.94zm-11 1L8.5 8.5l.94-2.06 2.06-.94-2.06-.94L8.5 2.5l-.94 2.06-2.06.94zm10 10l.94 2.06.94-2.06 2.06-.94-2.06-.94-.94-2.06-.94 2.06-2.06.94z\"/><path d=\"M17.41 7.96l-1.37-1.37c-.4-.4-.92-.59-1.43-.59-.52 0-1.04.2-1.43.59L10.3 9.45l-7.72 7.72c-.78.78-.78 2.05 0 2.83L4 21.41c.39.39.9.59 1.41.59.51 0 1.02-.2 1.41-.59l7.78-7.78 2.81-2.81c.8-.78.8-2.07 0-2.86zM5.41 20L4 18.59l7.72-7.72 1.47 1.35L5.41 20z\"/>\n",
              "  </svg>\n",
              "      </button>\n",
              "      \n",
              "  <style>\n",
              "    .colab-df-container {\n",
              "      display:flex;\n",
              "      flex-wrap:wrap;\n",
              "      gap: 12px;\n",
              "    }\n",
              "\n",
              "    .colab-df-convert {\n",
              "      background-color: #E8F0FE;\n",
              "      border: none;\n",
              "      border-radius: 50%;\n",
              "      cursor: pointer;\n",
              "      display: none;\n",
              "      fill: #1967D2;\n",
              "      height: 32px;\n",
              "      padding: 0 0 0 0;\n",
              "      width: 32px;\n",
              "    }\n",
              "\n",
              "    .colab-df-convert:hover {\n",
              "      background-color: #E2EBFA;\n",
              "      box-shadow: 0px 1px 2px rgba(60, 64, 67, 0.3), 0px 1px 3px 1px rgba(60, 64, 67, 0.15);\n",
              "      fill: #174EA6;\n",
              "    }\n",
              "\n",
              "    [theme=dark] .colab-df-convert {\n",
              "      background-color: #3B4455;\n",
              "      fill: #D2E3FC;\n",
              "    }\n",
              "\n",
              "    [theme=dark] .colab-df-convert:hover {\n",
              "      background-color: #434B5C;\n",
              "      box-shadow: 0px 1px 3px 1px rgba(0, 0, 0, 0.15);\n",
              "      filter: drop-shadow(0px 1px 2px rgba(0, 0, 0, 0.3));\n",
              "      fill: #FFFFFF;\n",
              "    }\n",
              "  </style>\n",
              "\n",
              "      <script>\n",
              "        const buttonEl =\n",
              "          document.querySelector('#df-321850ba-4be1-4d6a-bbab-ce51ec8d2160 button.colab-df-convert');\n",
              "        buttonEl.style.display =\n",
              "          google.colab.kernel.accessAllowed ? 'block' : 'none';\n",
              "\n",
              "        async function convertToInteractive(key) {\n",
              "          const element = document.querySelector('#df-321850ba-4be1-4d6a-bbab-ce51ec8d2160');\n",
              "          const dataTable =\n",
              "            await google.colab.kernel.invokeFunction('convertToInteractive',\n",
              "                                                     [key], {});\n",
              "          if (!dataTable) return;\n",
              "\n",
              "          const docLinkHtml = 'Like what you see? Visit the ' +\n",
              "            '<a target=\"_blank\" href=https://colab.research.google.com/notebooks/data_table.ipynb>data table notebook</a>'\n",
              "            + ' to learn more about interactive tables.';\n",
              "          element.innerHTML = '';\n",
              "          dataTable['output_type'] = 'display_data';\n",
              "          await google.colab.output.renderOutput(dataTable, element);\n",
              "          const docLink = document.createElement('div');\n",
              "          docLink.innerHTML = docLinkHtml;\n",
              "          element.appendChild(docLink);\n",
              "        }\n",
              "      </script>\n",
              "    </div>\n",
              "  </div>\n",
              "  "
            ]
          },
          "metadata": {},
          "execution_count": 10
        }
      ]
    },
    {
      "cell_type": "markdown",
      "source": [
        "- ราคาซื้อ-ขายที่น้อยที่สุดของสินทรัพย์บ้านของคนที่ 1 = 600000\n",
        "- ราคาซื้อ-ขายที่มากที่สุดของสินทรัพย์บ้านของคนที่ 1 = 16000000"
      ],
      "metadata": {
        "id": "OLoI_TjAff4G"
      }
    },
    {
      "cell_type": "code",
      "source": [
        "a1['ความมั่นใจในการเมินราคาทรัพย์'].value_counts()"
      ],
      "metadata": {
        "colab": {
          "base_uri": "https://localhost:8080/"
        },
        "id": "Pf5nRFf7bGeG",
        "outputId": "b155726c-f285-483c-80a8-bed9bf7a6fef"
      },
      "execution_count": 11,
      "outputs": [
        {
          "output_type": "execute_result",
          "data": {
            "text/plain": [
              "มั่นใจ    100\n",
              "Name: ความมั่นใจในการเมินราคาทรัพย์, dtype: int64"
            ]
          },
          "metadata": {},
          "execution_count": 11
        }
      ]
    },
    {
      "cell_type": "code",
      "source": [
        "a1['ให้คะแนนทรัพย์'].value_counts()"
      ],
      "metadata": {
        "colab": {
          "base_uri": "https://localhost:8080/"
        },
        "id": "GwTr2I4Lg1zY",
        "outputId": "a01cf3ce-2cba-4c4d-a102-5373e1d97bc1"
      },
      "execution_count": 12,
      "outputs": [
        {
          "output_type": "execute_result",
          "data": {
            "text/plain": [
              "2 ขายได้ยาก ใช้ระยะเวลามากว่า 1 ปี    54\n",
              "3 ขายได้ ใช้ระยะเวลา 7 - 12 เดือน     43\n",
              "4 ขายได้ ใช้ระยะเวลา 4 - 6 เดือน       2\n",
              "1 ขายไม่ได้แน่นอน                      1\n",
              "Name: ให้คะแนนทรัพย์, dtype: int64"
            ]
          },
          "metadata": {},
          "execution_count": 12
        }
      ]
    },
    {
      "cell_type": "markdown",
      "source": [
        "##ผู้ประเมินคนที่ 2"
      ],
      "metadata": {
        "id": "EJnkLWUzgoHZ"
      }
    },
    {
      "cell_type": "code",
      "source": [
        "#เลือกคอลัมน์ผู้ประเมินคนที่ 2\n",
        "a2 = df1[df1['ID ผู้ประเมิน']==2]\n",
        "a2.count()"
      ],
      "metadata": {
        "colab": {
          "base_uri": "https://localhost:8080/"
        },
        "id": "9fN7H9HCaoHb",
        "outputId": "3cfaf453-2144-44d9-e37b-5da213c8f111"
      },
      "execution_count": 13,
      "outputs": [
        {
          "output_type": "execute_result",
          "data": {
            "text/plain": [
              "ID ผู้ประเมิน                     90\n",
              "post id                           90\n",
              "property_type                     90\n",
              "ความมั่นใจในการเมินราคาทรัพย์     90\n",
              "ราคาทรัพย์                        90\n",
              "ประเมินราคาซื้อ-ขาย               89\n",
              "ปัจจัยในการประเมินราคาซื้อ-ขาย    89\n",
              "เหตุผลไม่มั่นใจราคาประเมิน         1\n",
              "ให้คะแนนทรัพย์                    89\n",
              "Unnamed: 9                         0\n",
              "Unnamed: 10                        0\n",
              "Unnamed: 11                        0\n",
              "Unnamed: 12                        0\n",
              "Unnamed: 13                        0\n",
              "dtype: int64"
            ]
          },
          "metadata": {},
          "execution_count": 13
        }
      ]
    },
    {
      "cell_type": "markdown",
      "source": [
        "ผู้ประเมินคนที่ 2 ประเมินบ้านไว้ทั้งหมด 90 ทรัพย์"
      ],
      "metadata": {
        "id": "PSag4iraAyh_"
      }
    },
    {
      "cell_type": "code",
      "source": [
        "a2.describe()"
      ],
      "metadata": {
        "colab": {
          "base_uri": "https://localhost:8080/",
          "height": 300
        },
        "id": "BAHY5Sw7c7mE",
        "outputId": "79b3c02a-4b7f-4d20-d7c9-773ec8abdc94"
      },
      "execution_count": 14,
      "outputs": [
        {
          "output_type": "execute_result",
          "data": {
            "text/plain": [
              "       ID ผู้ประเมิน    ราคาทรัพย์  ประเมินราคาซื้อ-ขาย  Unnamed: 9  \\\n",
              "count           90.0  9.000000e+01         8.900000e+01         0.0   \n",
              "mean             2.0  4.240733e+06         4.153258e+06         NaN   \n",
              "std              0.0  2.714815e+06         2.386901e+06         NaN   \n",
              "min              2.0  3.900000e+05         9.900000e+05         NaN   \n",
              "25%              2.0  2.860000e+06         2.600000e+06         NaN   \n",
              "50%              2.0  4.000000e+06         3.900000e+06         NaN   \n",
              "75%              2.0  5.000000e+06         4.900000e+06         NaN   \n",
              "max              2.0  2.094900e+07         1.700000e+07         NaN   \n",
              "\n",
              "       Unnamed: 10  Unnamed: 11  Unnamed: 12  Unnamed: 13  \n",
              "count          0.0          0.0          0.0          0.0  \n",
              "mean           NaN          NaN          NaN          NaN  \n",
              "std            NaN          NaN          NaN          NaN  \n",
              "min            NaN          NaN          NaN          NaN  \n",
              "25%            NaN          NaN          NaN          NaN  \n",
              "50%            NaN          NaN          NaN          NaN  \n",
              "75%            NaN          NaN          NaN          NaN  \n",
              "max            NaN          NaN          NaN          NaN  "
            ],
            "text/html": [
              "\n",
              "  <div id=\"df-672d718f-4895-475d-8c55-ccd8db653270\">\n",
              "    <div class=\"colab-df-container\">\n",
              "      <div>\n",
              "<style scoped>\n",
              "    .dataframe tbody tr th:only-of-type {\n",
              "        vertical-align: middle;\n",
              "    }\n",
              "\n",
              "    .dataframe tbody tr th {\n",
              "        vertical-align: top;\n",
              "    }\n",
              "\n",
              "    .dataframe thead th {\n",
              "        text-align: right;\n",
              "    }\n",
              "</style>\n",
              "<table border=\"1\" class=\"dataframe\">\n",
              "  <thead>\n",
              "    <tr style=\"text-align: right;\">\n",
              "      <th></th>\n",
              "      <th>ID ผู้ประเมิน</th>\n",
              "      <th>ราคาทรัพย์</th>\n",
              "      <th>ประเมินราคาซื้อ-ขาย</th>\n",
              "      <th>Unnamed: 9</th>\n",
              "      <th>Unnamed: 10</th>\n",
              "      <th>Unnamed: 11</th>\n",
              "      <th>Unnamed: 12</th>\n",
              "      <th>Unnamed: 13</th>\n",
              "    </tr>\n",
              "  </thead>\n",
              "  <tbody>\n",
              "    <tr>\n",
              "      <th>count</th>\n",
              "      <td>90.0</td>\n",
              "      <td>9.000000e+01</td>\n",
              "      <td>8.900000e+01</td>\n",
              "      <td>0.0</td>\n",
              "      <td>0.0</td>\n",
              "      <td>0.0</td>\n",
              "      <td>0.0</td>\n",
              "      <td>0.0</td>\n",
              "    </tr>\n",
              "    <tr>\n",
              "      <th>mean</th>\n",
              "      <td>2.0</td>\n",
              "      <td>4.240733e+06</td>\n",
              "      <td>4.153258e+06</td>\n",
              "      <td>NaN</td>\n",
              "      <td>NaN</td>\n",
              "      <td>NaN</td>\n",
              "      <td>NaN</td>\n",
              "      <td>NaN</td>\n",
              "    </tr>\n",
              "    <tr>\n",
              "      <th>std</th>\n",
              "      <td>0.0</td>\n",
              "      <td>2.714815e+06</td>\n",
              "      <td>2.386901e+06</td>\n",
              "      <td>NaN</td>\n",
              "      <td>NaN</td>\n",
              "      <td>NaN</td>\n",
              "      <td>NaN</td>\n",
              "      <td>NaN</td>\n",
              "    </tr>\n",
              "    <tr>\n",
              "      <th>min</th>\n",
              "      <td>2.0</td>\n",
              "      <td>3.900000e+05</td>\n",
              "      <td>9.900000e+05</td>\n",
              "      <td>NaN</td>\n",
              "      <td>NaN</td>\n",
              "      <td>NaN</td>\n",
              "      <td>NaN</td>\n",
              "      <td>NaN</td>\n",
              "    </tr>\n",
              "    <tr>\n",
              "      <th>25%</th>\n",
              "      <td>2.0</td>\n",
              "      <td>2.860000e+06</td>\n",
              "      <td>2.600000e+06</td>\n",
              "      <td>NaN</td>\n",
              "      <td>NaN</td>\n",
              "      <td>NaN</td>\n",
              "      <td>NaN</td>\n",
              "      <td>NaN</td>\n",
              "    </tr>\n",
              "    <tr>\n",
              "      <th>50%</th>\n",
              "      <td>2.0</td>\n",
              "      <td>4.000000e+06</td>\n",
              "      <td>3.900000e+06</td>\n",
              "      <td>NaN</td>\n",
              "      <td>NaN</td>\n",
              "      <td>NaN</td>\n",
              "      <td>NaN</td>\n",
              "      <td>NaN</td>\n",
              "    </tr>\n",
              "    <tr>\n",
              "      <th>75%</th>\n",
              "      <td>2.0</td>\n",
              "      <td>5.000000e+06</td>\n",
              "      <td>4.900000e+06</td>\n",
              "      <td>NaN</td>\n",
              "      <td>NaN</td>\n",
              "      <td>NaN</td>\n",
              "      <td>NaN</td>\n",
              "      <td>NaN</td>\n",
              "    </tr>\n",
              "    <tr>\n",
              "      <th>max</th>\n",
              "      <td>2.0</td>\n",
              "      <td>2.094900e+07</td>\n",
              "      <td>1.700000e+07</td>\n",
              "      <td>NaN</td>\n",
              "      <td>NaN</td>\n",
              "      <td>NaN</td>\n",
              "      <td>NaN</td>\n",
              "      <td>NaN</td>\n",
              "    </tr>\n",
              "  </tbody>\n",
              "</table>\n",
              "</div>\n",
              "      <button class=\"colab-df-convert\" onclick=\"convertToInteractive('df-672d718f-4895-475d-8c55-ccd8db653270')\"\n",
              "              title=\"Convert this dataframe to an interactive table.\"\n",
              "              style=\"display:none;\">\n",
              "        \n",
              "  <svg xmlns=\"http://www.w3.org/2000/svg\" height=\"24px\"viewBox=\"0 0 24 24\"\n",
              "       width=\"24px\">\n",
              "    <path d=\"M0 0h24v24H0V0z\" fill=\"none\"/>\n",
              "    <path d=\"M18.56 5.44l.94 2.06.94-2.06 2.06-.94-2.06-.94-.94-2.06-.94 2.06-2.06.94zm-11 1L8.5 8.5l.94-2.06 2.06-.94-2.06-.94L8.5 2.5l-.94 2.06-2.06.94zm10 10l.94 2.06.94-2.06 2.06-.94-2.06-.94-.94-2.06-.94 2.06-2.06.94z\"/><path d=\"M17.41 7.96l-1.37-1.37c-.4-.4-.92-.59-1.43-.59-.52 0-1.04.2-1.43.59L10.3 9.45l-7.72 7.72c-.78.78-.78 2.05 0 2.83L4 21.41c.39.39.9.59 1.41.59.51 0 1.02-.2 1.41-.59l7.78-7.78 2.81-2.81c.8-.78.8-2.07 0-2.86zM5.41 20L4 18.59l7.72-7.72 1.47 1.35L5.41 20z\"/>\n",
              "  </svg>\n",
              "      </button>\n",
              "      \n",
              "  <style>\n",
              "    .colab-df-container {\n",
              "      display:flex;\n",
              "      flex-wrap:wrap;\n",
              "      gap: 12px;\n",
              "    }\n",
              "\n",
              "    .colab-df-convert {\n",
              "      background-color: #E8F0FE;\n",
              "      border: none;\n",
              "      border-radius: 50%;\n",
              "      cursor: pointer;\n",
              "      display: none;\n",
              "      fill: #1967D2;\n",
              "      height: 32px;\n",
              "      padding: 0 0 0 0;\n",
              "      width: 32px;\n",
              "    }\n",
              "\n",
              "    .colab-df-convert:hover {\n",
              "      background-color: #E2EBFA;\n",
              "      box-shadow: 0px 1px 2px rgba(60, 64, 67, 0.3), 0px 1px 3px 1px rgba(60, 64, 67, 0.15);\n",
              "      fill: #174EA6;\n",
              "    }\n",
              "\n",
              "    [theme=dark] .colab-df-convert {\n",
              "      background-color: #3B4455;\n",
              "      fill: #D2E3FC;\n",
              "    }\n",
              "\n",
              "    [theme=dark] .colab-df-convert:hover {\n",
              "      background-color: #434B5C;\n",
              "      box-shadow: 0px 1px 3px 1px rgba(0, 0, 0, 0.15);\n",
              "      filter: drop-shadow(0px 1px 2px rgba(0, 0, 0, 0.3));\n",
              "      fill: #FFFFFF;\n",
              "    }\n",
              "  </style>\n",
              "\n",
              "      <script>\n",
              "        const buttonEl =\n",
              "          document.querySelector('#df-672d718f-4895-475d-8c55-ccd8db653270 button.colab-df-convert');\n",
              "        buttonEl.style.display =\n",
              "          google.colab.kernel.accessAllowed ? 'block' : 'none';\n",
              "\n",
              "        async function convertToInteractive(key) {\n",
              "          const element = document.querySelector('#df-672d718f-4895-475d-8c55-ccd8db653270');\n",
              "          const dataTable =\n",
              "            await google.colab.kernel.invokeFunction('convertToInteractive',\n",
              "                                                     [key], {});\n",
              "          if (!dataTable) return;\n",
              "\n",
              "          const docLinkHtml = 'Like what you see? Visit the ' +\n",
              "            '<a target=\"_blank\" href=https://colab.research.google.com/notebooks/data_table.ipynb>data table notebook</a>'\n",
              "            + ' to learn more about interactive tables.';\n",
              "          element.innerHTML = '';\n",
              "          dataTable['output_type'] = 'display_data';\n",
              "          await google.colab.output.renderOutput(dataTable, element);\n",
              "          const docLink = document.createElement('div');\n",
              "          docLink.innerHTML = docLinkHtml;\n",
              "          element.appendChild(docLink);\n",
              "        }\n",
              "      </script>\n",
              "    </div>\n",
              "  </div>\n",
              "  "
            ]
          },
          "metadata": {},
          "execution_count": 14
        }
      ]
    },
    {
      "cell_type": "markdown",
      "source": [
        "- ราคาซื้อ-ขายที่น้อยที่สุดของสินทรัพย์บ้านของคนที่ 2 = 9900000\n",
        "- ราคาซื้อ-ขายที่มากที่สุดของสินทรัพย์บ้านของคนที่ 2 = 17000000"
      ],
      "metadata": {
        "id": "xXmGxNHBfn_2"
      }
    },
    {
      "cell_type": "code",
      "source": [
        "a2['ความมั่นใจในการเมินราคาทรัพย์'].value_counts()"
      ],
      "metadata": {
        "colab": {
          "base_uri": "https://localhost:8080/"
        },
        "id": "mYauXhYNbuVZ",
        "outputId": "d844074a-e8e5-4285-cc73-7de986ed7a57"
      },
      "execution_count": 15,
      "outputs": [
        {
          "output_type": "execute_result",
          "data": {
            "text/plain": [
              "มั่นใจ       89\n",
              "ไม่มั่นใจ     1\n",
              "Name: ความมั่นใจในการเมินราคาทรัพย์, dtype: int64"
            ]
          },
          "metadata": {},
          "execution_count": 15
        }
      ]
    },
    {
      "cell_type": "code",
      "source": [
        "a2['ให้คะแนนทรัพย์'].value_counts()"
      ],
      "metadata": {
        "colab": {
          "base_uri": "https://localhost:8080/"
        },
        "id": "Jjtx8XTHhJU9",
        "outputId": "c86818cc-6aa1-4f55-ee65-43aebd8e9800"
      },
      "execution_count": 16,
      "outputs": [
        {
          "output_type": "execute_result",
          "data": {
            "text/plain": [
              "3 ขายได้ ใช้ระยะเวลา 7 - 12 เดือน     64\n",
              "4 ขายได้ ใช้ระยะเวลา 4 - 6 เดือน      23\n",
              "5 ขายง่าย ใช้ระยะเวลา 1 - 3 เดือน      1\n",
              "2 ขายได้ยาก ใช้ระยะเวลามากว่า 1 ปี     1\n",
              "Name: ให้คะแนนทรัพย์, dtype: int64"
            ]
          },
          "metadata": {},
          "execution_count": 16
        }
      ]
    },
    {
      "cell_type": "markdown",
      "source": [
        "##เปรียบเทียบความแตกต่างในการประเมินราคาทรัพย์(บ้าน)ของนักประเมินแต่ละคนและของราคาตั้งขาย\n"
      ],
      "metadata": {
        "id": "e6jEAGTPjxxL"
      }
    },
    {
      "cell_type": "markdown",
      "source": [
        "![image.png](data:image/png;base64,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)"
      ],
      "metadata": {
        "id": "yaPv8bn-BIGN"
      }
    },
    {
      "cell_type": "code",
      "source": [
        "a2['ประเมิน1'] = a2['post id'].map(a1.set_index('post id')['ประเมินราคาซื้อ-ขาย']);\n",
        "a2.head()"
      ],
      "metadata": {
        "colab": {
          "base_uri": "https://localhost:8080/",
          "height": 719
        },
        "id": "MZ0HNiiKpsDx",
        "outputId": "3e19064d-a4ae-4d8f-e1d7-31db0dab872a"
      },
      "execution_count": 17,
      "outputs": [
        {
          "output_type": "stream",
          "name": "stderr",
          "text": [
            "<ipython-input-17-a52e573bc7b1>:1: SettingWithCopyWarning: \n",
            "A value is trying to be set on a copy of a slice from a DataFrame.\n",
            "Try using .loc[row_indexer,col_indexer] = value instead\n",
            "\n",
            "See the caveats in the documentation: https://pandas.pydata.org/pandas-docs/stable/user_guide/indexing.html#returning-a-view-versus-a-copy\n",
            "  a2['ประเมิน1'] = a2['post id'].map(a1.set_index('post id')['ประเมินราคาซื้อ-ขาย']);\n"
          ]
        },
        {
          "output_type": "execute_result",
          "data": {
            "text/plain": [
              "   ID ผู้ประเมิน                              post id property_type  \\\n",
              "1              2   https://nayoo.co/khonkaen/posts/25    บ้านเดี่ยว   \n",
              "3              2   https://nayoo.co/khonkaen/posts/33    บ้านเดี่ยว   \n",
              "5              2  https://nayoo.co/khonkaen/posts/495    บ้านเดี่ยว   \n",
              "7              2  https://nayoo.co/khonkaen/posts/564    บ้านเดี่ยว   \n",
              "9              2  https://nayoo.co/khonkaen/posts/566    บ้านเดี่ยว   \n",
              "\n",
              "  ความมั่นใจในการเมินราคาทรัพย์  ราคาทรัพย์  ประเมินราคาซื้อ-ขาย  \\\n",
              "1                        มั่นใจ   2700000.0            2700000.0   \n",
              "3                        มั่นใจ   2600000.0            2400000.0   \n",
              "5                        มั่นใจ   5900000.0            9000000.0   \n",
              "7                        มั่นใจ   4400000.0            3700000.0   \n",
              "9                        มั่นใจ   2750000.0            2500000.0   \n",
              "\n",
              "                      ปัจจัยในการประเมินราคาซื้อ-ขาย  \\\n",
              "1  โครงการนี้ราคาเสนอขาย 2,500,000-3,000,000 บาท/...   \n",
              "3   ราคาเสนอขายประมาณ 2,200,000 - 2,500,000 บาท/หลัง   \n",
              "5  โซนนี้ราคาซื้อขาย ประมาณ 10,000-20,000 บาท/ตาร...   \n",
              "7             เสนอขาย 3,500,000 - 4,200,000 บาท/หลัง   \n",
              "9        ราคาเสนอขาย 2,000,0000 - 2,800,000 บาท/หลัง   \n",
              "\n",
              "  เหตุผลไม่มั่นใจราคาประเมิน                     ให้คะแนนทรัพย์  Unnamed: 9  \\\n",
              "1                        NaN   4 ขายได้ ใช้ระยะเวลา 4 - 6 เดือน         NaN   \n",
              "3                        NaN  3 ขายได้ ใช้ระยะเวลา 7 - 12 เดือน         NaN   \n",
              "5                        NaN  5 ขายง่าย ใช้ระยะเวลา 1 - 3 เดือน         NaN   \n",
              "7                        NaN  3 ขายได้ ใช้ระยะเวลา 7 - 12 เดือน         NaN   \n",
              "9                        NaN  3 ขายได้ ใช้ระยะเวลา 7 - 12 เดือน         NaN   \n",
              "\n",
              "   Unnamed: 10  Unnamed: 11  Unnamed: 12  Unnamed: 13   ประเมิน1  \n",
              "1          NaN          NaN          NaN          NaN  2500000.0  \n",
              "3          NaN          NaN          NaN          NaN  2200000.0  \n",
              "5          NaN          NaN          NaN          NaN  5000000.0  \n",
              "7          NaN          NaN          NaN          NaN  3500000.0  \n",
              "9          NaN          NaN          NaN          NaN  2500000.0  "
            ],
            "text/html": [
              "\n",
              "  <div id=\"df-825dff60-d434-4107-9792-69e0de4f129f\">\n",
              "    <div class=\"colab-df-container\">\n",
              "      <div>\n",
              "<style scoped>\n",
              "    .dataframe tbody tr th:only-of-type {\n",
              "        vertical-align: middle;\n",
              "    }\n",
              "\n",
              "    .dataframe tbody tr th {\n",
              "        vertical-align: top;\n",
              "    }\n",
              "\n",
              "    .dataframe thead th {\n",
              "        text-align: right;\n",
              "    }\n",
              "</style>\n",
              "<table border=\"1\" class=\"dataframe\">\n",
              "  <thead>\n",
              "    <tr style=\"text-align: right;\">\n",
              "      <th></th>\n",
              "      <th>ID ผู้ประเมิน</th>\n",
              "      <th>post id</th>\n",
              "      <th>property_type</th>\n",
              "      <th>ความมั่นใจในการเมินราคาทรัพย์</th>\n",
              "      <th>ราคาทรัพย์</th>\n",
              "      <th>ประเมินราคาซื้อ-ขาย</th>\n",
              "      <th>ปัจจัยในการประเมินราคาซื้อ-ขาย</th>\n",
              "      <th>เหตุผลไม่มั่นใจราคาประเมิน</th>\n",
              "      <th>ให้คะแนนทรัพย์</th>\n",
              "      <th>Unnamed: 9</th>\n",
              "      <th>Unnamed: 10</th>\n",
              "      <th>Unnamed: 11</th>\n",
              "      <th>Unnamed: 12</th>\n",
              "      <th>Unnamed: 13</th>\n",
              "      <th>ประเมิน1</th>\n",
              "    </tr>\n",
              "  </thead>\n",
              "  <tbody>\n",
              "    <tr>\n",
              "      <th>1</th>\n",
              "      <td>2</td>\n",
              "      <td>https://nayoo.co/khonkaen/posts/25</td>\n",
              "      <td>บ้านเดี่ยว</td>\n",
              "      <td>มั่นใจ</td>\n",
              "      <td>2700000.0</td>\n",
              "      <td>2700000.0</td>\n",
              "      <td>โครงการนี้ราคาเสนอขาย 2,500,000-3,000,000 บาท/...</td>\n",
              "      <td>NaN</td>\n",
              "      <td>4 ขายได้ ใช้ระยะเวลา 4 - 6 เดือน</td>\n",
              "      <td>NaN</td>\n",
              "      <td>NaN</td>\n",
              "      <td>NaN</td>\n",
              "      <td>NaN</td>\n",
              "      <td>NaN</td>\n",
              "      <td>2500000.0</td>\n",
              "    </tr>\n",
              "    <tr>\n",
              "      <th>3</th>\n",
              "      <td>2</td>\n",
              "      <td>https://nayoo.co/khonkaen/posts/33</td>\n",
              "      <td>บ้านเดี่ยว</td>\n",
              "      <td>มั่นใจ</td>\n",
              "      <td>2600000.0</td>\n",
              "      <td>2400000.0</td>\n",
              "      <td>ราคาเสนอขายประมาณ 2,200,000 - 2,500,000 บาท/หลัง</td>\n",
              "      <td>NaN</td>\n",
              "      <td>3 ขายได้ ใช้ระยะเวลา 7 - 12 เดือน</td>\n",
              "      <td>NaN</td>\n",
              "      <td>NaN</td>\n",
              "      <td>NaN</td>\n",
              "      <td>NaN</td>\n",
              "      <td>NaN</td>\n",
              "      <td>2200000.0</td>\n",
              "    </tr>\n",
              "    <tr>\n",
              "      <th>5</th>\n",
              "      <td>2</td>\n",
              "      <td>https://nayoo.co/khonkaen/posts/495</td>\n",
              "      <td>บ้านเดี่ยว</td>\n",
              "      <td>มั่นใจ</td>\n",
              "      <td>5900000.0</td>\n",
              "      <td>9000000.0</td>\n",
              "      <td>โซนนี้ราคาซื้อขาย ประมาณ 10,000-20,000 บาท/ตาร...</td>\n",
              "      <td>NaN</td>\n",
              "      <td>5 ขายง่าย ใช้ระยะเวลา 1 - 3 เดือน</td>\n",
              "      <td>NaN</td>\n",
              "      <td>NaN</td>\n",
              "      <td>NaN</td>\n",
              "      <td>NaN</td>\n",
              "      <td>NaN</td>\n",
              "      <td>5000000.0</td>\n",
              "    </tr>\n",
              "    <tr>\n",
              "      <th>7</th>\n",
              "      <td>2</td>\n",
              "      <td>https://nayoo.co/khonkaen/posts/564</td>\n",
              "      <td>บ้านเดี่ยว</td>\n",
              "      <td>มั่นใจ</td>\n",
              "      <td>4400000.0</td>\n",
              "      <td>3700000.0</td>\n",
              "      <td>เสนอขาย 3,500,000 - 4,200,000 บาท/หลัง</td>\n",
              "      <td>NaN</td>\n",
              "      <td>3 ขายได้ ใช้ระยะเวลา 7 - 12 เดือน</td>\n",
              "      <td>NaN</td>\n",
              "      <td>NaN</td>\n",
              "      <td>NaN</td>\n",
              "      <td>NaN</td>\n",
              "      <td>NaN</td>\n",
              "      <td>3500000.0</td>\n",
              "    </tr>\n",
              "    <tr>\n",
              "      <th>9</th>\n",
              "      <td>2</td>\n",
              "      <td>https://nayoo.co/khonkaen/posts/566</td>\n",
              "      <td>บ้านเดี่ยว</td>\n",
              "      <td>มั่นใจ</td>\n",
              "      <td>2750000.0</td>\n",
              "      <td>2500000.0</td>\n",
              "      <td>ราคาเสนอขาย 2,000,0000 - 2,800,000 บาท/หลัง</td>\n",
              "      <td>NaN</td>\n",
              "      <td>3 ขายได้ ใช้ระยะเวลา 7 - 12 เดือน</td>\n",
              "      <td>NaN</td>\n",
              "      <td>NaN</td>\n",
              "      <td>NaN</td>\n",
              "      <td>NaN</td>\n",
              "      <td>NaN</td>\n",
              "      <td>2500000.0</td>\n",
              "    </tr>\n",
              "  </tbody>\n",
              "</table>\n",
              "</div>\n",
              "      <button class=\"colab-df-convert\" onclick=\"convertToInteractive('df-825dff60-d434-4107-9792-69e0de4f129f')\"\n",
              "              title=\"Convert this dataframe to an interactive table.\"\n",
              "              style=\"display:none;\">\n",
              "        \n",
              "  <svg xmlns=\"http://www.w3.org/2000/svg\" height=\"24px\"viewBox=\"0 0 24 24\"\n",
              "       width=\"24px\">\n",
              "    <path d=\"M0 0h24v24H0V0z\" fill=\"none\"/>\n",
              "    <path d=\"M18.56 5.44l.94 2.06.94-2.06 2.06-.94-2.06-.94-.94-2.06-.94 2.06-2.06.94zm-11 1L8.5 8.5l.94-2.06 2.06-.94-2.06-.94L8.5 2.5l-.94 2.06-2.06.94zm10 10l.94 2.06.94-2.06 2.06-.94-2.06-.94-.94-2.06-.94 2.06-2.06.94z\"/><path d=\"M17.41 7.96l-1.37-1.37c-.4-.4-.92-.59-1.43-.59-.52 0-1.04.2-1.43.59L10.3 9.45l-7.72 7.72c-.78.78-.78 2.05 0 2.83L4 21.41c.39.39.9.59 1.41.59.51 0 1.02-.2 1.41-.59l7.78-7.78 2.81-2.81c.8-.78.8-2.07 0-2.86zM5.41 20L4 18.59l7.72-7.72 1.47 1.35L5.41 20z\"/>\n",
              "  </svg>\n",
              "      </button>\n",
              "      \n",
              "  <style>\n",
              "    .colab-df-container {\n",
              "      display:flex;\n",
              "      flex-wrap:wrap;\n",
              "      gap: 12px;\n",
              "    }\n",
              "\n",
              "    .colab-df-convert {\n",
              "      background-color: #E8F0FE;\n",
              "      border: none;\n",
              "      border-radius: 50%;\n",
              "      cursor: pointer;\n",
              "      display: none;\n",
              "      fill: #1967D2;\n",
              "      height: 32px;\n",
              "      padding: 0 0 0 0;\n",
              "      width: 32px;\n",
              "    }\n",
              "\n",
              "    .colab-df-convert:hover {\n",
              "      background-color: #E2EBFA;\n",
              "      box-shadow: 0px 1px 2px rgba(60, 64, 67, 0.3), 0px 1px 3px 1px rgba(60, 64, 67, 0.15);\n",
              "      fill: #174EA6;\n",
              "    }\n",
              "\n",
              "    [theme=dark] .colab-df-convert {\n",
              "      background-color: #3B4455;\n",
              "      fill: #D2E3FC;\n",
              "    }\n",
              "\n",
              "    [theme=dark] .colab-df-convert:hover {\n",
              "      background-color: #434B5C;\n",
              "      box-shadow: 0px 1px 3px 1px rgba(0, 0, 0, 0.15);\n",
              "      filter: drop-shadow(0px 1px 2px rgba(0, 0, 0, 0.3));\n",
              "      fill: #FFFFFF;\n",
              "    }\n",
              "  </style>\n",
              "\n",
              "      <script>\n",
              "        const buttonEl =\n",
              "          document.querySelector('#df-825dff60-d434-4107-9792-69e0de4f129f button.colab-df-convert');\n",
              "        buttonEl.style.display =\n",
              "          google.colab.kernel.accessAllowed ? 'block' : 'none';\n",
              "\n",
              "        async function convertToInteractive(key) {\n",
              "          const element = document.querySelector('#df-825dff60-d434-4107-9792-69e0de4f129f');\n",
              "          const dataTable =\n",
              "            await google.colab.kernel.invokeFunction('convertToInteractive',\n",
              "                                                     [key], {});\n",
              "          if (!dataTable) return;\n",
              "\n",
              "          const docLinkHtml = 'Like what you see? Visit the ' +\n",
              "            '<a target=\"_blank\" href=https://colab.research.google.com/notebooks/data_table.ipynb>data table notebook</a>'\n",
              "            + ' to learn more about interactive tables.';\n",
              "          element.innerHTML = '';\n",
              "          dataTable['output_type'] = 'display_data';\n",
              "          await google.colab.output.renderOutput(dataTable, element);\n",
              "          const docLink = document.createElement('div');\n",
              "          docLink.innerHTML = docLinkHtml;\n",
              "          element.appendChild(docLink);\n",
              "        }\n",
              "      </script>\n",
              "    </div>\n",
              "  </div>\n",
              "  "
            ]
          },
          "metadata": {},
          "execution_count": 17
        }
      ]
    },
    {
      "cell_type": "markdown",
      "source": [
        "###rename column"
      ],
      "metadata": {
        "id": "g-72g-yHB9vc"
      }
    },
    {
      "cell_type": "code",
      "source": [
        "a2.rename(columns = {'ประเมินราคาซื้อ-ขาย' : 'ประเมิน2'}, inplace = True)"
      ],
      "metadata": {
        "id": "S8gECzeGBwl_",
        "colab": {
          "base_uri": "https://localhost:8080/"
        },
        "outputId": "8770aff3-14d7-4df8-f1b1-00d5610a9d59"
      },
      "execution_count": 18,
      "outputs": [
        {
          "output_type": "stream",
          "name": "stderr",
          "text": [
            "/usr/local/lib/python3.8/dist-packages/pandas/core/frame.py:5039: SettingWithCopyWarning: \n",
            "A value is trying to be set on a copy of a slice from a DataFrame\n",
            "\n",
            "See the caveats in the documentation: https://pandas.pydata.org/pandas-docs/stable/user_guide/indexing.html#returning-a-view-versus-a-copy\n",
            "  return super().rename(\n"
          ]
        }
      ]
    },
    {
      "cell_type": "markdown",
      "source": [
        "### select columns"
      ],
      "metadata": {
        "id": "bDozj1e9HyIP"
      }
    },
    {
      "cell_type": "code",
      "source": [
        "home = a2[['post id', 'ราคาทรัพย์', 'ประเมิน1', 'ประเมิน2']]\n",
        "home"
      ],
      "metadata": {
        "id": "tafFhYUtoRtQ",
        "colab": {
          "base_uri": "https://localhost:8080/",
          "height": 424
        },
        "outputId": "4b7fc579-5027-4357-a653-182ff81d6299"
      },
      "execution_count": 19,
      "outputs": [
        {
          "output_type": "execute_result",
          "data": {
            "text/plain": [
              "                                   post id  ราคาทรัพย์   ประเมิน1   ประเมิน2\n",
              "1       https://nayoo.co/khonkaen/posts/25   2700000.0  2500000.0  2700000.0\n",
              "3       https://nayoo.co/khonkaen/posts/33   2600000.0  2200000.0  2400000.0\n",
              "5      https://nayoo.co/khonkaen/posts/495   5900000.0  5000000.0  9000000.0\n",
              "7      https://nayoo.co/khonkaen/posts/564   4400000.0  3500000.0  3700000.0\n",
              "9      https://nayoo.co/khonkaen/posts/566   2750000.0  2500000.0  2500000.0\n",
              "..                                     ...         ...        ...        ...\n",
              "185  https://nayoo.co/khonkaen/posts/19495   5500000.0  4500000.0  5000000.0\n",
              "186  https://nayoo.co/khonkaen/posts/19496   7911000.0  5200000.0  7400000.0\n",
              "187     https://nayoo.co/khonkaen/posts/20   2000000.0  3600000.0  2500000.0\n",
              "188     https://nayoo.co/khonkaen/posts/31   4000000.0  4000000.0  3900000.0\n",
              "189    https://nayoo.co/khonkaen/posts/570   1375000.0  1200000.0  1400000.0\n",
              "\n",
              "[90 rows x 4 columns]"
            ],
            "text/html": [
              "\n",
              "  <div id=\"df-39b43fd8-2dd4-4c2f-acb5-d3a5a94f4320\">\n",
              "    <div class=\"colab-df-container\">\n",
              "      <div>\n",
              "<style scoped>\n",
              "    .dataframe tbody tr th:only-of-type {\n",
              "        vertical-align: middle;\n",
              "    }\n",
              "\n",
              "    .dataframe tbody tr th {\n",
              "        vertical-align: top;\n",
              "    }\n",
              "\n",
              "    .dataframe thead th {\n",
              "        text-align: right;\n",
              "    }\n",
              "</style>\n",
              "<table border=\"1\" class=\"dataframe\">\n",
              "  <thead>\n",
              "    <tr style=\"text-align: right;\">\n",
              "      <th></th>\n",
              "      <th>post id</th>\n",
              "      <th>ราคาทรัพย์</th>\n",
              "      <th>ประเมิน1</th>\n",
              "      <th>ประเมิน2</th>\n",
              "    </tr>\n",
              "  </thead>\n",
              "  <tbody>\n",
              "    <tr>\n",
              "      <th>1</th>\n",
              "      <td>https://nayoo.co/khonkaen/posts/25</td>\n",
              "      <td>2700000.0</td>\n",
              "      <td>2500000.0</td>\n",
              "      <td>2700000.0</td>\n",
              "    </tr>\n",
              "    <tr>\n",
              "      <th>3</th>\n",
              "      <td>https://nayoo.co/khonkaen/posts/33</td>\n",
              "      <td>2600000.0</td>\n",
              "      <td>2200000.0</td>\n",
              "      <td>2400000.0</td>\n",
              "    </tr>\n",
              "    <tr>\n",
              "      <th>5</th>\n",
              "      <td>https://nayoo.co/khonkaen/posts/495</td>\n",
              "      <td>5900000.0</td>\n",
              "      <td>5000000.0</td>\n",
              "      <td>9000000.0</td>\n",
              "    </tr>\n",
              "    <tr>\n",
              "      <th>7</th>\n",
              "      <td>https://nayoo.co/khonkaen/posts/564</td>\n",
              "      <td>4400000.0</td>\n",
              "      <td>3500000.0</td>\n",
              "      <td>3700000.0</td>\n",
              "    </tr>\n",
              "    <tr>\n",
              "      <th>9</th>\n",
              "      <td>https://nayoo.co/khonkaen/posts/566</td>\n",
              "      <td>2750000.0</td>\n",
              "      <td>2500000.0</td>\n",
              "      <td>2500000.0</td>\n",
              "    </tr>\n",
              "    <tr>\n",
              "      <th>...</th>\n",
              "      <td>...</td>\n",
              "      <td>...</td>\n",
              "      <td>...</td>\n",
              "      <td>...</td>\n",
              "    </tr>\n",
              "    <tr>\n",
              "      <th>185</th>\n",
              "      <td>https://nayoo.co/khonkaen/posts/19495</td>\n",
              "      <td>5500000.0</td>\n",
              "      <td>4500000.0</td>\n",
              "      <td>5000000.0</td>\n",
              "    </tr>\n",
              "    <tr>\n",
              "      <th>186</th>\n",
              "      <td>https://nayoo.co/khonkaen/posts/19496</td>\n",
              "      <td>7911000.0</td>\n",
              "      <td>5200000.0</td>\n",
              "      <td>7400000.0</td>\n",
              "    </tr>\n",
              "    <tr>\n",
              "      <th>187</th>\n",
              "      <td>https://nayoo.co/khonkaen/posts/20</td>\n",
              "      <td>2000000.0</td>\n",
              "      <td>3600000.0</td>\n",
              "      <td>2500000.0</td>\n",
              "    </tr>\n",
              "    <tr>\n",
              "      <th>188</th>\n",
              "      <td>https://nayoo.co/khonkaen/posts/31</td>\n",
              "      <td>4000000.0</td>\n",
              "      <td>4000000.0</td>\n",
              "      <td>3900000.0</td>\n",
              "    </tr>\n",
              "    <tr>\n",
              "      <th>189</th>\n",
              "      <td>https://nayoo.co/khonkaen/posts/570</td>\n",
              "      <td>1375000.0</td>\n",
              "      <td>1200000.0</td>\n",
              "      <td>1400000.0</td>\n",
              "    </tr>\n",
              "  </tbody>\n",
              "</table>\n",
              "<p>90 rows × 4 columns</p>\n",
              "</div>\n",
              "      <button class=\"colab-df-convert\" onclick=\"convertToInteractive('df-39b43fd8-2dd4-4c2f-acb5-d3a5a94f4320')\"\n",
              "              title=\"Convert this dataframe to an interactive table.\"\n",
              "              style=\"display:none;\">\n",
              "        \n",
              "  <svg xmlns=\"http://www.w3.org/2000/svg\" height=\"24px\"viewBox=\"0 0 24 24\"\n",
              "       width=\"24px\">\n",
              "    <path d=\"M0 0h24v24H0V0z\" fill=\"none\"/>\n",
              "    <path d=\"M18.56 5.44l.94 2.06.94-2.06 2.06-.94-2.06-.94-.94-2.06-.94 2.06-2.06.94zm-11 1L8.5 8.5l.94-2.06 2.06-.94-2.06-.94L8.5 2.5l-.94 2.06-2.06.94zm10 10l.94 2.06.94-2.06 2.06-.94-2.06-.94-.94-2.06-.94 2.06-2.06.94z\"/><path d=\"M17.41 7.96l-1.37-1.37c-.4-.4-.92-.59-1.43-.59-.52 0-1.04.2-1.43.59L10.3 9.45l-7.72 7.72c-.78.78-.78 2.05 0 2.83L4 21.41c.39.39.9.59 1.41.59.51 0 1.02-.2 1.41-.59l7.78-7.78 2.81-2.81c.8-.78.8-2.07 0-2.86zM5.41 20L4 18.59l7.72-7.72 1.47 1.35L5.41 20z\"/>\n",
              "  </svg>\n",
              "      </button>\n",
              "      \n",
              "  <style>\n",
              "    .colab-df-container {\n",
              "      display:flex;\n",
              "      flex-wrap:wrap;\n",
              "      gap: 12px;\n",
              "    }\n",
              "\n",
              "    .colab-df-convert {\n",
              "      background-color: #E8F0FE;\n",
              "      border: none;\n",
              "      border-radius: 50%;\n",
              "      cursor: pointer;\n",
              "      display: none;\n",
              "      fill: #1967D2;\n",
              "      height: 32px;\n",
              "      padding: 0 0 0 0;\n",
              "      width: 32px;\n",
              "    }\n",
              "\n",
              "    .colab-df-convert:hover {\n",
              "      background-color: #E2EBFA;\n",
              "      box-shadow: 0px 1px 2px rgba(60, 64, 67, 0.3), 0px 1px 3px 1px rgba(60, 64, 67, 0.15);\n",
              "      fill: #174EA6;\n",
              "    }\n",
              "\n",
              "    [theme=dark] .colab-df-convert {\n",
              "      background-color: #3B4455;\n",
              "      fill: #D2E3FC;\n",
              "    }\n",
              "\n",
              "    [theme=dark] .colab-df-convert:hover {\n",
              "      background-color: #434B5C;\n",
              "      box-shadow: 0px 1px 3px 1px rgba(0, 0, 0, 0.15);\n",
              "      filter: drop-shadow(0px 1px 2px rgba(0, 0, 0, 0.3));\n",
              "      fill: #FFFFFF;\n",
              "    }\n",
              "  </style>\n",
              "\n",
              "      <script>\n",
              "        const buttonEl =\n",
              "          document.querySelector('#df-39b43fd8-2dd4-4c2f-acb5-d3a5a94f4320 button.colab-df-convert');\n",
              "        buttonEl.style.display =\n",
              "          google.colab.kernel.accessAllowed ? 'block' : 'none';\n",
              "\n",
              "        async function convertToInteractive(key) {\n",
              "          const element = document.querySelector('#df-39b43fd8-2dd4-4c2f-acb5-d3a5a94f4320');\n",
              "          const dataTable =\n",
              "            await google.colab.kernel.invokeFunction('convertToInteractive',\n",
              "                                                     [key], {});\n",
              "          if (!dataTable) return;\n",
              "\n",
              "          const docLinkHtml = 'Like what you see? Visit the ' +\n",
              "            '<a target=\"_blank\" href=https://colab.research.google.com/notebooks/data_table.ipynb>data table notebook</a>'\n",
              "            + ' to learn more about interactive tables.';\n",
              "          element.innerHTML = '';\n",
              "          dataTable['output_type'] = 'display_data';\n",
              "          await google.colab.output.renderOutput(dataTable, element);\n",
              "          const docLink = document.createElement('div');\n",
              "          docLink.innerHTML = docLinkHtml;\n",
              "          element.appendChild(docLink);\n",
              "        }\n",
              "      </script>\n",
              "    </div>\n",
              "  </div>\n",
              "  "
            ]
          },
          "metadata": {},
          "execution_count": 19
        }
      ]
    },
    {
      "cell_type": "markdown",
      "source": [
        "####Drop NaN"
      ],
      "metadata": {
        "id": "26xF7PCKFK1j"
      }
    },
    {
      "cell_type": "code",
      "source": [
        "home.isnull().any()"
      ],
      "metadata": {
        "colab": {
          "base_uri": "https://localhost:8080/"
        },
        "id": "Oej0UUzzj4JW",
        "outputId": "ef96ac40-d1bd-412e-8222-893b0e12a715"
      },
      "execution_count": 20,
      "outputs": [
        {
          "output_type": "execute_result",
          "data": {
            "text/plain": [
              "post id       False\n",
              "ราคาทรัพย์    False\n",
              "ประเมิน1      False\n",
              "ประเมิน2       True\n",
              "dtype: bool"
            ]
          },
          "metadata": {},
          "execution_count": 20
        }
      ]
    },
    {
      "cell_type": "code",
      "source": [
        "home = home.dropna()\n",
        "home"
      ],
      "metadata": {
        "colab": {
          "base_uri": "https://localhost:8080/",
          "height": 424
        },
        "id": "ONa_iAtVFVGw",
        "outputId": "ae2f0343-e62b-4967-8505-bba31179b51f"
      },
      "execution_count": 21,
      "outputs": [
        {
          "output_type": "execute_result",
          "data": {
            "text/plain": [
              "                                   post id  ราคาทรัพย์   ประเมิน1   ประเมิน2\n",
              "1       https://nayoo.co/khonkaen/posts/25   2700000.0  2500000.0  2700000.0\n",
              "3       https://nayoo.co/khonkaen/posts/33   2600000.0  2200000.0  2400000.0\n",
              "5      https://nayoo.co/khonkaen/posts/495   5900000.0  5000000.0  9000000.0\n",
              "7      https://nayoo.co/khonkaen/posts/564   4400000.0  3500000.0  3700000.0\n",
              "9      https://nayoo.co/khonkaen/posts/566   2750000.0  2500000.0  2500000.0\n",
              "..                                     ...         ...        ...        ...\n",
              "185  https://nayoo.co/khonkaen/posts/19495   5500000.0  4500000.0  5000000.0\n",
              "186  https://nayoo.co/khonkaen/posts/19496   7911000.0  5200000.0  7400000.0\n",
              "187     https://nayoo.co/khonkaen/posts/20   2000000.0  3600000.0  2500000.0\n",
              "188     https://nayoo.co/khonkaen/posts/31   4000000.0  4000000.0  3900000.0\n",
              "189    https://nayoo.co/khonkaen/posts/570   1375000.0  1200000.0  1400000.0\n",
              "\n",
              "[89 rows x 4 columns]"
            ],
            "text/html": [
              "\n",
              "  <div id=\"df-0df0634c-94dd-4f84-a656-0b04b7c4e28a\">\n",
              "    <div class=\"colab-df-container\">\n",
              "      <div>\n",
              "<style scoped>\n",
              "    .dataframe tbody tr th:only-of-type {\n",
              "        vertical-align: middle;\n",
              "    }\n",
              "\n",
              "    .dataframe tbody tr th {\n",
              "        vertical-align: top;\n",
              "    }\n",
              "\n",
              "    .dataframe thead th {\n",
              "        text-align: right;\n",
              "    }\n",
              "</style>\n",
              "<table border=\"1\" class=\"dataframe\">\n",
              "  <thead>\n",
              "    <tr style=\"text-align: right;\">\n",
              "      <th></th>\n",
              "      <th>post id</th>\n",
              "      <th>ราคาทรัพย์</th>\n",
              "      <th>ประเมิน1</th>\n",
              "      <th>ประเมิน2</th>\n",
              "    </tr>\n",
              "  </thead>\n",
              "  <tbody>\n",
              "    <tr>\n",
              "      <th>1</th>\n",
              "      <td>https://nayoo.co/khonkaen/posts/25</td>\n",
              "      <td>2700000.0</td>\n",
              "      <td>2500000.0</td>\n",
              "      <td>2700000.0</td>\n",
              "    </tr>\n",
              "    <tr>\n",
              "      <th>3</th>\n",
              "      <td>https://nayoo.co/khonkaen/posts/33</td>\n",
              "      <td>2600000.0</td>\n",
              "      <td>2200000.0</td>\n",
              "      <td>2400000.0</td>\n",
              "    </tr>\n",
              "    <tr>\n",
              "      <th>5</th>\n",
              "      <td>https://nayoo.co/khonkaen/posts/495</td>\n",
              "      <td>5900000.0</td>\n",
              "      <td>5000000.0</td>\n",
              "      <td>9000000.0</td>\n",
              "    </tr>\n",
              "    <tr>\n",
              "      <th>7</th>\n",
              "      <td>https://nayoo.co/khonkaen/posts/564</td>\n",
              "      <td>4400000.0</td>\n",
              "      <td>3500000.0</td>\n",
              "      <td>3700000.0</td>\n",
              "    </tr>\n",
              "    <tr>\n",
              "      <th>9</th>\n",
              "      <td>https://nayoo.co/khonkaen/posts/566</td>\n",
              "      <td>2750000.0</td>\n",
              "      <td>2500000.0</td>\n",
              "      <td>2500000.0</td>\n",
              "    </tr>\n",
              "    <tr>\n",
              "      <th>...</th>\n",
              "      <td>...</td>\n",
              "      <td>...</td>\n",
              "      <td>...</td>\n",
              "      <td>...</td>\n",
              "    </tr>\n",
              "    <tr>\n",
              "      <th>185</th>\n",
              "      <td>https://nayoo.co/khonkaen/posts/19495</td>\n",
              "      <td>5500000.0</td>\n",
              "      <td>4500000.0</td>\n",
              "      <td>5000000.0</td>\n",
              "    </tr>\n",
              "    <tr>\n",
              "      <th>186</th>\n",
              "      <td>https://nayoo.co/khonkaen/posts/19496</td>\n",
              "      <td>7911000.0</td>\n",
              "      <td>5200000.0</td>\n",
              "      <td>7400000.0</td>\n",
              "    </tr>\n",
              "    <tr>\n",
              "      <th>187</th>\n",
              "      <td>https://nayoo.co/khonkaen/posts/20</td>\n",
              "      <td>2000000.0</td>\n",
              "      <td>3600000.0</td>\n",
              "      <td>2500000.0</td>\n",
              "    </tr>\n",
              "    <tr>\n",
              "      <th>188</th>\n",
              "      <td>https://nayoo.co/khonkaen/posts/31</td>\n",
              "      <td>4000000.0</td>\n",
              "      <td>4000000.0</td>\n",
              "      <td>3900000.0</td>\n",
              "    </tr>\n",
              "    <tr>\n",
              "      <th>189</th>\n",
              "      <td>https://nayoo.co/khonkaen/posts/570</td>\n",
              "      <td>1375000.0</td>\n",
              "      <td>1200000.0</td>\n",
              "      <td>1400000.0</td>\n",
              "    </tr>\n",
              "  </tbody>\n",
              "</table>\n",
              "<p>89 rows × 4 columns</p>\n",
              "</div>\n",
              "      <button class=\"colab-df-convert\" onclick=\"convertToInteractive('df-0df0634c-94dd-4f84-a656-0b04b7c4e28a')\"\n",
              "              title=\"Convert this dataframe to an interactive table.\"\n",
              "              style=\"display:none;\">\n",
              "        \n",
              "  <svg xmlns=\"http://www.w3.org/2000/svg\" height=\"24px\"viewBox=\"0 0 24 24\"\n",
              "       width=\"24px\">\n",
              "    <path d=\"M0 0h24v24H0V0z\" fill=\"none\"/>\n",
              "    <path d=\"M18.56 5.44l.94 2.06.94-2.06 2.06-.94-2.06-.94-.94-2.06-.94 2.06-2.06.94zm-11 1L8.5 8.5l.94-2.06 2.06-.94-2.06-.94L8.5 2.5l-.94 2.06-2.06.94zm10 10l.94 2.06.94-2.06 2.06-.94-2.06-.94-.94-2.06-.94 2.06-2.06.94z\"/><path d=\"M17.41 7.96l-1.37-1.37c-.4-.4-.92-.59-1.43-.59-.52 0-1.04.2-1.43.59L10.3 9.45l-7.72 7.72c-.78.78-.78 2.05 0 2.83L4 21.41c.39.39.9.59 1.41.59.51 0 1.02-.2 1.41-.59l7.78-7.78 2.81-2.81c.8-.78.8-2.07 0-2.86zM5.41 20L4 18.59l7.72-7.72 1.47 1.35L5.41 20z\"/>\n",
              "  </svg>\n",
              "      </button>\n",
              "      \n",
              "  <style>\n",
              "    .colab-df-container {\n",
              "      display:flex;\n",
              "      flex-wrap:wrap;\n",
              "      gap: 12px;\n",
              "    }\n",
              "\n",
              "    .colab-df-convert {\n",
              "      background-color: #E8F0FE;\n",
              "      border: none;\n",
              "      border-radius: 50%;\n",
              "      cursor: pointer;\n",
              "      display: none;\n",
              "      fill: #1967D2;\n",
              "      height: 32px;\n",
              "      padding: 0 0 0 0;\n",
              "      width: 32px;\n",
              "    }\n",
              "\n",
              "    .colab-df-convert:hover {\n",
              "      background-color: #E2EBFA;\n",
              "      box-shadow: 0px 1px 2px rgba(60, 64, 67, 0.3), 0px 1px 3px 1px rgba(60, 64, 67, 0.15);\n",
              "      fill: #174EA6;\n",
              "    }\n",
              "\n",
              "    [theme=dark] .colab-df-convert {\n",
              "      background-color: #3B4455;\n",
              "      fill: #D2E3FC;\n",
              "    }\n",
              "\n",
              "    [theme=dark] .colab-df-convert:hover {\n",
              "      background-color: #434B5C;\n",
              "      box-shadow: 0px 1px 3px 1px rgba(0, 0, 0, 0.15);\n",
              "      filter: drop-shadow(0px 1px 2px rgba(0, 0, 0, 0.3));\n",
              "      fill: #FFFFFF;\n",
              "    }\n",
              "  </style>\n",
              "\n",
              "      <script>\n",
              "        const buttonEl =\n",
              "          document.querySelector('#df-0df0634c-94dd-4f84-a656-0b04b7c4e28a button.colab-df-convert');\n",
              "        buttonEl.style.display =\n",
              "          google.colab.kernel.accessAllowed ? 'block' : 'none';\n",
              "\n",
              "        async function convertToInteractive(key) {\n",
              "          const element = document.querySelector('#df-0df0634c-94dd-4f84-a656-0b04b7c4e28a');\n",
              "          const dataTable =\n",
              "            await google.colab.kernel.invokeFunction('convertToInteractive',\n",
              "                                                     [key], {});\n",
              "          if (!dataTable) return;\n",
              "\n",
              "          const docLinkHtml = 'Like what you see? Visit the ' +\n",
              "            '<a target=\"_blank\" href=https://colab.research.google.com/notebooks/data_table.ipynb>data table notebook</a>'\n",
              "            + ' to learn more about interactive tables.';\n",
              "          element.innerHTML = '';\n",
              "          dataTable['output_type'] = 'display_data';\n",
              "          await google.colab.output.renderOutput(dataTable, element);\n",
              "          const docLink = document.createElement('div');\n",
              "          docLink.innerHTML = docLinkHtml;\n",
              "          element.appendChild(docLink);\n",
              "        }\n",
              "      </script>\n",
              "    </div>\n",
              "  </div>\n",
              "  "
            ]
          },
          "metadata": {},
          "execution_count": 21
        }
      ]
    },
    {
      "cell_type": "code",
      "source": [
        "home.isnull().any()"
      ],
      "metadata": {
        "colab": {
          "base_uri": "https://localhost:8080/"
        },
        "id": "7kLb0_SfF4xi",
        "outputId": "bbeb7ff1-2b57-47b8-882b-dbe5eeea2173"
      },
      "execution_count": 22,
      "outputs": [
        {
          "output_type": "execute_result",
          "data": {
            "text/plain": [
              "post id       False\n",
              "ราคาทรัพย์    False\n",
              "ประเมิน1      False\n",
              "ประเมิน2      False\n",
              "dtype: bool"
            ]
          },
          "metadata": {},
          "execution_count": 22
        }
      ]
    },
    {
      "cell_type": "markdown",
      "source": [
        "##MAPE ราคาทรัพย์เป็นหลัก เทียบ ผู้ประเมิน"
      ],
      "metadata": {
        "id": "pFPLFkKVKzSD"
      }
    },
    {
      "cell_type": "markdown",
      "source": [
        "หา mean absolute percentage error \n",
        "- โดยราคาทรัพย์เป็นหลัก เทียบกับผู้ประเมินคนที่ 1 มีค่า MAPE เท่ากับ 12.321512246130807\n",
        "- โดยราคาทรัพย์เป็นหลัก เทียบกับผู้ประเมินคนที่ 2 มีค่า MAPE เท่ากับ 10.417687099245775\n",
        "* หมายความว่า ผู้ประเมินคนที่ 2 สามารถประเมินราคาทรัพย์(บ้าน)ได้ใกล้เคียงกว่าคนที่1"
      ],
      "metadata": {
        "id": "xLzG47BLrR_F"
      }
    },
    {
      "cell_type": "code",
      "source": [
        "actual = home['ราคาทรัพย์']\n",
        "pred1 = home['ประเมิน1']\n",
        "pred2 = home['ประเมิน2']"
      ],
      "metadata": {
        "id": "Aca3_BGRI6Jh"
      },
      "execution_count": 23,
      "outputs": []
    },
    {
      "cell_type": "code",
      "source": [
        "import numpy as np\n",
        "\n",
        "def mape(actual, pred1): \n",
        "    actual, pred1 = np.array(actual), np.array(pred1)\n",
        "    return np.mean(np.abs((actual - pred1) / actual)) * 100\n",
        "mape(actual, pred1)"
      ],
      "metadata": {
        "colab": {
          "base_uri": "https://localhost:8080/"
        },
        "id": "izNwgAbuJX9s",
        "outputId": "0ea4b1e6-1f0a-441c-c503-93b42e2fb92b"
      },
      "execution_count": 24,
      "outputs": [
        {
          "output_type": "execute_result",
          "data": {
            "text/plain": [
              "12.321512246130807"
            ]
          },
          "metadata": {},
          "execution_count": 24
        }
      ]
    },
    {
      "cell_type": "code",
      "source": [
        "import numpy as np\n",
        "\n",
        "def mape(actual, pred2): \n",
        "    actual, pred2 = np.array(actual), np.array(pred2)\n",
        "    return np.mean(np.abs((actual - pred2) / actual)) * 100\n",
        "mape(actual, pred2)"
      ],
      "metadata": {
        "colab": {
          "base_uri": "https://localhost:8080/"
        },
        "id": "x7ccV9lhJ_Vd",
        "outputId": "cbf9a248-e761-4863-e251-216545619de2"
      },
      "execution_count": 25,
      "outputs": [
        {
          "output_type": "execute_result",
          "data": {
            "text/plain": [
              "10.417687099245775"
            ]
          },
          "metadata": {},
          "execution_count": 25
        }
      ]
    },
    {
      "cell_type": "markdown",
      "source": [
        "##MAPE ผู้ประเมินเป็นหลัก เทียบ ราคาทรัพย์\n",
        "\n",
        "- โดยผู้ประเมินคนที่ 1 เป็นหลัก เทียบกับราคาทรัพย์มีค่า MAPE เท่ากับ 13.055527046371376\n",
        "- โดยผู้ประเมินคนที่ 2 เป็นหลัก เทียบกับราคาทรัพย์มีค่า MAPE เท่ากับ 8.521474003880796"
      ],
      "metadata": {
        "id": "QPeLS5t4pxJ1"
      }
    },
    {
      "cell_type": "code",
      "source": [
        "from sklearn.metrics import mean_absolute_percentage_error\n",
        "y_true = home['ประเมิน1']\n",
        "y_pred = home['ราคาทรัพย์']\n",
        "mean_absolute_percentage_error(y_true, y_pred) * 100"
      ],
      "metadata": {
        "id": "0V7NqeCunWhP",
        "outputId": "b7701d31-e0bc-4729-e178-a5d7e016efa2",
        "colab": {
          "base_uri": "https://localhost:8080/"
        }
      },
      "execution_count": 26,
      "outputs": [
        {
          "output_type": "execute_result",
          "data": {
            "text/plain": [
              "13.055527046371376"
            ]
          },
          "metadata": {},
          "execution_count": 26
        }
      ]
    },
    {
      "cell_type": "code",
      "source": [
        "from sklearn.metrics import mean_absolute_percentage_error\n",
        "y_true = home['ประเมิน2']\n",
        "y_pred = home['ราคาทรัพย์']\n",
        "mean_absolute_percentage_error(y_true, y_pred) * 100"
      ],
      "metadata": {
        "id": "Uj6npYkKqO2Q",
        "outputId": "89c53d3d-a46e-4bc6-da8d-179b4db4e665",
        "colab": {
          "base_uri": "https://localhost:8080/"
        }
      },
      "execution_count": 27,
      "outputs": [
        {
          "output_type": "execute_result",
          "data": {
            "text/plain": [
              "8.521474003880796"
            ]
          },
          "metadata": {},
          "execution_count": 27
        }
      ]
    },
    {
      "cell_type": "markdown",
      "source": [
        "##MAPE ผู้ประเมินเทียบผู้ประเมิน"
      ],
      "metadata": {
        "id": "U3tpBMGsqgKY"
      }
    },
    {
      "cell_type": "markdown",
      "source": [
        "หา mean absolute percentage error\n",
        "\n",
        "- โดยผู้ประเมินคนที่ 1 เทียบกับผู้ประเมินคนที่ 2 มีค่า MAPE เท่ากับ 13.626068116793128\n",
        "- โดยผู้ประเมินคนที่ 2 เทียบกับผู้ประเมินคนที่ 1 มีค่า MAPE เท่ากับ 11.582834887783596"
      ],
      "metadata": {
        "id": "KTqtzqMVLRN2"
      }
    },
    {
      "cell_type": "code",
      "source": [
        "import numpy as np\n",
        "\n",
        "def mape(pred1, pred2): \n",
        "    pred1, pred2 = np.array(pred1), np.array(pred2)\n",
        "    return np.mean(np.abs((pred1 - pred2) / pred1)) * 100\n",
        "mape(pred1, pred2)"
      ],
      "metadata": {
        "colab": {
          "base_uri": "https://localhost:8080/"
        },
        "id": "oej9hKnQKEgZ",
        "outputId": "259a2139-7488-48c5-eada-9758776db080"
      },
      "execution_count": 28,
      "outputs": [
        {
          "output_type": "execute_result",
          "data": {
            "text/plain": [
              "13.626068116793128"
            ]
          },
          "metadata": {},
          "execution_count": 28
        }
      ]
    },
    {
      "cell_type": "code",
      "source": [
        "import numpy as np\n",
        "\n",
        "def mape(pred2, pred1): \n",
        "    pred2, pred1 = np.array(pred2), np.array(pred1)\n",
        "    return np.mean(np.abs((pred2 - pred1) / pred2)) * 100\n",
        "mape(pred2, pred1)"
      ],
      "metadata": {
        "colab": {
          "base_uri": "https://localhost:8080/"
        },
        "id": "QnW_ItkKLs4S",
        "outputId": "df42b8e3-9e37-48e2-fe28-e94c6d53196c"
      },
      "execution_count": 29,
      "outputs": [
        {
          "output_type": "execute_result",
          "data": {
            "text/plain": [
              "11.582834887783596"
            ]
          },
          "metadata": {},
          "execution_count": 29
        }
      ]
    },
    {
      "cell_type": "markdown",
      "source": [
        "#ข้อมูลประเมิน(ที่ดิน)"
      ],
      "metadata": {
        "id": "ZhbyVeniOlbO"
      }
    },
    {
      "cell_type": "code",
      "source": [
        "df2.head()"
      ],
      "metadata": {
        "colab": {
          "base_uri": "https://localhost:8080/",
          "height": 458
        },
        "id": "mR78paOhMOQJ",
        "outputId": "6d969c01-6479-4f8f-b450-6e98a5e9d89f"
      },
      "execution_count": 30,
      "outputs": [
        {
          "output_type": "execute_result",
          "data": {
            "text/plain": [
              "   ID ผู้ประเมิน                               post id property_type  \\\n",
              "0              1  https://nayoo.co/khonkaen/posts/1033        ที่ดิน   \n",
              "1              2  https://nayoo.co/khonkaen/posts/1033        ที่ดิน   \n",
              "2              4  https://nayoo.co/khonkaen/posts/1033        ที่ดิน   \n",
              "3              1  https://nayoo.co/khonkaen/posts/1711        ที่ดิน   \n",
              "4              2  https://nayoo.co/khonkaen/posts/1711        ที่ดิน   \n",
              "\n",
              "  ความมั่นใจในการเมินราคาทรัพย์  ราคาทรัพย์  ประเมินราคาซื้อ-ขาย  \\\n",
              "0                        มั่นใจ     2800000            1800000.0   \n",
              "1                        มั่นใจ     2800000            2000000.0   \n",
              "2                        มั่นใจ     2800000            3000000.0   \n",
              "3                        มั่นใจ    14900000            8000000.0   \n",
              "4                        มั่นใจ    14900000           12000000.0   \n",
              "\n",
              "            ปัจจัยในการประเมินราคาซื้อ-ขาย เหตุผลไม่มั่นใจราคาประเมิน  \\\n",
              "0                             8,000-25,000                        NaN   \n",
              "1    ราคาเสนอขาย 7,000-12,0000 บาท/ตารางวา                        NaN   \n",
              "2                              12000-18000                        NaN   \n",
              "3                            25,000-80,000                        NaN   \n",
              "4  ราคาเสนอขาย 100,000-150,000 บาท/ตารางวา                        NaN   \n",
              "\n",
              "                       ให้คะแนนทรัพย์  Unnamed: 9  \\\n",
              "0   3 ขายได้ ใช้ระยะเวลา 7 - 12 เดือน         3.0   \n",
              "1  2 ขายได้ยาก ใช้ระยะเวลามากว่า 1 ปี         2.0   \n",
              "2   3 ขายได้ ใช้ระยะเวลา 7 - 12 เดือน         3.0   \n",
              "3  2 ขายได้ยาก ใช้ระยะเวลามากว่า 1 ปี         2.0   \n",
              "4  2 ขายได้ยาก ใช้ระยะเวลามากว่า 1 ปี         2.0   \n",
              "\n",
              "                     Unnamed: 10  Unnamed: 11  Unnamed: 12  \n",
              "0  ขายได้ ใช้ระยะเวลา 7-12 เดือน          NaN        100.0  \n",
              "1   ขายได้ ใช้ระยะเวลา 4-6 เดือน          NaN          NaN  \n",
              "2  ขายได้ ใช้ระยะเวลา 7-12 เดือน          NaN          NaN  \n",
              "3   ขายได้ ใช้ระยะเวลา 4-6 เดือน          NaN          NaN  \n",
              "4   ขายได้ ใช้ระยะเวลา 4-6 เดือน          NaN          NaN  "
            ],
            "text/html": [
              "\n",
              "  <div id=\"df-c807e85d-81e4-4699-a922-11c0685d0a63\">\n",
              "    <div class=\"colab-df-container\">\n",
              "      <div>\n",
              "<style scoped>\n",
              "    .dataframe tbody tr th:only-of-type {\n",
              "        vertical-align: middle;\n",
              "    }\n",
              "\n",
              "    .dataframe tbody tr th {\n",
              "        vertical-align: top;\n",
              "    }\n",
              "\n",
              "    .dataframe thead th {\n",
              "        text-align: right;\n",
              "    }\n",
              "</style>\n",
              "<table border=\"1\" class=\"dataframe\">\n",
              "  <thead>\n",
              "    <tr style=\"text-align: right;\">\n",
              "      <th></th>\n",
              "      <th>ID ผู้ประเมิน</th>\n",
              "      <th>post id</th>\n",
              "      <th>property_type</th>\n",
              "      <th>ความมั่นใจในการเมินราคาทรัพย์</th>\n",
              "      <th>ราคาทรัพย์</th>\n",
              "      <th>ประเมินราคาซื้อ-ขาย</th>\n",
              "      <th>ปัจจัยในการประเมินราคาซื้อ-ขาย</th>\n",
              "      <th>เหตุผลไม่มั่นใจราคาประเมิน</th>\n",
              "      <th>ให้คะแนนทรัพย์</th>\n",
              "      <th>Unnamed: 9</th>\n",
              "      <th>Unnamed: 10</th>\n",
              "      <th>Unnamed: 11</th>\n",
              "      <th>Unnamed: 12</th>\n",
              "    </tr>\n",
              "  </thead>\n",
              "  <tbody>\n",
              "    <tr>\n",
              "      <th>0</th>\n",
              "      <td>1</td>\n",
              "      <td>https://nayoo.co/khonkaen/posts/1033</td>\n",
              "      <td>ที่ดิน</td>\n",
              "      <td>มั่นใจ</td>\n",
              "      <td>2800000</td>\n",
              "      <td>1800000.0</td>\n",
              "      <td>8,000-25,000</td>\n",
              "      <td>NaN</td>\n",
              "      <td>3 ขายได้ ใช้ระยะเวลา 7 - 12 เดือน</td>\n",
              "      <td>3.0</td>\n",
              "      <td>ขายได้ ใช้ระยะเวลา 7-12 เดือน</td>\n",
              "      <td>NaN</td>\n",
              "      <td>100.0</td>\n",
              "    </tr>\n",
              "    <tr>\n",
              "      <th>1</th>\n",
              "      <td>2</td>\n",
              "      <td>https://nayoo.co/khonkaen/posts/1033</td>\n",
              "      <td>ที่ดิน</td>\n",
              "      <td>มั่นใจ</td>\n",
              "      <td>2800000</td>\n",
              "      <td>2000000.0</td>\n",
              "      <td>ราคาเสนอขาย 7,000-12,0000 บาท/ตารางวา</td>\n",
              "      <td>NaN</td>\n",
              "      <td>2 ขายได้ยาก ใช้ระยะเวลามากว่า 1 ปี</td>\n",
              "      <td>2.0</td>\n",
              "      <td>ขายได้ ใช้ระยะเวลา 4-6 เดือน</td>\n",
              "      <td>NaN</td>\n",
              "      <td>NaN</td>\n",
              "    </tr>\n",
              "    <tr>\n",
              "      <th>2</th>\n",
              "      <td>4</td>\n",
              "      <td>https://nayoo.co/khonkaen/posts/1033</td>\n",
              "      <td>ที่ดิน</td>\n",
              "      <td>มั่นใจ</td>\n",
              "      <td>2800000</td>\n",
              "      <td>3000000.0</td>\n",
              "      <td>12000-18000</td>\n",
              "      <td>NaN</td>\n",
              "      <td>3 ขายได้ ใช้ระยะเวลา 7 - 12 เดือน</td>\n",
              "      <td>3.0</td>\n",
              "      <td>ขายได้ ใช้ระยะเวลา 7-12 เดือน</td>\n",
              "      <td>NaN</td>\n",
              "      <td>NaN</td>\n",
              "    </tr>\n",
              "    <tr>\n",
              "      <th>3</th>\n",
              "      <td>1</td>\n",
              "      <td>https://nayoo.co/khonkaen/posts/1711</td>\n",
              "      <td>ที่ดิน</td>\n",
              "      <td>มั่นใจ</td>\n",
              "      <td>14900000</td>\n",
              "      <td>8000000.0</td>\n",
              "      <td>25,000-80,000</td>\n",
              "      <td>NaN</td>\n",
              "      <td>2 ขายได้ยาก ใช้ระยะเวลามากว่า 1 ปี</td>\n",
              "      <td>2.0</td>\n",
              "      <td>ขายได้ ใช้ระยะเวลา 4-6 เดือน</td>\n",
              "      <td>NaN</td>\n",
              "      <td>NaN</td>\n",
              "    </tr>\n",
              "    <tr>\n",
              "      <th>4</th>\n",
              "      <td>2</td>\n",
              "      <td>https://nayoo.co/khonkaen/posts/1711</td>\n",
              "      <td>ที่ดิน</td>\n",
              "      <td>มั่นใจ</td>\n",
              "      <td>14900000</td>\n",
              "      <td>12000000.0</td>\n",
              "      <td>ราคาเสนอขาย 100,000-150,000 บาท/ตารางวา</td>\n",
              "      <td>NaN</td>\n",
              "      <td>2 ขายได้ยาก ใช้ระยะเวลามากว่า 1 ปี</td>\n",
              "      <td>2.0</td>\n",
              "      <td>ขายได้ ใช้ระยะเวลา 4-6 เดือน</td>\n",
              "      <td>NaN</td>\n",
              "      <td>NaN</td>\n",
              "    </tr>\n",
              "  </tbody>\n",
              "</table>\n",
              "</div>\n",
              "      <button class=\"colab-df-convert\" onclick=\"convertToInteractive('df-c807e85d-81e4-4699-a922-11c0685d0a63')\"\n",
              "              title=\"Convert this dataframe to an interactive table.\"\n",
              "              style=\"display:none;\">\n",
              "        \n",
              "  <svg xmlns=\"http://www.w3.org/2000/svg\" height=\"24px\"viewBox=\"0 0 24 24\"\n",
              "       width=\"24px\">\n",
              "    <path d=\"M0 0h24v24H0V0z\" fill=\"none\"/>\n",
              "    <path d=\"M18.56 5.44l.94 2.06.94-2.06 2.06-.94-2.06-.94-.94-2.06-.94 2.06-2.06.94zm-11 1L8.5 8.5l.94-2.06 2.06-.94-2.06-.94L8.5 2.5l-.94 2.06-2.06.94zm10 10l.94 2.06.94-2.06 2.06-.94-2.06-.94-.94-2.06-.94 2.06-2.06.94z\"/><path d=\"M17.41 7.96l-1.37-1.37c-.4-.4-.92-.59-1.43-.59-.52 0-1.04.2-1.43.59L10.3 9.45l-7.72 7.72c-.78.78-.78 2.05 0 2.83L4 21.41c.39.39.9.59 1.41.59.51 0 1.02-.2 1.41-.59l7.78-7.78 2.81-2.81c.8-.78.8-2.07 0-2.86zM5.41 20L4 18.59l7.72-7.72 1.47 1.35L5.41 20z\"/>\n",
              "  </svg>\n",
              "      </button>\n",
              "      \n",
              "  <style>\n",
              "    .colab-df-container {\n",
              "      display:flex;\n",
              "      flex-wrap:wrap;\n",
              "      gap: 12px;\n",
              "    }\n",
              "\n",
              "    .colab-df-convert {\n",
              "      background-color: #E8F0FE;\n",
              "      border: none;\n",
              "      border-radius: 50%;\n",
              "      cursor: pointer;\n",
              "      display: none;\n",
              "      fill: #1967D2;\n",
              "      height: 32px;\n",
              "      padding: 0 0 0 0;\n",
              "      width: 32px;\n",
              "    }\n",
              "\n",
              "    .colab-df-convert:hover {\n",
              "      background-color: #E2EBFA;\n",
              "      box-shadow: 0px 1px 2px rgba(60, 64, 67, 0.3), 0px 1px 3px 1px rgba(60, 64, 67, 0.15);\n",
              "      fill: #174EA6;\n",
              "    }\n",
              "\n",
              "    [theme=dark] .colab-df-convert {\n",
              "      background-color: #3B4455;\n",
              "      fill: #D2E3FC;\n",
              "    }\n",
              "\n",
              "    [theme=dark] .colab-df-convert:hover {\n",
              "      background-color: #434B5C;\n",
              "      box-shadow: 0px 1px 3px 1px rgba(0, 0, 0, 0.15);\n",
              "      filter: drop-shadow(0px 1px 2px rgba(0, 0, 0, 0.3));\n",
              "      fill: #FFFFFF;\n",
              "    }\n",
              "  </style>\n",
              "\n",
              "      <script>\n",
              "        const buttonEl =\n",
              "          document.querySelector('#df-c807e85d-81e4-4699-a922-11c0685d0a63 button.colab-df-convert');\n",
              "        buttonEl.style.display =\n",
              "          google.colab.kernel.accessAllowed ? 'block' : 'none';\n",
              "\n",
              "        async function convertToInteractive(key) {\n",
              "          const element = document.querySelector('#df-c807e85d-81e4-4699-a922-11c0685d0a63');\n",
              "          const dataTable =\n",
              "            await google.colab.kernel.invokeFunction('convertToInteractive',\n",
              "                                                     [key], {});\n",
              "          if (!dataTable) return;\n",
              "\n",
              "          const docLinkHtml = 'Like what you see? Visit the ' +\n",
              "            '<a target=\"_blank\" href=https://colab.research.google.com/notebooks/data_table.ipynb>data table notebook</a>'\n",
              "            + ' to learn more about interactive tables.';\n",
              "          element.innerHTML = '';\n",
              "          dataTable['output_type'] = 'display_data';\n",
              "          await google.colab.output.renderOutput(dataTable, element);\n",
              "          const docLink = document.createElement('div');\n",
              "          docLink.innerHTML = docLinkHtml;\n",
              "          element.appendChild(docLink);\n",
              "        }\n",
              "      </script>\n",
              "    </div>\n",
              "  </div>\n",
              "  "
            ]
          },
          "metadata": {},
          "execution_count": 30
        }
      ]
    },
    {
      "cell_type": "markdown",
      "source": [
        "##ผู้ประเมินคนที่ 1"
      ],
      "metadata": {
        "id": "K2ugkd1yPTJf"
      }
    },
    {
      "cell_type": "code",
      "source": [
        "#เลือกคอลัมน์ผู้ประเมินคนที่ 1 \n",
        "t1 = df2[df2['ID ผู้ประเมิน']==1]\n",
        "t1.count()"
      ],
      "metadata": {
        "colab": {
          "base_uri": "https://localhost:8080/"
        },
        "id": "KpwzyA9lOqHI",
        "outputId": "e7b9871d-ec58-416c-e42f-a7a6797744a6"
      },
      "execution_count": 31,
      "outputs": [
        {
          "output_type": "execute_result",
          "data": {
            "text/plain": [
              "ID ผู้ประเมิน                     100\n",
              "post id                           100\n",
              "property_type                     100\n",
              "ความมั่นใจในการเมินราคาทรัพย์     100\n",
              "ราคาทรัพย์                        100\n",
              "ประเมินราคาซื้อ-ขาย               100\n",
              "ปัจจัยในการประเมินราคาซื้อ-ขาย    100\n",
              "เหตุผลไม่มั่นใจราคาประเมิน          0\n",
              "ให้คะแนนทรัพย์                    100\n",
              "Unnamed: 9                         10\n",
              "Unnamed: 10                        10\n",
              "Unnamed: 11                         0\n",
              "Unnamed: 12                         1\n",
              "dtype: int64"
            ]
          },
          "metadata": {},
          "execution_count": 31
        }
      ]
    },
    {
      "cell_type": "markdown",
      "source": [
        "ผู้ประเมินคนที่ 1 ประเมินที่ดินไว้ทั้งหมด 100 ทรัพย์"
      ],
      "metadata": {
        "id": "HFUTos2pQFpJ"
      }
    },
    {
      "cell_type": "code",
      "source": [
        "t1.describe()"
      ],
      "metadata": {
        "colab": {
          "base_uri": "https://localhost:8080/",
          "height": 300
        },
        "id": "eJ747fCIPPb7",
        "outputId": "8fe900b8-f20b-4122-bc4b-d149380ed087"
      },
      "execution_count": 32,
      "outputs": [
        {
          "output_type": "execute_result",
          "data": {
            "text/plain": [
              "       ID ผู้ประเมิน    ราคาทรัพย์  ประเมินราคาซื้อ-ขาย  Unnamed: 9  \\\n",
              "count          100.0  1.000000e+02         1.000000e+02   10.000000   \n",
              "mean             1.0  1.644375e+07         9.069000e+06    2.500000   \n",
              "std              0.0  4.202164e+07         2.322360e+07    0.527046   \n",
              "min              1.0  6.500000e+05         5.000000e+05    2.000000   \n",
              "25%              1.0  1.900000e+06         1.675000e+06    2.000000   \n",
              "50%              1.0  3.999500e+06         3.175000e+06    2.500000   \n",
              "75%              1.0  1.207500e+07         1.000000e+07    3.000000   \n",
              "max              1.0  2.860000e+08         2.220000e+08    3.000000   \n",
              "\n",
              "       Unnamed: 11  Unnamed: 12  \n",
              "count          0.0          1.0  \n",
              "mean           NaN        100.0  \n",
              "std            NaN          NaN  \n",
              "min            NaN        100.0  \n",
              "25%            NaN        100.0  \n",
              "50%            NaN        100.0  \n",
              "75%            NaN        100.0  \n",
              "max            NaN        100.0  "
            ],
            "text/html": [
              "\n",
              "  <div id=\"df-2ca04ce6-b33e-4103-b565-d373366cbf0b\">\n",
              "    <div class=\"colab-df-container\">\n",
              "      <div>\n",
              "<style scoped>\n",
              "    .dataframe tbody tr th:only-of-type {\n",
              "        vertical-align: middle;\n",
              "    }\n",
              "\n",
              "    .dataframe tbody tr th {\n",
              "        vertical-align: top;\n",
              "    }\n",
              "\n",
              "    .dataframe thead th {\n",
              "        text-align: right;\n",
              "    }\n",
              "</style>\n",
              "<table border=\"1\" class=\"dataframe\">\n",
              "  <thead>\n",
              "    <tr style=\"text-align: right;\">\n",
              "      <th></th>\n",
              "      <th>ID ผู้ประเมิน</th>\n",
              "      <th>ราคาทรัพย์</th>\n",
              "      <th>ประเมินราคาซื้อ-ขาย</th>\n",
              "      <th>Unnamed: 9</th>\n",
              "      <th>Unnamed: 11</th>\n",
              "      <th>Unnamed: 12</th>\n",
              "    </tr>\n",
              "  </thead>\n",
              "  <tbody>\n",
              "    <tr>\n",
              "      <th>count</th>\n",
              "      <td>100.0</td>\n",
              "      <td>1.000000e+02</td>\n",
              "      <td>1.000000e+02</td>\n",
              "      <td>10.000000</td>\n",
              "      <td>0.0</td>\n",
              "      <td>1.0</td>\n",
              "    </tr>\n",
              "    <tr>\n",
              "      <th>mean</th>\n",
              "      <td>1.0</td>\n",
              "      <td>1.644375e+07</td>\n",
              "      <td>9.069000e+06</td>\n",
              "      <td>2.500000</td>\n",
              "      <td>NaN</td>\n",
              "      <td>100.0</td>\n",
              "    </tr>\n",
              "    <tr>\n",
              "      <th>std</th>\n",
              "      <td>0.0</td>\n",
              "      <td>4.202164e+07</td>\n",
              "      <td>2.322360e+07</td>\n",
              "      <td>0.527046</td>\n",
              "      <td>NaN</td>\n",
              "      <td>NaN</td>\n",
              "    </tr>\n",
              "    <tr>\n",
              "      <th>min</th>\n",
              "      <td>1.0</td>\n",
              "      <td>6.500000e+05</td>\n",
              "      <td>5.000000e+05</td>\n",
              "      <td>2.000000</td>\n",
              "      <td>NaN</td>\n",
              "      <td>100.0</td>\n",
              "    </tr>\n",
              "    <tr>\n",
              "      <th>25%</th>\n",
              "      <td>1.0</td>\n",
              "      <td>1.900000e+06</td>\n",
              "      <td>1.675000e+06</td>\n",
              "      <td>2.000000</td>\n",
              "      <td>NaN</td>\n",
              "      <td>100.0</td>\n",
              "    </tr>\n",
              "    <tr>\n",
              "      <th>50%</th>\n",
              "      <td>1.0</td>\n",
              "      <td>3.999500e+06</td>\n",
              "      <td>3.175000e+06</td>\n",
              "      <td>2.500000</td>\n",
              "      <td>NaN</td>\n",
              "      <td>100.0</td>\n",
              "    </tr>\n",
              "    <tr>\n",
              "      <th>75%</th>\n",
              "      <td>1.0</td>\n",
              "      <td>1.207500e+07</td>\n",
              "      <td>1.000000e+07</td>\n",
              "      <td>3.000000</td>\n",
              "      <td>NaN</td>\n",
              "      <td>100.0</td>\n",
              "    </tr>\n",
              "    <tr>\n",
              "      <th>max</th>\n",
              "      <td>1.0</td>\n",
              "      <td>2.860000e+08</td>\n",
              "      <td>2.220000e+08</td>\n",
              "      <td>3.000000</td>\n",
              "      <td>NaN</td>\n",
              "      <td>100.0</td>\n",
              "    </tr>\n",
              "  </tbody>\n",
              "</table>\n",
              "</div>\n",
              "      <button class=\"colab-df-convert\" onclick=\"convertToInteractive('df-2ca04ce6-b33e-4103-b565-d373366cbf0b')\"\n",
              "              title=\"Convert this dataframe to an interactive table.\"\n",
              "              style=\"display:none;\">\n",
              "        \n",
              "  <svg xmlns=\"http://www.w3.org/2000/svg\" height=\"24px\"viewBox=\"0 0 24 24\"\n",
              "       width=\"24px\">\n",
              "    <path d=\"M0 0h24v24H0V0z\" fill=\"none\"/>\n",
              "    <path d=\"M18.56 5.44l.94 2.06.94-2.06 2.06-.94-2.06-.94-.94-2.06-.94 2.06-2.06.94zm-11 1L8.5 8.5l.94-2.06 2.06-.94-2.06-.94L8.5 2.5l-.94 2.06-2.06.94zm10 10l.94 2.06.94-2.06 2.06-.94-2.06-.94-.94-2.06-.94 2.06-2.06.94z\"/><path d=\"M17.41 7.96l-1.37-1.37c-.4-.4-.92-.59-1.43-.59-.52 0-1.04.2-1.43.59L10.3 9.45l-7.72 7.72c-.78.78-.78 2.05 0 2.83L4 21.41c.39.39.9.59 1.41.59.51 0 1.02-.2 1.41-.59l7.78-7.78 2.81-2.81c.8-.78.8-2.07 0-2.86zM5.41 20L4 18.59l7.72-7.72 1.47 1.35L5.41 20z\"/>\n",
              "  </svg>\n",
              "      </button>\n",
              "      \n",
              "  <style>\n",
              "    .colab-df-container {\n",
              "      display:flex;\n",
              "      flex-wrap:wrap;\n",
              "      gap: 12px;\n",
              "    }\n",
              "\n",
              "    .colab-df-convert {\n",
              "      background-color: #E8F0FE;\n",
              "      border: none;\n",
              "      border-radius: 50%;\n",
              "      cursor: pointer;\n",
              "      display: none;\n",
              "      fill: #1967D2;\n",
              "      height: 32px;\n",
              "      padding: 0 0 0 0;\n",
              "      width: 32px;\n",
              "    }\n",
              "\n",
              "    .colab-df-convert:hover {\n",
              "      background-color: #E2EBFA;\n",
              "      box-shadow: 0px 1px 2px rgba(60, 64, 67, 0.3), 0px 1px 3px 1px rgba(60, 64, 67, 0.15);\n",
              "      fill: #174EA6;\n",
              "    }\n",
              "\n",
              "    [theme=dark] .colab-df-convert {\n",
              "      background-color: #3B4455;\n",
              "      fill: #D2E3FC;\n",
              "    }\n",
              "\n",
              "    [theme=dark] .colab-df-convert:hover {\n",
              "      background-color: #434B5C;\n",
              "      box-shadow: 0px 1px 3px 1px rgba(0, 0, 0, 0.15);\n",
              "      filter: drop-shadow(0px 1px 2px rgba(0, 0, 0, 0.3));\n",
              "      fill: #FFFFFF;\n",
              "    }\n",
              "  </style>\n",
              "\n",
              "      <script>\n",
              "        const buttonEl =\n",
              "          document.querySelector('#df-2ca04ce6-b33e-4103-b565-d373366cbf0b button.colab-df-convert');\n",
              "        buttonEl.style.display =\n",
              "          google.colab.kernel.accessAllowed ? 'block' : 'none';\n",
              "\n",
              "        async function convertToInteractive(key) {\n",
              "          const element = document.querySelector('#df-2ca04ce6-b33e-4103-b565-d373366cbf0b');\n",
              "          const dataTable =\n",
              "            await google.colab.kernel.invokeFunction('convertToInteractive',\n",
              "                                                     [key], {});\n",
              "          if (!dataTable) return;\n",
              "\n",
              "          const docLinkHtml = 'Like what you see? Visit the ' +\n",
              "            '<a target=\"_blank\" href=https://colab.research.google.com/notebooks/data_table.ipynb>data table notebook</a>'\n",
              "            + ' to learn more about interactive tables.';\n",
              "          element.innerHTML = '';\n",
              "          dataTable['output_type'] = 'display_data';\n",
              "          await google.colab.output.renderOutput(dataTable, element);\n",
              "          const docLink = document.createElement('div');\n",
              "          docLink.innerHTML = docLinkHtml;\n",
              "          element.appendChild(docLink);\n",
              "        }\n",
              "      </script>\n",
              "    </div>\n",
              "  </div>\n",
              "  "
            ]
          },
          "metadata": {},
          "execution_count": 32
        }
      ]
    },
    {
      "cell_type": "markdown",
      "source": [
        "- ราคาซื้อ-ขายที่น้อยที่สุดของสินทรัพย์ที่ดินของคนที่ 1 = 5.000000e+05\n",
        "- ราคาซื้อ-ขายที่มากที่สุดของสินทรัพย์ที่ดินของคนที่ 1 = 2.220000e+08\t"
      ],
      "metadata": {
        "id": "ItxQaMhPQcT3"
      }
    },
    {
      "cell_type": "code",
      "source": [
        "t1['ความมั่นใจในการเมินราคาทรัพย์'].value_counts()"
      ],
      "metadata": {
        "colab": {
          "base_uri": "https://localhost:8080/"
        },
        "id": "aGW49idmPZ9R",
        "outputId": "21415264-eb07-4d5c-ddb6-5efbeac436c7"
      },
      "execution_count": 33,
      "outputs": [
        {
          "output_type": "execute_result",
          "data": {
            "text/plain": [
              "มั่นใจ    100\n",
              "Name: ความมั่นใจในการเมินราคาทรัพย์, dtype: int64"
            ]
          },
          "metadata": {},
          "execution_count": 33
        }
      ]
    },
    {
      "cell_type": "code",
      "source": [
        "t1['ให้คะแนนทรัพย์'].value_counts()"
      ],
      "metadata": {
        "colab": {
          "base_uri": "https://localhost:8080/"
        },
        "id": "toD1IKgFPboF",
        "outputId": "06915d64-d09b-4206-e12c-31ef65a7a0c5"
      },
      "execution_count": 34,
      "outputs": [
        {
          "output_type": "execute_result",
          "data": {
            "text/plain": [
              "2 ขายได้ยาก ใช้ระยะเวลามากว่า 1 ปี    55\n",
              "3 ขายได้ ใช้ระยะเวลา 7 - 12 เดือน     45\n",
              "Name: ให้คะแนนทรัพย์, dtype: int64"
            ]
          },
          "metadata": {},
          "execution_count": 34
        }
      ]
    },
    {
      "cell_type": "markdown",
      "source": [
        "##ผู้ประเมินคนที่ 2"
      ],
      "metadata": {
        "id": "eG1FDJwMPqcg"
      }
    },
    {
      "cell_type": "code",
      "source": [
        "#เลือกคอลัมน์ผู้ประเมินคนที่ 2\n",
        "t2 = df2[df2['ID ผู้ประเมิน']==2]\n",
        "t2.count()"
      ],
      "metadata": {
        "colab": {
          "base_uri": "https://localhost:8080/"
        },
        "outputId": "962de441-399d-4a4b-adfa-548126cce110",
        "id": "EuwQRBERPqch"
      },
      "execution_count": 35,
      "outputs": [
        {
          "output_type": "execute_result",
          "data": {
            "text/plain": [
              "ID ผู้ประเมิน                     100\n",
              "post id                           100\n",
              "property_type                     100\n",
              "ความมั่นใจในการเมินราคาทรัพย์     100\n",
              "ราคาทรัพย์                        100\n",
              "ประเมินราคาซื้อ-ขาย               100\n",
              "ปัจจัยในการประเมินราคาซื้อ-ขาย    100\n",
              "เหตุผลไม่มั่นใจราคาประเมิน          0\n",
              "ให้คะแนนทรัพย์                    100\n",
              "Unnamed: 9                         10\n",
              "Unnamed: 10                        10\n",
              "Unnamed: 11                         0\n",
              "Unnamed: 12                         0\n",
              "dtype: int64"
            ]
          },
          "metadata": {},
          "execution_count": 35
        }
      ]
    },
    {
      "cell_type": "markdown",
      "source": [
        "ผู้ประเมินคนที่ 2 ประเมินที่ดินไว้ทั้งหมด 100 ทรัพย์"
      ],
      "metadata": {
        "id": "w3xSbhugPqci"
      }
    },
    {
      "cell_type": "code",
      "source": [
        "t2.describe()"
      ],
      "metadata": {
        "colab": {
          "base_uri": "https://localhost:8080/",
          "height": 300
        },
        "outputId": "eeea10c1-fee7-474c-d059-229da9ba80c3",
        "id": "NiIvz2Q9Pqcj"
      },
      "execution_count": 36,
      "outputs": [
        {
          "output_type": "execute_result",
          "data": {
            "text/plain": [
              "       ID ผู้ประเมิน    ราคาทรัพย์  ประเมินราคาซื้อ-ขาย  Unnamed: 9  \\\n",
              "count          100.0  1.000000e+02         1.000000e+02   10.000000   \n",
              "mean             2.0  1.644375e+07         1.196550e+07    2.300000   \n",
              "std              0.0  4.202164e+07         2.843751e+07    0.483046   \n",
              "min              2.0  6.500000e+05         7.000000e+05    2.000000   \n",
              "25%              2.0  1.900000e+06         1.800000e+06    2.000000   \n",
              "50%              2.0  3.999500e+06         3.800000e+06    2.000000   \n",
              "75%              2.0  1.207500e+07         1.000000e+07    2.750000   \n",
              "max              2.0  2.860000e+08         2.500000e+08    3.000000   \n",
              "\n",
              "       Unnamed: 11  Unnamed: 12  \n",
              "count          0.0          0.0  \n",
              "mean           NaN          NaN  \n",
              "std            NaN          NaN  \n",
              "min            NaN          NaN  \n",
              "25%            NaN          NaN  \n",
              "50%            NaN          NaN  \n",
              "75%            NaN          NaN  \n",
              "max            NaN          NaN  "
            ],
            "text/html": [
              "\n",
              "  <div id=\"df-e3371a80-0cc4-4871-9c99-5b9767bbcff5\">\n",
              "    <div class=\"colab-df-container\">\n",
              "      <div>\n",
              "<style scoped>\n",
              "    .dataframe tbody tr th:only-of-type {\n",
              "        vertical-align: middle;\n",
              "    }\n",
              "\n",
              "    .dataframe tbody tr th {\n",
              "        vertical-align: top;\n",
              "    }\n",
              "\n",
              "    .dataframe thead th {\n",
              "        text-align: right;\n",
              "    }\n",
              "</style>\n",
              "<table border=\"1\" class=\"dataframe\">\n",
              "  <thead>\n",
              "    <tr style=\"text-align: right;\">\n",
              "      <th></th>\n",
              "      <th>ID ผู้ประเมิน</th>\n",
              "      <th>ราคาทรัพย์</th>\n",
              "      <th>ประเมินราคาซื้อ-ขาย</th>\n",
              "      <th>Unnamed: 9</th>\n",
              "      <th>Unnamed: 11</th>\n",
              "      <th>Unnamed: 12</th>\n",
              "    </tr>\n",
              "  </thead>\n",
              "  <tbody>\n",
              "    <tr>\n",
              "      <th>count</th>\n",
              "      <td>100.0</td>\n",
              "      <td>1.000000e+02</td>\n",
              "      <td>1.000000e+02</td>\n",
              "      <td>10.000000</td>\n",
              "      <td>0.0</td>\n",
              "      <td>0.0</td>\n",
              "    </tr>\n",
              "    <tr>\n",
              "      <th>mean</th>\n",
              "      <td>2.0</td>\n",
              "      <td>1.644375e+07</td>\n",
              "      <td>1.196550e+07</td>\n",
              "      <td>2.300000</td>\n",
              "      <td>NaN</td>\n",
              "      <td>NaN</td>\n",
              "    </tr>\n",
              "    <tr>\n",
              "      <th>std</th>\n",
              "      <td>0.0</td>\n",
              "      <td>4.202164e+07</td>\n",
              "      <td>2.843751e+07</td>\n",
              "      <td>0.483046</td>\n",
              "      <td>NaN</td>\n",
              "      <td>NaN</td>\n",
              "    </tr>\n",
              "    <tr>\n",
              "      <th>min</th>\n",
              "      <td>2.0</td>\n",
              "      <td>6.500000e+05</td>\n",
              "      <td>7.000000e+05</td>\n",
              "      <td>2.000000</td>\n",
              "      <td>NaN</td>\n",
              "      <td>NaN</td>\n",
              "    </tr>\n",
              "    <tr>\n",
              "      <th>25%</th>\n",
              "      <td>2.0</td>\n",
              "      <td>1.900000e+06</td>\n",
              "      <td>1.800000e+06</td>\n",
              "      <td>2.000000</td>\n",
              "      <td>NaN</td>\n",
              "      <td>NaN</td>\n",
              "    </tr>\n",
              "    <tr>\n",
              "      <th>50%</th>\n",
              "      <td>2.0</td>\n",
              "      <td>3.999500e+06</td>\n",
              "      <td>3.800000e+06</td>\n",
              "      <td>2.000000</td>\n",
              "      <td>NaN</td>\n",
              "      <td>NaN</td>\n",
              "    </tr>\n",
              "    <tr>\n",
              "      <th>75%</th>\n",
              "      <td>2.0</td>\n",
              "      <td>1.207500e+07</td>\n",
              "      <td>1.000000e+07</td>\n",
              "      <td>2.750000</td>\n",
              "      <td>NaN</td>\n",
              "      <td>NaN</td>\n",
              "    </tr>\n",
              "    <tr>\n",
              "      <th>max</th>\n",
              "      <td>2.0</td>\n",
              "      <td>2.860000e+08</td>\n",
              "      <td>2.500000e+08</td>\n",
              "      <td>3.000000</td>\n",
              "      <td>NaN</td>\n",
              "      <td>NaN</td>\n",
              "    </tr>\n",
              "  </tbody>\n",
              "</table>\n",
              "</div>\n",
              "      <button class=\"colab-df-convert\" onclick=\"convertToInteractive('df-e3371a80-0cc4-4871-9c99-5b9767bbcff5')\"\n",
              "              title=\"Convert this dataframe to an interactive table.\"\n",
              "              style=\"display:none;\">\n",
              "        \n",
              "  <svg xmlns=\"http://www.w3.org/2000/svg\" height=\"24px\"viewBox=\"0 0 24 24\"\n",
              "       width=\"24px\">\n",
              "    <path d=\"M0 0h24v24H0V0z\" fill=\"none\"/>\n",
              "    <path d=\"M18.56 5.44l.94 2.06.94-2.06 2.06-.94-2.06-.94-.94-2.06-.94 2.06-2.06.94zm-11 1L8.5 8.5l.94-2.06 2.06-.94-2.06-.94L8.5 2.5l-.94 2.06-2.06.94zm10 10l.94 2.06.94-2.06 2.06-.94-2.06-.94-.94-2.06-.94 2.06-2.06.94z\"/><path d=\"M17.41 7.96l-1.37-1.37c-.4-.4-.92-.59-1.43-.59-.52 0-1.04.2-1.43.59L10.3 9.45l-7.72 7.72c-.78.78-.78 2.05 0 2.83L4 21.41c.39.39.9.59 1.41.59.51 0 1.02-.2 1.41-.59l7.78-7.78 2.81-2.81c.8-.78.8-2.07 0-2.86zM5.41 20L4 18.59l7.72-7.72 1.47 1.35L5.41 20z\"/>\n",
              "  </svg>\n",
              "      </button>\n",
              "      \n",
              "  <style>\n",
              "    .colab-df-container {\n",
              "      display:flex;\n",
              "      flex-wrap:wrap;\n",
              "      gap: 12px;\n",
              "    }\n",
              "\n",
              "    .colab-df-convert {\n",
              "      background-color: #E8F0FE;\n",
              "      border: none;\n",
              "      border-radius: 50%;\n",
              "      cursor: pointer;\n",
              "      display: none;\n",
              "      fill: #1967D2;\n",
              "      height: 32px;\n",
              "      padding: 0 0 0 0;\n",
              "      width: 32px;\n",
              "    }\n",
              "\n",
              "    .colab-df-convert:hover {\n",
              "      background-color: #E2EBFA;\n",
              "      box-shadow: 0px 1px 2px rgba(60, 64, 67, 0.3), 0px 1px 3px 1px rgba(60, 64, 67, 0.15);\n",
              "      fill: #174EA6;\n",
              "    }\n",
              "\n",
              "    [theme=dark] .colab-df-convert {\n",
              "      background-color: #3B4455;\n",
              "      fill: #D2E3FC;\n",
              "    }\n",
              "\n",
              "    [theme=dark] .colab-df-convert:hover {\n",
              "      background-color: #434B5C;\n",
              "      box-shadow: 0px 1px 3px 1px rgba(0, 0, 0, 0.15);\n",
              "      filter: drop-shadow(0px 1px 2px rgba(0, 0, 0, 0.3));\n",
              "      fill: #FFFFFF;\n",
              "    }\n",
              "  </style>\n",
              "\n",
              "      <script>\n",
              "        const buttonEl =\n",
              "          document.querySelector('#df-e3371a80-0cc4-4871-9c99-5b9767bbcff5 button.colab-df-convert');\n",
              "        buttonEl.style.display =\n",
              "          google.colab.kernel.accessAllowed ? 'block' : 'none';\n",
              "\n",
              "        async function convertToInteractive(key) {\n",
              "          const element = document.querySelector('#df-e3371a80-0cc4-4871-9c99-5b9767bbcff5');\n",
              "          const dataTable =\n",
              "            await google.colab.kernel.invokeFunction('convertToInteractive',\n",
              "                                                     [key], {});\n",
              "          if (!dataTable) return;\n",
              "\n",
              "          const docLinkHtml = 'Like what you see? Visit the ' +\n",
              "            '<a target=\"_blank\" href=https://colab.research.google.com/notebooks/data_table.ipynb>data table notebook</a>'\n",
              "            + ' to learn more about interactive tables.';\n",
              "          element.innerHTML = '';\n",
              "          dataTable['output_type'] = 'display_data';\n",
              "          await google.colab.output.renderOutput(dataTable, element);\n",
              "          const docLink = document.createElement('div');\n",
              "          docLink.innerHTML = docLinkHtml;\n",
              "          element.appendChild(docLink);\n",
              "        }\n",
              "      </script>\n",
              "    </div>\n",
              "  </div>\n",
              "  "
            ]
          },
          "metadata": {},
          "execution_count": 36
        }
      ]
    },
    {
      "cell_type": "markdown",
      "source": [
        "- ราคาซื้อ-ขายที่น้อยที่สุดของสินทรัพย์ที่ดินของคนที่ 2 = 7.000000e+05\n",
        "- ราคาซื้อ-ขายที่มากที่สุดของสินทรัพย์ที่ดินของคนที่ 2 = 2.500000e+08"
      ],
      "metadata": {
        "id": "maRETboUPqck"
      }
    },
    {
      "cell_type": "code",
      "source": [
        "t2['ความมั่นใจในการเมินราคาทรัพย์'].value_counts()"
      ],
      "metadata": {
        "colab": {
          "base_uri": "https://localhost:8080/"
        },
        "outputId": "e71d4082-eea5-45ee-8355-7f0f6aa5660a",
        "id": "MJPbXsnYPqcl"
      },
      "execution_count": 37,
      "outputs": [
        {
          "output_type": "execute_result",
          "data": {
            "text/plain": [
              "มั่นใจ    100\n",
              "Name: ความมั่นใจในการเมินราคาทรัพย์, dtype: int64"
            ]
          },
          "metadata": {},
          "execution_count": 37
        }
      ]
    },
    {
      "cell_type": "code",
      "source": [
        "t2['ให้คะแนนทรัพย์'].value_counts()"
      ],
      "metadata": {
        "colab": {
          "base_uri": "https://localhost:8080/"
        },
        "outputId": "c0c0bb16-c187-44ef-c692-0b8a13b9464b",
        "id": "pr7jNvZ0Pqcm"
      },
      "execution_count": 38,
      "outputs": [
        {
          "output_type": "execute_result",
          "data": {
            "text/plain": [
              "2 ขายได้ยาก ใช้ระยะเวลามากว่า 1 ปี    52\n",
              "3 ขายได้ ใช้ระยะเวลา 7 - 12 เดือน     45\n",
              "4 ขายได้ ใช้ระยะเวลา 4 - 6 เดือน       3\n",
              "Name: ให้คะแนนทรัพย์, dtype: int64"
            ]
          },
          "metadata": {},
          "execution_count": 38
        }
      ]
    },
    {
      "cell_type": "markdown",
      "source": [
        "##ผู้ประเมินคนที่ 3"
      ],
      "metadata": {
        "id": "eEvXKNk7QpCm"
      }
    },
    {
      "cell_type": "code",
      "source": [
        "#เลือกคอลัมน์ผู้ประเมินคนที่ 2\n",
        "t3 = df2[df2['ID ผู้ประเมิน']==4]\n",
        "t3.count()"
      ],
      "metadata": {
        "colab": {
          "base_uri": "https://localhost:8080/"
        },
        "outputId": "a5e1ace8-8beb-4ff9-d7ba-8f2bcf816e3c",
        "id": "7mc4p04mQpCn"
      },
      "execution_count": 39,
      "outputs": [
        {
          "output_type": "execute_result",
          "data": {
            "text/plain": [
              "ID ผู้ประเมิน                     10\n",
              "post id                           10\n",
              "property_type                     10\n",
              "ความมั่นใจในการเมินราคาทรัพย์     10\n",
              "ราคาทรัพย์                        10\n",
              "ประเมินราคาซื้อ-ขาย                7\n",
              "ปัจจัยในการประเมินราคาซื้อ-ขาย     7\n",
              "เหตุผลไม่มั่นใจราคาประเมิน         3\n",
              "ให้คะแนนทรัพย์                     7\n",
              "Unnamed: 9                         7\n",
              "Unnamed: 10                        7\n",
              "Unnamed: 11                        0\n",
              "Unnamed: 12                        0\n",
              "dtype: int64"
            ]
          },
          "metadata": {},
          "execution_count": 39
        }
      ]
    },
    {
      "cell_type": "markdown",
      "source": [
        "ผู้ประเมินคนที่ 3 ประเมินที่ดินไว้ทั้งหมด 10 ทรัพย์"
      ],
      "metadata": {
        "id": "KeZtvpVnQpCo"
      }
    },
    {
      "cell_type": "code",
      "source": [
        "t3.describe()"
      ],
      "metadata": {
        "colab": {
          "base_uri": "https://localhost:8080/",
          "height": 300
        },
        "outputId": "36bac80d-dcb4-4779-9bac-d83cb9bbd238",
        "id": "OLSoIvlCQpCo"
      },
      "execution_count": 40,
      "outputs": [
        {
          "output_type": "execute_result",
          "data": {
            "text/plain": [
              "       ID ผู้ประเมิน    ราคาทรัพย์  ประเมินราคาซื้อ-ขาย  Unnamed: 9  \\\n",
              "count           10.0  1.000000e+01         7.000000e+00    7.000000   \n",
              "mean             4.0  2.191000e+07         7.000000e+06    2.714286   \n",
              "std              0.0  3.030465e+07         6.238322e+06    0.487950   \n",
              "min              4.0  2.200000e+06         2.500000e+06    2.000000   \n",
              "25%              4.0  3.750000e+06         3.500000e+06    2.500000   \n",
              "50%              4.0  9.350000e+06         4.500000e+06    3.000000   \n",
              "75%              4.0  1.610000e+07         7.500000e+06    3.000000   \n",
              "max              4.0  9.000000e+07         2.000000e+07    3.000000   \n",
              "\n",
              "       Unnamed: 11  Unnamed: 12  \n",
              "count          0.0          0.0  \n",
              "mean           NaN          NaN  \n",
              "std            NaN          NaN  \n",
              "min            NaN          NaN  \n",
              "25%            NaN          NaN  \n",
              "50%            NaN          NaN  \n",
              "75%            NaN          NaN  \n",
              "max            NaN          NaN  "
            ],
            "text/html": [
              "\n",
              "  <div id=\"df-00aa95e2-497d-4706-b6e0-e9afd508fa3c\">\n",
              "    <div class=\"colab-df-container\">\n",
              "      <div>\n",
              "<style scoped>\n",
              "    .dataframe tbody tr th:only-of-type {\n",
              "        vertical-align: middle;\n",
              "    }\n",
              "\n",
              "    .dataframe tbody tr th {\n",
              "        vertical-align: top;\n",
              "    }\n",
              "\n",
              "    .dataframe thead th {\n",
              "        text-align: right;\n",
              "    }\n",
              "</style>\n",
              "<table border=\"1\" class=\"dataframe\">\n",
              "  <thead>\n",
              "    <tr style=\"text-align: right;\">\n",
              "      <th></th>\n",
              "      <th>ID ผู้ประเมิน</th>\n",
              "      <th>ราคาทรัพย์</th>\n",
              "      <th>ประเมินราคาซื้อ-ขาย</th>\n",
              "      <th>Unnamed: 9</th>\n",
              "      <th>Unnamed: 11</th>\n",
              "      <th>Unnamed: 12</th>\n",
              "    </tr>\n",
              "  </thead>\n",
              "  <tbody>\n",
              "    <tr>\n",
              "      <th>count</th>\n",
              "      <td>10.0</td>\n",
              "      <td>1.000000e+01</td>\n",
              "      <td>7.000000e+00</td>\n",
              "      <td>7.000000</td>\n",
              "      <td>0.0</td>\n",
              "      <td>0.0</td>\n",
              "    </tr>\n",
              "    <tr>\n",
              "      <th>mean</th>\n",
              "      <td>4.0</td>\n",
              "      <td>2.191000e+07</td>\n",
              "      <td>7.000000e+06</td>\n",
              "      <td>2.714286</td>\n",
              "      <td>NaN</td>\n",
              "      <td>NaN</td>\n",
              "    </tr>\n",
              "    <tr>\n",
              "      <th>std</th>\n",
              "      <td>0.0</td>\n",
              "      <td>3.030465e+07</td>\n",
              "      <td>6.238322e+06</td>\n",
              "      <td>0.487950</td>\n",
              "      <td>NaN</td>\n",
              "      <td>NaN</td>\n",
              "    </tr>\n",
              "    <tr>\n",
              "      <th>min</th>\n",
              "      <td>4.0</td>\n",
              "      <td>2.200000e+06</td>\n",
              "      <td>2.500000e+06</td>\n",
              "      <td>2.000000</td>\n",
              "      <td>NaN</td>\n",
              "      <td>NaN</td>\n",
              "    </tr>\n",
              "    <tr>\n",
              "      <th>25%</th>\n",
              "      <td>4.0</td>\n",
              "      <td>3.750000e+06</td>\n",
              "      <td>3.500000e+06</td>\n",
              "      <td>2.500000</td>\n",
              "      <td>NaN</td>\n",
              "      <td>NaN</td>\n",
              "    </tr>\n",
              "    <tr>\n",
              "      <th>50%</th>\n",
              "      <td>4.0</td>\n",
              "      <td>9.350000e+06</td>\n",
              "      <td>4.500000e+06</td>\n",
              "      <td>3.000000</td>\n",
              "      <td>NaN</td>\n",
              "      <td>NaN</td>\n",
              "    </tr>\n",
              "    <tr>\n",
              "      <th>75%</th>\n",
              "      <td>4.0</td>\n",
              "      <td>1.610000e+07</td>\n",
              "      <td>7.500000e+06</td>\n",
              "      <td>3.000000</td>\n",
              "      <td>NaN</td>\n",
              "      <td>NaN</td>\n",
              "    </tr>\n",
              "    <tr>\n",
              "      <th>max</th>\n",
              "      <td>4.0</td>\n",
              "      <td>9.000000e+07</td>\n",
              "      <td>2.000000e+07</td>\n",
              "      <td>3.000000</td>\n",
              "      <td>NaN</td>\n",
              "      <td>NaN</td>\n",
              "    </tr>\n",
              "  </tbody>\n",
              "</table>\n",
              "</div>\n",
              "      <button class=\"colab-df-convert\" onclick=\"convertToInteractive('df-00aa95e2-497d-4706-b6e0-e9afd508fa3c')\"\n",
              "              title=\"Convert this dataframe to an interactive table.\"\n",
              "              style=\"display:none;\">\n",
              "        \n",
              "  <svg xmlns=\"http://www.w3.org/2000/svg\" height=\"24px\"viewBox=\"0 0 24 24\"\n",
              "       width=\"24px\">\n",
              "    <path d=\"M0 0h24v24H0V0z\" fill=\"none\"/>\n",
              "    <path d=\"M18.56 5.44l.94 2.06.94-2.06 2.06-.94-2.06-.94-.94-2.06-.94 2.06-2.06.94zm-11 1L8.5 8.5l.94-2.06 2.06-.94-2.06-.94L8.5 2.5l-.94 2.06-2.06.94zm10 10l.94 2.06.94-2.06 2.06-.94-2.06-.94-.94-2.06-.94 2.06-2.06.94z\"/><path d=\"M17.41 7.96l-1.37-1.37c-.4-.4-.92-.59-1.43-.59-.52 0-1.04.2-1.43.59L10.3 9.45l-7.72 7.72c-.78.78-.78 2.05 0 2.83L4 21.41c.39.39.9.59 1.41.59.51 0 1.02-.2 1.41-.59l7.78-7.78 2.81-2.81c.8-.78.8-2.07 0-2.86zM5.41 20L4 18.59l7.72-7.72 1.47 1.35L5.41 20z\"/>\n",
              "  </svg>\n",
              "      </button>\n",
              "      \n",
              "  <style>\n",
              "    .colab-df-container {\n",
              "      display:flex;\n",
              "      flex-wrap:wrap;\n",
              "      gap: 12px;\n",
              "    }\n",
              "\n",
              "    .colab-df-convert {\n",
              "      background-color: #E8F0FE;\n",
              "      border: none;\n",
              "      border-radius: 50%;\n",
              "      cursor: pointer;\n",
              "      display: none;\n",
              "      fill: #1967D2;\n",
              "      height: 32px;\n",
              "      padding: 0 0 0 0;\n",
              "      width: 32px;\n",
              "    }\n",
              "\n",
              "    .colab-df-convert:hover {\n",
              "      background-color: #E2EBFA;\n",
              "      box-shadow: 0px 1px 2px rgba(60, 64, 67, 0.3), 0px 1px 3px 1px rgba(60, 64, 67, 0.15);\n",
              "      fill: #174EA6;\n",
              "    }\n",
              "\n",
              "    [theme=dark] .colab-df-convert {\n",
              "      background-color: #3B4455;\n",
              "      fill: #D2E3FC;\n",
              "    }\n",
              "\n",
              "    [theme=dark] .colab-df-convert:hover {\n",
              "      background-color: #434B5C;\n",
              "      box-shadow: 0px 1px 3px 1px rgba(0, 0, 0, 0.15);\n",
              "      filter: drop-shadow(0px 1px 2px rgba(0, 0, 0, 0.3));\n",
              "      fill: #FFFFFF;\n",
              "    }\n",
              "  </style>\n",
              "\n",
              "      <script>\n",
              "        const buttonEl =\n",
              "          document.querySelector('#df-00aa95e2-497d-4706-b6e0-e9afd508fa3c button.colab-df-convert');\n",
              "        buttonEl.style.display =\n",
              "          google.colab.kernel.accessAllowed ? 'block' : 'none';\n",
              "\n",
              "        async function convertToInteractive(key) {\n",
              "          const element = document.querySelector('#df-00aa95e2-497d-4706-b6e0-e9afd508fa3c');\n",
              "          const dataTable =\n",
              "            await google.colab.kernel.invokeFunction('convertToInteractive',\n",
              "                                                     [key], {});\n",
              "          if (!dataTable) return;\n",
              "\n",
              "          const docLinkHtml = 'Like what you see? Visit the ' +\n",
              "            '<a target=\"_blank\" href=https://colab.research.google.com/notebooks/data_table.ipynb>data table notebook</a>'\n",
              "            + ' to learn more about interactive tables.';\n",
              "          element.innerHTML = '';\n",
              "          dataTable['output_type'] = 'display_data';\n",
              "          await google.colab.output.renderOutput(dataTable, element);\n",
              "          const docLink = document.createElement('div');\n",
              "          docLink.innerHTML = docLinkHtml;\n",
              "          element.appendChild(docLink);\n",
              "        }\n",
              "      </script>\n",
              "    </div>\n",
              "  </div>\n",
              "  "
            ]
          },
          "metadata": {},
          "execution_count": 40
        }
      ]
    },
    {
      "cell_type": "markdown",
      "source": [
        "- ราคาซื้อ-ขายที่น้อยที่สุดของสินทรัพย์ที่ดินของคนที่ 3 = 2.500000e+06\n",
        "- ราคาซื้อ-ขายที่มากที่สุดของสินทรัพย์ที่ดินของคนที่ 3 = 2.000000e+07"
      ],
      "metadata": {
        "id": "J8Snzn1kQpCp"
      }
    },
    {
      "cell_type": "code",
      "source": [
        "t3['ความมั่นใจในการเมินราคาทรัพย์'].value_counts()"
      ],
      "metadata": {
        "colab": {
          "base_uri": "https://localhost:8080/"
        },
        "outputId": "b7892268-aeb6-45d6-87cd-407fe16ffb5b",
        "id": "p6RAYXXsQpCp"
      },
      "execution_count": 41,
      "outputs": [
        {
          "output_type": "execute_result",
          "data": {
            "text/plain": [
              "มั่นใจ       7\n",
              "ไม่มั่นใจ    3\n",
              "Name: ความมั่นใจในการเมินราคาทรัพย์, dtype: int64"
            ]
          },
          "metadata": {},
          "execution_count": 41
        }
      ]
    },
    {
      "cell_type": "code",
      "source": [
        "t3['ให้คะแนนทรัพย์'].value_counts()"
      ],
      "metadata": {
        "colab": {
          "base_uri": "https://localhost:8080/"
        },
        "outputId": "ed649358-d473-4c6b-a75f-e3a8c235168b",
        "id": "oPgRsC4oQpCq"
      },
      "execution_count": 42,
      "outputs": [
        {
          "output_type": "execute_result",
          "data": {
            "text/plain": [
              "3 ขายได้ ใช้ระยะเวลา 7 - 12 เดือน     5\n",
              "2 ขายได้ยาก ใช้ระยะเวลามากว่า 1 ปี    2\n",
              "Name: ให้คะแนนทรัพย์, dtype: int64"
            ]
          },
          "metadata": {},
          "execution_count": 42
        }
      ]
    },
    {
      "cell_type": "markdown",
      "source": [
        "##เปรียบเทียบความแตกต่างในการประเมินราคาทรัพย์(ที่ดิน)ของนักประเมินแต่ละคนและของราคาตั้งขาย\n"
      ],
      "metadata": {
        "id": "2kEL45UCR5O_"
      }
    },
    {
      "cell_type": "markdown",
      "source": [
        "![image.png](data:image/png;base64,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)"
      ],
      "metadata": {
        "id": "2VeugRHfR5PA"
      }
    },
    {
      "cell_type": "code",
      "source": [
        "t2['ประเมิน1'] = t2['post id'].map(t1.set_index('post id')['ประเมินราคาซื้อ-ขาย']);\n",
        "t2.head()"
      ],
      "metadata": {
        "colab": {
          "base_uri": "https://localhost:8080/",
          "height": 580
        },
        "outputId": "35473830-c3c1-4e5f-b98d-84222ad5c023",
        "id": "SNLItZJdR5PD"
      },
      "execution_count": 43,
      "outputs": [
        {
          "output_type": "stream",
          "name": "stderr",
          "text": [
            "<ipython-input-43-d1663d6264be>:1: SettingWithCopyWarning: \n",
            "A value is trying to be set on a copy of a slice from a DataFrame.\n",
            "Try using .loc[row_indexer,col_indexer] = value instead\n",
            "\n",
            "See the caveats in the documentation: https://pandas.pydata.org/pandas-docs/stable/user_guide/indexing.html#returning-a-view-versus-a-copy\n",
            "  t2['ประเมิน1'] = t2['post id'].map(t1.set_index('post id')['ประเมินราคาซื้อ-ขาย']);\n"
          ]
        },
        {
          "output_type": "execute_result",
          "data": {
            "text/plain": [
              "    ID ผู้ประเมิน                               post id property_type  \\\n",
              "1               2  https://nayoo.co/khonkaen/posts/1033        ที่ดิน   \n",
              "4               2  https://nayoo.co/khonkaen/posts/1711        ที่ดิน   \n",
              "7               2  https://nayoo.co/khonkaen/posts/1726        ที่ดิน   \n",
              "10              2  https://nayoo.co/khonkaen/posts/1732        ที่ดิน   \n",
              "13              2  https://nayoo.co/khonkaen/posts/1866        ที่ดิน   \n",
              "\n",
              "   ความมั่นใจในการเมินราคาทรัพย์  ราคาทรัพย์  ประเมินราคาซื้อ-ขาย  \\\n",
              "1                         มั่นใจ     2800000            2000000.0   \n",
              "4                         มั่นใจ    14900000           12000000.0   \n",
              "7                         มั่นใจ    90000000           70000000.0   \n",
              "10                        มั่นใจ    65000000           60000000.0   \n",
              "13                        มั่นใจ     3000000            2500000.0   \n",
              "\n",
              "             ปัจจัยในการประเมินราคาซื้อ-ขาย เหตุผลไม่มั่นใจราคาประเมิน  \\\n",
              "1     ราคาเสนอขาย 7,000-12,0000 บาท/ตารางวา                        NaN   \n",
              "4   ราคาเสนอขาย 100,000-150,000 บาท/ตารางวา                        NaN   \n",
              "7                 30,000-40,000 บาท/ตารางวา                        NaN   \n",
              "10  ราคาเสนอขาย 12,000 - 15,000 บาท/ตารางวา                        NaN   \n",
              "13    ราคาเสนอขาย 2,000 - 4,000 บาท/ตารางวา                        NaN   \n",
              "\n",
              "                        ให้คะแนนทรัพย์  Unnamed: 9  \\\n",
              "1   2 ขายได้ยาก ใช้ระยะเวลามากว่า 1 ปี         2.0   \n",
              "4   2 ขายได้ยาก ใช้ระยะเวลามากว่า 1 ปี         2.0   \n",
              "7   2 ขายได้ยาก ใช้ระยะเวลามากว่า 1 ปี         2.0   \n",
              "10  2 ขายได้ยาก ใช้ระยะเวลามากว่า 1 ปี         2.0   \n",
              "13   3 ขายได้ ใช้ระยะเวลา 7 - 12 เดือน         3.0   \n",
              "\n",
              "                      Unnamed: 10  Unnamed: 11  Unnamed: 12    ประเมิน1  \n",
              "1    ขายได้ ใช้ระยะเวลา 4-6 เดือน          NaN          NaN   1800000.0  \n",
              "4    ขายได้ ใช้ระยะเวลา 4-6 เดือน          NaN          NaN   8000000.0  \n",
              "7    ขายได้ ใช้ระยะเวลา 4-6 เดือน          NaN          NaN  18000000.0  \n",
              "10   ขายได้ ใช้ระยะเวลา 4-6 เดือน          NaN          NaN  35000000.0  \n",
              "13  ขายได้ ใช้ระยะเวลา 7-12 เดือน          NaN          NaN   2200000.0  "
            ],
            "text/html": [
              "\n",
              "  <div id=\"df-92c346d0-2092-47f0-8b8d-685086aa9e9e\">\n",
              "    <div class=\"colab-df-container\">\n",
              "      <div>\n",
              "<style scoped>\n",
              "    .dataframe tbody tr th:only-of-type {\n",
              "        vertical-align: middle;\n",
              "    }\n",
              "\n",
              "    .dataframe tbody tr th {\n",
              "        vertical-align: top;\n",
              "    }\n",
              "\n",
              "    .dataframe thead th {\n",
              "        text-align: right;\n",
              "    }\n",
              "</style>\n",
              "<table border=\"1\" class=\"dataframe\">\n",
              "  <thead>\n",
              "    <tr style=\"text-align: right;\">\n",
              "      <th></th>\n",
              "      <th>ID ผู้ประเมิน</th>\n",
              "      <th>post id</th>\n",
              "      <th>property_type</th>\n",
              "      <th>ความมั่นใจในการเมินราคาทรัพย์</th>\n",
              "      <th>ราคาทรัพย์</th>\n",
              "      <th>ประเมินราคาซื้อ-ขาย</th>\n",
              "      <th>ปัจจัยในการประเมินราคาซื้อ-ขาย</th>\n",
              "      <th>เหตุผลไม่มั่นใจราคาประเมิน</th>\n",
              "      <th>ให้คะแนนทรัพย์</th>\n",
              "      <th>Unnamed: 9</th>\n",
              "      <th>Unnamed: 10</th>\n",
              "      <th>Unnamed: 11</th>\n",
              "      <th>Unnamed: 12</th>\n",
              "      <th>ประเมิน1</th>\n",
              "    </tr>\n",
              "  </thead>\n",
              "  <tbody>\n",
              "    <tr>\n",
              "      <th>1</th>\n",
              "      <td>2</td>\n",
              "      <td>https://nayoo.co/khonkaen/posts/1033</td>\n",
              "      <td>ที่ดิน</td>\n",
              "      <td>มั่นใจ</td>\n",
              "      <td>2800000</td>\n",
              "      <td>2000000.0</td>\n",
              "      <td>ราคาเสนอขาย 7,000-12,0000 บาท/ตารางวา</td>\n",
              "      <td>NaN</td>\n",
              "      <td>2 ขายได้ยาก ใช้ระยะเวลามากว่า 1 ปี</td>\n",
              "      <td>2.0</td>\n",
              "      <td>ขายได้ ใช้ระยะเวลา 4-6 เดือน</td>\n",
              "      <td>NaN</td>\n",
              "      <td>NaN</td>\n",
              "      <td>1800000.0</td>\n",
              "    </tr>\n",
              "    <tr>\n",
              "      <th>4</th>\n",
              "      <td>2</td>\n",
              "      <td>https://nayoo.co/khonkaen/posts/1711</td>\n",
              "      <td>ที่ดิน</td>\n",
              "      <td>มั่นใจ</td>\n",
              "      <td>14900000</td>\n",
              "      <td>12000000.0</td>\n",
              "      <td>ราคาเสนอขาย 100,000-150,000 บาท/ตารางวา</td>\n",
              "      <td>NaN</td>\n",
              "      <td>2 ขายได้ยาก ใช้ระยะเวลามากว่า 1 ปี</td>\n",
              "      <td>2.0</td>\n",
              "      <td>ขายได้ ใช้ระยะเวลา 4-6 เดือน</td>\n",
              "      <td>NaN</td>\n",
              "      <td>NaN</td>\n",
              "      <td>8000000.0</td>\n",
              "    </tr>\n",
              "    <tr>\n",
              "      <th>7</th>\n",
              "      <td>2</td>\n",
              "      <td>https://nayoo.co/khonkaen/posts/1726</td>\n",
              "      <td>ที่ดิน</td>\n",
              "      <td>มั่นใจ</td>\n",
              "      <td>90000000</td>\n",
              "      <td>70000000.0</td>\n",
              "      <td>30,000-40,000 บาท/ตารางวา</td>\n",
              "      <td>NaN</td>\n",
              "      <td>2 ขายได้ยาก ใช้ระยะเวลามากว่า 1 ปี</td>\n",
              "      <td>2.0</td>\n",
              "      <td>ขายได้ ใช้ระยะเวลา 4-6 เดือน</td>\n",
              "      <td>NaN</td>\n",
              "      <td>NaN</td>\n",
              "      <td>18000000.0</td>\n",
              "    </tr>\n",
              "    <tr>\n",
              "      <th>10</th>\n",
              "      <td>2</td>\n",
              "      <td>https://nayoo.co/khonkaen/posts/1732</td>\n",
              "      <td>ที่ดิน</td>\n",
              "      <td>มั่นใจ</td>\n",
              "      <td>65000000</td>\n",
              "      <td>60000000.0</td>\n",
              "      <td>ราคาเสนอขาย 12,000 - 15,000 บาท/ตารางวา</td>\n",
              "      <td>NaN</td>\n",
              "      <td>2 ขายได้ยาก ใช้ระยะเวลามากว่า 1 ปี</td>\n",
              "      <td>2.0</td>\n",
              "      <td>ขายได้ ใช้ระยะเวลา 4-6 เดือน</td>\n",
              "      <td>NaN</td>\n",
              "      <td>NaN</td>\n",
              "      <td>35000000.0</td>\n",
              "    </tr>\n",
              "    <tr>\n",
              "      <th>13</th>\n",
              "      <td>2</td>\n",
              "      <td>https://nayoo.co/khonkaen/posts/1866</td>\n",
              "      <td>ที่ดิน</td>\n",
              "      <td>มั่นใจ</td>\n",
              "      <td>3000000</td>\n",
              "      <td>2500000.0</td>\n",
              "      <td>ราคาเสนอขาย 2,000 - 4,000 บาท/ตารางวา</td>\n",
              "      <td>NaN</td>\n",
              "      <td>3 ขายได้ ใช้ระยะเวลา 7 - 12 เดือน</td>\n",
              "      <td>3.0</td>\n",
              "      <td>ขายได้ ใช้ระยะเวลา 7-12 เดือน</td>\n",
              "      <td>NaN</td>\n",
              "      <td>NaN</td>\n",
              "      <td>2200000.0</td>\n",
              "    </tr>\n",
              "  </tbody>\n",
              "</table>\n",
              "</div>\n",
              "      <button class=\"colab-df-convert\" onclick=\"convertToInteractive('df-92c346d0-2092-47f0-8b8d-685086aa9e9e')\"\n",
              "              title=\"Convert this dataframe to an interactive table.\"\n",
              "              style=\"display:none;\">\n",
              "        \n",
              "  <svg xmlns=\"http://www.w3.org/2000/svg\" height=\"24px\"viewBox=\"0 0 24 24\"\n",
              "       width=\"24px\">\n",
              "    <path d=\"M0 0h24v24H0V0z\" fill=\"none\"/>\n",
              "    <path d=\"M18.56 5.44l.94 2.06.94-2.06 2.06-.94-2.06-.94-.94-2.06-.94 2.06-2.06.94zm-11 1L8.5 8.5l.94-2.06 2.06-.94-2.06-.94L8.5 2.5l-.94 2.06-2.06.94zm10 10l.94 2.06.94-2.06 2.06-.94-2.06-.94-.94-2.06-.94 2.06-2.06.94z\"/><path d=\"M17.41 7.96l-1.37-1.37c-.4-.4-.92-.59-1.43-.59-.52 0-1.04.2-1.43.59L10.3 9.45l-7.72 7.72c-.78.78-.78 2.05 0 2.83L4 21.41c.39.39.9.59 1.41.59.51 0 1.02-.2 1.41-.59l7.78-7.78 2.81-2.81c.8-.78.8-2.07 0-2.86zM5.41 20L4 18.59l7.72-7.72 1.47 1.35L5.41 20z\"/>\n",
              "  </svg>\n",
              "      </button>\n",
              "      \n",
              "  <style>\n",
              "    .colab-df-container {\n",
              "      display:flex;\n",
              "      flex-wrap:wrap;\n",
              "      gap: 12px;\n",
              "    }\n",
              "\n",
              "    .colab-df-convert {\n",
              "      background-color: #E8F0FE;\n",
              "      border: none;\n",
              "      border-radius: 50%;\n",
              "      cursor: pointer;\n",
              "      display: none;\n",
              "      fill: #1967D2;\n",
              "      height: 32px;\n",
              "      padding: 0 0 0 0;\n",
              "      width: 32px;\n",
              "    }\n",
              "\n",
              "    .colab-df-convert:hover {\n",
              "      background-color: #E2EBFA;\n",
              "      box-shadow: 0px 1px 2px rgba(60, 64, 67, 0.3), 0px 1px 3px 1px rgba(60, 64, 67, 0.15);\n",
              "      fill: #174EA6;\n",
              "    }\n",
              "\n",
              "    [theme=dark] .colab-df-convert {\n",
              "      background-color: #3B4455;\n",
              "      fill: #D2E3FC;\n",
              "    }\n",
              "\n",
              "    [theme=dark] .colab-df-convert:hover {\n",
              "      background-color: #434B5C;\n",
              "      box-shadow: 0px 1px 3px 1px rgba(0, 0, 0, 0.15);\n",
              "      filter: drop-shadow(0px 1px 2px rgba(0, 0, 0, 0.3));\n",
              "      fill: #FFFFFF;\n",
              "    }\n",
              "  </style>\n",
              "\n",
              "      <script>\n",
              "        const buttonEl =\n",
              "          document.querySelector('#df-92c346d0-2092-47f0-8b8d-685086aa9e9e button.colab-df-convert');\n",
              "        buttonEl.style.display =\n",
              "          google.colab.kernel.accessAllowed ? 'block' : 'none';\n",
              "\n",
              "        async function convertToInteractive(key) {\n",
              "          const element = document.querySelector('#df-92c346d0-2092-47f0-8b8d-685086aa9e9e');\n",
              "          const dataTable =\n",
              "            await google.colab.kernel.invokeFunction('convertToInteractive',\n",
              "                                                     [key], {});\n",
              "          if (!dataTable) return;\n",
              "\n",
              "          const docLinkHtml = 'Like what you see? Visit the ' +\n",
              "            '<a target=\"_blank\" href=https://colab.research.google.com/notebooks/data_table.ipynb>data table notebook</a>'\n",
              "            + ' to learn more about interactive tables.';\n",
              "          element.innerHTML = '';\n",
              "          dataTable['output_type'] = 'display_data';\n",
              "          await google.colab.output.renderOutput(dataTable, element);\n",
              "          const docLink = document.createElement('div');\n",
              "          docLink.innerHTML = docLinkHtml;\n",
              "          element.appendChild(docLink);\n",
              "        }\n",
              "      </script>\n",
              "    </div>\n",
              "  </div>\n",
              "  "
            ]
          },
          "metadata": {},
          "execution_count": 43
        }
      ]
    },
    {
      "cell_type": "markdown",
      "source": [
        "###rename column"
      ],
      "metadata": {
        "id": "ufjtHb9RR5PE"
      }
    },
    {
      "cell_type": "code",
      "source": [
        "t2.rename(columns = {'ประเมินราคาซื้อ-ขาย' : 'ประเมิน2'}, inplace = True)"
      ],
      "metadata": {
        "outputId": "177d391e-4bd1-44fa-d9df-eaa661b6328e",
        "colab": {
          "base_uri": "https://localhost:8080/"
        },
        "id": "JMAOKis0R5PF"
      },
      "execution_count": 44,
      "outputs": [
        {
          "output_type": "stream",
          "name": "stderr",
          "text": [
            "/usr/local/lib/python3.8/dist-packages/pandas/core/frame.py:5039: SettingWithCopyWarning: \n",
            "A value is trying to be set on a copy of a slice from a DataFrame\n",
            "\n",
            "See the caveats in the documentation: https://pandas.pydata.org/pandas-docs/stable/user_guide/indexing.html#returning-a-view-versus-a-copy\n",
            "  return super().rename(\n"
          ]
        }
      ]
    },
    {
      "cell_type": "markdown",
      "source": [
        "### select columns"
      ],
      "metadata": {
        "id": "69tKxPuMR5PF"
      }
    },
    {
      "cell_type": "code",
      "source": [
        "land = t2[['post id', 'ราคาทรัพย์', 'ประเมิน1', 'ประเมิน2']]\n",
        "land"
      ],
      "metadata": {
        "outputId": "4a6830fb-613a-4fc2-e858-55dccf4fccb2",
        "colab": {
          "base_uri": "https://localhost:8080/",
          "height": 424
        },
        "id": "22ZAqmUdR5PG"
      },
      "execution_count": 45,
      "outputs": [
        {
          "output_type": "execute_result",
          "data": {
            "text/plain": [
              "                                   post id  ราคาทรัพย์    ประเมิน1    ประเมิน2\n",
              "1     https://nayoo.co/khonkaen/posts/1033     2800000   1800000.0   2000000.0\n",
              "4     https://nayoo.co/khonkaen/posts/1711    14900000   8000000.0  12000000.0\n",
              "7     https://nayoo.co/khonkaen/posts/1726    90000000  18000000.0  70000000.0\n",
              "10    https://nayoo.co/khonkaen/posts/1732    65000000  35000000.0  60000000.0\n",
              "13    https://nayoo.co/khonkaen/posts/1866     3000000   2200000.0   2500000.0\n",
              "..                                     ...         ...         ...         ...\n",
              "200  https://nayoo.co/khonkaen/posts/14539     5000000   4000000.0   4000000.0\n",
              "202  https://nayoo.co/khonkaen/posts/16072      750000    500000.0    750000.0\n",
              "204  https://nayoo.co/khonkaen/posts/17093     2650000   2000000.0   2500000.0\n",
              "206  https://nayoo.co/khonkaen/posts/17112     1300000   1500000.0   1500000.0\n",
              "208  https://nayoo.co/khonkaen/posts/17145     3000000   2500000.0   2800000.0\n",
              "\n",
              "[100 rows x 4 columns]"
            ],
            "text/html": [
              "\n",
              "  <div id=\"df-87d678cc-57ad-4a83-bbca-9bceb64bb749\">\n",
              "    <div class=\"colab-df-container\">\n",
              "      <div>\n",
              "<style scoped>\n",
              "    .dataframe tbody tr th:only-of-type {\n",
              "        vertical-align: middle;\n",
              "    }\n",
              "\n",
              "    .dataframe tbody tr th {\n",
              "        vertical-align: top;\n",
              "    }\n",
              "\n",
              "    .dataframe thead th {\n",
              "        text-align: right;\n",
              "    }\n",
              "</style>\n",
              "<table border=\"1\" class=\"dataframe\">\n",
              "  <thead>\n",
              "    <tr style=\"text-align: right;\">\n",
              "      <th></th>\n",
              "      <th>post id</th>\n",
              "      <th>ราคาทรัพย์</th>\n",
              "      <th>ประเมิน1</th>\n",
              "      <th>ประเมิน2</th>\n",
              "    </tr>\n",
              "  </thead>\n",
              "  <tbody>\n",
              "    <tr>\n",
              "      <th>1</th>\n",
              "      <td>https://nayoo.co/khonkaen/posts/1033</td>\n",
              "      <td>2800000</td>\n",
              "      <td>1800000.0</td>\n",
              "      <td>2000000.0</td>\n",
              "    </tr>\n",
              "    <tr>\n",
              "      <th>4</th>\n",
              "      <td>https://nayoo.co/khonkaen/posts/1711</td>\n",
              "      <td>14900000</td>\n",
              "      <td>8000000.0</td>\n",
              "      <td>12000000.0</td>\n",
              "    </tr>\n",
              "    <tr>\n",
              "      <th>7</th>\n",
              "      <td>https://nayoo.co/khonkaen/posts/1726</td>\n",
              "      <td>90000000</td>\n",
              "      <td>18000000.0</td>\n",
              "      <td>70000000.0</td>\n",
              "    </tr>\n",
              "    <tr>\n",
              "      <th>10</th>\n",
              "      <td>https://nayoo.co/khonkaen/posts/1732</td>\n",
              "      <td>65000000</td>\n",
              "      <td>35000000.0</td>\n",
              "      <td>60000000.0</td>\n",
              "    </tr>\n",
              "    <tr>\n",
              "      <th>13</th>\n",
              "      <td>https://nayoo.co/khonkaen/posts/1866</td>\n",
              "      <td>3000000</td>\n",
              "      <td>2200000.0</td>\n",
              "      <td>2500000.0</td>\n",
              "    </tr>\n",
              "    <tr>\n",
              "      <th>...</th>\n",
              "      <td>...</td>\n",
              "      <td>...</td>\n",
              "      <td>...</td>\n",
              "      <td>...</td>\n",
              "    </tr>\n",
              "    <tr>\n",
              "      <th>200</th>\n",
              "      <td>https://nayoo.co/khonkaen/posts/14539</td>\n",
              "      <td>5000000</td>\n",
              "      <td>4000000.0</td>\n",
              "      <td>4000000.0</td>\n",
              "    </tr>\n",
              "    <tr>\n",
              "      <th>202</th>\n",
              "      <td>https://nayoo.co/khonkaen/posts/16072</td>\n",
              "      <td>750000</td>\n",
              "      <td>500000.0</td>\n",
              "      <td>750000.0</td>\n",
              "    </tr>\n",
              "    <tr>\n",
              "      <th>204</th>\n",
              "      <td>https://nayoo.co/khonkaen/posts/17093</td>\n",
              "      <td>2650000</td>\n",
              "      <td>2000000.0</td>\n",
              "      <td>2500000.0</td>\n",
              "    </tr>\n",
              "    <tr>\n",
              "      <th>206</th>\n",
              "      <td>https://nayoo.co/khonkaen/posts/17112</td>\n",
              "      <td>1300000</td>\n",
              "      <td>1500000.0</td>\n",
              "      <td>1500000.0</td>\n",
              "    </tr>\n",
              "    <tr>\n",
              "      <th>208</th>\n",
              "      <td>https://nayoo.co/khonkaen/posts/17145</td>\n",
              "      <td>3000000</td>\n",
              "      <td>2500000.0</td>\n",
              "      <td>2800000.0</td>\n",
              "    </tr>\n",
              "  </tbody>\n",
              "</table>\n",
              "<p>100 rows × 4 columns</p>\n",
              "</div>\n",
              "      <button class=\"colab-df-convert\" onclick=\"convertToInteractive('df-87d678cc-57ad-4a83-bbca-9bceb64bb749')\"\n",
              "              title=\"Convert this dataframe to an interactive table.\"\n",
              "              style=\"display:none;\">\n",
              "        \n",
              "  <svg xmlns=\"http://www.w3.org/2000/svg\" height=\"24px\"viewBox=\"0 0 24 24\"\n",
              "       width=\"24px\">\n",
              "    <path d=\"M0 0h24v24H0V0z\" fill=\"none\"/>\n",
              "    <path d=\"M18.56 5.44l.94 2.06.94-2.06 2.06-.94-2.06-.94-.94-2.06-.94 2.06-2.06.94zm-11 1L8.5 8.5l.94-2.06 2.06-.94-2.06-.94L8.5 2.5l-.94 2.06-2.06.94zm10 10l.94 2.06.94-2.06 2.06-.94-2.06-.94-.94-2.06-.94 2.06-2.06.94z\"/><path d=\"M17.41 7.96l-1.37-1.37c-.4-.4-.92-.59-1.43-.59-.52 0-1.04.2-1.43.59L10.3 9.45l-7.72 7.72c-.78.78-.78 2.05 0 2.83L4 21.41c.39.39.9.59 1.41.59.51 0 1.02-.2 1.41-.59l7.78-7.78 2.81-2.81c.8-.78.8-2.07 0-2.86zM5.41 20L4 18.59l7.72-7.72 1.47 1.35L5.41 20z\"/>\n",
              "  </svg>\n",
              "      </button>\n",
              "      \n",
              "  <style>\n",
              "    .colab-df-container {\n",
              "      display:flex;\n",
              "      flex-wrap:wrap;\n",
              "      gap: 12px;\n",
              "    }\n",
              "\n",
              "    .colab-df-convert {\n",
              "      background-color: #E8F0FE;\n",
              "      border: none;\n",
              "      border-radius: 50%;\n",
              "      cursor: pointer;\n",
              "      display: none;\n",
              "      fill: #1967D2;\n",
              "      height: 32px;\n",
              "      padding: 0 0 0 0;\n",
              "      width: 32px;\n",
              "    }\n",
              "\n",
              "    .colab-df-convert:hover {\n",
              "      background-color: #E2EBFA;\n",
              "      box-shadow: 0px 1px 2px rgba(60, 64, 67, 0.3), 0px 1px 3px 1px rgba(60, 64, 67, 0.15);\n",
              "      fill: #174EA6;\n",
              "    }\n",
              "\n",
              "    [theme=dark] .colab-df-convert {\n",
              "      background-color: #3B4455;\n",
              "      fill: #D2E3FC;\n",
              "    }\n",
              "\n",
              "    [theme=dark] .colab-df-convert:hover {\n",
              "      background-color: #434B5C;\n",
              "      box-shadow: 0px 1px 3px 1px rgba(0, 0, 0, 0.15);\n",
              "      filter: drop-shadow(0px 1px 2px rgba(0, 0, 0, 0.3));\n",
              "      fill: #FFFFFF;\n",
              "    }\n",
              "  </style>\n",
              "\n",
              "      <script>\n",
              "        const buttonEl =\n",
              "          document.querySelector('#df-87d678cc-57ad-4a83-bbca-9bceb64bb749 button.colab-df-convert');\n",
              "        buttonEl.style.display =\n",
              "          google.colab.kernel.accessAllowed ? 'block' : 'none';\n",
              "\n",
              "        async function convertToInteractive(key) {\n",
              "          const element = document.querySelector('#df-87d678cc-57ad-4a83-bbca-9bceb64bb749');\n",
              "          const dataTable =\n",
              "            await google.colab.kernel.invokeFunction('convertToInteractive',\n",
              "                                                     [key], {});\n",
              "          if (!dataTable) return;\n",
              "\n",
              "          const docLinkHtml = 'Like what you see? Visit the ' +\n",
              "            '<a target=\"_blank\" href=https://colab.research.google.com/notebooks/data_table.ipynb>data table notebook</a>'\n",
              "            + ' to learn more about interactive tables.';\n",
              "          element.innerHTML = '';\n",
              "          dataTable['output_type'] = 'display_data';\n",
              "          await google.colab.output.renderOutput(dataTable, element);\n",
              "          const docLink = document.createElement('div');\n",
              "          docLink.innerHTML = docLinkHtml;\n",
              "          element.appendChild(docLink);\n",
              "        }\n",
              "      </script>\n",
              "    </div>\n",
              "  </div>\n",
              "  "
            ]
          },
          "metadata": {},
          "execution_count": 45
        }
      ]
    },
    {
      "cell_type": "code",
      "source": [
        "land.isnull().any()"
      ],
      "metadata": {
        "colab": {
          "base_uri": "https://localhost:8080/"
        },
        "id": "XCLznVVjkTVI",
        "outputId": "9cfaae24-c431-4f23-e17c-f18325d345d7"
      },
      "execution_count": 46,
      "outputs": [
        {
          "output_type": "execute_result",
          "data": {
            "text/plain": [
              "post id       False\n",
              "ราคาทรัพย์    False\n",
              "ประเมิน1      False\n",
              "ประเมิน2      False\n",
              "dtype: bool"
            ]
          },
          "metadata": {},
          "execution_count": 46
        }
      ]
    },
    {
      "cell_type": "markdown",
      "source": [
        "##MAPE ราคาทรัพย์เป็นหลัก เทียบ ผู้ประเมิน"
      ],
      "metadata": {
        "id": "ACO1lEjiSZfU"
      }
    },
    {
      "cell_type": "markdown",
      "source": [
        "หา mean absolute percentage error \n",
        "- โดยราคาทรัพย์เป็นหลัก เทียบกับผู้ประเมินคนที่ 1 มีค่า MAPE เท่ากับ 41.33784259452896\n",
        "\n",
        "- โดยราคาทรัพย์เป็นหลัก เทียบกับผู้ประเมินคนที่ 2 มีค่า MAPE เท่ากับ 40.11878038284342\n",
        "\n",
        "* หมายความว่า ผู้ประเมินคนที่ 2 สามารถประเมินราคาทรัพย์(ที่ดิน)ได้ใกล้เคียงกว่าคนที่ 1"
      ],
      "metadata": {
        "id": "g7pqiVSUSZfX"
      }
    },
    {
      "cell_type": "code",
      "source": [
        "actuall = land['ราคาทรัพย์']\n",
        "pred11 = land['ประเมิน1']\n",
        "pred22 = land['ประเมิน2']"
      ],
      "metadata": {
        "id": "tjg7hwERSZfY"
      },
      "execution_count": 47,
      "outputs": []
    },
    {
      "cell_type": "code",
      "source": [
        "import numpy as np\n",
        "\n",
        "def mape(actuall, pred11): \n",
        "    actuall, pred11 = np.array(actuall), np.array(pred11)\n",
        "    return np.mean(np.abs((actuall - pred11) / actuall)) * 100\n",
        "mape(actuall, pred11)"
      ],
      "metadata": {
        "outputId": "82664761-29d8-4cb4-854e-4e6880e81964",
        "colab": {
          "base_uri": "https://localhost:8080/"
        },
        "id": "8kq9iUjrSZfZ"
      },
      "execution_count": 48,
      "outputs": [
        {
          "output_type": "execute_result",
          "data": {
            "text/plain": [
              "41.33784259452896"
            ]
          },
          "metadata": {},
          "execution_count": 48
        }
      ]
    },
    {
      "cell_type": "code",
      "source": [
        "import numpy as np\n",
        "\n",
        "def mape(actuall, pred22): \n",
        "    actuall, pred22 = np.array(actuall), np.array(pred22)\n",
        "    return np.mean(np.abs((actuall - pred22) / actuall)) * 100\n",
        "mape(actuall, pred22)"
      ],
      "metadata": {
        "outputId": "b9c4189a-d386-4a58-df90-7d57fd0b73cd",
        "colab": {
          "base_uri": "https://localhost:8080/"
        },
        "id": "tadYLTnESZfa"
      },
      "execution_count": 49,
      "outputs": [
        {
          "output_type": "execute_result",
          "data": {
            "text/plain": [
              "40.11878038284342"
            ]
          },
          "metadata": {},
          "execution_count": 49
        }
      ]
    },
    {
      "cell_type": "markdown",
      "source": [
        "##MAPE ผู้ประเมินเป็นหลัก เทียบ ราคาทรัพย์\n",
        "\n",
        "- โดยผู้ประเมินคนที่ 1 เป็นหลัก เทียบกับราคาทรัพย์มีค่า MAPE เท่ากับ 83.48110682471777\n",
        "\n",
        "- โดยผู้ประเมินคนที่ 2 เป็นหลัก เทียบกับราคาทรัพย์มีค่า MAPE เท่ากับ 48.37938341613725"
      ],
      "metadata": {
        "id": "KJF8UBtPrG9I"
      }
    },
    {
      "cell_type": "code",
      "source": [
        "from sklearn.metrics import mean_absolute_percentage_error\n",
        "y_true = land['ประเมิน1']\n",
        "y_pred = land['ราคาทรัพย์']\n",
        "mean_absolute_percentage_error(y_true, y_pred) * 100"
      ],
      "metadata": {
        "colab": {
          "base_uri": "https://localhost:8080/"
        },
        "id": "xIQsU2J0q_V8",
        "outputId": "192f4e9b-d6b6-408d-e9a3-2aa1e6806f4d"
      },
      "execution_count": 50,
      "outputs": [
        {
          "output_type": "execute_result",
          "data": {
            "text/plain": [
              "83.48110682471777"
            ]
          },
          "metadata": {},
          "execution_count": 50
        }
      ]
    },
    {
      "cell_type": "code",
      "source": [
        "from sklearn.metrics import mean_absolute_percentage_error\n",
        "y_true = land['ประเมิน2']\n",
        "y_pred = land['ราคาทรัพย์']\n",
        "mean_absolute_percentage_error(y_true, y_pred) * 100"
      ],
      "metadata": {
        "colab": {
          "base_uri": "https://localhost:8080/"
        },
        "id": "AsqMF8y5rJg5",
        "outputId": "fbba20c8-0024-4121-ab63-0dbcdd343162"
      },
      "execution_count": 51,
      "outputs": [
        {
          "output_type": "execute_result",
          "data": {
            "text/plain": [
              "48.37938341613725"
            ]
          },
          "metadata": {},
          "execution_count": 51
        }
      ]
    },
    {
      "cell_type": "markdown",
      "source": [
        "##MAPE ผู้ประเมินเป็นหลัก เทียบ ผู้ประเมิน"
      ],
      "metadata": {
        "id": "c4DlvN8kq0D4"
      }
    },
    {
      "cell_type": "markdown",
      "source": [
        "หา mean absolute percentage error\n",
        "\n",
        "- โดยผู้ประเมินคนที่ 1 เทียบกับผู้ประเมินคนที่ 2 มีค่า MAPE เท่ากับ 74.07933970315449\n",
        "- โดยผู้ประเมินคนที่ 2 เทียบกับผู้ประเมินคนที่ 1 มีค่า MAPE เท่ากับ 42.74775082762699"
      ],
      "metadata": {
        "id": "M2EgpdIfSZfb"
      }
    },
    {
      "cell_type": "code",
      "source": [
        "import numpy as np\n",
        "\n",
        "def mape(pred11, pred22): \n",
        "    pred11, pred22 = np.array(pred11), np.array(pred22)\n",
        "    return np.mean(np.abs((pred11 - pred22) / pred11)) * 100\n",
        "mape(pred11, pred22)"
      ],
      "metadata": {
        "outputId": "48c99f05-d55b-459e-9f3c-b0a2c0483467",
        "colab": {
          "base_uri": "https://localhost:8080/"
        },
        "id": "LyBXlVapSZfc"
      },
      "execution_count": 52,
      "outputs": [
        {
          "output_type": "execute_result",
          "data": {
            "text/plain": [
              "74.07933970315449"
            ]
          },
          "metadata": {},
          "execution_count": 52
        }
      ]
    },
    {
      "cell_type": "code",
      "source": [
        "import numpy as np\n",
        "\n",
        "def mape(pred22, pred11): \n",
        "    pred22, pred11 = np.array(pred22), np.array(pred11)\n",
        "    return np.mean(np.abs((pred22 - pred11) / pred22)) * 100\n",
        "mape(pred22, pred11)"
      ],
      "metadata": {
        "outputId": "f44adaa0-b5a8-4813-f09f-14cbbbd1a698",
        "colab": {
          "base_uri": "https://localhost:8080/"
        },
        "id": "kz9kjhdsSZfd"
      },
      "execution_count": 53,
      "outputs": [
        {
          "output_type": "execute_result",
          "data": {
            "text/plain": [
              "42.74775082762699"
            ]
          },
          "metadata": {},
          "execution_count": 53
        }
      ]
    },
    {
      "cell_type": "markdown",
      "source": [
        "#ข้อมูลประเมิน(คอนโด)"
      ],
      "metadata": {
        "id": "Y8ohmn_wUJh4"
      }
    },
    {
      "cell_type": "code",
      "source": [
        "df3.head()"
      ],
      "metadata": {
        "outputId": "7dc90ffe-6151-4f49-c588-c90885aa5f23",
        "colab": {
          "base_uri": "https://localhost:8080/",
          "height": 354
        },
        "id": "QFodoc_DUJh5"
      },
      "execution_count": 54,
      "outputs": [
        {
          "output_type": "execute_result",
          "data": {
            "text/plain": [
              "   ID ผู้ประเมิน  post id property_type ความมั่นใจในการเมินราคาทรัพย์  \\\n",
              "0              1     32.0         คอนโด                        มั่นใจ   \n",
              "1              1     36.0         คอนโด                        มั่นใจ   \n",
              "2              1    603.0         คอนโด                        มั่นใจ   \n",
              "3              1   1395.0         คอนโด                        มั่นใจ   \n",
              "4              1   1443.0         คอนโด                        มั่นใจ   \n",
              "\n",
              "   ราคาทรัพย์  ประเมินราคาซื้อ-ขาย ปัจจัยในการประเมินราคาซื้อ-ขาย  \\\n",
              "0   3500000.0            3500000.0   60,000-130,000 บาท/ตารางเมตร   \n",
              "1   1930000.0            2200000.0    50,000-90,000 บาท/ตารางเมตร   \n",
              "2   2438000.0            2800000.0    35,000-80,000 บาท/ตารางเมตร   \n",
              "3   1600000.0            2300000.0    30,000-80,000 บาท/ตารางเมตร   \n",
              "4   1860000.0            1800000.0    30,000-80,000 บาท/ตารางเมตร   \n",
              "\n",
              "   เหตุผลไม่มั่นใจราคาประเมิน                    ให้คะแนนทรัพย์  Unnamed: 9  \\\n",
              "0                         NaN  4 ขายได้ ใช้ระยะเวลา 4 - 6 เดือน         4.0   \n",
              "1                         NaN  4 ขายได้ ใช้ระยะเวลา 4 - 6 เดือน         4.0   \n",
              "2                         NaN  4 ขายได้ ใช้ระยะเวลา 4 - 6 เดือน         4.0   \n",
              "3                         NaN  4 ขายได้ ใช้ระยะเวลา 4 - 6 เดือน         4.0   \n",
              "4                         NaN  4 ขายได้ ใช้ระยะเวลา 4 - 6 เดือน         4.0   \n",
              "\n",
              "                        Unnamed: 10  \n",
              "0  ขายได้ยาก ใช้ระยะเวลามากว่า 1 ปี  \n",
              "1  ขายได้ยาก ใช้ระยะเวลามากว่า 1 ปี  \n",
              "2  ขายได้ยาก ใช้ระยะเวลามากว่า 1 ปี  \n",
              "3  ขายได้ยาก ใช้ระยะเวลามากว่า 1 ปี  \n",
              "4  ขายได้ยาก ใช้ระยะเวลามากว่า 1 ปี  "
            ],
            "text/html": [
              "\n",
              "  <div id=\"df-ed920899-c47d-4582-a25e-d1f01f77438d\">\n",
              "    <div class=\"colab-df-container\">\n",
              "      <div>\n",
              "<style scoped>\n",
              "    .dataframe tbody tr th:only-of-type {\n",
              "        vertical-align: middle;\n",
              "    }\n",
              "\n",
              "    .dataframe tbody tr th {\n",
              "        vertical-align: top;\n",
              "    }\n",
              "\n",
              "    .dataframe thead th {\n",
              "        text-align: right;\n",
              "    }\n",
              "</style>\n",
              "<table border=\"1\" class=\"dataframe\">\n",
              "  <thead>\n",
              "    <tr style=\"text-align: right;\">\n",
              "      <th></th>\n",
              "      <th>ID ผู้ประเมิน</th>\n",
              "      <th>post id</th>\n",
              "      <th>property_type</th>\n",
              "      <th>ความมั่นใจในการเมินราคาทรัพย์</th>\n",
              "      <th>ราคาทรัพย์</th>\n",
              "      <th>ประเมินราคาซื้อ-ขาย</th>\n",
              "      <th>ปัจจัยในการประเมินราคาซื้อ-ขาย</th>\n",
              "      <th>เหตุผลไม่มั่นใจราคาประเมิน</th>\n",
              "      <th>ให้คะแนนทรัพย์</th>\n",
              "      <th>Unnamed: 9</th>\n",
              "      <th>Unnamed: 10</th>\n",
              "    </tr>\n",
              "  </thead>\n",
              "  <tbody>\n",
              "    <tr>\n",
              "      <th>0</th>\n",
              "      <td>1</td>\n",
              "      <td>32.0</td>\n",
              "      <td>คอนโด</td>\n",
              "      <td>มั่นใจ</td>\n",
              "      <td>3500000.0</td>\n",
              "      <td>3500000.0</td>\n",
              "      <td>60,000-130,000 บาท/ตารางเมตร</td>\n",
              "      <td>NaN</td>\n",
              "      <td>4 ขายได้ ใช้ระยะเวลา 4 - 6 เดือน</td>\n",
              "      <td>4.0</td>\n",
              "      <td>ขายได้ยาก ใช้ระยะเวลามากว่า 1 ปี</td>\n",
              "    </tr>\n",
              "    <tr>\n",
              "      <th>1</th>\n",
              "      <td>1</td>\n",
              "      <td>36.0</td>\n",
              "      <td>คอนโด</td>\n",
              "      <td>มั่นใจ</td>\n",
              "      <td>1930000.0</td>\n",
              "      <td>2200000.0</td>\n",
              "      <td>50,000-90,000 บาท/ตารางเมตร</td>\n",
              "      <td>NaN</td>\n",
              "      <td>4 ขายได้ ใช้ระยะเวลา 4 - 6 เดือน</td>\n",
              "      <td>4.0</td>\n",
              "      <td>ขายได้ยาก ใช้ระยะเวลามากว่า 1 ปี</td>\n",
              "    </tr>\n",
              "    <tr>\n",
              "      <th>2</th>\n",
              "      <td>1</td>\n",
              "      <td>603.0</td>\n",
              "      <td>คอนโด</td>\n",
              "      <td>มั่นใจ</td>\n",
              "      <td>2438000.0</td>\n",
              "      <td>2800000.0</td>\n",
              "      <td>35,000-80,000 บาท/ตารางเมตร</td>\n",
              "      <td>NaN</td>\n",
              "      <td>4 ขายได้ ใช้ระยะเวลา 4 - 6 เดือน</td>\n",
              "      <td>4.0</td>\n",
              "      <td>ขายได้ยาก ใช้ระยะเวลามากว่า 1 ปี</td>\n",
              "    </tr>\n",
              "    <tr>\n",
              "      <th>3</th>\n",
              "      <td>1</td>\n",
              "      <td>1395.0</td>\n",
              "      <td>คอนโด</td>\n",
              "      <td>มั่นใจ</td>\n",
              "      <td>1600000.0</td>\n",
              "      <td>2300000.0</td>\n",
              "      <td>30,000-80,000 บาท/ตารางเมตร</td>\n",
              "      <td>NaN</td>\n",
              "      <td>4 ขายได้ ใช้ระยะเวลา 4 - 6 เดือน</td>\n",
              "      <td>4.0</td>\n",
              "      <td>ขายได้ยาก ใช้ระยะเวลามากว่า 1 ปี</td>\n",
              "    </tr>\n",
              "    <tr>\n",
              "      <th>4</th>\n",
              "      <td>1</td>\n",
              "      <td>1443.0</td>\n",
              "      <td>คอนโด</td>\n",
              "      <td>มั่นใจ</td>\n",
              "      <td>1860000.0</td>\n",
              "      <td>1800000.0</td>\n",
              "      <td>30,000-80,000 บาท/ตารางเมตร</td>\n",
              "      <td>NaN</td>\n",
              "      <td>4 ขายได้ ใช้ระยะเวลา 4 - 6 เดือน</td>\n",
              "      <td>4.0</td>\n",
              "      <td>ขายได้ยาก ใช้ระยะเวลามากว่า 1 ปี</td>\n",
              "    </tr>\n",
              "  </tbody>\n",
              "</table>\n",
              "</div>\n",
              "      <button class=\"colab-df-convert\" onclick=\"convertToInteractive('df-ed920899-c47d-4582-a25e-d1f01f77438d')\"\n",
              "              title=\"Convert this dataframe to an interactive table.\"\n",
              "              style=\"display:none;\">\n",
              "        \n",
              "  <svg xmlns=\"http://www.w3.org/2000/svg\" height=\"24px\"viewBox=\"0 0 24 24\"\n",
              "       width=\"24px\">\n",
              "    <path d=\"M0 0h24v24H0V0z\" fill=\"none\"/>\n",
              "    <path d=\"M18.56 5.44l.94 2.06.94-2.06 2.06-.94-2.06-.94-.94-2.06-.94 2.06-2.06.94zm-11 1L8.5 8.5l.94-2.06 2.06-.94-2.06-.94L8.5 2.5l-.94 2.06-2.06.94zm10 10l.94 2.06.94-2.06 2.06-.94-2.06-.94-.94-2.06-.94 2.06-2.06.94z\"/><path d=\"M17.41 7.96l-1.37-1.37c-.4-.4-.92-.59-1.43-.59-.52 0-1.04.2-1.43.59L10.3 9.45l-7.72 7.72c-.78.78-.78 2.05 0 2.83L4 21.41c.39.39.9.59 1.41.59.51 0 1.02-.2 1.41-.59l7.78-7.78 2.81-2.81c.8-.78.8-2.07 0-2.86zM5.41 20L4 18.59l7.72-7.72 1.47 1.35L5.41 20z\"/>\n",
              "  </svg>\n",
              "      </button>\n",
              "      \n",
              "  <style>\n",
              "    .colab-df-container {\n",
              "      display:flex;\n",
              "      flex-wrap:wrap;\n",
              "      gap: 12px;\n",
              "    }\n",
              "\n",
              "    .colab-df-convert {\n",
              "      background-color: #E8F0FE;\n",
              "      border: none;\n",
              "      border-radius: 50%;\n",
              "      cursor: pointer;\n",
              "      display: none;\n",
              "      fill: #1967D2;\n",
              "      height: 32px;\n",
              "      padding: 0 0 0 0;\n",
              "      width: 32px;\n",
              "    }\n",
              "\n",
              "    .colab-df-convert:hover {\n",
              "      background-color: #E2EBFA;\n",
              "      box-shadow: 0px 1px 2px rgba(60, 64, 67, 0.3), 0px 1px 3px 1px rgba(60, 64, 67, 0.15);\n",
              "      fill: #174EA6;\n",
              "    }\n",
              "\n",
              "    [theme=dark] .colab-df-convert {\n",
              "      background-color: #3B4455;\n",
              "      fill: #D2E3FC;\n",
              "    }\n",
              "\n",
              "    [theme=dark] .colab-df-convert:hover {\n",
              "      background-color: #434B5C;\n",
              "      box-shadow: 0px 1px 3px 1px rgba(0, 0, 0, 0.15);\n",
              "      filter: drop-shadow(0px 1px 2px rgba(0, 0, 0, 0.3));\n",
              "      fill: #FFFFFF;\n",
              "    }\n",
              "  </style>\n",
              "\n",
              "      <script>\n",
              "        const buttonEl =\n",
              "          document.querySelector('#df-ed920899-c47d-4582-a25e-d1f01f77438d button.colab-df-convert');\n",
              "        buttonEl.style.display =\n",
              "          google.colab.kernel.accessAllowed ? 'block' : 'none';\n",
              "\n",
              "        async function convertToInteractive(key) {\n",
              "          const element = document.querySelector('#df-ed920899-c47d-4582-a25e-d1f01f77438d');\n",
              "          const dataTable =\n",
              "            await google.colab.kernel.invokeFunction('convertToInteractive',\n",
              "                                                     [key], {});\n",
              "          if (!dataTable) return;\n",
              "\n",
              "          const docLinkHtml = 'Like what you see? Visit the ' +\n",
              "            '<a target=\"_blank\" href=https://colab.research.google.com/notebooks/data_table.ipynb>data table notebook</a>'\n",
              "            + ' to learn more about interactive tables.';\n",
              "          element.innerHTML = '';\n",
              "          dataTable['output_type'] = 'display_data';\n",
              "          await google.colab.output.renderOutput(dataTable, element);\n",
              "          const docLink = document.createElement('div');\n",
              "          docLink.innerHTML = docLinkHtml;\n",
              "          element.appendChild(docLink);\n",
              "        }\n",
              "      </script>\n",
              "    </div>\n",
              "  </div>\n",
              "  "
            ]
          },
          "metadata": {},
          "execution_count": 54
        }
      ]
    },
    {
      "cell_type": "markdown",
      "source": [
        "##ผู้ประเมินคนที่ 1"
      ],
      "metadata": {
        "id": "TmArigdlUJh6"
      }
    },
    {
      "cell_type": "code",
      "source": [
        "#เลือกคอลัมน์ผู้ประเมินคนที่ 1 \n",
        "s1 = df3[df3['ID ผู้ประเมิน']==1]\n",
        "s1.count()"
      ],
      "metadata": {
        "outputId": "01b696a8-25fa-4c1e-a385-17c632f41f69",
        "colab": {
          "base_uri": "https://localhost:8080/"
        },
        "id": "V2nuUsIyUJh6"
      },
      "execution_count": 55,
      "outputs": [
        {
          "output_type": "execute_result",
          "data": {
            "text/plain": [
              "ID ผู้ประเมิน                     10\n",
              "post id                           10\n",
              "property_type                     10\n",
              "ความมั่นใจในการเมินราคาทรัพย์     10\n",
              "ราคาทรัพย์                        10\n",
              "ประเมินราคาซื้อ-ขาย               10\n",
              "ปัจจัยในการประเมินราคาซื้อ-ขาย    10\n",
              "เหตุผลไม่มั่นใจราคาประเมิน         0\n",
              "ให้คะแนนทรัพย์                    10\n",
              "Unnamed: 9                        10\n",
              "Unnamed: 10                       10\n",
              "dtype: int64"
            ]
          },
          "metadata": {},
          "execution_count": 55
        }
      ]
    },
    {
      "cell_type": "markdown",
      "source": [
        "ผู้ประเมินคนที่ 1 ประเมินคอนโดไว้ทั้งหมด 10 ทรัพย์"
      ],
      "metadata": {
        "id": "YEof2MKLUJh7"
      }
    },
    {
      "cell_type": "code",
      "source": [
        "s1.describe()"
      ],
      "metadata": {
        "outputId": "1a13f8f1-615b-41f0-a28b-7f6902664273",
        "colab": {
          "base_uri": "https://localhost:8080/",
          "height": 300
        },
        "id": "Ua0AtoPAUJh8"
      },
      "execution_count": 56,
      "outputs": [
        {
          "output_type": "execute_result",
          "data": {
            "text/plain": [
              "       ID ผู้ประเมิน      post id    ราคาทรัพย์  ประเมินราคาซื้อ-ขาย  \\\n",
              "count           10.0    10.000000  1.000000e+01         1.000000e+01   \n",
              "mean             1.0  1188.900000  2.387800e+06         2.275000e+06   \n",
              "std              0.0   694.328845  1.076989e+06         6.705098e+05   \n",
              "min              1.0    32.000000  1.280000e+06         1.500000e+06   \n",
              "25%              1.0   801.000000  1.625000e+06         1.650000e+06   \n",
              "50%              1.0  1526.000000  1.895000e+06         2.250000e+06   \n",
              "75%              1.0  1640.750000  3.234500e+06         2.775000e+06   \n",
              "max              1.0  1840.000000  4.290000e+06         3.500000e+06   \n",
              "\n",
              "       เหตุผลไม่มั่นใจราคาประเมิน  Unnamed: 9  \n",
              "count                         0.0   10.000000  \n",
              "mean                          NaN    3.900000  \n",
              "std                           NaN    0.316228  \n",
              "min                           NaN    3.000000  \n",
              "25%                           NaN    4.000000  \n",
              "50%                           NaN    4.000000  \n",
              "75%                           NaN    4.000000  \n",
              "max                           NaN    4.000000  "
            ],
            "text/html": [
              "\n",
              "  <div id=\"df-05cfcce9-286e-4e29-a5bd-9705534312c0\">\n",
              "    <div class=\"colab-df-container\">\n",
              "      <div>\n",
              "<style scoped>\n",
              "    .dataframe tbody tr th:only-of-type {\n",
              "        vertical-align: middle;\n",
              "    }\n",
              "\n",
              "    .dataframe tbody tr th {\n",
              "        vertical-align: top;\n",
              "    }\n",
              "\n",
              "    .dataframe thead th {\n",
              "        text-align: right;\n",
              "    }\n",
              "</style>\n",
              "<table border=\"1\" class=\"dataframe\">\n",
              "  <thead>\n",
              "    <tr style=\"text-align: right;\">\n",
              "      <th></th>\n",
              "      <th>ID ผู้ประเมิน</th>\n",
              "      <th>post id</th>\n",
              "      <th>ราคาทรัพย์</th>\n",
              "      <th>ประเมินราคาซื้อ-ขาย</th>\n",
              "      <th>เหตุผลไม่มั่นใจราคาประเมิน</th>\n",
              "      <th>Unnamed: 9</th>\n",
              "    </tr>\n",
              "  </thead>\n",
              "  <tbody>\n",
              "    <tr>\n",
              "      <th>count</th>\n",
              "      <td>10.0</td>\n",
              "      <td>10.000000</td>\n",
              "      <td>1.000000e+01</td>\n",
              "      <td>1.000000e+01</td>\n",
              "      <td>0.0</td>\n",
              "      <td>10.000000</td>\n",
              "    </tr>\n",
              "    <tr>\n",
              "      <th>mean</th>\n",
              "      <td>1.0</td>\n",
              "      <td>1188.900000</td>\n",
              "      <td>2.387800e+06</td>\n",
              "      <td>2.275000e+06</td>\n",
              "      <td>NaN</td>\n",
              "      <td>3.900000</td>\n",
              "    </tr>\n",
              "    <tr>\n",
              "      <th>std</th>\n",
              "      <td>0.0</td>\n",
              "      <td>694.328845</td>\n",
              "      <td>1.076989e+06</td>\n",
              "      <td>6.705098e+05</td>\n",
              "      <td>NaN</td>\n",
              "      <td>0.316228</td>\n",
              "    </tr>\n",
              "    <tr>\n",
              "      <th>min</th>\n",
              "      <td>1.0</td>\n",
              "      <td>32.000000</td>\n",
              "      <td>1.280000e+06</td>\n",
              "      <td>1.500000e+06</td>\n",
              "      <td>NaN</td>\n",
              "      <td>3.000000</td>\n",
              "    </tr>\n",
              "    <tr>\n",
              "      <th>25%</th>\n",
              "      <td>1.0</td>\n",
              "      <td>801.000000</td>\n",
              "      <td>1.625000e+06</td>\n",
              "      <td>1.650000e+06</td>\n",
              "      <td>NaN</td>\n",
              "      <td>4.000000</td>\n",
              "    </tr>\n",
              "    <tr>\n",
              "      <th>50%</th>\n",
              "      <td>1.0</td>\n",
              "      <td>1526.000000</td>\n",
              "      <td>1.895000e+06</td>\n",
              "      <td>2.250000e+06</td>\n",
              "      <td>NaN</td>\n",
              "      <td>4.000000</td>\n",
              "    </tr>\n",
              "    <tr>\n",
              "      <th>75%</th>\n",
              "      <td>1.0</td>\n",
              "      <td>1640.750000</td>\n",
              "      <td>3.234500e+06</td>\n",
              "      <td>2.775000e+06</td>\n",
              "      <td>NaN</td>\n",
              "      <td>4.000000</td>\n",
              "    </tr>\n",
              "    <tr>\n",
              "      <th>max</th>\n",
              "      <td>1.0</td>\n",
              "      <td>1840.000000</td>\n",
              "      <td>4.290000e+06</td>\n",
              "      <td>3.500000e+06</td>\n",
              "      <td>NaN</td>\n",
              "      <td>4.000000</td>\n",
              "    </tr>\n",
              "  </tbody>\n",
              "</table>\n",
              "</div>\n",
              "      <button class=\"colab-df-convert\" onclick=\"convertToInteractive('df-05cfcce9-286e-4e29-a5bd-9705534312c0')\"\n",
              "              title=\"Convert this dataframe to an interactive table.\"\n",
              "              style=\"display:none;\">\n",
              "        \n",
              "  <svg xmlns=\"http://www.w3.org/2000/svg\" height=\"24px\"viewBox=\"0 0 24 24\"\n",
              "       width=\"24px\">\n",
              "    <path d=\"M0 0h24v24H0V0z\" fill=\"none\"/>\n",
              "    <path d=\"M18.56 5.44l.94 2.06.94-2.06 2.06-.94-2.06-.94-.94-2.06-.94 2.06-2.06.94zm-11 1L8.5 8.5l.94-2.06 2.06-.94-2.06-.94L8.5 2.5l-.94 2.06-2.06.94zm10 10l.94 2.06.94-2.06 2.06-.94-2.06-.94-.94-2.06-.94 2.06-2.06.94z\"/><path d=\"M17.41 7.96l-1.37-1.37c-.4-.4-.92-.59-1.43-.59-.52 0-1.04.2-1.43.59L10.3 9.45l-7.72 7.72c-.78.78-.78 2.05 0 2.83L4 21.41c.39.39.9.59 1.41.59.51 0 1.02-.2 1.41-.59l7.78-7.78 2.81-2.81c.8-.78.8-2.07 0-2.86zM5.41 20L4 18.59l7.72-7.72 1.47 1.35L5.41 20z\"/>\n",
              "  </svg>\n",
              "      </button>\n",
              "      \n",
              "  <style>\n",
              "    .colab-df-container {\n",
              "      display:flex;\n",
              "      flex-wrap:wrap;\n",
              "      gap: 12px;\n",
              "    }\n",
              "\n",
              "    .colab-df-convert {\n",
              "      background-color: #E8F0FE;\n",
              "      border: none;\n",
              "      border-radius: 50%;\n",
              "      cursor: pointer;\n",
              "      display: none;\n",
              "      fill: #1967D2;\n",
              "      height: 32px;\n",
              "      padding: 0 0 0 0;\n",
              "      width: 32px;\n",
              "    }\n",
              "\n",
              "    .colab-df-convert:hover {\n",
              "      background-color: #E2EBFA;\n",
              "      box-shadow: 0px 1px 2px rgba(60, 64, 67, 0.3), 0px 1px 3px 1px rgba(60, 64, 67, 0.15);\n",
              "      fill: #174EA6;\n",
              "    }\n",
              "\n",
              "    [theme=dark] .colab-df-convert {\n",
              "      background-color: #3B4455;\n",
              "      fill: #D2E3FC;\n",
              "    }\n",
              "\n",
              "    [theme=dark] .colab-df-convert:hover {\n",
              "      background-color: #434B5C;\n",
              "      box-shadow: 0px 1px 3px 1px rgba(0, 0, 0, 0.15);\n",
              "      filter: drop-shadow(0px 1px 2px rgba(0, 0, 0, 0.3));\n",
              "      fill: #FFFFFF;\n",
              "    }\n",
              "  </style>\n",
              "\n",
              "      <script>\n",
              "        const buttonEl =\n",
              "          document.querySelector('#df-05cfcce9-286e-4e29-a5bd-9705534312c0 button.colab-df-convert');\n",
              "        buttonEl.style.display =\n",
              "          google.colab.kernel.accessAllowed ? 'block' : 'none';\n",
              "\n",
              "        async function convertToInteractive(key) {\n",
              "          const element = document.querySelector('#df-05cfcce9-286e-4e29-a5bd-9705534312c0');\n",
              "          const dataTable =\n",
              "            await google.colab.kernel.invokeFunction('convertToInteractive',\n",
              "                                                     [key], {});\n",
              "          if (!dataTable) return;\n",
              "\n",
              "          const docLinkHtml = 'Like what you see? Visit the ' +\n",
              "            '<a target=\"_blank\" href=https://colab.research.google.com/notebooks/data_table.ipynb>data table notebook</a>'\n",
              "            + ' to learn more about interactive tables.';\n",
              "          element.innerHTML = '';\n",
              "          dataTable['output_type'] = 'display_data';\n",
              "          await google.colab.output.renderOutput(dataTable, element);\n",
              "          const docLink = document.createElement('div');\n",
              "          docLink.innerHTML = docLinkHtml;\n",
              "          element.appendChild(docLink);\n",
              "        }\n",
              "      </script>\n",
              "    </div>\n",
              "  </div>\n",
              "  "
            ]
          },
          "metadata": {},
          "execution_count": 56
        }
      ]
    },
    {
      "cell_type": "markdown",
      "source": [
        "- ราคาซื้อ-ขายที่น้อยที่สุดของสินทรัพย์ที่ดินของคนที่ 1 = 1.280000e+06\t\n",
        "- ราคาซื้อ-ขายที่มากที่สุดของสินทรัพย์ที่ดินของคนที่ 1 = 4.290000e+06"
      ],
      "metadata": {
        "id": "G392GavjUJh8"
      }
    },
    {
      "cell_type": "code",
      "source": [
        "s1['ความมั่นใจในการเมินราคาทรัพย์'].value_counts()"
      ],
      "metadata": {
        "outputId": "cba8d751-0785-4069-f1a8-ca4121c854a6",
        "colab": {
          "base_uri": "https://localhost:8080/"
        },
        "id": "rvUpybiMUJh9"
      },
      "execution_count": 57,
      "outputs": [
        {
          "output_type": "execute_result",
          "data": {
            "text/plain": [
              "มั่นใจ    10\n",
              "Name: ความมั่นใจในการเมินราคาทรัพย์, dtype: int64"
            ]
          },
          "metadata": {},
          "execution_count": 57
        }
      ]
    },
    {
      "cell_type": "code",
      "source": [
        "s1['ให้คะแนนทรัพย์'].value_counts()"
      ],
      "metadata": {
        "outputId": "eb7a5f49-2e91-4e87-a135-1b87a9caf93d",
        "colab": {
          "base_uri": "https://localhost:8080/"
        },
        "id": "WpBi83h2UJh9"
      },
      "execution_count": 58,
      "outputs": [
        {
          "output_type": "execute_result",
          "data": {
            "text/plain": [
              "4 ขายได้ ใช้ระยะเวลา 4 - 6 เดือน     9\n",
              "3 ขายได้ ใช้ระยะเวลา 7 - 12 เดือน    1\n",
              "Name: ให้คะแนนทรัพย์, dtype: int64"
            ]
          },
          "metadata": {},
          "execution_count": 58
        }
      ]
    },
    {
      "cell_type": "markdown",
      "source": [
        "#MAPE ราคาทรัพย์เป็นหลัก เทียบ ผู้ประเมิน\n",
        "- โดยราคาทรัพย์เป็นหลัก เทียบกับผู้ประเมินคนที่ 1 มีค่า MAPE เท่ากับ 17.34926594625026\n"
      ],
      "metadata": {
        "id": "V96LoIHW9AFj"
      }
    },
    {
      "cell_type": "code",
      "source": [
        "from sklearn.metrics import mean_absolute_percentage_error\n",
        "y_true = s1['ราคาทรัพย์']\n",
        "y_pred = s1['ประเมินราคาซื้อ-ขาย']\n",
        "mean_absolute_percentage_error(y_true, y_pred) * 100"
      ],
      "metadata": {
        "colab": {
          "base_uri": "https://localhost:8080/"
        },
        "id": "tCRQmBwp9Gbz",
        "outputId": "7078225a-9962-400a-eecc-beb5dd59ef9c"
      },
      "execution_count": 99,
      "outputs": [
        {
          "output_type": "execute_result",
          "data": {
            "text/plain": [
              "17.34926594625026"
            ]
          },
          "metadata": {},
          "execution_count": 99
        }
      ]
    },
    {
      "cell_type": "markdown",
      "source": [
        "#ข้อมูลประเมิน(ทาวน์โฮม)"
      ],
      "metadata": {
        "id": "91V3pQv5UyA-"
      }
    },
    {
      "cell_type": "code",
      "source": [
        "df4.head()"
      ],
      "metadata": {
        "colab": {
          "base_uri": "https://localhost:8080/",
          "height": 406
        },
        "outputId": "5b9bfb49-d44e-4210-cb20-90ac23346d43",
        "id": "iSa8k4vpUyA_"
      },
      "execution_count": 59,
      "outputs": [
        {
          "output_type": "execute_result",
          "data": {
            "text/plain": [
              "   ID ผู้ประเมิน                              post id property_type  \\\n",
              "0              1  https://nayoo.co/khonkaen/posts/548      ทาวน์โฮม   \n",
              "1              2  https://nayoo.co/khonkaen/posts/548      ทาวน์โฮม   \n",
              "2              1  https://nayoo.co/khonkaen/posts/549      ทาวน์โฮม   \n",
              "3              2  https://nayoo.co/khonkaen/posts/549      ทาวน์โฮม   \n",
              "4              1  https://nayoo.co/khonkaen/posts/579      ทาวน์โฮม   \n",
              "\n",
              "  ความมั่นใจในการเมินราคาทรัพย์  ราคาทรัพย์  ประเมินราคาซื้อ-ขาย  \\\n",
              "0                        มั่นใจ   1045000.0             700000.0   \n",
              "1                        มั่นใจ   1045000.0            1500000.0   \n",
              "2                        มั่นใจ    935000.0             700000.0   \n",
              "3                        มั่นใจ    935000.0            1500000.0   \n",
              "4                        มั่นใจ   3520000.0            3500000.0   \n",
              "\n",
              "  ปัจจัยในการประเมินราคาซื้อ-ขาย  เหตุผลไม่มั่นใจราคาประเมิน  \\\n",
              "0                   5,000-15,000                         NaN   \n",
              "1      ราคาซื้อขาย 1-2 ล้าน/คูหา                         NaN   \n",
              "2                   5,000-15,000                         NaN   \n",
              "3      ราคาเสนอขาย 1-2 ล้าน/คูหา                         NaN   \n",
              "4                   8,000-80,000                         NaN   \n",
              "\n",
              "                       ให้คะแนนทรัพย์  Unnamed: 9  Unnamed: 10  Unnamed: 11  \\\n",
              "0  2 ขายได้ยาก ใช้ระยะเวลามากว่า 1 ปี         NaN          NaN          NaN   \n",
              "1                   1 ขายไม่ได้แน่นอน         NaN          NaN          NaN   \n",
              "2  2 ขายได้ยาก ใช้ระยะเวลามากว่า 1 ปี         NaN          NaN          NaN   \n",
              "3                   1 ขายไม่ได้แน่นอน         NaN          NaN          NaN   \n",
              "4    4 ขายได้ ใช้ระยะเวลา 4 - 6 เดือน         NaN          NaN          NaN   \n",
              "\n",
              "   Unnamed: 12  \n",
              "0        120.0  \n",
              "1          NaN  \n",
              "2          NaN  \n",
              "3          NaN  \n",
              "4          NaN  "
            ],
            "text/html": [
              "\n",
              "  <div id=\"df-e01a5cf3-14e3-4da4-a9b3-e136c4c92a65\">\n",
              "    <div class=\"colab-df-container\">\n",
              "      <div>\n",
              "<style scoped>\n",
              "    .dataframe tbody tr th:only-of-type {\n",
              "        vertical-align: middle;\n",
              "    }\n",
              "\n",
              "    .dataframe tbody tr th {\n",
              "        vertical-align: top;\n",
              "    }\n",
              "\n",
              "    .dataframe thead th {\n",
              "        text-align: right;\n",
              "    }\n",
              "</style>\n",
              "<table border=\"1\" class=\"dataframe\">\n",
              "  <thead>\n",
              "    <tr style=\"text-align: right;\">\n",
              "      <th></th>\n",
              "      <th>ID ผู้ประเมิน</th>\n",
              "      <th>post id</th>\n",
              "      <th>property_type</th>\n",
              "      <th>ความมั่นใจในการเมินราคาทรัพย์</th>\n",
              "      <th>ราคาทรัพย์</th>\n",
              "      <th>ประเมินราคาซื้อ-ขาย</th>\n",
              "      <th>ปัจจัยในการประเมินราคาซื้อ-ขาย</th>\n",
              "      <th>เหตุผลไม่มั่นใจราคาประเมิน</th>\n",
              "      <th>ให้คะแนนทรัพย์</th>\n",
              "      <th>Unnamed: 9</th>\n",
              "      <th>Unnamed: 10</th>\n",
              "      <th>Unnamed: 11</th>\n",
              "      <th>Unnamed: 12</th>\n",
              "    </tr>\n",
              "  </thead>\n",
              "  <tbody>\n",
              "    <tr>\n",
              "      <th>0</th>\n",
              "      <td>1</td>\n",
              "      <td>https://nayoo.co/khonkaen/posts/548</td>\n",
              "      <td>ทาวน์โฮม</td>\n",
              "      <td>มั่นใจ</td>\n",
              "      <td>1045000.0</td>\n",
              "      <td>700000.0</td>\n",
              "      <td>5,000-15,000</td>\n",
              "      <td>NaN</td>\n",
              "      <td>2 ขายได้ยาก ใช้ระยะเวลามากว่า 1 ปี</td>\n",
              "      <td>NaN</td>\n",
              "      <td>NaN</td>\n",
              "      <td>NaN</td>\n",
              "      <td>120.0</td>\n",
              "    </tr>\n",
              "    <tr>\n",
              "      <th>1</th>\n",
              "      <td>2</td>\n",
              "      <td>https://nayoo.co/khonkaen/posts/548</td>\n",
              "      <td>ทาวน์โฮม</td>\n",
              "      <td>มั่นใจ</td>\n",
              "      <td>1045000.0</td>\n",
              "      <td>1500000.0</td>\n",
              "      <td>ราคาซื้อขาย 1-2 ล้าน/คูหา</td>\n",
              "      <td>NaN</td>\n",
              "      <td>1 ขายไม่ได้แน่นอน</td>\n",
              "      <td>NaN</td>\n",
              "      <td>NaN</td>\n",
              "      <td>NaN</td>\n",
              "      <td>NaN</td>\n",
              "    </tr>\n",
              "    <tr>\n",
              "      <th>2</th>\n",
              "      <td>1</td>\n",
              "      <td>https://nayoo.co/khonkaen/posts/549</td>\n",
              "      <td>ทาวน์โฮม</td>\n",
              "      <td>มั่นใจ</td>\n",
              "      <td>935000.0</td>\n",
              "      <td>700000.0</td>\n",
              "      <td>5,000-15,000</td>\n",
              "      <td>NaN</td>\n",
              "      <td>2 ขายได้ยาก ใช้ระยะเวลามากว่า 1 ปี</td>\n",
              "      <td>NaN</td>\n",
              "      <td>NaN</td>\n",
              "      <td>NaN</td>\n",
              "      <td>NaN</td>\n",
              "    </tr>\n",
              "    <tr>\n",
              "      <th>3</th>\n",
              "      <td>2</td>\n",
              "      <td>https://nayoo.co/khonkaen/posts/549</td>\n",
              "      <td>ทาวน์โฮม</td>\n",
              "      <td>มั่นใจ</td>\n",
              "      <td>935000.0</td>\n",
              "      <td>1500000.0</td>\n",
              "      <td>ราคาเสนอขาย 1-2 ล้าน/คูหา</td>\n",
              "      <td>NaN</td>\n",
              "      <td>1 ขายไม่ได้แน่นอน</td>\n",
              "      <td>NaN</td>\n",
              "      <td>NaN</td>\n",
              "      <td>NaN</td>\n",
              "      <td>NaN</td>\n",
              "    </tr>\n",
              "    <tr>\n",
              "      <th>4</th>\n",
              "      <td>1</td>\n",
              "      <td>https://nayoo.co/khonkaen/posts/579</td>\n",
              "      <td>ทาวน์โฮม</td>\n",
              "      <td>มั่นใจ</td>\n",
              "      <td>3520000.0</td>\n",
              "      <td>3500000.0</td>\n",
              "      <td>8,000-80,000</td>\n",
              "      <td>NaN</td>\n",
              "      <td>4 ขายได้ ใช้ระยะเวลา 4 - 6 เดือน</td>\n",
              "      <td>NaN</td>\n",
              "      <td>NaN</td>\n",
              "      <td>NaN</td>\n",
              "      <td>NaN</td>\n",
              "    </tr>\n",
              "  </tbody>\n",
              "</table>\n",
              "</div>\n",
              "      <button class=\"colab-df-convert\" onclick=\"convertToInteractive('df-e01a5cf3-14e3-4da4-a9b3-e136c4c92a65')\"\n",
              "              title=\"Convert this dataframe to an interactive table.\"\n",
              "              style=\"display:none;\">\n",
              "        \n",
              "  <svg xmlns=\"http://www.w3.org/2000/svg\" height=\"24px\"viewBox=\"0 0 24 24\"\n",
              "       width=\"24px\">\n",
              "    <path d=\"M0 0h24v24H0V0z\" fill=\"none\"/>\n",
              "    <path d=\"M18.56 5.44l.94 2.06.94-2.06 2.06-.94-2.06-.94-.94-2.06-.94 2.06-2.06.94zm-11 1L8.5 8.5l.94-2.06 2.06-.94-2.06-.94L8.5 2.5l-.94 2.06-2.06.94zm10 10l.94 2.06.94-2.06 2.06-.94-2.06-.94-.94-2.06-.94 2.06-2.06.94z\"/><path d=\"M17.41 7.96l-1.37-1.37c-.4-.4-.92-.59-1.43-.59-.52 0-1.04.2-1.43.59L10.3 9.45l-7.72 7.72c-.78.78-.78 2.05 0 2.83L4 21.41c.39.39.9.59 1.41.59.51 0 1.02-.2 1.41-.59l7.78-7.78 2.81-2.81c.8-.78.8-2.07 0-2.86zM5.41 20L4 18.59l7.72-7.72 1.47 1.35L5.41 20z\"/>\n",
              "  </svg>\n",
              "      </button>\n",
              "      \n",
              "  <style>\n",
              "    .colab-df-container {\n",
              "      display:flex;\n",
              "      flex-wrap:wrap;\n",
              "      gap: 12px;\n",
              "    }\n",
              "\n",
              "    .colab-df-convert {\n",
              "      background-color: #E8F0FE;\n",
              "      border: none;\n",
              "      border-radius: 50%;\n",
              "      cursor: pointer;\n",
              "      display: none;\n",
              "      fill: #1967D2;\n",
              "      height: 32px;\n",
              "      padding: 0 0 0 0;\n",
              "      width: 32px;\n",
              "    }\n",
              "\n",
              "    .colab-df-convert:hover {\n",
              "      background-color: #E2EBFA;\n",
              "      box-shadow: 0px 1px 2px rgba(60, 64, 67, 0.3), 0px 1px 3px 1px rgba(60, 64, 67, 0.15);\n",
              "      fill: #174EA6;\n",
              "    }\n",
              "\n",
              "    [theme=dark] .colab-df-convert {\n",
              "      background-color: #3B4455;\n",
              "      fill: #D2E3FC;\n",
              "    }\n",
              "\n",
              "    [theme=dark] .colab-df-convert:hover {\n",
              "      background-color: #434B5C;\n",
              "      box-shadow: 0px 1px 3px 1px rgba(0, 0, 0, 0.15);\n",
              "      filter: drop-shadow(0px 1px 2px rgba(0, 0, 0, 0.3));\n",
              "      fill: #FFFFFF;\n",
              "    }\n",
              "  </style>\n",
              "\n",
              "      <script>\n",
              "        const buttonEl =\n",
              "          document.querySelector('#df-e01a5cf3-14e3-4da4-a9b3-e136c4c92a65 button.colab-df-convert');\n",
              "        buttonEl.style.display =\n",
              "          google.colab.kernel.accessAllowed ? 'block' : 'none';\n",
              "\n",
              "        async function convertToInteractive(key) {\n",
              "          const element = document.querySelector('#df-e01a5cf3-14e3-4da4-a9b3-e136c4c92a65');\n",
              "          const dataTable =\n",
              "            await google.colab.kernel.invokeFunction('convertToInteractive',\n",
              "                                                     [key], {});\n",
              "          if (!dataTable) return;\n",
              "\n",
              "          const docLinkHtml = 'Like what you see? Visit the ' +\n",
              "            '<a target=\"_blank\" href=https://colab.research.google.com/notebooks/data_table.ipynb>data table notebook</a>'\n",
              "            + ' to learn more about interactive tables.';\n",
              "          element.innerHTML = '';\n",
              "          dataTable['output_type'] = 'display_data';\n",
              "          await google.colab.output.renderOutput(dataTable, element);\n",
              "          const docLink = document.createElement('div');\n",
              "          docLink.innerHTML = docLinkHtml;\n",
              "          element.appendChild(docLink);\n",
              "        }\n",
              "      </script>\n",
              "    </div>\n",
              "  </div>\n",
              "  "
            ]
          },
          "metadata": {},
          "execution_count": 59
        }
      ]
    },
    {
      "cell_type": "markdown",
      "source": [
        "##ผู้ประเมินคนที่ 1"
      ],
      "metadata": {
        "id": "UV3zOtQhUyA_"
      }
    },
    {
      "cell_type": "code",
      "source": [
        "#เลือกคอลัมน์ผู้ประเมินคนที่ 1 \n",
        "c1 = df4[df4['ID ผู้ประเมิน']==1]\n",
        "c1.count()"
      ],
      "metadata": {
        "colab": {
          "base_uri": "https://localhost:8080/"
        },
        "outputId": "b39f64be-dd3d-408a-af34-5790fb24b3f8",
        "id": "vGGBF39nUyBA"
      },
      "execution_count": 60,
      "outputs": [
        {
          "output_type": "execute_result",
          "data": {
            "text/plain": [
              "ID ผู้ประเมิน                     120\n",
              "post id                           120\n",
              "property_type                     120\n",
              "ความมั่นใจในการเมินราคาทรัพย์     120\n",
              "ราคาทรัพย์                        120\n",
              "ประเมินราคาซื้อ-ขาย               120\n",
              "ปัจจัยในการประเมินราคาซื้อ-ขาย    120\n",
              "เหตุผลไม่มั่นใจราคาประเมิน          0\n",
              "ให้คะแนนทรัพย์                    120\n",
              "Unnamed: 9                          0\n",
              "Unnamed: 10                         0\n",
              "Unnamed: 11                         0\n",
              "Unnamed: 12                         1\n",
              "dtype: int64"
            ]
          },
          "metadata": {},
          "execution_count": 60
        }
      ]
    },
    {
      "cell_type": "markdown",
      "source": [
        "ผู้ประเมินคนที่ 1 ประเมินทาวน์โฮมไว้ทั้งหมด 120 ทรัพย์"
      ],
      "metadata": {
        "id": "kjTI4P3FUyBA"
      }
    },
    {
      "cell_type": "code",
      "source": [
        "c1.describe()"
      ],
      "metadata": {
        "colab": {
          "base_uri": "https://localhost:8080/",
          "height": 300
        },
        "outputId": "2fb69768-ec19-486d-8c9f-042f96f0c2fd",
        "id": "KIt6VtdWUyBB"
      },
      "execution_count": 61,
      "outputs": [
        {
          "output_type": "execute_result",
          "data": {
            "text/plain": [
              "       ID ผู้ประเมิน    ราคาทรัพย์  ประเมินราคาซื้อ-ขาย  \\\n",
              "count          120.0  1.200000e+02         1.200000e+02   \n",
              "mean             1.0  1.926117e+06         1.832750e+06   \n",
              "std              0.0  8.295864e+05         8.027065e+05   \n",
              "min              1.0  5.300000e+05         3.500000e+05   \n",
              "25%              1.0  1.345000e+06         1.300000e+06   \n",
              "50%              1.0  1.750000e+06         1.600000e+06   \n",
              "75%              1.0  2.437500e+06         2.500000e+06   \n",
              "max              1.0  4.730000e+06         4.200000e+06   \n",
              "\n",
              "       เหตุผลไม่มั่นใจราคาประเมิน  Unnamed: 9  Unnamed: 10  Unnamed: 11  \\\n",
              "count                         0.0         0.0          0.0          0.0   \n",
              "mean                          NaN         NaN          NaN          NaN   \n",
              "std                           NaN         NaN          NaN          NaN   \n",
              "min                           NaN         NaN          NaN          NaN   \n",
              "25%                           NaN         NaN          NaN          NaN   \n",
              "50%                           NaN         NaN          NaN          NaN   \n",
              "75%                           NaN         NaN          NaN          NaN   \n",
              "max                           NaN         NaN          NaN          NaN   \n",
              "\n",
              "       Unnamed: 12  \n",
              "count          1.0  \n",
              "mean         120.0  \n",
              "std            NaN  \n",
              "min          120.0  \n",
              "25%          120.0  \n",
              "50%          120.0  \n",
              "75%          120.0  \n",
              "max          120.0  "
            ],
            "text/html": [
              "\n",
              "  <div id=\"df-2eb50cdc-134f-44a4-b8ea-920eac560323\">\n",
              "    <div class=\"colab-df-container\">\n",
              "      <div>\n",
              "<style scoped>\n",
              "    .dataframe tbody tr th:only-of-type {\n",
              "        vertical-align: middle;\n",
              "    }\n",
              "\n",
              "    .dataframe tbody tr th {\n",
              "        vertical-align: top;\n",
              "    }\n",
              "\n",
              "    .dataframe thead th {\n",
              "        text-align: right;\n",
              "    }\n",
              "</style>\n",
              "<table border=\"1\" class=\"dataframe\">\n",
              "  <thead>\n",
              "    <tr style=\"text-align: right;\">\n",
              "      <th></th>\n",
              "      <th>ID ผู้ประเมิน</th>\n",
              "      <th>ราคาทรัพย์</th>\n",
              "      <th>ประเมินราคาซื้อ-ขาย</th>\n",
              "      <th>เหตุผลไม่มั่นใจราคาประเมิน</th>\n",
              "      <th>Unnamed: 9</th>\n",
              "      <th>Unnamed: 10</th>\n",
              "      <th>Unnamed: 11</th>\n",
              "      <th>Unnamed: 12</th>\n",
              "    </tr>\n",
              "  </thead>\n",
              "  <tbody>\n",
              "    <tr>\n",
              "      <th>count</th>\n",
              "      <td>120.0</td>\n",
              "      <td>1.200000e+02</td>\n",
              "      <td>1.200000e+02</td>\n",
              "      <td>0.0</td>\n",
              "      <td>0.0</td>\n",
              "      <td>0.0</td>\n",
              "      <td>0.0</td>\n",
              "      <td>1.0</td>\n",
              "    </tr>\n",
              "    <tr>\n",
              "      <th>mean</th>\n",
              "      <td>1.0</td>\n",
              "      <td>1.926117e+06</td>\n",
              "      <td>1.832750e+06</td>\n",
              "      <td>NaN</td>\n",
              "      <td>NaN</td>\n",
              "      <td>NaN</td>\n",
              "      <td>NaN</td>\n",
              "      <td>120.0</td>\n",
              "    </tr>\n",
              "    <tr>\n",
              "      <th>std</th>\n",
              "      <td>0.0</td>\n",
              "      <td>8.295864e+05</td>\n",
              "      <td>8.027065e+05</td>\n",
              "      <td>NaN</td>\n",
              "      <td>NaN</td>\n",
              "      <td>NaN</td>\n",
              "      <td>NaN</td>\n",
              "      <td>NaN</td>\n",
              "    </tr>\n",
              "    <tr>\n",
              "      <th>min</th>\n",
              "      <td>1.0</td>\n",
              "      <td>5.300000e+05</td>\n",
              "      <td>3.500000e+05</td>\n",
              "      <td>NaN</td>\n",
              "      <td>NaN</td>\n",
              "      <td>NaN</td>\n",
              "      <td>NaN</td>\n",
              "      <td>120.0</td>\n",
              "    </tr>\n",
              "    <tr>\n",
              "      <th>25%</th>\n",
              "      <td>1.0</td>\n",
              "      <td>1.345000e+06</td>\n",
              "      <td>1.300000e+06</td>\n",
              "      <td>NaN</td>\n",
              "      <td>NaN</td>\n",
              "      <td>NaN</td>\n",
              "      <td>NaN</td>\n",
              "      <td>120.0</td>\n",
              "    </tr>\n",
              "    <tr>\n",
              "      <th>50%</th>\n",
              "      <td>1.0</td>\n",
              "      <td>1.750000e+06</td>\n",
              "      <td>1.600000e+06</td>\n",
              "      <td>NaN</td>\n",
              "      <td>NaN</td>\n",
              "      <td>NaN</td>\n",
              "      <td>NaN</td>\n",
              "      <td>120.0</td>\n",
              "    </tr>\n",
              "    <tr>\n",
              "      <th>75%</th>\n",
              "      <td>1.0</td>\n",
              "      <td>2.437500e+06</td>\n",
              "      <td>2.500000e+06</td>\n",
              "      <td>NaN</td>\n",
              "      <td>NaN</td>\n",
              "      <td>NaN</td>\n",
              "      <td>NaN</td>\n",
              "      <td>120.0</td>\n",
              "    </tr>\n",
              "    <tr>\n",
              "      <th>max</th>\n",
              "      <td>1.0</td>\n",
              "      <td>4.730000e+06</td>\n",
              "      <td>4.200000e+06</td>\n",
              "      <td>NaN</td>\n",
              "      <td>NaN</td>\n",
              "      <td>NaN</td>\n",
              "      <td>NaN</td>\n",
              "      <td>120.0</td>\n",
              "    </tr>\n",
              "  </tbody>\n",
              "</table>\n",
              "</div>\n",
              "      <button class=\"colab-df-convert\" onclick=\"convertToInteractive('df-2eb50cdc-134f-44a4-b8ea-920eac560323')\"\n",
              "              title=\"Convert this dataframe to an interactive table.\"\n",
              "              style=\"display:none;\">\n",
              "        \n",
              "  <svg xmlns=\"http://www.w3.org/2000/svg\" height=\"24px\"viewBox=\"0 0 24 24\"\n",
              "       width=\"24px\">\n",
              "    <path d=\"M0 0h24v24H0V0z\" fill=\"none\"/>\n",
              "    <path d=\"M18.56 5.44l.94 2.06.94-2.06 2.06-.94-2.06-.94-.94-2.06-.94 2.06-2.06.94zm-11 1L8.5 8.5l.94-2.06 2.06-.94-2.06-.94L8.5 2.5l-.94 2.06-2.06.94zm10 10l.94 2.06.94-2.06 2.06-.94-2.06-.94-.94-2.06-.94 2.06-2.06.94z\"/><path d=\"M17.41 7.96l-1.37-1.37c-.4-.4-.92-.59-1.43-.59-.52 0-1.04.2-1.43.59L10.3 9.45l-7.72 7.72c-.78.78-.78 2.05 0 2.83L4 21.41c.39.39.9.59 1.41.59.51 0 1.02-.2 1.41-.59l7.78-7.78 2.81-2.81c.8-.78.8-2.07 0-2.86zM5.41 20L4 18.59l7.72-7.72 1.47 1.35L5.41 20z\"/>\n",
              "  </svg>\n",
              "      </button>\n",
              "      \n",
              "  <style>\n",
              "    .colab-df-container {\n",
              "      display:flex;\n",
              "      flex-wrap:wrap;\n",
              "      gap: 12px;\n",
              "    }\n",
              "\n",
              "    .colab-df-convert {\n",
              "      background-color: #E8F0FE;\n",
              "      border: none;\n",
              "      border-radius: 50%;\n",
              "      cursor: pointer;\n",
              "      display: none;\n",
              "      fill: #1967D2;\n",
              "      height: 32px;\n",
              "      padding: 0 0 0 0;\n",
              "      width: 32px;\n",
              "    }\n",
              "\n",
              "    .colab-df-convert:hover {\n",
              "      background-color: #E2EBFA;\n",
              "      box-shadow: 0px 1px 2px rgba(60, 64, 67, 0.3), 0px 1px 3px 1px rgba(60, 64, 67, 0.15);\n",
              "      fill: #174EA6;\n",
              "    }\n",
              "\n",
              "    [theme=dark] .colab-df-convert {\n",
              "      background-color: #3B4455;\n",
              "      fill: #D2E3FC;\n",
              "    }\n",
              "\n",
              "    [theme=dark] .colab-df-convert:hover {\n",
              "      background-color: #434B5C;\n",
              "      box-shadow: 0px 1px 3px 1px rgba(0, 0, 0, 0.15);\n",
              "      filter: drop-shadow(0px 1px 2px rgba(0, 0, 0, 0.3));\n",
              "      fill: #FFFFFF;\n",
              "    }\n",
              "  </style>\n",
              "\n",
              "      <script>\n",
              "        const buttonEl =\n",
              "          document.querySelector('#df-2eb50cdc-134f-44a4-b8ea-920eac560323 button.colab-df-convert');\n",
              "        buttonEl.style.display =\n",
              "          google.colab.kernel.accessAllowed ? 'block' : 'none';\n",
              "\n",
              "        async function convertToInteractive(key) {\n",
              "          const element = document.querySelector('#df-2eb50cdc-134f-44a4-b8ea-920eac560323');\n",
              "          const dataTable =\n",
              "            await google.colab.kernel.invokeFunction('convertToInteractive',\n",
              "                                                     [key], {});\n",
              "          if (!dataTable) return;\n",
              "\n",
              "          const docLinkHtml = 'Like what you see? Visit the ' +\n",
              "            '<a target=\"_blank\" href=https://colab.research.google.com/notebooks/data_table.ipynb>data table notebook</a>'\n",
              "            + ' to learn more about interactive tables.';\n",
              "          element.innerHTML = '';\n",
              "          dataTable['output_type'] = 'display_data';\n",
              "          await google.colab.output.renderOutput(dataTable, element);\n",
              "          const docLink = document.createElement('div');\n",
              "          docLink.innerHTML = docLinkHtml;\n",
              "          element.appendChild(docLink);\n",
              "        }\n",
              "      </script>\n",
              "    </div>\n",
              "  </div>\n",
              "  "
            ]
          },
          "metadata": {},
          "execution_count": 61
        }
      ]
    },
    {
      "cell_type": "markdown",
      "source": [
        "- ราคาซื้อ-ขายที่น้อยที่สุดของสินทรัพย์ทาวน์โฮมของคนที่ 1 = 3.500000e+05\t\n",
        "- ราคาซื้อ-ขายที่มากที่สุดของสินทรัพย์ทาวน์โฮมของคนที่ 1 = 4.200000e+06\t"
      ],
      "metadata": {
        "id": "Uq3SXX0xUyBB"
      }
    },
    {
      "cell_type": "code",
      "source": [
        "c1['ความมั่นใจในการเมินราคาทรัพย์'].value_counts()"
      ],
      "metadata": {
        "colab": {
          "base_uri": "https://localhost:8080/"
        },
        "outputId": "71cacb94-d443-45e2-a672-4a56e01dde3c",
        "id": "AClWQTVYUyBC"
      },
      "execution_count": 62,
      "outputs": [
        {
          "output_type": "execute_result",
          "data": {
            "text/plain": [
              "มั่นใจ    120\n",
              "Name: ความมั่นใจในการเมินราคาทรัพย์, dtype: int64"
            ]
          },
          "metadata": {},
          "execution_count": 62
        }
      ]
    },
    {
      "cell_type": "code",
      "source": [
        "c1['ให้คะแนนทรัพย์'].value_counts()"
      ],
      "metadata": {
        "colab": {
          "base_uri": "https://localhost:8080/"
        },
        "outputId": "711feea0-0346-4e4b-fb1b-d5bdf3af73ff",
        "id": "dAuAlFZoUyBC"
      },
      "execution_count": 63,
      "outputs": [
        {
          "output_type": "execute_result",
          "data": {
            "text/plain": [
              "3 ขายได้ ใช้ระยะเวลา 7 - 12 เดือน     100\n",
              "2 ขายได้ยาก ใช้ระยะเวลามากว่า 1 ปี     14\n",
              "4 ขายได้ ใช้ระยะเวลา 4 - 6 เดือน        6\n",
              "Name: ให้คะแนนทรัพย์, dtype: int64"
            ]
          },
          "metadata": {},
          "execution_count": 63
        }
      ]
    },
    {
      "cell_type": "markdown",
      "source": [
        "##ผู้ประเมินคนที่ 2"
      ],
      "metadata": {
        "id": "lrNYmOQCUyBC"
      }
    },
    {
      "cell_type": "code",
      "source": [
        "#เลือกคอลัมน์ผู้ประเมินคนที่ 2\n",
        "c2 = df4[df4['ID ผู้ประเมิน']==2]\n",
        "c2.count()"
      ],
      "metadata": {
        "colab": {
          "base_uri": "https://localhost:8080/"
        },
        "outputId": "e78d9403-61fd-4a48-f772-f7cc0aa91932",
        "id": "IU0IuVgAUyBD"
      },
      "execution_count": 64,
      "outputs": [
        {
          "output_type": "execute_result",
          "data": {
            "text/plain": [
              "ID ผู้ประเมิน                     120\n",
              "post id                           120\n",
              "property_type                     120\n",
              "ความมั่นใจในการเมินราคาทรัพย์     120\n",
              "ราคาทรัพย์                        120\n",
              "ประเมินราคาซื้อ-ขาย               120\n",
              "ปัจจัยในการประเมินราคาซื้อ-ขาย    120\n",
              "เหตุผลไม่มั่นใจราคาประเมิน          0\n",
              "ให้คะแนนทรัพย์                    120\n",
              "Unnamed: 9                          0\n",
              "Unnamed: 10                         0\n",
              "Unnamed: 11                         0\n",
              "Unnamed: 12                         0\n",
              "dtype: int64"
            ]
          },
          "metadata": {},
          "execution_count": 64
        }
      ]
    },
    {
      "cell_type": "markdown",
      "source": [
        "ผู้ประเมินคนที่ 2 ประเมินทาวน์โฮมไว้ทั้งหมด 120 ทรัพย์"
      ],
      "metadata": {
        "id": "sdA3AG2ZUyBD"
      }
    },
    {
      "cell_type": "code",
      "source": [
        "c2.describe()"
      ],
      "metadata": {
        "colab": {
          "base_uri": "https://localhost:8080/",
          "height": 300
        },
        "outputId": "25909aa8-9e52-490d-fae4-c2d8b4701373",
        "id": "-qCn1NOBUyBE"
      },
      "execution_count": 65,
      "outputs": [
        {
          "output_type": "execute_result",
          "data": {
            "text/plain": [
              "       ID ผู้ประเมิน    ราคาทรัพย์  ประเมินราคาซื้อ-ขาย  \\\n",
              "count          120.0  1.200000e+02         1.200000e+02   \n",
              "mean             2.0  1.926117e+06         1.823083e+06   \n",
              "std              0.0  8.295864e+05         7.744988e+05   \n",
              "min              2.0  5.300000e+05         4.000000e+05   \n",
              "25%              2.0  1.345000e+06         1.200000e+06   \n",
              "50%              2.0  1.750000e+06         1.700000e+06   \n",
              "75%              2.0  2.437500e+06         2.300000e+06   \n",
              "max              2.0  4.730000e+06         4.000000e+06   \n",
              "\n",
              "       เหตุผลไม่มั่นใจราคาประเมิน  Unnamed: 9  Unnamed: 10  Unnamed: 11  \\\n",
              "count                         0.0         0.0          0.0          0.0   \n",
              "mean                          NaN         NaN          NaN          NaN   \n",
              "std                           NaN         NaN          NaN          NaN   \n",
              "min                           NaN         NaN          NaN          NaN   \n",
              "25%                           NaN         NaN          NaN          NaN   \n",
              "50%                           NaN         NaN          NaN          NaN   \n",
              "75%                           NaN         NaN          NaN          NaN   \n",
              "max                           NaN         NaN          NaN          NaN   \n",
              "\n",
              "       Unnamed: 12  \n",
              "count          0.0  \n",
              "mean           NaN  \n",
              "std            NaN  \n",
              "min            NaN  \n",
              "25%            NaN  \n",
              "50%            NaN  \n",
              "75%            NaN  \n",
              "max            NaN  "
            ],
            "text/html": [
              "\n",
              "  <div id=\"df-67e2732f-549e-474b-9051-f3d97aed4e4e\">\n",
              "    <div class=\"colab-df-container\">\n",
              "      <div>\n",
              "<style scoped>\n",
              "    .dataframe tbody tr th:only-of-type {\n",
              "        vertical-align: middle;\n",
              "    }\n",
              "\n",
              "    .dataframe tbody tr th {\n",
              "        vertical-align: top;\n",
              "    }\n",
              "\n",
              "    .dataframe thead th {\n",
              "        text-align: right;\n",
              "    }\n",
              "</style>\n",
              "<table border=\"1\" class=\"dataframe\">\n",
              "  <thead>\n",
              "    <tr style=\"text-align: right;\">\n",
              "      <th></th>\n",
              "      <th>ID ผู้ประเมิน</th>\n",
              "      <th>ราคาทรัพย์</th>\n",
              "      <th>ประเมินราคาซื้อ-ขาย</th>\n",
              "      <th>เหตุผลไม่มั่นใจราคาประเมิน</th>\n",
              "      <th>Unnamed: 9</th>\n",
              "      <th>Unnamed: 10</th>\n",
              "      <th>Unnamed: 11</th>\n",
              "      <th>Unnamed: 12</th>\n",
              "    </tr>\n",
              "  </thead>\n",
              "  <tbody>\n",
              "    <tr>\n",
              "      <th>count</th>\n",
              "      <td>120.0</td>\n",
              "      <td>1.200000e+02</td>\n",
              "      <td>1.200000e+02</td>\n",
              "      <td>0.0</td>\n",
              "      <td>0.0</td>\n",
              "      <td>0.0</td>\n",
              "      <td>0.0</td>\n",
              "      <td>0.0</td>\n",
              "    </tr>\n",
              "    <tr>\n",
              "      <th>mean</th>\n",
              "      <td>2.0</td>\n",
              "      <td>1.926117e+06</td>\n",
              "      <td>1.823083e+06</td>\n",
              "      <td>NaN</td>\n",
              "      <td>NaN</td>\n",
              "      <td>NaN</td>\n",
              "      <td>NaN</td>\n",
              "      <td>NaN</td>\n",
              "    </tr>\n",
              "    <tr>\n",
              "      <th>std</th>\n",
              "      <td>0.0</td>\n",
              "      <td>8.295864e+05</td>\n",
              "      <td>7.744988e+05</td>\n",
              "      <td>NaN</td>\n",
              "      <td>NaN</td>\n",
              "      <td>NaN</td>\n",
              "      <td>NaN</td>\n",
              "      <td>NaN</td>\n",
              "    </tr>\n",
              "    <tr>\n",
              "      <th>min</th>\n",
              "      <td>2.0</td>\n",
              "      <td>5.300000e+05</td>\n",
              "      <td>4.000000e+05</td>\n",
              "      <td>NaN</td>\n",
              "      <td>NaN</td>\n",
              "      <td>NaN</td>\n",
              "      <td>NaN</td>\n",
              "      <td>NaN</td>\n",
              "    </tr>\n",
              "    <tr>\n",
              "      <th>25%</th>\n",
              "      <td>2.0</td>\n",
              "      <td>1.345000e+06</td>\n",
              "      <td>1.200000e+06</td>\n",
              "      <td>NaN</td>\n",
              "      <td>NaN</td>\n",
              "      <td>NaN</td>\n",
              "      <td>NaN</td>\n",
              "      <td>NaN</td>\n",
              "    </tr>\n",
              "    <tr>\n",
              "      <th>50%</th>\n",
              "      <td>2.0</td>\n",
              "      <td>1.750000e+06</td>\n",
              "      <td>1.700000e+06</td>\n",
              "      <td>NaN</td>\n",
              "      <td>NaN</td>\n",
              "      <td>NaN</td>\n",
              "      <td>NaN</td>\n",
              "      <td>NaN</td>\n",
              "    </tr>\n",
              "    <tr>\n",
              "      <th>75%</th>\n",
              "      <td>2.0</td>\n",
              "      <td>2.437500e+06</td>\n",
              "      <td>2.300000e+06</td>\n",
              "      <td>NaN</td>\n",
              "      <td>NaN</td>\n",
              "      <td>NaN</td>\n",
              "      <td>NaN</td>\n",
              "      <td>NaN</td>\n",
              "    </tr>\n",
              "    <tr>\n",
              "      <th>max</th>\n",
              "      <td>2.0</td>\n",
              "      <td>4.730000e+06</td>\n",
              "      <td>4.000000e+06</td>\n",
              "      <td>NaN</td>\n",
              "      <td>NaN</td>\n",
              "      <td>NaN</td>\n",
              "      <td>NaN</td>\n",
              "      <td>NaN</td>\n",
              "    </tr>\n",
              "  </tbody>\n",
              "</table>\n",
              "</div>\n",
              "      <button class=\"colab-df-convert\" onclick=\"convertToInteractive('df-67e2732f-549e-474b-9051-f3d97aed4e4e')\"\n",
              "              title=\"Convert this dataframe to an interactive table.\"\n",
              "              style=\"display:none;\">\n",
              "        \n",
              "  <svg xmlns=\"http://www.w3.org/2000/svg\" height=\"24px\"viewBox=\"0 0 24 24\"\n",
              "       width=\"24px\">\n",
              "    <path d=\"M0 0h24v24H0V0z\" fill=\"none\"/>\n",
              "    <path d=\"M18.56 5.44l.94 2.06.94-2.06 2.06-.94-2.06-.94-.94-2.06-.94 2.06-2.06.94zm-11 1L8.5 8.5l.94-2.06 2.06-.94-2.06-.94L8.5 2.5l-.94 2.06-2.06.94zm10 10l.94 2.06.94-2.06 2.06-.94-2.06-.94-.94-2.06-.94 2.06-2.06.94z\"/><path d=\"M17.41 7.96l-1.37-1.37c-.4-.4-.92-.59-1.43-.59-.52 0-1.04.2-1.43.59L10.3 9.45l-7.72 7.72c-.78.78-.78 2.05 0 2.83L4 21.41c.39.39.9.59 1.41.59.51 0 1.02-.2 1.41-.59l7.78-7.78 2.81-2.81c.8-.78.8-2.07 0-2.86zM5.41 20L4 18.59l7.72-7.72 1.47 1.35L5.41 20z\"/>\n",
              "  </svg>\n",
              "      </button>\n",
              "      \n",
              "  <style>\n",
              "    .colab-df-container {\n",
              "      display:flex;\n",
              "      flex-wrap:wrap;\n",
              "      gap: 12px;\n",
              "    }\n",
              "\n",
              "    .colab-df-convert {\n",
              "      background-color: #E8F0FE;\n",
              "      border: none;\n",
              "      border-radius: 50%;\n",
              "      cursor: pointer;\n",
              "      display: none;\n",
              "      fill: #1967D2;\n",
              "      height: 32px;\n",
              "      padding: 0 0 0 0;\n",
              "      width: 32px;\n",
              "    }\n",
              "\n",
              "    .colab-df-convert:hover {\n",
              "      background-color: #E2EBFA;\n",
              "      box-shadow: 0px 1px 2px rgba(60, 64, 67, 0.3), 0px 1px 3px 1px rgba(60, 64, 67, 0.15);\n",
              "      fill: #174EA6;\n",
              "    }\n",
              "\n",
              "    [theme=dark] .colab-df-convert {\n",
              "      background-color: #3B4455;\n",
              "      fill: #D2E3FC;\n",
              "    }\n",
              "\n",
              "    [theme=dark] .colab-df-convert:hover {\n",
              "      background-color: #434B5C;\n",
              "      box-shadow: 0px 1px 3px 1px rgba(0, 0, 0, 0.15);\n",
              "      filter: drop-shadow(0px 1px 2px rgba(0, 0, 0, 0.3));\n",
              "      fill: #FFFFFF;\n",
              "    }\n",
              "  </style>\n",
              "\n",
              "      <script>\n",
              "        const buttonEl =\n",
              "          document.querySelector('#df-67e2732f-549e-474b-9051-f3d97aed4e4e button.colab-df-convert');\n",
              "        buttonEl.style.display =\n",
              "          google.colab.kernel.accessAllowed ? 'block' : 'none';\n",
              "\n",
              "        async function convertToInteractive(key) {\n",
              "          const element = document.querySelector('#df-67e2732f-549e-474b-9051-f3d97aed4e4e');\n",
              "          const dataTable =\n",
              "            await google.colab.kernel.invokeFunction('convertToInteractive',\n",
              "                                                     [key], {});\n",
              "          if (!dataTable) return;\n",
              "\n",
              "          const docLinkHtml = 'Like what you see? Visit the ' +\n",
              "            '<a target=\"_blank\" href=https://colab.research.google.com/notebooks/data_table.ipynb>data table notebook</a>'\n",
              "            + ' to learn more about interactive tables.';\n",
              "          element.innerHTML = '';\n",
              "          dataTable['output_type'] = 'display_data';\n",
              "          await google.colab.output.renderOutput(dataTable, element);\n",
              "          const docLink = document.createElement('div');\n",
              "          docLink.innerHTML = docLinkHtml;\n",
              "          element.appendChild(docLink);\n",
              "        }\n",
              "      </script>\n",
              "    </div>\n",
              "  </div>\n",
              "  "
            ]
          },
          "metadata": {},
          "execution_count": 65
        }
      ]
    },
    {
      "cell_type": "markdown",
      "source": [
        "- ราคาซื้อ-ขายที่น้อยที่สุดของสินทรัพย์ทาวน์โฮมของคนที่ 2 = 4.000000e+05\n",
        "- ราคาซื้อ-ขายที่มากที่สุดของสินทรัพย์ทาวน์โฮมของคนที่ 2 = 4.000000e+06"
      ],
      "metadata": {
        "id": "Iv_t7zKmUyBE"
      }
    },
    {
      "cell_type": "code",
      "source": [
        "c2['ความมั่นใจในการเมินราคาทรัพย์'].value_counts()"
      ],
      "metadata": {
        "colab": {
          "base_uri": "https://localhost:8080/"
        },
        "outputId": "59ad534d-2f29-4811-99ea-545a91e85f7b",
        "id": "hp7_HQOnUyBE"
      },
      "execution_count": 66,
      "outputs": [
        {
          "output_type": "execute_result",
          "data": {
            "text/plain": [
              "มั่นใจ    120\n",
              "Name: ความมั่นใจในการเมินราคาทรัพย์, dtype: int64"
            ]
          },
          "metadata": {},
          "execution_count": 66
        }
      ]
    },
    {
      "cell_type": "code",
      "source": [
        "c2['ให้คะแนนทรัพย์'].value_counts()"
      ],
      "metadata": {
        "colab": {
          "base_uri": "https://localhost:8080/"
        },
        "outputId": "a5c0312a-88d5-4119-c6f7-c2cff911ce6e",
        "id": "uLj4TI2JUyBF"
      },
      "execution_count": 67,
      "outputs": [
        {
          "output_type": "execute_result",
          "data": {
            "text/plain": [
              "3 ขายได้ ใช้ระยะเวลา 7 - 12 เดือน     103\n",
              "2 ขายได้ยาก ใช้ระยะเวลามากว่า 1 ปี      7\n",
              "4 ขายได้ ใช้ระยะเวลา 4 - 6 เดือน        7\n",
              "1 ขายไม่ได้แน่นอน                       2\n",
              "5 ขายง่าย ใช้ระยะเวลา 1 - 3 เดือน       1\n",
              "Name: ให้คะแนนทรัพย์, dtype: int64"
            ]
          },
          "metadata": {},
          "execution_count": 67
        }
      ]
    },
    {
      "cell_type": "markdown",
      "source": [
        "##เปรียบเทียบความแตกต่างในการประเมินราคาทรัพย์(ทาวน์โฮม)ของนักประเมินแต่ละคนและของราคาตั้งขาย\n"
      ],
      "metadata": {
        "id": "6PCDFbvoUyBF"
      }
    },
    {
      "cell_type": "markdown",
      "source": [
        "![image.png](data:image/png;base64,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)"
      ],
      "metadata": {
        "id": "3tJ7SOuyUyBG"
      }
    },
    {
      "cell_type": "code",
      "source": [
        "c2['ประเมิน1'] = c2['post id'].map(c1.set_index('post id')['ประเมินราคาซื้อ-ขาย']);\n",
        "c2.head()"
      ],
      "metadata": {
        "colab": {
          "base_uri": "https://localhost:8080/",
          "height": 545
        },
        "outputId": "6042c48e-54eb-4bf4-dcae-25b08fff0116",
        "id": "fn3yIsniUyBI"
      },
      "execution_count": 68,
      "outputs": [
        {
          "output_type": "stream",
          "name": "stderr",
          "text": [
            "<ipython-input-68-2beab86c4d4c>:1: SettingWithCopyWarning: \n",
            "A value is trying to be set on a copy of a slice from a DataFrame.\n",
            "Try using .loc[row_indexer,col_indexer] = value instead\n",
            "\n",
            "See the caveats in the documentation: https://pandas.pydata.org/pandas-docs/stable/user_guide/indexing.html#returning-a-view-versus-a-copy\n",
            "  c2['ประเมิน1'] = c2['post id'].map(c1.set_index('post id')['ประเมินราคาซื้อ-ขาย']);\n"
          ]
        },
        {
          "output_type": "execute_result",
          "data": {
            "text/plain": [
              "   ID ผู้ประเมิน                              post id property_type  \\\n",
              "1              2  https://nayoo.co/khonkaen/posts/548      ทาวน์โฮม   \n",
              "3              2  https://nayoo.co/khonkaen/posts/549      ทาวน์โฮม   \n",
              "5              2  https://nayoo.co/khonkaen/posts/579      ทาวน์โฮม   \n",
              "7              2  https://nayoo.co/khonkaen/posts/580      ทาวน์โฮม   \n",
              "9              2  https://nayoo.co/khonkaen/posts/582      ทาวน์โฮม   \n",
              "\n",
              "  ความมั่นใจในการเมินราคาทรัพย์  ราคาทรัพย์  ประเมินราคาซื้อ-ขาย  \\\n",
              "1                        มั่นใจ   1045000.0            1500000.0   \n",
              "3                        มั่นใจ    935000.0            1500000.0   \n",
              "5                        มั่นใจ   3520000.0            4000000.0   \n",
              "7                        มั่นใจ   3850000.0            3200000.0   \n",
              "9                        มั่นใจ    990000.0             800000.0   \n",
              "\n",
              "               ปัจจัยในการประเมินราคาซื้อ-ขาย  เหตุผลไม่มั่นใจราคาประเมิน  \\\n",
              "1                   ราคาซื้อขาย 1-2 ล้าน/คูหา                         NaN   \n",
              "3                   ราคาเสนอขาย 1-2 ล้าน/คูหา                         NaN   \n",
              "5                ราคาเสนอขาย 3-5 ล้านบาท/คูหา                         NaN   \n",
              "7            ราคาเสนอขาย 3 - 5 ล้านบาท / คูหา                         NaN   \n",
              "9  ราคาเสนอขาย 700,000 - 1,000,000 บาท / คูหา                         NaN   \n",
              "\n",
              "                      ให้คะแนนทรัพย์  Unnamed: 9  Unnamed: 10  Unnamed: 11  \\\n",
              "1                  1 ขายไม่ได้แน่นอน         NaN          NaN          NaN   \n",
              "3                  1 ขายไม่ได้แน่นอน         NaN          NaN          NaN   \n",
              "5  3 ขายได้ ใช้ระยะเวลา 7 - 12 เดือน         NaN          NaN          NaN   \n",
              "7  3 ขายได้ ใช้ระยะเวลา 7 - 12 เดือน         NaN          NaN          NaN   \n",
              "9  3 ขายได้ ใช้ระยะเวลา 7 - 12 เดือน         NaN          NaN          NaN   \n",
              "\n",
              "   Unnamed: 12   ประเมิน1  \n",
              "1          NaN   700000.0  \n",
              "3          NaN   700000.0  \n",
              "5          NaN  3500000.0  \n",
              "7          NaN  3500000.0  \n",
              "9          NaN  1000000.0  "
            ],
            "text/html": [
              "\n",
              "  <div id=\"df-1e6cc663-a87f-4151-9b82-8d53ee2025a2\">\n",
              "    <div class=\"colab-df-container\">\n",
              "      <div>\n",
              "<style scoped>\n",
              "    .dataframe tbody tr th:only-of-type {\n",
              "        vertical-align: middle;\n",
              "    }\n",
              "\n",
              "    .dataframe tbody tr th {\n",
              "        vertical-align: top;\n",
              "    }\n",
              "\n",
              "    .dataframe thead th {\n",
              "        text-align: right;\n",
              "    }\n",
              "</style>\n",
              "<table border=\"1\" class=\"dataframe\">\n",
              "  <thead>\n",
              "    <tr style=\"text-align: right;\">\n",
              "      <th></th>\n",
              "      <th>ID ผู้ประเมิน</th>\n",
              "      <th>post id</th>\n",
              "      <th>property_type</th>\n",
              "      <th>ความมั่นใจในการเมินราคาทรัพย์</th>\n",
              "      <th>ราคาทรัพย์</th>\n",
              "      <th>ประเมินราคาซื้อ-ขาย</th>\n",
              "      <th>ปัจจัยในการประเมินราคาซื้อ-ขาย</th>\n",
              "      <th>เหตุผลไม่มั่นใจราคาประเมิน</th>\n",
              "      <th>ให้คะแนนทรัพย์</th>\n",
              "      <th>Unnamed: 9</th>\n",
              "      <th>Unnamed: 10</th>\n",
              "      <th>Unnamed: 11</th>\n",
              "      <th>Unnamed: 12</th>\n",
              "      <th>ประเมิน1</th>\n",
              "    </tr>\n",
              "  </thead>\n",
              "  <tbody>\n",
              "    <tr>\n",
              "      <th>1</th>\n",
              "      <td>2</td>\n",
              "      <td>https://nayoo.co/khonkaen/posts/548</td>\n",
              "      <td>ทาวน์โฮม</td>\n",
              "      <td>มั่นใจ</td>\n",
              "      <td>1045000.0</td>\n",
              "      <td>1500000.0</td>\n",
              "      <td>ราคาซื้อขาย 1-2 ล้าน/คูหา</td>\n",
              "      <td>NaN</td>\n",
              "      <td>1 ขายไม่ได้แน่นอน</td>\n",
              "      <td>NaN</td>\n",
              "      <td>NaN</td>\n",
              "      <td>NaN</td>\n",
              "      <td>NaN</td>\n",
              "      <td>700000.0</td>\n",
              "    </tr>\n",
              "    <tr>\n",
              "      <th>3</th>\n",
              "      <td>2</td>\n",
              "      <td>https://nayoo.co/khonkaen/posts/549</td>\n",
              "      <td>ทาวน์โฮม</td>\n",
              "      <td>มั่นใจ</td>\n",
              "      <td>935000.0</td>\n",
              "      <td>1500000.0</td>\n",
              "      <td>ราคาเสนอขาย 1-2 ล้าน/คูหา</td>\n",
              "      <td>NaN</td>\n",
              "      <td>1 ขายไม่ได้แน่นอน</td>\n",
              "      <td>NaN</td>\n",
              "      <td>NaN</td>\n",
              "      <td>NaN</td>\n",
              "      <td>NaN</td>\n",
              "      <td>700000.0</td>\n",
              "    </tr>\n",
              "    <tr>\n",
              "      <th>5</th>\n",
              "      <td>2</td>\n",
              "      <td>https://nayoo.co/khonkaen/posts/579</td>\n",
              "      <td>ทาวน์โฮม</td>\n",
              "      <td>มั่นใจ</td>\n",
              "      <td>3520000.0</td>\n",
              "      <td>4000000.0</td>\n",
              "      <td>ราคาเสนอขาย 3-5 ล้านบาท/คูหา</td>\n",
              "      <td>NaN</td>\n",
              "      <td>3 ขายได้ ใช้ระยะเวลา 7 - 12 เดือน</td>\n",
              "      <td>NaN</td>\n",
              "      <td>NaN</td>\n",
              "      <td>NaN</td>\n",
              "      <td>NaN</td>\n",
              "      <td>3500000.0</td>\n",
              "    </tr>\n",
              "    <tr>\n",
              "      <th>7</th>\n",
              "      <td>2</td>\n",
              "      <td>https://nayoo.co/khonkaen/posts/580</td>\n",
              "      <td>ทาวน์โฮม</td>\n",
              "      <td>มั่นใจ</td>\n",
              "      <td>3850000.0</td>\n",
              "      <td>3200000.0</td>\n",
              "      <td>ราคาเสนอขาย 3 - 5 ล้านบาท / คูหา</td>\n",
              "      <td>NaN</td>\n",
              "      <td>3 ขายได้ ใช้ระยะเวลา 7 - 12 เดือน</td>\n",
              "      <td>NaN</td>\n",
              "      <td>NaN</td>\n",
              "      <td>NaN</td>\n",
              "      <td>NaN</td>\n",
              "      <td>3500000.0</td>\n",
              "    </tr>\n",
              "    <tr>\n",
              "      <th>9</th>\n",
              "      <td>2</td>\n",
              "      <td>https://nayoo.co/khonkaen/posts/582</td>\n",
              "      <td>ทาวน์โฮม</td>\n",
              "      <td>มั่นใจ</td>\n",
              "      <td>990000.0</td>\n",
              "      <td>800000.0</td>\n",
              "      <td>ราคาเสนอขาย 700,000 - 1,000,000 บาท / คูหา</td>\n",
              "      <td>NaN</td>\n",
              "      <td>3 ขายได้ ใช้ระยะเวลา 7 - 12 เดือน</td>\n",
              "      <td>NaN</td>\n",
              "      <td>NaN</td>\n",
              "      <td>NaN</td>\n",
              "      <td>NaN</td>\n",
              "      <td>1000000.0</td>\n",
              "    </tr>\n",
              "  </tbody>\n",
              "</table>\n",
              "</div>\n",
              "      <button class=\"colab-df-convert\" onclick=\"convertToInteractive('df-1e6cc663-a87f-4151-9b82-8d53ee2025a2')\"\n",
              "              title=\"Convert this dataframe to an interactive table.\"\n",
              "              style=\"display:none;\">\n",
              "        \n",
              "  <svg xmlns=\"http://www.w3.org/2000/svg\" height=\"24px\"viewBox=\"0 0 24 24\"\n",
              "       width=\"24px\">\n",
              "    <path d=\"M0 0h24v24H0V0z\" fill=\"none\"/>\n",
              "    <path d=\"M18.56 5.44l.94 2.06.94-2.06 2.06-.94-2.06-.94-.94-2.06-.94 2.06-2.06.94zm-11 1L8.5 8.5l.94-2.06 2.06-.94-2.06-.94L8.5 2.5l-.94 2.06-2.06.94zm10 10l.94 2.06.94-2.06 2.06-.94-2.06-.94-.94-2.06-.94 2.06-2.06.94z\"/><path d=\"M17.41 7.96l-1.37-1.37c-.4-.4-.92-.59-1.43-.59-.52 0-1.04.2-1.43.59L10.3 9.45l-7.72 7.72c-.78.78-.78 2.05 0 2.83L4 21.41c.39.39.9.59 1.41.59.51 0 1.02-.2 1.41-.59l7.78-7.78 2.81-2.81c.8-.78.8-2.07 0-2.86zM5.41 20L4 18.59l7.72-7.72 1.47 1.35L5.41 20z\"/>\n",
              "  </svg>\n",
              "      </button>\n",
              "      \n",
              "  <style>\n",
              "    .colab-df-container {\n",
              "      display:flex;\n",
              "      flex-wrap:wrap;\n",
              "      gap: 12px;\n",
              "    }\n",
              "\n",
              "    .colab-df-convert {\n",
              "      background-color: #E8F0FE;\n",
              "      border: none;\n",
              "      border-radius: 50%;\n",
              "      cursor: pointer;\n",
              "      display: none;\n",
              "      fill: #1967D2;\n",
              "      height: 32px;\n",
              "      padding: 0 0 0 0;\n",
              "      width: 32px;\n",
              "    }\n",
              "\n",
              "    .colab-df-convert:hover {\n",
              "      background-color: #E2EBFA;\n",
              "      box-shadow: 0px 1px 2px rgba(60, 64, 67, 0.3), 0px 1px 3px 1px rgba(60, 64, 67, 0.15);\n",
              "      fill: #174EA6;\n",
              "    }\n",
              "\n",
              "    [theme=dark] .colab-df-convert {\n",
              "      background-color: #3B4455;\n",
              "      fill: #D2E3FC;\n",
              "    }\n",
              "\n",
              "    [theme=dark] .colab-df-convert:hover {\n",
              "      background-color: #434B5C;\n",
              "      box-shadow: 0px 1px 3px 1px rgba(0, 0, 0, 0.15);\n",
              "      filter: drop-shadow(0px 1px 2px rgba(0, 0, 0, 0.3));\n",
              "      fill: #FFFFFF;\n",
              "    }\n",
              "  </style>\n",
              "\n",
              "      <script>\n",
              "        const buttonEl =\n",
              "          document.querySelector('#df-1e6cc663-a87f-4151-9b82-8d53ee2025a2 button.colab-df-convert');\n",
              "        buttonEl.style.display =\n",
              "          google.colab.kernel.accessAllowed ? 'block' : 'none';\n",
              "\n",
              "        async function convertToInteractive(key) {\n",
              "          const element = document.querySelector('#df-1e6cc663-a87f-4151-9b82-8d53ee2025a2');\n",
              "          const dataTable =\n",
              "            await google.colab.kernel.invokeFunction('convertToInteractive',\n",
              "                                                     [key], {});\n",
              "          if (!dataTable) return;\n",
              "\n",
              "          const docLinkHtml = 'Like what you see? Visit the ' +\n",
              "            '<a target=\"_blank\" href=https://colab.research.google.com/notebooks/data_table.ipynb>data table notebook</a>'\n",
              "            + ' to learn more about interactive tables.';\n",
              "          element.innerHTML = '';\n",
              "          dataTable['output_type'] = 'display_data';\n",
              "          await google.colab.output.renderOutput(dataTable, element);\n",
              "          const docLink = document.createElement('div');\n",
              "          docLink.innerHTML = docLinkHtml;\n",
              "          element.appendChild(docLink);\n",
              "        }\n",
              "      </script>\n",
              "    </div>\n",
              "  </div>\n",
              "  "
            ]
          },
          "metadata": {},
          "execution_count": 68
        }
      ]
    },
    {
      "cell_type": "markdown",
      "source": [
        "###rename column"
      ],
      "metadata": {
        "id": "WxAOCuiPUyBJ"
      }
    },
    {
      "cell_type": "code",
      "source": [
        "c2.rename(columns = {'ประเมินราคาซื้อ-ขาย' : 'ประเมิน2'}, inplace = True)"
      ],
      "metadata": {
        "colab": {
          "base_uri": "https://localhost:8080/"
        },
        "outputId": "1b5dec48-1ee3-455b-d58e-d9ebf1cfa473",
        "id": "pe2YmdlgUyBJ"
      },
      "execution_count": 69,
      "outputs": [
        {
          "output_type": "stream",
          "name": "stderr",
          "text": [
            "/usr/local/lib/python3.8/dist-packages/pandas/core/frame.py:5039: SettingWithCopyWarning: \n",
            "A value is trying to be set on a copy of a slice from a DataFrame\n",
            "\n",
            "See the caveats in the documentation: https://pandas.pydata.org/pandas-docs/stable/user_guide/indexing.html#returning-a-view-versus-a-copy\n",
            "  return super().rename(\n"
          ]
        }
      ]
    },
    {
      "cell_type": "markdown",
      "source": [
        "### select columns"
      ],
      "metadata": {
        "id": "r1uUvHXCUyBK"
      }
    },
    {
      "cell_type": "code",
      "source": [
        "townhome = c2[['post id', 'ราคาทรัพย์', 'ประเมิน1', 'ประเมิน2']]\n",
        "townhome"
      ],
      "metadata": {
        "colab": {
          "base_uri": "https://localhost:8080/",
          "height": 424
        },
        "outputId": "244867e7-aa24-431a-ac37-6370315f4cd7",
        "id": "0BHH9NyvUyBK"
      },
      "execution_count": 70,
      "outputs": [
        {
          "output_type": "execute_result",
          "data": {
            "text/plain": [
              "                                   post id  ราคาทรัพย์   ประเมิน1   ประเมิน2\n",
              "1      https://nayoo.co/khonkaen/posts/548   1045000.0   700000.0  1500000.0\n",
              "3      https://nayoo.co/khonkaen/posts/549    935000.0   700000.0  1500000.0\n",
              "5      https://nayoo.co/khonkaen/posts/579   3520000.0  3500000.0  4000000.0\n",
              "7      https://nayoo.co/khonkaen/posts/580   3850000.0  3500000.0  3200000.0\n",
              "9      https://nayoo.co/khonkaen/posts/582    990000.0  1000000.0   800000.0\n",
              "..                                     ...         ...        ...        ...\n",
              "235  https://nayoo.co/khonkaen/posts/18547   1430000.0  1000000.0  1200000.0\n",
              "236  https://nayoo.co/khonkaen/posts/18551   1980000.0  1500000.0  1700000.0\n",
              "237  https://nayoo.co/khonkaen/posts/19434   2000000.0  1600000.0  1900000.0\n",
              "238  https://nayoo.co/khonkaen/posts/19501   1790000.0  1600000.0  1700000.0\n",
              "239  https://nayoo.co/khonkaen/posts/20367   1590000.0  1700000.0  1700000.0\n",
              "\n",
              "[120 rows x 4 columns]"
            ],
            "text/html": [
              "\n",
              "  <div id=\"df-33570b9c-908c-4a1b-982e-109dc089d041\">\n",
              "    <div class=\"colab-df-container\">\n",
              "      <div>\n",
              "<style scoped>\n",
              "    .dataframe tbody tr th:only-of-type {\n",
              "        vertical-align: middle;\n",
              "    }\n",
              "\n",
              "    .dataframe tbody tr th {\n",
              "        vertical-align: top;\n",
              "    }\n",
              "\n",
              "    .dataframe thead th {\n",
              "        text-align: right;\n",
              "    }\n",
              "</style>\n",
              "<table border=\"1\" class=\"dataframe\">\n",
              "  <thead>\n",
              "    <tr style=\"text-align: right;\">\n",
              "      <th></th>\n",
              "      <th>post id</th>\n",
              "      <th>ราคาทรัพย์</th>\n",
              "      <th>ประเมิน1</th>\n",
              "      <th>ประเมิน2</th>\n",
              "    </tr>\n",
              "  </thead>\n",
              "  <tbody>\n",
              "    <tr>\n",
              "      <th>1</th>\n",
              "      <td>https://nayoo.co/khonkaen/posts/548</td>\n",
              "      <td>1045000.0</td>\n",
              "      <td>700000.0</td>\n",
              "      <td>1500000.0</td>\n",
              "    </tr>\n",
              "    <tr>\n",
              "      <th>3</th>\n",
              "      <td>https://nayoo.co/khonkaen/posts/549</td>\n",
              "      <td>935000.0</td>\n",
              "      <td>700000.0</td>\n",
              "      <td>1500000.0</td>\n",
              "    </tr>\n",
              "    <tr>\n",
              "      <th>5</th>\n",
              "      <td>https://nayoo.co/khonkaen/posts/579</td>\n",
              "      <td>3520000.0</td>\n",
              "      <td>3500000.0</td>\n",
              "      <td>4000000.0</td>\n",
              "    </tr>\n",
              "    <tr>\n",
              "      <th>7</th>\n",
              "      <td>https://nayoo.co/khonkaen/posts/580</td>\n",
              "      <td>3850000.0</td>\n",
              "      <td>3500000.0</td>\n",
              "      <td>3200000.0</td>\n",
              "    </tr>\n",
              "    <tr>\n",
              "      <th>9</th>\n",
              "      <td>https://nayoo.co/khonkaen/posts/582</td>\n",
              "      <td>990000.0</td>\n",
              "      <td>1000000.0</td>\n",
              "      <td>800000.0</td>\n",
              "    </tr>\n",
              "    <tr>\n",
              "      <th>...</th>\n",
              "      <td>...</td>\n",
              "      <td>...</td>\n",
              "      <td>...</td>\n",
              "      <td>...</td>\n",
              "    </tr>\n",
              "    <tr>\n",
              "      <th>235</th>\n",
              "      <td>https://nayoo.co/khonkaen/posts/18547</td>\n",
              "      <td>1430000.0</td>\n",
              "      <td>1000000.0</td>\n",
              "      <td>1200000.0</td>\n",
              "    </tr>\n",
              "    <tr>\n",
              "      <th>236</th>\n",
              "      <td>https://nayoo.co/khonkaen/posts/18551</td>\n",
              "      <td>1980000.0</td>\n",
              "      <td>1500000.0</td>\n",
              "      <td>1700000.0</td>\n",
              "    </tr>\n",
              "    <tr>\n",
              "      <th>237</th>\n",
              "      <td>https://nayoo.co/khonkaen/posts/19434</td>\n",
              "      <td>2000000.0</td>\n",
              "      <td>1600000.0</td>\n",
              "      <td>1900000.0</td>\n",
              "    </tr>\n",
              "    <tr>\n",
              "      <th>238</th>\n",
              "      <td>https://nayoo.co/khonkaen/posts/19501</td>\n",
              "      <td>1790000.0</td>\n",
              "      <td>1600000.0</td>\n",
              "      <td>1700000.0</td>\n",
              "    </tr>\n",
              "    <tr>\n",
              "      <th>239</th>\n",
              "      <td>https://nayoo.co/khonkaen/posts/20367</td>\n",
              "      <td>1590000.0</td>\n",
              "      <td>1700000.0</td>\n",
              "      <td>1700000.0</td>\n",
              "    </tr>\n",
              "  </tbody>\n",
              "</table>\n",
              "<p>120 rows × 4 columns</p>\n",
              "</div>\n",
              "      <button class=\"colab-df-convert\" onclick=\"convertToInteractive('df-33570b9c-908c-4a1b-982e-109dc089d041')\"\n",
              "              title=\"Convert this dataframe to an interactive table.\"\n",
              "              style=\"display:none;\">\n",
              "        \n",
              "  <svg xmlns=\"http://www.w3.org/2000/svg\" height=\"24px\"viewBox=\"0 0 24 24\"\n",
              "       width=\"24px\">\n",
              "    <path d=\"M0 0h24v24H0V0z\" fill=\"none\"/>\n",
              "    <path d=\"M18.56 5.44l.94 2.06.94-2.06 2.06-.94-2.06-.94-.94-2.06-.94 2.06-2.06.94zm-11 1L8.5 8.5l.94-2.06 2.06-.94-2.06-.94L8.5 2.5l-.94 2.06-2.06.94zm10 10l.94 2.06.94-2.06 2.06-.94-2.06-.94-.94-2.06-.94 2.06-2.06.94z\"/><path d=\"M17.41 7.96l-1.37-1.37c-.4-.4-.92-.59-1.43-.59-.52 0-1.04.2-1.43.59L10.3 9.45l-7.72 7.72c-.78.78-.78 2.05 0 2.83L4 21.41c.39.39.9.59 1.41.59.51 0 1.02-.2 1.41-.59l7.78-7.78 2.81-2.81c.8-.78.8-2.07 0-2.86zM5.41 20L4 18.59l7.72-7.72 1.47 1.35L5.41 20z\"/>\n",
              "  </svg>\n",
              "      </button>\n",
              "      \n",
              "  <style>\n",
              "    .colab-df-container {\n",
              "      display:flex;\n",
              "      flex-wrap:wrap;\n",
              "      gap: 12px;\n",
              "    }\n",
              "\n",
              "    .colab-df-convert {\n",
              "      background-color: #E8F0FE;\n",
              "      border: none;\n",
              "      border-radius: 50%;\n",
              "      cursor: pointer;\n",
              "      display: none;\n",
              "      fill: #1967D2;\n",
              "      height: 32px;\n",
              "      padding: 0 0 0 0;\n",
              "      width: 32px;\n",
              "    }\n",
              "\n",
              "    .colab-df-convert:hover {\n",
              "      background-color: #E2EBFA;\n",
              "      box-shadow: 0px 1px 2px rgba(60, 64, 67, 0.3), 0px 1px 3px 1px rgba(60, 64, 67, 0.15);\n",
              "      fill: #174EA6;\n",
              "    }\n",
              "\n",
              "    [theme=dark] .colab-df-convert {\n",
              "      background-color: #3B4455;\n",
              "      fill: #D2E3FC;\n",
              "    }\n",
              "\n",
              "    [theme=dark] .colab-df-convert:hover {\n",
              "      background-color: #434B5C;\n",
              "      box-shadow: 0px 1px 3px 1px rgba(0, 0, 0, 0.15);\n",
              "      filter: drop-shadow(0px 1px 2px rgba(0, 0, 0, 0.3));\n",
              "      fill: #FFFFFF;\n",
              "    }\n",
              "  </style>\n",
              "\n",
              "      <script>\n",
              "        const buttonEl =\n",
              "          document.querySelector('#df-33570b9c-908c-4a1b-982e-109dc089d041 button.colab-df-convert');\n",
              "        buttonEl.style.display =\n",
              "          google.colab.kernel.accessAllowed ? 'block' : 'none';\n",
              "\n",
              "        async function convertToInteractive(key) {\n",
              "          const element = document.querySelector('#df-33570b9c-908c-4a1b-982e-109dc089d041');\n",
              "          const dataTable =\n",
              "            await google.colab.kernel.invokeFunction('convertToInteractive',\n",
              "                                                     [key], {});\n",
              "          if (!dataTable) return;\n",
              "\n",
              "          const docLinkHtml = 'Like what you see? Visit the ' +\n",
              "            '<a target=\"_blank\" href=https://colab.research.google.com/notebooks/data_table.ipynb>data table notebook</a>'\n",
              "            + ' to learn more about interactive tables.';\n",
              "          element.innerHTML = '';\n",
              "          dataTable['output_type'] = 'display_data';\n",
              "          await google.colab.output.renderOutput(dataTable, element);\n",
              "          const docLink = document.createElement('div');\n",
              "          docLink.innerHTML = docLinkHtml;\n",
              "          element.appendChild(docLink);\n",
              "        }\n",
              "      </script>\n",
              "    </div>\n",
              "  </div>\n",
              "  "
            ]
          },
          "metadata": {},
          "execution_count": 70
        }
      ]
    },
    {
      "cell_type": "code",
      "source": [
        "townhome.isnull().any()"
      ],
      "metadata": {
        "colab": {
          "base_uri": "https://localhost:8080/"
        },
        "id": "QSnmlOBtk2xD",
        "outputId": "8f7213bf-fa26-4c11-ecea-ba0aa5afdf8f"
      },
      "execution_count": 71,
      "outputs": [
        {
          "output_type": "execute_result",
          "data": {
            "text/plain": [
              "post id       False\n",
              "ราคาทรัพย์    False\n",
              "ประเมิน1      False\n",
              "ประเมิน2      False\n",
              "dtype: bool"
            ]
          },
          "metadata": {},
          "execution_count": 71
        }
      ]
    },
    {
      "cell_type": "markdown",
      "source": [
        "##MAPE ราคาทรัพย์เป็นหลัก เทียบ ผู้ประเมิน"
      ],
      "metadata": {
        "id": "fZSLWPF0UyBM"
      }
    },
    {
      "cell_type": "markdown",
      "source": [
        "หา mean absolute percentage error \n",
        "- โดยราคาทรัพย์เป็นหลัก เทียบกับผู้ประเมินคนที่ 1 มีค่า MAPE เท่ากับ 11.373507980201532\n",
        "- โดยราคาทรัพย์เป็นหลัก เทียบกับผู้ประเมินคนที่ 2 มีค่า MAPE เท่ากับ 8.766742521930592\n",
        "* หมายความว่า ผู้ประเมินคนที่ 2 สามารถประเมินราคาทรัพย์(ทาวน์โฮม)ได้ใกล้เคียงกว่าคนที่1"
      ],
      "metadata": {
        "id": "zT2aEwZlUyBM"
      }
    },
    {
      "cell_type": "code",
      "source": [
        "aactual = townhome['ราคาทรัพย์']\n",
        "ppred1 = townhome['ประเมิน1']\n",
        "ppred2 = townhome['ประเมิน2']"
      ],
      "metadata": {
        "id": "0wumpZkgUyBN"
      },
      "execution_count": 72,
      "outputs": []
    },
    {
      "cell_type": "code",
      "source": [
        "import numpy as np\n",
        "\n",
        "def mape(aactual, ppred1): \n",
        "    aactual, ppred1 = np.array(aactual), np.array(ppred1)\n",
        "    return np.mean(np.abs((aactual - ppred1) / aactual)) * 100\n",
        "mape(aactual, ppred1)"
      ],
      "metadata": {
        "colab": {
          "base_uri": "https://localhost:8080/"
        },
        "outputId": "878de592-40f2-4714-fb08-455dbb325adf",
        "id": "cuFEaFx_UyBN"
      },
      "execution_count": 73,
      "outputs": [
        {
          "output_type": "execute_result",
          "data": {
            "text/plain": [
              "11.373507980201532"
            ]
          },
          "metadata": {},
          "execution_count": 73
        }
      ]
    },
    {
      "cell_type": "code",
      "source": [
        "import numpy as np\n",
        "\n",
        "def mape(aactual, ppred2): \n",
        "    aactual, ppred2 = np.array(aactual), np.array(ppred2)\n",
        "    return np.mean(np.abs((aactual - ppred2) / aactual)) * 100\n",
        "mape(aactual, ppred2)"
      ],
      "metadata": {
        "colab": {
          "base_uri": "https://localhost:8080/"
        },
        "outputId": "216b1939-c207-4450-84b7-7e418a91ea34",
        "id": "GrWjr4ZhUyBO"
      },
      "execution_count": 74,
      "outputs": [
        {
          "output_type": "execute_result",
          "data": {
            "text/plain": [
              "8.766742521930592"
            ]
          },
          "metadata": {},
          "execution_count": 74
        }
      ]
    },
    {
      "cell_type": "markdown",
      "source": [
        "##MAPE ผู้ประเมินเป็นหลัก เทียบ ราคาทรัพย์\n",
        "\n",
        "- โดยผู้ประเมินคนที่ 1 เป็นหลัก เทียบกับราคาทรัพย์มีค่า MAPE เท่ากับ 16.209125736159383\n",
        "\n",
        "- โดยผู้ประเมินคนที่ 2 เป็นหลัก เทียบกับราคาทรัพย์มีค่า MAPE เท่ากับ 12.753580848193073\n"
      ],
      "metadata": {
        "id": "h2R4Tb9grZJZ"
      }
    },
    {
      "cell_type": "code",
      "source": [
        "from sklearn.metrics import mean_absolute_percentage_error\n",
        "y_true = townhome['ประเมิน1']\n",
        "y_pred = townhome['ราคาทรัพย์']\n",
        "mean_absolute_percentage_error(y_true, y_pred) * 100"
      ],
      "metadata": {
        "outputId": "7994d8fd-761b-4988-fe45-1c5a4b7a6108",
        "colab": {
          "base_uri": "https://localhost:8080/"
        },
        "id": "ArtgAGnzrZJa"
      },
      "execution_count": 75,
      "outputs": [
        {
          "output_type": "execute_result",
          "data": {
            "text/plain": [
              "16.209125736159383"
            ]
          },
          "metadata": {},
          "execution_count": 75
        }
      ]
    },
    {
      "cell_type": "code",
      "source": [
        "from sklearn.metrics import mean_absolute_percentage_error\n",
        "y_true = townhome['ประเมิน2']\n",
        "y_pred = townhome['ราคาทรัพย์']\n",
        "mean_absolute_percentage_error(y_true, y_pred) * 100"
      ],
      "metadata": {
        "outputId": "4a776493-574d-4ea0-ddb0-cbc3bb74deb5",
        "colab": {
          "base_uri": "https://localhost:8080/"
        },
        "id": "c9P6MCQOrZJb"
      },
      "execution_count": 76,
      "outputs": [
        {
          "output_type": "execute_result",
          "data": {
            "text/plain": [
              "12.753580848193073"
            ]
          },
          "metadata": {},
          "execution_count": 76
        }
      ]
    },
    {
      "cell_type": "markdown",
      "source": [
        "##MAPE ผู้ประเมินเป็นหลัก เทียบ ผู้ประเมิน\n",
        "หา mean absolute percentage error\n",
        "\n",
        "- โดยผู้ประเมินคนที่ 1 เทียบกับผู้ประเมินคนที่ 2 มีค่า MAPE เท่ากับ 11.21168528826893\n",
        "\n",
        "- โดยผู้ประเมินคนที่ 2 เทียบกับผู้ประเมินคนที่ 1 มีค่า MAPE เท่ากับ 10.619748830198178"
      ],
      "metadata": {
        "id": "hJW3Mjzosmey"
      }
    },
    {
      "cell_type": "code",
      "source": [
        "import numpy as np\n",
        "\n",
        "def mape(ppred1, ppred2): \n",
        "    ppred1, ppred2 = np.array(ppred1), np.array(ppred2)\n",
        "    return np.mean(np.abs((ppred1 - ppred2) / ppred1)) * 100\n",
        "mape(ppred1, ppred2)"
      ],
      "metadata": {
        "colab": {
          "base_uri": "https://localhost:8080/"
        },
        "outputId": "8bf93684-20fb-4f47-8d18-8300e708c7be",
        "id": "ul6Wq4fMUyBP"
      },
      "execution_count": 77,
      "outputs": [
        {
          "output_type": "execute_result",
          "data": {
            "text/plain": [
              "11.21168528826893"
            ]
          },
          "metadata": {},
          "execution_count": 77
        }
      ]
    },
    {
      "cell_type": "code",
      "source": [
        "import numpy as np\n",
        "\n",
        "def mape(ppred2, ppred1): \n",
        "    ppred2, ppred1 = np.array(ppred2), np.array(ppred1)\n",
        "    return np.mean(np.abs((ppred2 - ppred1) / ppred2)) * 100\n",
        "mape(ppred2, ppred1)"
      ],
      "metadata": {
        "colab": {
          "base_uri": "https://localhost:8080/"
        },
        "outputId": "cdf4ec13-9b37-40f9-ed51-7b261f3ced78",
        "id": "jZQBYByCUyBP"
      },
      "execution_count": 78,
      "outputs": [
        {
          "output_type": "execute_result",
          "data": {
            "text/plain": [
              "10.619748830198178"
            ]
          },
          "metadata": {},
          "execution_count": 78
        }
      ]
    },
    {
      "cell_type": "markdown",
      "source": [
        "#ข้อมูลประเมิน(อาคารพาณิชย์)"
      ],
      "metadata": {
        "id": "d-TPOoPHX-sY"
      }
    },
    {
      "cell_type": "code",
      "source": [
        "df5.head()"
      ],
      "metadata": {
        "colab": {
          "base_uri": "https://localhost:8080/",
          "height": 476
        },
        "outputId": "2d0dc3b9-9257-4d7c-f2d2-7fafd7fb596f",
        "id": "e_TA1giUX-sZ"
      },
      "execution_count": 79,
      "outputs": [
        {
          "output_type": "execute_result",
          "data": {
            "text/plain": [
              "   ID ผู้ประเมิน                             post id          property_type  \\\n",
              "0              1   https://nayoo.co/khonkaen/posts/6  อาคารพาณิชย์/สำนักงาน   \n",
              "1              2   https://nayoo.co/khonkaen/posts/6  อาคารพาณิชย์/สำนักงาน   \n",
              "2              1  https://nayoo.co/khonkaen/posts/17  อาคารพาณิชย์/สำนักงาน   \n",
              "3              2  https://nayoo.co/khonkaen/posts/17  อาคารพาณิชย์/สำนักงาน   \n",
              "4              1  https://nayoo.co/khonkaen/posts/21  อาคารพาณิชย์/สำนักงาน   \n",
              "\n",
              "  ความมั่นใจในการเมินราคาทรัพย์  ราคาทรัพย์  ประเมินราคาซื้อ-ขาย  \\\n",
              "0                        มั่นใจ   7000000.0            6000000.0   \n",
              "1                        มั่นใจ   7000000.0            8000000.0   \n",
              "2                        มั่นใจ  12000000.0           12000000.0   \n",
              "3                        มั่นใจ  12000000.0           12000000.0   \n",
              "4                        มั่นใจ  22500000.0           13500000.0   \n",
              "\n",
              "             ปัจจัยในการประเมินราคาซื้อ-ขาย  เหตุผลไม่มั่นใจราคาประเมิน  \\\n",
              "0                              8,000-30,000                         NaN   \n",
              "1  ราคาเสนอขาย 4,000,000-6,000,000 บาท/คูหา                         NaN   \n",
              "2                              8,000-40,000                         NaN   \n",
              "3            ราคาเสนอขาย 4 - 5 ล้านบาท/คูหา                         NaN   \n",
              "4                              8,000-50,000                         NaN   \n",
              "\n",
              "                       ให้คะแนนทรัพย์  Unnamed: 9  \\\n",
              "0   3 ขายได้ ใช้ระยะเวลา 7 - 12 เดือน         3.0   \n",
              "1    4 ขายได้ ใช้ระยะเวลา 4 - 6 เดือน         4.0   \n",
              "2    4 ขายได้ ใช้ระยะเวลา 4 - 6 เดือน         4.0   \n",
              "3  2 ขายได้ยาก ใช้ระยะเวลามากว่า 1 ปี         2.0   \n",
              "4  2 ขายได้ยาก ใช้ระยะเวลามากว่า 1 ปี         2.0   \n",
              "\n",
              "                        Unnamed: 10  Unnamed: 11  Unnamed: 12  Unnamed: 13  \n",
              "0     ขายได้ ใช้ระยะเวลา 7-12 เดือน          NaN          NaN         10.0  \n",
              "1  ขายได้ยาก ใช้ระยะเวลามากว่า 1 ปี          NaN          NaN          NaN  \n",
              "2  ขายได้ยาก ใช้ระยะเวลามากว่า 1 ปี          NaN          NaN          NaN  \n",
              "3      ขายได้ ใช้ระยะเวลา 4-6 เดือน          NaN          NaN          NaN  \n",
              "4      ขายได้ ใช้ระยะเวลา 4-6 เดือน          NaN          NaN          NaN  "
            ],
            "text/html": [
              "\n",
              "  <div id=\"df-b127dc2c-3a49-4754-97ab-4c87d8a57af0\">\n",
              "    <div class=\"colab-df-container\">\n",
              "      <div>\n",
              "<style scoped>\n",
              "    .dataframe tbody tr th:only-of-type {\n",
              "        vertical-align: middle;\n",
              "    }\n",
              "\n",
              "    .dataframe tbody tr th {\n",
              "        vertical-align: top;\n",
              "    }\n",
              "\n",
              "    .dataframe thead th {\n",
              "        text-align: right;\n",
              "    }\n",
              "</style>\n",
              "<table border=\"1\" class=\"dataframe\">\n",
              "  <thead>\n",
              "    <tr style=\"text-align: right;\">\n",
              "      <th></th>\n",
              "      <th>ID ผู้ประเมิน</th>\n",
              "      <th>post id</th>\n",
              "      <th>property_type</th>\n",
              "      <th>ความมั่นใจในการเมินราคาทรัพย์</th>\n",
              "      <th>ราคาทรัพย์</th>\n",
              "      <th>ประเมินราคาซื้อ-ขาย</th>\n",
              "      <th>ปัจจัยในการประเมินราคาซื้อ-ขาย</th>\n",
              "      <th>เหตุผลไม่มั่นใจราคาประเมิน</th>\n",
              "      <th>ให้คะแนนทรัพย์</th>\n",
              "      <th>Unnamed: 9</th>\n",
              "      <th>Unnamed: 10</th>\n",
              "      <th>Unnamed: 11</th>\n",
              "      <th>Unnamed: 12</th>\n",
              "      <th>Unnamed: 13</th>\n",
              "    </tr>\n",
              "  </thead>\n",
              "  <tbody>\n",
              "    <tr>\n",
              "      <th>0</th>\n",
              "      <td>1</td>\n",
              "      <td>https://nayoo.co/khonkaen/posts/6</td>\n",
              "      <td>อาคารพาณิชย์/สำนักงาน</td>\n",
              "      <td>มั่นใจ</td>\n",
              "      <td>7000000.0</td>\n",
              "      <td>6000000.0</td>\n",
              "      <td>8,000-30,000</td>\n",
              "      <td>NaN</td>\n",
              "      <td>3 ขายได้ ใช้ระยะเวลา 7 - 12 เดือน</td>\n",
              "      <td>3.0</td>\n",
              "      <td>ขายได้ ใช้ระยะเวลา 7-12 เดือน</td>\n",
              "      <td>NaN</td>\n",
              "      <td>NaN</td>\n",
              "      <td>10.0</td>\n",
              "    </tr>\n",
              "    <tr>\n",
              "      <th>1</th>\n",
              "      <td>2</td>\n",
              "      <td>https://nayoo.co/khonkaen/posts/6</td>\n",
              "      <td>อาคารพาณิชย์/สำนักงาน</td>\n",
              "      <td>มั่นใจ</td>\n",
              "      <td>7000000.0</td>\n",
              "      <td>8000000.0</td>\n",
              "      <td>ราคาเสนอขาย 4,000,000-6,000,000 บาท/คูหา</td>\n",
              "      <td>NaN</td>\n",
              "      <td>4 ขายได้ ใช้ระยะเวลา 4 - 6 เดือน</td>\n",
              "      <td>4.0</td>\n",
              "      <td>ขายได้ยาก ใช้ระยะเวลามากว่า 1 ปี</td>\n",
              "      <td>NaN</td>\n",
              "      <td>NaN</td>\n",
              "      <td>NaN</td>\n",
              "    </tr>\n",
              "    <tr>\n",
              "      <th>2</th>\n",
              "      <td>1</td>\n",
              "      <td>https://nayoo.co/khonkaen/posts/17</td>\n",
              "      <td>อาคารพาณิชย์/สำนักงาน</td>\n",
              "      <td>มั่นใจ</td>\n",
              "      <td>12000000.0</td>\n",
              "      <td>12000000.0</td>\n",
              "      <td>8,000-40,000</td>\n",
              "      <td>NaN</td>\n",
              "      <td>4 ขายได้ ใช้ระยะเวลา 4 - 6 เดือน</td>\n",
              "      <td>4.0</td>\n",
              "      <td>ขายได้ยาก ใช้ระยะเวลามากว่า 1 ปี</td>\n",
              "      <td>NaN</td>\n",
              "      <td>NaN</td>\n",
              "      <td>NaN</td>\n",
              "    </tr>\n",
              "    <tr>\n",
              "      <th>3</th>\n",
              "      <td>2</td>\n",
              "      <td>https://nayoo.co/khonkaen/posts/17</td>\n",
              "      <td>อาคารพาณิชย์/สำนักงาน</td>\n",
              "      <td>มั่นใจ</td>\n",
              "      <td>12000000.0</td>\n",
              "      <td>12000000.0</td>\n",
              "      <td>ราคาเสนอขาย 4 - 5 ล้านบาท/คูหา</td>\n",
              "      <td>NaN</td>\n",
              "      <td>2 ขายได้ยาก ใช้ระยะเวลามากว่า 1 ปี</td>\n",
              "      <td>2.0</td>\n",
              "      <td>ขายได้ ใช้ระยะเวลา 4-6 เดือน</td>\n",
              "      <td>NaN</td>\n",
              "      <td>NaN</td>\n",
              "      <td>NaN</td>\n",
              "    </tr>\n",
              "    <tr>\n",
              "      <th>4</th>\n",
              "      <td>1</td>\n",
              "      <td>https://nayoo.co/khonkaen/posts/21</td>\n",
              "      <td>อาคารพาณิชย์/สำนักงาน</td>\n",
              "      <td>มั่นใจ</td>\n",
              "      <td>22500000.0</td>\n",
              "      <td>13500000.0</td>\n",
              "      <td>8,000-50,000</td>\n",
              "      <td>NaN</td>\n",
              "      <td>2 ขายได้ยาก ใช้ระยะเวลามากว่า 1 ปี</td>\n",
              "      <td>2.0</td>\n",
              "      <td>ขายได้ ใช้ระยะเวลา 4-6 เดือน</td>\n",
              "      <td>NaN</td>\n",
              "      <td>NaN</td>\n",
              "      <td>NaN</td>\n",
              "    </tr>\n",
              "  </tbody>\n",
              "</table>\n",
              "</div>\n",
              "      <button class=\"colab-df-convert\" onclick=\"convertToInteractive('df-b127dc2c-3a49-4754-97ab-4c87d8a57af0')\"\n",
              "              title=\"Convert this dataframe to an interactive table.\"\n",
              "              style=\"display:none;\">\n",
              "        \n",
              "  <svg xmlns=\"http://www.w3.org/2000/svg\" height=\"24px\"viewBox=\"0 0 24 24\"\n",
              "       width=\"24px\">\n",
              "    <path d=\"M0 0h24v24H0V0z\" fill=\"none\"/>\n",
              "    <path d=\"M18.56 5.44l.94 2.06.94-2.06 2.06-.94-2.06-.94-.94-2.06-.94 2.06-2.06.94zm-11 1L8.5 8.5l.94-2.06 2.06-.94-2.06-.94L8.5 2.5l-.94 2.06-2.06.94zm10 10l.94 2.06.94-2.06 2.06-.94-2.06-.94-.94-2.06-.94 2.06-2.06.94z\"/><path d=\"M17.41 7.96l-1.37-1.37c-.4-.4-.92-.59-1.43-.59-.52 0-1.04.2-1.43.59L10.3 9.45l-7.72 7.72c-.78.78-.78 2.05 0 2.83L4 21.41c.39.39.9.59 1.41.59.51 0 1.02-.2 1.41-.59l7.78-7.78 2.81-2.81c.8-.78.8-2.07 0-2.86zM5.41 20L4 18.59l7.72-7.72 1.47 1.35L5.41 20z\"/>\n",
              "  </svg>\n",
              "      </button>\n",
              "      \n",
              "  <style>\n",
              "    .colab-df-container {\n",
              "      display:flex;\n",
              "      flex-wrap:wrap;\n",
              "      gap: 12px;\n",
              "    }\n",
              "\n",
              "    .colab-df-convert {\n",
              "      background-color: #E8F0FE;\n",
              "      border: none;\n",
              "      border-radius: 50%;\n",
              "      cursor: pointer;\n",
              "      display: none;\n",
              "      fill: #1967D2;\n",
              "      height: 32px;\n",
              "      padding: 0 0 0 0;\n",
              "      width: 32px;\n",
              "    }\n",
              "\n",
              "    .colab-df-convert:hover {\n",
              "      background-color: #E2EBFA;\n",
              "      box-shadow: 0px 1px 2px rgba(60, 64, 67, 0.3), 0px 1px 3px 1px rgba(60, 64, 67, 0.15);\n",
              "      fill: #174EA6;\n",
              "    }\n",
              "\n",
              "    [theme=dark] .colab-df-convert {\n",
              "      background-color: #3B4455;\n",
              "      fill: #D2E3FC;\n",
              "    }\n",
              "\n",
              "    [theme=dark] .colab-df-convert:hover {\n",
              "      background-color: #434B5C;\n",
              "      box-shadow: 0px 1px 3px 1px rgba(0, 0, 0, 0.15);\n",
              "      filter: drop-shadow(0px 1px 2px rgba(0, 0, 0, 0.3));\n",
              "      fill: #FFFFFF;\n",
              "    }\n",
              "  </style>\n",
              "\n",
              "      <script>\n",
              "        const buttonEl =\n",
              "          document.querySelector('#df-b127dc2c-3a49-4754-97ab-4c87d8a57af0 button.colab-df-convert');\n",
              "        buttonEl.style.display =\n",
              "          google.colab.kernel.accessAllowed ? 'block' : 'none';\n",
              "\n",
              "        async function convertToInteractive(key) {\n",
              "          const element = document.querySelector('#df-b127dc2c-3a49-4754-97ab-4c87d8a57af0');\n",
              "          const dataTable =\n",
              "            await google.colab.kernel.invokeFunction('convertToInteractive',\n",
              "                                                     [key], {});\n",
              "          if (!dataTable) return;\n",
              "\n",
              "          const docLinkHtml = 'Like what you see? Visit the ' +\n",
              "            '<a target=\"_blank\" href=https://colab.research.google.com/notebooks/data_table.ipynb>data table notebook</a>'\n",
              "            + ' to learn more about interactive tables.';\n",
              "          element.innerHTML = '';\n",
              "          dataTable['output_type'] = 'display_data';\n",
              "          await google.colab.output.renderOutput(dataTable, element);\n",
              "          const docLink = document.createElement('div');\n",
              "          docLink.innerHTML = docLinkHtml;\n",
              "          element.appendChild(docLink);\n",
              "        }\n",
              "      </script>\n",
              "    </div>\n",
              "  </div>\n",
              "  "
            ]
          },
          "metadata": {},
          "execution_count": 79
        }
      ]
    },
    {
      "cell_type": "markdown",
      "source": [
        "##ผู้ประเมินคนที่ 1"
      ],
      "metadata": {
        "id": "RpQ_tg2qX-sa"
      }
    },
    {
      "cell_type": "code",
      "source": [
        "#เลือกคอลัมน์ผู้ประเมินคนที่ 1 \n",
        "b1 = df5[df5['ID ผู้ประเมิน']==1]\n",
        "b1.count()"
      ],
      "metadata": {
        "colab": {
          "base_uri": "https://localhost:8080/"
        },
        "outputId": "4e5880bb-9506-4f64-e1b8-4c7e1a100d5a",
        "id": "-UQ03A9TX-sa"
      },
      "execution_count": 80,
      "outputs": [
        {
          "output_type": "execute_result",
          "data": {
            "text/plain": [
              "ID ผู้ประเมิน                     10\n",
              "post id                           10\n",
              "property_type                     10\n",
              "ความมั่นใจในการเมินราคาทรัพย์     10\n",
              "ราคาทรัพย์                        10\n",
              "ประเมินราคาซื้อ-ขาย               10\n",
              "ปัจจัยในการประเมินราคาซื้อ-ขาย    10\n",
              "เหตุผลไม่มั่นใจราคาประเมิน         0\n",
              "ให้คะแนนทรัพย์                    10\n",
              "Unnamed: 9                        10\n",
              "Unnamed: 10                       10\n",
              "Unnamed: 11                        0\n",
              "Unnamed: 12                        0\n",
              "Unnamed: 13                        1\n",
              "dtype: int64"
            ]
          },
          "metadata": {},
          "execution_count": 80
        }
      ]
    },
    {
      "cell_type": "markdown",
      "source": [
        "ผู้ประเมินคนที่ 1 ประเมินอาคารพาณิชย์ไว้ทั้งหมด 10 ทรัพย์"
      ],
      "metadata": {
        "id": "_birpBaBX-sb"
      }
    },
    {
      "cell_type": "code",
      "source": [
        "b1.describe()"
      ],
      "metadata": {
        "colab": {
          "base_uri": "https://localhost:8080/",
          "height": 300
        },
        "outputId": "4588c3e1-4b0b-48b9-d603-dcf4647d884a",
        "id": "EPxgPslAX-sc"
      },
      "execution_count": 81,
      "outputs": [
        {
          "output_type": "execute_result",
          "data": {
            "text/plain": [
              "       ID ผู้ประเมิน    ราคาทรัพย์  ประเมินราคาซื้อ-ขาย  \\\n",
              "count           10.0  1.000000e+01         1.000000e+01   \n",
              "mean             1.0  7.710000e+06         6.260000e+06   \n",
              "std              0.0  5.926110e+06         3.913850e+06   \n",
              "min              1.0  2.400000e+06         2.200000e+06   \n",
              "25%              1.0  4.125000e+06         3.650000e+06   \n",
              "50%              1.0  6.000000e+06         5.000000e+06   \n",
              "75%              1.0  8.500000e+06         7.750000e+06   \n",
              "max              1.0  2.250000e+07         1.350000e+07   \n",
              "\n",
              "       เหตุผลไม่มั่นใจราคาประเมิน  Unnamed: 9  Unnamed: 11  Unnamed: 12  \\\n",
              "count                         0.0   10.000000          0.0          0.0   \n",
              "mean                          NaN    2.700000          NaN          NaN   \n",
              "std                           NaN    0.823273          NaN          NaN   \n",
              "min                           NaN    2.000000          NaN          NaN   \n",
              "25%                           NaN    2.000000          NaN          NaN   \n",
              "50%                           NaN    2.500000          NaN          NaN   \n",
              "75%                           NaN    3.000000          NaN          NaN   \n",
              "max                           NaN    4.000000          NaN          NaN   \n",
              "\n",
              "       Unnamed: 13  \n",
              "count          1.0  \n",
              "mean          10.0  \n",
              "std            NaN  \n",
              "min           10.0  \n",
              "25%           10.0  \n",
              "50%           10.0  \n",
              "75%           10.0  \n",
              "max           10.0  "
            ],
            "text/html": [
              "\n",
              "  <div id=\"df-c27634b6-bf37-42c0-9b85-94e2bdbd60bb\">\n",
              "    <div class=\"colab-df-container\">\n",
              "      <div>\n",
              "<style scoped>\n",
              "    .dataframe tbody tr th:only-of-type {\n",
              "        vertical-align: middle;\n",
              "    }\n",
              "\n",
              "    .dataframe tbody tr th {\n",
              "        vertical-align: top;\n",
              "    }\n",
              "\n",
              "    .dataframe thead th {\n",
              "        text-align: right;\n",
              "    }\n",
              "</style>\n",
              "<table border=\"1\" class=\"dataframe\">\n",
              "  <thead>\n",
              "    <tr style=\"text-align: right;\">\n",
              "      <th></th>\n",
              "      <th>ID ผู้ประเมิน</th>\n",
              "      <th>ราคาทรัพย์</th>\n",
              "      <th>ประเมินราคาซื้อ-ขาย</th>\n",
              "      <th>เหตุผลไม่มั่นใจราคาประเมิน</th>\n",
              "      <th>Unnamed: 9</th>\n",
              "      <th>Unnamed: 11</th>\n",
              "      <th>Unnamed: 12</th>\n",
              "      <th>Unnamed: 13</th>\n",
              "    </tr>\n",
              "  </thead>\n",
              "  <tbody>\n",
              "    <tr>\n",
              "      <th>count</th>\n",
              "      <td>10.0</td>\n",
              "      <td>1.000000e+01</td>\n",
              "      <td>1.000000e+01</td>\n",
              "      <td>0.0</td>\n",
              "      <td>10.000000</td>\n",
              "      <td>0.0</td>\n",
              "      <td>0.0</td>\n",
              "      <td>1.0</td>\n",
              "    </tr>\n",
              "    <tr>\n",
              "      <th>mean</th>\n",
              "      <td>1.0</td>\n",
              "      <td>7.710000e+06</td>\n",
              "      <td>6.260000e+06</td>\n",
              "      <td>NaN</td>\n",
              "      <td>2.700000</td>\n",
              "      <td>NaN</td>\n",
              "      <td>NaN</td>\n",
              "      <td>10.0</td>\n",
              "    </tr>\n",
              "    <tr>\n",
              "      <th>std</th>\n",
              "      <td>0.0</td>\n",
              "      <td>5.926110e+06</td>\n",
              "      <td>3.913850e+06</td>\n",
              "      <td>NaN</td>\n",
              "      <td>0.823273</td>\n",
              "      <td>NaN</td>\n",
              "      <td>NaN</td>\n",
              "      <td>NaN</td>\n",
              "    </tr>\n",
              "    <tr>\n",
              "      <th>min</th>\n",
              "      <td>1.0</td>\n",
              "      <td>2.400000e+06</td>\n",
              "      <td>2.200000e+06</td>\n",
              "      <td>NaN</td>\n",
              "      <td>2.000000</td>\n",
              "      <td>NaN</td>\n",
              "      <td>NaN</td>\n",
              "      <td>10.0</td>\n",
              "    </tr>\n",
              "    <tr>\n",
              "      <th>25%</th>\n",
              "      <td>1.0</td>\n",
              "      <td>4.125000e+06</td>\n",
              "      <td>3.650000e+06</td>\n",
              "      <td>NaN</td>\n",
              "      <td>2.000000</td>\n",
              "      <td>NaN</td>\n",
              "      <td>NaN</td>\n",
              "      <td>10.0</td>\n",
              "    </tr>\n",
              "    <tr>\n",
              "      <th>50%</th>\n",
              "      <td>1.0</td>\n",
              "      <td>6.000000e+06</td>\n",
              "      <td>5.000000e+06</td>\n",
              "      <td>NaN</td>\n",
              "      <td>2.500000</td>\n",
              "      <td>NaN</td>\n",
              "      <td>NaN</td>\n",
              "      <td>10.0</td>\n",
              "    </tr>\n",
              "    <tr>\n",
              "      <th>75%</th>\n",
              "      <td>1.0</td>\n",
              "      <td>8.500000e+06</td>\n",
              "      <td>7.750000e+06</td>\n",
              "      <td>NaN</td>\n",
              "      <td>3.000000</td>\n",
              "      <td>NaN</td>\n",
              "      <td>NaN</td>\n",
              "      <td>10.0</td>\n",
              "    </tr>\n",
              "    <tr>\n",
              "      <th>max</th>\n",
              "      <td>1.0</td>\n",
              "      <td>2.250000e+07</td>\n",
              "      <td>1.350000e+07</td>\n",
              "      <td>NaN</td>\n",
              "      <td>4.000000</td>\n",
              "      <td>NaN</td>\n",
              "      <td>NaN</td>\n",
              "      <td>10.0</td>\n",
              "    </tr>\n",
              "  </tbody>\n",
              "</table>\n",
              "</div>\n",
              "      <button class=\"colab-df-convert\" onclick=\"convertToInteractive('df-c27634b6-bf37-42c0-9b85-94e2bdbd60bb')\"\n",
              "              title=\"Convert this dataframe to an interactive table.\"\n",
              "              style=\"display:none;\">\n",
              "        \n",
              "  <svg xmlns=\"http://www.w3.org/2000/svg\" height=\"24px\"viewBox=\"0 0 24 24\"\n",
              "       width=\"24px\">\n",
              "    <path d=\"M0 0h24v24H0V0z\" fill=\"none\"/>\n",
              "    <path d=\"M18.56 5.44l.94 2.06.94-2.06 2.06-.94-2.06-.94-.94-2.06-.94 2.06-2.06.94zm-11 1L8.5 8.5l.94-2.06 2.06-.94-2.06-.94L8.5 2.5l-.94 2.06-2.06.94zm10 10l.94 2.06.94-2.06 2.06-.94-2.06-.94-.94-2.06-.94 2.06-2.06.94z\"/><path d=\"M17.41 7.96l-1.37-1.37c-.4-.4-.92-.59-1.43-.59-.52 0-1.04.2-1.43.59L10.3 9.45l-7.72 7.72c-.78.78-.78 2.05 0 2.83L4 21.41c.39.39.9.59 1.41.59.51 0 1.02-.2 1.41-.59l7.78-7.78 2.81-2.81c.8-.78.8-2.07 0-2.86zM5.41 20L4 18.59l7.72-7.72 1.47 1.35L5.41 20z\"/>\n",
              "  </svg>\n",
              "      </button>\n",
              "      \n",
              "  <style>\n",
              "    .colab-df-container {\n",
              "      display:flex;\n",
              "      flex-wrap:wrap;\n",
              "      gap: 12px;\n",
              "    }\n",
              "\n",
              "    .colab-df-convert {\n",
              "      background-color: #E8F0FE;\n",
              "      border: none;\n",
              "      border-radius: 50%;\n",
              "      cursor: pointer;\n",
              "      display: none;\n",
              "      fill: #1967D2;\n",
              "      height: 32px;\n",
              "      padding: 0 0 0 0;\n",
              "      width: 32px;\n",
              "    }\n",
              "\n",
              "    .colab-df-convert:hover {\n",
              "      background-color: #E2EBFA;\n",
              "      box-shadow: 0px 1px 2px rgba(60, 64, 67, 0.3), 0px 1px 3px 1px rgba(60, 64, 67, 0.15);\n",
              "      fill: #174EA6;\n",
              "    }\n",
              "\n",
              "    [theme=dark] .colab-df-convert {\n",
              "      background-color: #3B4455;\n",
              "      fill: #D2E3FC;\n",
              "    }\n",
              "\n",
              "    [theme=dark] .colab-df-convert:hover {\n",
              "      background-color: #434B5C;\n",
              "      box-shadow: 0px 1px 3px 1px rgba(0, 0, 0, 0.15);\n",
              "      filter: drop-shadow(0px 1px 2px rgba(0, 0, 0, 0.3));\n",
              "      fill: #FFFFFF;\n",
              "    }\n",
              "  </style>\n",
              "\n",
              "      <script>\n",
              "        const buttonEl =\n",
              "          document.querySelector('#df-c27634b6-bf37-42c0-9b85-94e2bdbd60bb button.colab-df-convert');\n",
              "        buttonEl.style.display =\n",
              "          google.colab.kernel.accessAllowed ? 'block' : 'none';\n",
              "\n",
              "        async function convertToInteractive(key) {\n",
              "          const element = document.querySelector('#df-c27634b6-bf37-42c0-9b85-94e2bdbd60bb');\n",
              "          const dataTable =\n",
              "            await google.colab.kernel.invokeFunction('convertToInteractive',\n",
              "                                                     [key], {});\n",
              "          if (!dataTable) return;\n",
              "\n",
              "          const docLinkHtml = 'Like what you see? Visit the ' +\n",
              "            '<a target=\"_blank\" href=https://colab.research.google.com/notebooks/data_table.ipynb>data table notebook</a>'\n",
              "            + ' to learn more about interactive tables.';\n",
              "          element.innerHTML = '';\n",
              "          dataTable['output_type'] = 'display_data';\n",
              "          await google.colab.output.renderOutput(dataTable, element);\n",
              "          const docLink = document.createElement('div');\n",
              "          docLink.innerHTML = docLinkHtml;\n",
              "          element.appendChild(docLink);\n",
              "        }\n",
              "      </script>\n",
              "    </div>\n",
              "  </div>\n",
              "  "
            ]
          },
          "metadata": {},
          "execution_count": 81
        }
      ]
    },
    {
      "cell_type": "markdown",
      "source": [
        "- ราคาซื้อ-ขายที่น้อยที่สุดของสินทรัพย์อาคารพาณิชย์ของคนที่ 1 = 2.200000e+06\t\n",
        "- ราคาซื้อ-ขายที่มากที่สุดของสินทรัพย์อาคารพาณิชย์ของคนที่ 1 = 1.350000e+07\t"
      ],
      "metadata": {
        "id": "GN-OhGGoX-sc"
      }
    },
    {
      "cell_type": "code",
      "source": [
        "b1['ความมั่นใจในการเมินราคาทรัพย์'].value_counts()"
      ],
      "metadata": {
        "colab": {
          "base_uri": "https://localhost:8080/"
        },
        "outputId": "9d473854-585f-4d95-ac18-0c8a91052e76",
        "id": "4fUI486KX-sd"
      },
      "execution_count": 82,
      "outputs": [
        {
          "output_type": "execute_result",
          "data": {
            "text/plain": [
              "มั่นใจ    10\n",
              "Name: ความมั่นใจในการเมินราคาทรัพย์, dtype: int64"
            ]
          },
          "metadata": {},
          "execution_count": 82
        }
      ]
    },
    {
      "cell_type": "code",
      "source": [
        "b1['ให้คะแนนทรัพย์'].value_counts()"
      ],
      "metadata": {
        "colab": {
          "base_uri": "https://localhost:8080/"
        },
        "outputId": "2ec57a33-a797-480f-bf61-b1f7b6ba8f18",
        "id": "7KUkZI7eX-sd"
      },
      "execution_count": 83,
      "outputs": [
        {
          "output_type": "execute_result",
          "data": {
            "text/plain": [
              "2 ขายได้ยาก ใช้ระยะเวลามากว่า 1 ปี    5\n",
              "3 ขายได้ ใช้ระยะเวลา 7 - 12 เดือน     3\n",
              "4 ขายได้ ใช้ระยะเวลา 4 - 6 เดือน      2\n",
              "Name: ให้คะแนนทรัพย์, dtype: int64"
            ]
          },
          "metadata": {},
          "execution_count": 83
        }
      ]
    },
    {
      "cell_type": "markdown",
      "source": [
        "##ผู้ประเมินคนที่ 2"
      ],
      "metadata": {
        "id": "obd5hFClX-se"
      }
    },
    {
      "cell_type": "code",
      "source": [
        "#เลือกคอลัมน์ผู้ประเมินคนที่ 2\n",
        "b2 = df5[df5['ID ผู้ประเมิน']==2]\n",
        "b2.count()"
      ],
      "metadata": {
        "colab": {
          "base_uri": "https://localhost:8080/"
        },
        "outputId": "b8825397-0ac3-4379-d238-b5c81eddd394",
        "id": "tNw9Qk9DX-se"
      },
      "execution_count": 84,
      "outputs": [
        {
          "output_type": "execute_result",
          "data": {
            "text/plain": [
              "ID ผู้ประเมิน                     10\n",
              "post id                           10\n",
              "property_type                     10\n",
              "ความมั่นใจในการเมินราคาทรัพย์     10\n",
              "ราคาทรัพย์                        10\n",
              "ประเมินราคาซื้อ-ขาย               10\n",
              "ปัจจัยในการประเมินราคาซื้อ-ขาย    10\n",
              "เหตุผลไม่มั่นใจราคาประเมิน         0\n",
              "ให้คะแนนทรัพย์                    10\n",
              "Unnamed: 9                        10\n",
              "Unnamed: 10                       10\n",
              "Unnamed: 11                        0\n",
              "Unnamed: 12                        0\n",
              "Unnamed: 13                        0\n",
              "dtype: int64"
            ]
          },
          "metadata": {},
          "execution_count": 84
        }
      ]
    },
    {
      "cell_type": "markdown",
      "source": [
        "ผู้ประเมินคนที่ 2 ประเมินอาคารพาณิชย์ไว้ทั้งหมด 10 ทรัพย์"
      ],
      "metadata": {
        "id": "BwROudzKX-se"
      }
    },
    {
      "cell_type": "code",
      "source": [
        "b2.describe()"
      ],
      "metadata": {
        "colab": {
          "base_uri": "https://localhost:8080/",
          "height": 300
        },
        "outputId": "5b21417f-d6c5-40aa-873b-698b727ccec5",
        "id": "883Qxx5uX-sf"
      },
      "execution_count": 85,
      "outputs": [
        {
          "output_type": "execute_result",
          "data": {
            "text/plain": [
              "       ID ผู้ประเมิน    ราคาทรัพย์  ประเมินราคาซื้อ-ขาย  \\\n",
              "count           10.0  1.000000e+01         1.000000e+01   \n",
              "mean             2.0  7.710000e+06         7.610000e+06   \n",
              "std              0.0  5.926110e+06         5.408728e+06   \n",
              "min              2.0  2.400000e+06         2.100000e+06   \n",
              "25%              2.0  4.125000e+06         4.000000e+06   \n",
              "50%              2.0  6.000000e+06         6.500000e+06   \n",
              "75%              2.0  8.500000e+06         9.500000e+06   \n",
              "max              2.0  2.250000e+07         2.000000e+07   \n",
              "\n",
              "       เหตุผลไม่มั่นใจราคาประเมิน  Unnamed: 9  Unnamed: 11  Unnamed: 12  \\\n",
              "count                         0.0   10.000000          0.0          0.0   \n",
              "mean                          NaN    2.800000          NaN          NaN   \n",
              "std                           NaN    0.918937          NaN          NaN   \n",
              "min                           NaN    2.000000          NaN          NaN   \n",
              "25%                           NaN    2.000000          NaN          NaN   \n",
              "50%                           NaN    2.500000          NaN          NaN   \n",
              "75%                           NaN    3.750000          NaN          NaN   \n",
              "max                           NaN    4.000000          NaN          NaN   \n",
              "\n",
              "       Unnamed: 13  \n",
              "count          0.0  \n",
              "mean           NaN  \n",
              "std            NaN  \n",
              "min            NaN  \n",
              "25%            NaN  \n",
              "50%            NaN  \n",
              "75%            NaN  \n",
              "max            NaN  "
            ],
            "text/html": [
              "\n",
              "  <div id=\"df-80ec664a-2e5d-48dd-82f8-f92a56381f44\">\n",
              "    <div class=\"colab-df-container\">\n",
              "      <div>\n",
              "<style scoped>\n",
              "    .dataframe tbody tr th:only-of-type {\n",
              "        vertical-align: middle;\n",
              "    }\n",
              "\n",
              "    .dataframe tbody tr th {\n",
              "        vertical-align: top;\n",
              "    }\n",
              "\n",
              "    .dataframe thead th {\n",
              "        text-align: right;\n",
              "    }\n",
              "</style>\n",
              "<table border=\"1\" class=\"dataframe\">\n",
              "  <thead>\n",
              "    <tr style=\"text-align: right;\">\n",
              "      <th></th>\n",
              "      <th>ID ผู้ประเมิน</th>\n",
              "      <th>ราคาทรัพย์</th>\n",
              "      <th>ประเมินราคาซื้อ-ขาย</th>\n",
              "      <th>เหตุผลไม่มั่นใจราคาประเมิน</th>\n",
              "      <th>Unnamed: 9</th>\n",
              "      <th>Unnamed: 11</th>\n",
              "      <th>Unnamed: 12</th>\n",
              "      <th>Unnamed: 13</th>\n",
              "    </tr>\n",
              "  </thead>\n",
              "  <tbody>\n",
              "    <tr>\n",
              "      <th>count</th>\n",
              "      <td>10.0</td>\n",
              "      <td>1.000000e+01</td>\n",
              "      <td>1.000000e+01</td>\n",
              "      <td>0.0</td>\n",
              "      <td>10.000000</td>\n",
              "      <td>0.0</td>\n",
              "      <td>0.0</td>\n",
              "      <td>0.0</td>\n",
              "    </tr>\n",
              "    <tr>\n",
              "      <th>mean</th>\n",
              "      <td>2.0</td>\n",
              "      <td>7.710000e+06</td>\n",
              "      <td>7.610000e+06</td>\n",
              "      <td>NaN</td>\n",
              "      <td>2.800000</td>\n",
              "      <td>NaN</td>\n",
              "      <td>NaN</td>\n",
              "      <td>NaN</td>\n",
              "    </tr>\n",
              "    <tr>\n",
              "      <th>std</th>\n",
              "      <td>0.0</td>\n",
              "      <td>5.926110e+06</td>\n",
              "      <td>5.408728e+06</td>\n",
              "      <td>NaN</td>\n",
              "      <td>0.918937</td>\n",
              "      <td>NaN</td>\n",
              "      <td>NaN</td>\n",
              "      <td>NaN</td>\n",
              "    </tr>\n",
              "    <tr>\n",
              "      <th>min</th>\n",
              "      <td>2.0</td>\n",
              "      <td>2.400000e+06</td>\n",
              "      <td>2.100000e+06</td>\n",
              "      <td>NaN</td>\n",
              "      <td>2.000000</td>\n",
              "      <td>NaN</td>\n",
              "      <td>NaN</td>\n",
              "      <td>NaN</td>\n",
              "    </tr>\n",
              "    <tr>\n",
              "      <th>25%</th>\n",
              "      <td>2.0</td>\n",
              "      <td>4.125000e+06</td>\n",
              "      <td>4.000000e+06</td>\n",
              "      <td>NaN</td>\n",
              "      <td>2.000000</td>\n",
              "      <td>NaN</td>\n",
              "      <td>NaN</td>\n",
              "      <td>NaN</td>\n",
              "    </tr>\n",
              "    <tr>\n",
              "      <th>50%</th>\n",
              "      <td>2.0</td>\n",
              "      <td>6.000000e+06</td>\n",
              "      <td>6.500000e+06</td>\n",
              "      <td>NaN</td>\n",
              "      <td>2.500000</td>\n",
              "      <td>NaN</td>\n",
              "      <td>NaN</td>\n",
              "      <td>NaN</td>\n",
              "    </tr>\n",
              "    <tr>\n",
              "      <th>75%</th>\n",
              "      <td>2.0</td>\n",
              "      <td>8.500000e+06</td>\n",
              "      <td>9.500000e+06</td>\n",
              "      <td>NaN</td>\n",
              "      <td>3.750000</td>\n",
              "      <td>NaN</td>\n",
              "      <td>NaN</td>\n",
              "      <td>NaN</td>\n",
              "    </tr>\n",
              "    <tr>\n",
              "      <th>max</th>\n",
              "      <td>2.0</td>\n",
              "      <td>2.250000e+07</td>\n",
              "      <td>2.000000e+07</td>\n",
              "      <td>NaN</td>\n",
              "      <td>4.000000</td>\n",
              "      <td>NaN</td>\n",
              "      <td>NaN</td>\n",
              "      <td>NaN</td>\n",
              "    </tr>\n",
              "  </tbody>\n",
              "</table>\n",
              "</div>\n",
              "      <button class=\"colab-df-convert\" onclick=\"convertToInteractive('df-80ec664a-2e5d-48dd-82f8-f92a56381f44')\"\n",
              "              title=\"Convert this dataframe to an interactive table.\"\n",
              "              style=\"display:none;\">\n",
              "        \n",
              "  <svg xmlns=\"http://www.w3.org/2000/svg\" height=\"24px\"viewBox=\"0 0 24 24\"\n",
              "       width=\"24px\">\n",
              "    <path d=\"M0 0h24v24H0V0z\" fill=\"none\"/>\n",
              "    <path d=\"M18.56 5.44l.94 2.06.94-2.06 2.06-.94-2.06-.94-.94-2.06-.94 2.06-2.06.94zm-11 1L8.5 8.5l.94-2.06 2.06-.94-2.06-.94L8.5 2.5l-.94 2.06-2.06.94zm10 10l.94 2.06.94-2.06 2.06-.94-2.06-.94-.94-2.06-.94 2.06-2.06.94z\"/><path d=\"M17.41 7.96l-1.37-1.37c-.4-.4-.92-.59-1.43-.59-.52 0-1.04.2-1.43.59L10.3 9.45l-7.72 7.72c-.78.78-.78 2.05 0 2.83L4 21.41c.39.39.9.59 1.41.59.51 0 1.02-.2 1.41-.59l7.78-7.78 2.81-2.81c.8-.78.8-2.07 0-2.86zM5.41 20L4 18.59l7.72-7.72 1.47 1.35L5.41 20z\"/>\n",
              "  </svg>\n",
              "      </button>\n",
              "      \n",
              "  <style>\n",
              "    .colab-df-container {\n",
              "      display:flex;\n",
              "      flex-wrap:wrap;\n",
              "      gap: 12px;\n",
              "    }\n",
              "\n",
              "    .colab-df-convert {\n",
              "      background-color: #E8F0FE;\n",
              "      border: none;\n",
              "      border-radius: 50%;\n",
              "      cursor: pointer;\n",
              "      display: none;\n",
              "      fill: #1967D2;\n",
              "      height: 32px;\n",
              "      padding: 0 0 0 0;\n",
              "      width: 32px;\n",
              "    }\n",
              "\n",
              "    .colab-df-convert:hover {\n",
              "      background-color: #E2EBFA;\n",
              "      box-shadow: 0px 1px 2px rgba(60, 64, 67, 0.3), 0px 1px 3px 1px rgba(60, 64, 67, 0.15);\n",
              "      fill: #174EA6;\n",
              "    }\n",
              "\n",
              "    [theme=dark] .colab-df-convert {\n",
              "      background-color: #3B4455;\n",
              "      fill: #D2E3FC;\n",
              "    }\n",
              "\n",
              "    [theme=dark] .colab-df-convert:hover {\n",
              "      background-color: #434B5C;\n",
              "      box-shadow: 0px 1px 3px 1px rgba(0, 0, 0, 0.15);\n",
              "      filter: drop-shadow(0px 1px 2px rgba(0, 0, 0, 0.3));\n",
              "      fill: #FFFFFF;\n",
              "    }\n",
              "  </style>\n",
              "\n",
              "      <script>\n",
              "        const buttonEl =\n",
              "          document.querySelector('#df-80ec664a-2e5d-48dd-82f8-f92a56381f44 button.colab-df-convert');\n",
              "        buttonEl.style.display =\n",
              "          google.colab.kernel.accessAllowed ? 'block' : 'none';\n",
              "\n",
              "        async function convertToInteractive(key) {\n",
              "          const element = document.querySelector('#df-80ec664a-2e5d-48dd-82f8-f92a56381f44');\n",
              "          const dataTable =\n",
              "            await google.colab.kernel.invokeFunction('convertToInteractive',\n",
              "                                                     [key], {});\n",
              "          if (!dataTable) return;\n",
              "\n",
              "          const docLinkHtml = 'Like what you see? Visit the ' +\n",
              "            '<a target=\"_blank\" href=https://colab.research.google.com/notebooks/data_table.ipynb>data table notebook</a>'\n",
              "            + ' to learn more about interactive tables.';\n",
              "          element.innerHTML = '';\n",
              "          dataTable['output_type'] = 'display_data';\n",
              "          await google.colab.output.renderOutput(dataTable, element);\n",
              "          const docLink = document.createElement('div');\n",
              "          docLink.innerHTML = docLinkHtml;\n",
              "          element.appendChild(docLink);\n",
              "        }\n",
              "      </script>\n",
              "    </div>\n",
              "  </div>\n",
              "  "
            ]
          },
          "metadata": {},
          "execution_count": 85
        }
      ]
    },
    {
      "cell_type": "markdown",
      "source": [
        "- ราคาซื้อ-ขายที่น้อยที่สุดของสินทรัพย์อาคารพาณิชย์ของคนที่ 2 = 2.100000e+06\n",
        "- ราคาซื้อ-ขายที่มากที่สุดของสินทรัพย์อาคารพาณิชย์ของคนที่ 2 = 2.000000e+07\t"
      ],
      "metadata": {
        "id": "gG1Ofw-TX-sf"
      }
    },
    {
      "cell_type": "code",
      "source": [
        "b2['ความมั่นใจในการเมินราคาทรัพย์'].value_counts()"
      ],
      "metadata": {
        "colab": {
          "base_uri": "https://localhost:8080/"
        },
        "outputId": "d4ac2501-d9af-4671-877f-f03165f15cb1",
        "id": "ETdD2UVZX-sg"
      },
      "execution_count": 86,
      "outputs": [
        {
          "output_type": "execute_result",
          "data": {
            "text/plain": [
              "มั่นใจ    10\n",
              "Name: ความมั่นใจในการเมินราคาทรัพย์, dtype: int64"
            ]
          },
          "metadata": {},
          "execution_count": 86
        }
      ]
    },
    {
      "cell_type": "code",
      "source": [
        "b2['ให้คะแนนทรัพย์'].value_counts()"
      ],
      "metadata": {
        "colab": {
          "base_uri": "https://localhost:8080/"
        },
        "outputId": "18f10b52-a474-4fc1-8a89-edd8fc8ce056",
        "id": "Q8Wj86g7X-sh"
      },
      "execution_count": 87,
      "outputs": [
        {
          "output_type": "execute_result",
          "data": {
            "text/plain": [
              "2 ขายได้ยาก ใช้ระยะเวลามากว่า 1 ปี    5\n",
              "4 ขายได้ ใช้ระยะเวลา 4 - 6 เดือน      3\n",
              "3 ขายได้ ใช้ระยะเวลา 7 - 12 เดือน     2\n",
              "Name: ให้คะแนนทรัพย์, dtype: int64"
            ]
          },
          "metadata": {},
          "execution_count": 87
        }
      ]
    },
    {
      "cell_type": "markdown",
      "source": [
        "##เปรียบเทียบความแตกต่างในการประเมินราคาทรัพย์(อาคารพาณิชย์)ของนักประเมินแต่ละคนและของราคาตั้งขาย\n"
      ],
      "metadata": {
        "id": "0grecfmGX-sj"
      }
    },
    {
      "cell_type": "markdown",
      "source": [
        "![image.png](data:image/png;base64,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)"
      ],
      "metadata": {
        "id": "JiAlnMFCX-sk"
      }
    },
    {
      "cell_type": "code",
      "source": [
        "b2['ประเมิน1'] = b2['post id'].map(b1.set_index('post id')['ประเมินราคาซื้อ-ขาย']);\n",
        "b2.head()"
      ],
      "metadata": {
        "colab": {
          "base_uri": "https://localhost:8080/",
          "height": 684
        },
        "outputId": "b74cd322-6c3e-4b6f-a6e0-a816baba7ba5",
        "id": "oNrgObf5X-sn"
      },
      "execution_count": 88,
      "outputs": [
        {
          "output_type": "stream",
          "name": "stderr",
          "text": [
            "<ipython-input-88-5730ce203b31>:1: SettingWithCopyWarning: \n",
            "A value is trying to be set on a copy of a slice from a DataFrame.\n",
            "Try using .loc[row_indexer,col_indexer] = value instead\n",
            "\n",
            "See the caveats in the documentation: https://pandas.pydata.org/pandas-docs/stable/user_guide/indexing.html#returning-a-view-versus-a-copy\n",
            "  b2['ประเมิน1'] = b2['post id'].map(b1.set_index('post id')['ประเมินราคาซื้อ-ขาย']);\n"
          ]
        },
        {
          "output_type": "execute_result",
          "data": {
            "text/plain": [
              "   ID ผู้ประเมิน                             post id          property_type  \\\n",
              "1              2   https://nayoo.co/khonkaen/posts/6  อาคารพาณิชย์/สำนักงาน   \n",
              "3              2  https://nayoo.co/khonkaen/posts/17  อาคารพาณิชย์/สำนักงาน   \n",
              "5              2  https://nayoo.co/khonkaen/posts/21  อาคารพาณิชย์/สำนักงาน   \n",
              "7              2  https://nayoo.co/khonkaen/posts/22  อาคารพาณิชย์/สำนักงาน   \n",
              "9              2  https://nayoo.co/khonkaen/posts/24  อาคารพาณิชย์/สำนักงาน   \n",
              "\n",
              "  ความมั่นใจในการเมินราคาทรัพย์  ราคาทรัพย์  ประเมินราคาซื้อ-ขาย  \\\n",
              "1                        มั่นใจ   7000000.0            8000000.0   \n",
              "3                        มั่นใจ  12000000.0           12000000.0   \n",
              "5                        มั่นใจ  22500000.0           20000000.0   \n",
              "7                        มั่นใจ   3500000.0            4000000.0   \n",
              "9                        มั่นใจ   3900000.0            3000000.0   \n",
              "\n",
              "             ปัจจัยในการประเมินราคาซื้อ-ขาย  เหตุผลไม่มั่นใจราคาประเมิน  \\\n",
              "1  ราคาเสนอขาย 4,000,000-6,000,000 บาท/คูหา                         NaN   \n",
              "3            ราคาเสนอขาย 4 - 5 ล้านบาท/คูหา                         NaN   \n",
              "5            ราคาเสนอขาย 6-8 ล้านบาท / คูหา                         NaN   \n",
              "7              ราคาเสนอขาย 3-5 ล้านบาท/คูหา                         NaN   \n",
              "9            ราคาซื้อขาย 3-4 ล้านบาท / คูหา                         NaN   \n",
              "\n",
              "                       ให้คะแนนทรัพย์  Unnamed: 9  \\\n",
              "1    4 ขายได้ ใช้ระยะเวลา 4 - 6 เดือน         4.0   \n",
              "3  2 ขายได้ยาก ใช้ระยะเวลามากว่า 1 ปี         2.0   \n",
              "5   3 ขายได้ ใช้ระยะเวลา 7 - 12 เดือน         3.0   \n",
              "7    4 ขายได้ ใช้ระยะเวลา 4 - 6 เดือน         4.0   \n",
              "9  2 ขายได้ยาก ใช้ระยะเวลามากว่า 1 ปี         2.0   \n",
              "\n",
              "                        Unnamed: 10  Unnamed: 11  Unnamed: 12  Unnamed: 13  \\\n",
              "1  ขายได้ยาก ใช้ระยะเวลามากว่า 1 ปี          NaN          NaN          NaN   \n",
              "3      ขายได้ ใช้ระยะเวลา 4-6 เดือน          NaN          NaN          NaN   \n",
              "5     ขายได้ ใช้ระยะเวลา 7-12 เดือน          NaN          NaN          NaN   \n",
              "7  ขายได้ยาก ใช้ระยะเวลามากว่า 1 ปี          NaN          NaN          NaN   \n",
              "9      ขายได้ ใช้ระยะเวลา 4-6 เดือน          NaN          NaN          NaN   \n",
              "\n",
              "     ประเมิน1  \n",
              "1   6000000.0  \n",
              "3  12000000.0  \n",
              "5  13500000.0  \n",
              "7   4000000.0  \n",
              "9   2200000.0  "
            ],
            "text/html": [
              "\n",
              "  <div id=\"df-94318a0a-91d1-4ba3-a529-e6fb6ecfe1a5\">\n",
              "    <div class=\"colab-df-container\">\n",
              "      <div>\n",
              "<style scoped>\n",
              "    .dataframe tbody tr th:only-of-type {\n",
              "        vertical-align: middle;\n",
              "    }\n",
              "\n",
              "    .dataframe tbody tr th {\n",
              "        vertical-align: top;\n",
              "    }\n",
              "\n",
              "    .dataframe thead th {\n",
              "        text-align: right;\n",
              "    }\n",
              "</style>\n",
              "<table border=\"1\" class=\"dataframe\">\n",
              "  <thead>\n",
              "    <tr style=\"text-align: right;\">\n",
              "      <th></th>\n",
              "      <th>ID ผู้ประเมิน</th>\n",
              "      <th>post id</th>\n",
              "      <th>property_type</th>\n",
              "      <th>ความมั่นใจในการเมินราคาทรัพย์</th>\n",
              "      <th>ราคาทรัพย์</th>\n",
              "      <th>ประเมินราคาซื้อ-ขาย</th>\n",
              "      <th>ปัจจัยในการประเมินราคาซื้อ-ขาย</th>\n",
              "      <th>เหตุผลไม่มั่นใจราคาประเมิน</th>\n",
              "      <th>ให้คะแนนทรัพย์</th>\n",
              "      <th>Unnamed: 9</th>\n",
              "      <th>Unnamed: 10</th>\n",
              "      <th>Unnamed: 11</th>\n",
              "      <th>Unnamed: 12</th>\n",
              "      <th>Unnamed: 13</th>\n",
              "      <th>ประเมิน1</th>\n",
              "    </tr>\n",
              "  </thead>\n",
              "  <tbody>\n",
              "    <tr>\n",
              "      <th>1</th>\n",
              "      <td>2</td>\n",
              "      <td>https://nayoo.co/khonkaen/posts/6</td>\n",
              "      <td>อาคารพาณิชย์/สำนักงาน</td>\n",
              "      <td>มั่นใจ</td>\n",
              "      <td>7000000.0</td>\n",
              "      <td>8000000.0</td>\n",
              "      <td>ราคาเสนอขาย 4,000,000-6,000,000 บาท/คูหา</td>\n",
              "      <td>NaN</td>\n",
              "      <td>4 ขายได้ ใช้ระยะเวลา 4 - 6 เดือน</td>\n",
              "      <td>4.0</td>\n",
              "      <td>ขายได้ยาก ใช้ระยะเวลามากว่า 1 ปี</td>\n",
              "      <td>NaN</td>\n",
              "      <td>NaN</td>\n",
              "      <td>NaN</td>\n",
              "      <td>6000000.0</td>\n",
              "    </tr>\n",
              "    <tr>\n",
              "      <th>3</th>\n",
              "      <td>2</td>\n",
              "      <td>https://nayoo.co/khonkaen/posts/17</td>\n",
              "      <td>อาคารพาณิชย์/สำนักงาน</td>\n",
              "      <td>มั่นใจ</td>\n",
              "      <td>12000000.0</td>\n",
              "      <td>12000000.0</td>\n",
              "      <td>ราคาเสนอขาย 4 - 5 ล้านบาท/คูหา</td>\n",
              "      <td>NaN</td>\n",
              "      <td>2 ขายได้ยาก ใช้ระยะเวลามากว่า 1 ปี</td>\n",
              "      <td>2.0</td>\n",
              "      <td>ขายได้ ใช้ระยะเวลา 4-6 เดือน</td>\n",
              "      <td>NaN</td>\n",
              "      <td>NaN</td>\n",
              "      <td>NaN</td>\n",
              "      <td>12000000.0</td>\n",
              "    </tr>\n",
              "    <tr>\n",
              "      <th>5</th>\n",
              "      <td>2</td>\n",
              "      <td>https://nayoo.co/khonkaen/posts/21</td>\n",
              "      <td>อาคารพาณิชย์/สำนักงาน</td>\n",
              "      <td>มั่นใจ</td>\n",
              "      <td>22500000.0</td>\n",
              "      <td>20000000.0</td>\n",
              "      <td>ราคาเสนอขาย 6-8 ล้านบาท / คูหา</td>\n",
              "      <td>NaN</td>\n",
              "      <td>3 ขายได้ ใช้ระยะเวลา 7 - 12 เดือน</td>\n",
              "      <td>3.0</td>\n",
              "      <td>ขายได้ ใช้ระยะเวลา 7-12 เดือน</td>\n",
              "      <td>NaN</td>\n",
              "      <td>NaN</td>\n",
              "      <td>NaN</td>\n",
              "      <td>13500000.0</td>\n",
              "    </tr>\n",
              "    <tr>\n",
              "      <th>7</th>\n",
              "      <td>2</td>\n",
              "      <td>https://nayoo.co/khonkaen/posts/22</td>\n",
              "      <td>อาคารพาณิชย์/สำนักงาน</td>\n",
              "      <td>มั่นใจ</td>\n",
              "      <td>3500000.0</td>\n",
              "      <td>4000000.0</td>\n",
              "      <td>ราคาเสนอขาย 3-5 ล้านบาท/คูหา</td>\n",
              "      <td>NaN</td>\n",
              "      <td>4 ขายได้ ใช้ระยะเวลา 4 - 6 เดือน</td>\n",
              "      <td>4.0</td>\n",
              "      <td>ขายได้ยาก ใช้ระยะเวลามากว่า 1 ปี</td>\n",
              "      <td>NaN</td>\n",
              "      <td>NaN</td>\n",
              "      <td>NaN</td>\n",
              "      <td>4000000.0</td>\n",
              "    </tr>\n",
              "    <tr>\n",
              "      <th>9</th>\n",
              "      <td>2</td>\n",
              "      <td>https://nayoo.co/khonkaen/posts/24</td>\n",
              "      <td>อาคารพาณิชย์/สำนักงาน</td>\n",
              "      <td>มั่นใจ</td>\n",
              "      <td>3900000.0</td>\n",
              "      <td>3000000.0</td>\n",
              "      <td>ราคาซื้อขาย 3-4 ล้านบาท / คูหา</td>\n",
              "      <td>NaN</td>\n",
              "      <td>2 ขายได้ยาก ใช้ระยะเวลามากว่า 1 ปี</td>\n",
              "      <td>2.0</td>\n",
              "      <td>ขายได้ ใช้ระยะเวลา 4-6 เดือน</td>\n",
              "      <td>NaN</td>\n",
              "      <td>NaN</td>\n",
              "      <td>NaN</td>\n",
              "      <td>2200000.0</td>\n",
              "    </tr>\n",
              "  </tbody>\n",
              "</table>\n",
              "</div>\n",
              "      <button class=\"colab-df-convert\" onclick=\"convertToInteractive('df-94318a0a-91d1-4ba3-a529-e6fb6ecfe1a5')\"\n",
              "              title=\"Convert this dataframe to an interactive table.\"\n",
              "              style=\"display:none;\">\n",
              "        \n",
              "  <svg xmlns=\"http://www.w3.org/2000/svg\" height=\"24px\"viewBox=\"0 0 24 24\"\n",
              "       width=\"24px\">\n",
              "    <path d=\"M0 0h24v24H0V0z\" fill=\"none\"/>\n",
              "    <path d=\"M18.56 5.44l.94 2.06.94-2.06 2.06-.94-2.06-.94-.94-2.06-.94 2.06-2.06.94zm-11 1L8.5 8.5l.94-2.06 2.06-.94-2.06-.94L8.5 2.5l-.94 2.06-2.06.94zm10 10l.94 2.06.94-2.06 2.06-.94-2.06-.94-.94-2.06-.94 2.06-2.06.94z\"/><path d=\"M17.41 7.96l-1.37-1.37c-.4-.4-.92-.59-1.43-.59-.52 0-1.04.2-1.43.59L10.3 9.45l-7.72 7.72c-.78.78-.78 2.05 0 2.83L4 21.41c.39.39.9.59 1.41.59.51 0 1.02-.2 1.41-.59l7.78-7.78 2.81-2.81c.8-.78.8-2.07 0-2.86zM5.41 20L4 18.59l7.72-7.72 1.47 1.35L5.41 20z\"/>\n",
              "  </svg>\n",
              "      </button>\n",
              "      \n",
              "  <style>\n",
              "    .colab-df-container {\n",
              "      display:flex;\n",
              "      flex-wrap:wrap;\n",
              "      gap: 12px;\n",
              "    }\n",
              "\n",
              "    .colab-df-convert {\n",
              "      background-color: #E8F0FE;\n",
              "      border: none;\n",
              "      border-radius: 50%;\n",
              "      cursor: pointer;\n",
              "      display: none;\n",
              "      fill: #1967D2;\n",
              "      height: 32px;\n",
              "      padding: 0 0 0 0;\n",
              "      width: 32px;\n",
              "    }\n",
              "\n",
              "    .colab-df-convert:hover {\n",
              "      background-color: #E2EBFA;\n",
              "      box-shadow: 0px 1px 2px rgba(60, 64, 67, 0.3), 0px 1px 3px 1px rgba(60, 64, 67, 0.15);\n",
              "      fill: #174EA6;\n",
              "    }\n",
              "\n",
              "    [theme=dark] .colab-df-convert {\n",
              "      background-color: #3B4455;\n",
              "      fill: #D2E3FC;\n",
              "    }\n",
              "\n",
              "    [theme=dark] .colab-df-convert:hover {\n",
              "      background-color: #434B5C;\n",
              "      box-shadow: 0px 1px 3px 1px rgba(0, 0, 0, 0.15);\n",
              "      filter: drop-shadow(0px 1px 2px rgba(0, 0, 0, 0.3));\n",
              "      fill: #FFFFFF;\n",
              "    }\n",
              "  </style>\n",
              "\n",
              "      <script>\n",
              "        const buttonEl =\n",
              "          document.querySelector('#df-94318a0a-91d1-4ba3-a529-e6fb6ecfe1a5 button.colab-df-convert');\n",
              "        buttonEl.style.display =\n",
              "          google.colab.kernel.accessAllowed ? 'block' : 'none';\n",
              "\n",
              "        async function convertToInteractive(key) {\n",
              "          const element = document.querySelector('#df-94318a0a-91d1-4ba3-a529-e6fb6ecfe1a5');\n",
              "          const dataTable =\n",
              "            await google.colab.kernel.invokeFunction('convertToInteractive',\n",
              "                                                     [key], {});\n",
              "          if (!dataTable) return;\n",
              "\n",
              "          const docLinkHtml = 'Like what you see? Visit the ' +\n",
              "            '<a target=\"_blank\" href=https://colab.research.google.com/notebooks/data_table.ipynb>data table notebook</a>'\n",
              "            + ' to learn more about interactive tables.';\n",
              "          element.innerHTML = '';\n",
              "          dataTable['output_type'] = 'display_data';\n",
              "          await google.colab.output.renderOutput(dataTable, element);\n",
              "          const docLink = document.createElement('div');\n",
              "          docLink.innerHTML = docLinkHtml;\n",
              "          element.appendChild(docLink);\n",
              "        }\n",
              "      </script>\n",
              "    </div>\n",
              "  </div>\n",
              "  "
            ]
          },
          "metadata": {},
          "execution_count": 88
        }
      ]
    },
    {
      "cell_type": "markdown",
      "source": [
        "###rename column"
      ],
      "metadata": {
        "id": "-e9XTlRbX-so"
      }
    },
    {
      "cell_type": "code",
      "source": [
        "b2.rename(columns = {'ประเมินราคาซื้อ-ขาย' : 'ประเมิน2'}, inplace = True)"
      ],
      "metadata": {
        "colab": {
          "base_uri": "https://localhost:8080/"
        },
        "outputId": "03690e06-dbe3-4bce-d58e-5b51036cc3fb",
        "id": "Yh6RoyqKX-so"
      },
      "execution_count": 89,
      "outputs": [
        {
          "output_type": "stream",
          "name": "stderr",
          "text": [
            "/usr/local/lib/python3.8/dist-packages/pandas/core/frame.py:5039: SettingWithCopyWarning: \n",
            "A value is trying to be set on a copy of a slice from a DataFrame\n",
            "\n",
            "See the caveats in the documentation: https://pandas.pydata.org/pandas-docs/stable/user_guide/indexing.html#returning-a-view-versus-a-copy\n",
            "  return super().rename(\n"
          ]
        }
      ]
    },
    {
      "cell_type": "markdown",
      "source": [
        "### select columns"
      ],
      "metadata": {
        "id": "nv0zOvPnX-sp"
      }
    },
    {
      "cell_type": "code",
      "source": [
        "build = b2[['post id', 'ราคาทรัพย์', 'ประเมิน1', 'ประเมิน2']]\n",
        "build"
      ],
      "metadata": {
        "colab": {
          "base_uri": "https://localhost:8080/",
          "height": 363
        },
        "outputId": "8df73cb7-49dc-4852-f423-057014d04449",
        "id": "WCMefSIaX-sq"
      },
      "execution_count": 90,
      "outputs": [
        {
          "output_type": "execute_result",
          "data": {
            "text/plain": [
              "                                post id  ราคาทรัพย์    ประเมิน1    ประเมิน2\n",
              "1     https://nayoo.co/khonkaen/posts/6   7000000.0   6000000.0   8000000.0\n",
              "3    https://nayoo.co/khonkaen/posts/17  12000000.0  12000000.0  12000000.0\n",
              "5    https://nayoo.co/khonkaen/posts/21  22500000.0  13500000.0  20000000.0\n",
              "7    https://nayoo.co/khonkaen/posts/22   3500000.0   4000000.0   4000000.0\n",
              "9    https://nayoo.co/khonkaen/posts/24   3900000.0   2200000.0   3000000.0\n",
              "11   https://nayoo.co/khonkaen/posts/30   4800000.0   3600000.0   4000000.0\n",
              "13   https://nayoo.co/khonkaen/posts/35   2400000.0   2500000.0   2100000.0\n",
              "15  https://nayoo.co/khonkaen/posts/497   5000000.0   3800000.0   5000000.0\n",
              "17  https://nayoo.co/khonkaen/posts/498   7000000.0   7000000.0   8000000.0\n",
              "19  https://nayoo.co/khonkaen/posts/499   9000000.0   8000000.0  10000000.0"
            ],
            "text/html": [
              "\n",
              "  <div id=\"df-9e9d199b-957b-4a29-af1a-f3329a7a250a\">\n",
              "    <div class=\"colab-df-container\">\n",
              "      <div>\n",
              "<style scoped>\n",
              "    .dataframe tbody tr th:only-of-type {\n",
              "        vertical-align: middle;\n",
              "    }\n",
              "\n",
              "    .dataframe tbody tr th {\n",
              "        vertical-align: top;\n",
              "    }\n",
              "\n",
              "    .dataframe thead th {\n",
              "        text-align: right;\n",
              "    }\n",
              "</style>\n",
              "<table border=\"1\" class=\"dataframe\">\n",
              "  <thead>\n",
              "    <tr style=\"text-align: right;\">\n",
              "      <th></th>\n",
              "      <th>post id</th>\n",
              "      <th>ราคาทรัพย์</th>\n",
              "      <th>ประเมิน1</th>\n",
              "      <th>ประเมิน2</th>\n",
              "    </tr>\n",
              "  </thead>\n",
              "  <tbody>\n",
              "    <tr>\n",
              "      <th>1</th>\n",
              "      <td>https://nayoo.co/khonkaen/posts/6</td>\n",
              "      <td>7000000.0</td>\n",
              "      <td>6000000.0</td>\n",
              "      <td>8000000.0</td>\n",
              "    </tr>\n",
              "    <tr>\n",
              "      <th>3</th>\n",
              "      <td>https://nayoo.co/khonkaen/posts/17</td>\n",
              "      <td>12000000.0</td>\n",
              "      <td>12000000.0</td>\n",
              "      <td>12000000.0</td>\n",
              "    </tr>\n",
              "    <tr>\n",
              "      <th>5</th>\n",
              "      <td>https://nayoo.co/khonkaen/posts/21</td>\n",
              "      <td>22500000.0</td>\n",
              "      <td>13500000.0</td>\n",
              "      <td>20000000.0</td>\n",
              "    </tr>\n",
              "    <tr>\n",
              "      <th>7</th>\n",
              "      <td>https://nayoo.co/khonkaen/posts/22</td>\n",
              "      <td>3500000.0</td>\n",
              "      <td>4000000.0</td>\n",
              "      <td>4000000.0</td>\n",
              "    </tr>\n",
              "    <tr>\n",
              "      <th>9</th>\n",
              "      <td>https://nayoo.co/khonkaen/posts/24</td>\n",
              "      <td>3900000.0</td>\n",
              "      <td>2200000.0</td>\n",
              "      <td>3000000.0</td>\n",
              "    </tr>\n",
              "    <tr>\n",
              "      <th>11</th>\n",
              "      <td>https://nayoo.co/khonkaen/posts/30</td>\n",
              "      <td>4800000.0</td>\n",
              "      <td>3600000.0</td>\n",
              "      <td>4000000.0</td>\n",
              "    </tr>\n",
              "    <tr>\n",
              "      <th>13</th>\n",
              "      <td>https://nayoo.co/khonkaen/posts/35</td>\n",
              "      <td>2400000.0</td>\n",
              "      <td>2500000.0</td>\n",
              "      <td>2100000.0</td>\n",
              "    </tr>\n",
              "    <tr>\n",
              "      <th>15</th>\n",
              "      <td>https://nayoo.co/khonkaen/posts/497</td>\n",
              "      <td>5000000.0</td>\n",
              "      <td>3800000.0</td>\n",
              "      <td>5000000.0</td>\n",
              "    </tr>\n",
              "    <tr>\n",
              "      <th>17</th>\n",
              "      <td>https://nayoo.co/khonkaen/posts/498</td>\n",
              "      <td>7000000.0</td>\n",
              "      <td>7000000.0</td>\n",
              "      <td>8000000.0</td>\n",
              "    </tr>\n",
              "    <tr>\n",
              "      <th>19</th>\n",
              "      <td>https://nayoo.co/khonkaen/posts/499</td>\n",
              "      <td>9000000.0</td>\n",
              "      <td>8000000.0</td>\n",
              "      <td>10000000.0</td>\n",
              "    </tr>\n",
              "  </tbody>\n",
              "</table>\n",
              "</div>\n",
              "      <button class=\"colab-df-convert\" onclick=\"convertToInteractive('df-9e9d199b-957b-4a29-af1a-f3329a7a250a')\"\n",
              "              title=\"Convert this dataframe to an interactive table.\"\n",
              "              style=\"display:none;\">\n",
              "        \n",
              "  <svg xmlns=\"http://www.w3.org/2000/svg\" height=\"24px\"viewBox=\"0 0 24 24\"\n",
              "       width=\"24px\">\n",
              "    <path d=\"M0 0h24v24H0V0z\" fill=\"none\"/>\n",
              "    <path d=\"M18.56 5.44l.94 2.06.94-2.06 2.06-.94-2.06-.94-.94-2.06-.94 2.06-2.06.94zm-11 1L8.5 8.5l.94-2.06 2.06-.94-2.06-.94L8.5 2.5l-.94 2.06-2.06.94zm10 10l.94 2.06.94-2.06 2.06-.94-2.06-.94-.94-2.06-.94 2.06-2.06.94z\"/><path d=\"M17.41 7.96l-1.37-1.37c-.4-.4-.92-.59-1.43-.59-.52 0-1.04.2-1.43.59L10.3 9.45l-7.72 7.72c-.78.78-.78 2.05 0 2.83L4 21.41c.39.39.9.59 1.41.59.51 0 1.02-.2 1.41-.59l7.78-7.78 2.81-2.81c.8-.78.8-2.07 0-2.86zM5.41 20L4 18.59l7.72-7.72 1.47 1.35L5.41 20z\"/>\n",
              "  </svg>\n",
              "      </button>\n",
              "      \n",
              "  <style>\n",
              "    .colab-df-container {\n",
              "      display:flex;\n",
              "      flex-wrap:wrap;\n",
              "      gap: 12px;\n",
              "    }\n",
              "\n",
              "    .colab-df-convert {\n",
              "      background-color: #E8F0FE;\n",
              "      border: none;\n",
              "      border-radius: 50%;\n",
              "      cursor: pointer;\n",
              "      display: none;\n",
              "      fill: #1967D2;\n",
              "      height: 32px;\n",
              "      padding: 0 0 0 0;\n",
              "      width: 32px;\n",
              "    }\n",
              "\n",
              "    .colab-df-convert:hover {\n",
              "      background-color: #E2EBFA;\n",
              "      box-shadow: 0px 1px 2px rgba(60, 64, 67, 0.3), 0px 1px 3px 1px rgba(60, 64, 67, 0.15);\n",
              "      fill: #174EA6;\n",
              "    }\n",
              "\n",
              "    [theme=dark] .colab-df-convert {\n",
              "      background-color: #3B4455;\n",
              "      fill: #D2E3FC;\n",
              "    }\n",
              "\n",
              "    [theme=dark] .colab-df-convert:hover {\n",
              "      background-color: #434B5C;\n",
              "      box-shadow: 0px 1px 3px 1px rgba(0, 0, 0, 0.15);\n",
              "      filter: drop-shadow(0px 1px 2px rgba(0, 0, 0, 0.3));\n",
              "      fill: #FFFFFF;\n",
              "    }\n",
              "  </style>\n",
              "\n",
              "      <script>\n",
              "        const buttonEl =\n",
              "          document.querySelector('#df-9e9d199b-957b-4a29-af1a-f3329a7a250a button.colab-df-convert');\n",
              "        buttonEl.style.display =\n",
              "          google.colab.kernel.accessAllowed ? 'block' : 'none';\n",
              "\n",
              "        async function convertToInteractive(key) {\n",
              "          const element = document.querySelector('#df-9e9d199b-957b-4a29-af1a-f3329a7a250a');\n",
              "          const dataTable =\n",
              "            await google.colab.kernel.invokeFunction('convertToInteractive',\n",
              "                                                     [key], {});\n",
              "          if (!dataTable) return;\n",
              "\n",
              "          const docLinkHtml = 'Like what you see? Visit the ' +\n",
              "            '<a target=\"_blank\" href=https://colab.research.google.com/notebooks/data_table.ipynb>data table notebook</a>'\n",
              "            + ' to learn more about interactive tables.';\n",
              "          element.innerHTML = '';\n",
              "          dataTable['output_type'] = 'display_data';\n",
              "          await google.colab.output.renderOutput(dataTable, element);\n",
              "          const docLink = document.createElement('div');\n",
              "          docLink.innerHTML = docLinkHtml;\n",
              "          element.appendChild(docLink);\n",
              "        }\n",
              "      </script>\n",
              "    </div>\n",
              "  </div>\n",
              "  "
            ]
          },
          "metadata": {},
          "execution_count": 90
        }
      ]
    },
    {
      "cell_type": "code",
      "source": [
        "build.isnull().any()"
      ],
      "metadata": {
        "colab": {
          "base_uri": "https://localhost:8080/"
        },
        "outputId": "8e2e37d4-4c68-48b3-dca9-0e9fd402b030",
        "id": "s2YGNDPRX-sr"
      },
      "execution_count": 91,
      "outputs": [
        {
          "output_type": "execute_result",
          "data": {
            "text/plain": [
              "post id       False\n",
              "ราคาทรัพย์    False\n",
              "ประเมิน1      False\n",
              "ประเมิน2      False\n",
              "dtype: bool"
            ]
          },
          "metadata": {},
          "execution_count": 91
        }
      ]
    },
    {
      "cell_type": "markdown",
      "source": [
        "##MAPE ราคาทรัพย์เป็นหลัก เทียบ ผู้ประเมิน"
      ],
      "metadata": {
        "id": "UPjZhimsX-ss"
      }
    },
    {
      "cell_type": "markdown",
      "source": [
        "หา mean absolute percentage error \n",
        "- โดยราคาทรัพย์เป็นหลัก เทียบกับผู้ประเมินคนที่ 1 มีค่า MAPE เท่ากับ 17.643894993894996\n",
        "- โดยราคาทรัพย์เป็นหลัก เทียบกับผู้ประเมินคนที่ 2 มีค่า MAPE เท่ากับ 11.732295482295482\n",
        "* หมายความว่า ผู้ประเมินคนที่ 2 สามารถประเมินราคาทรัพย์(อาคารพาณิชย์)ได้ใกล้เคียงกว่าคนที่1"
      ],
      "metadata": {
        "id": "i9-Ch-Y_X-ss"
      }
    },
    {
      "cell_type": "code",
      "source": [
        "true = build['ราคาทรัพย์']\n",
        "pre1 = build['ประเมิน1']\n",
        "pre2 = build['ประเมิน2']"
      ],
      "metadata": {
        "id": "Nn15NkwYX-st"
      },
      "execution_count": 92,
      "outputs": []
    },
    {
      "cell_type": "code",
      "source": [
        "import numpy as np\n",
        "\n",
        "def mape(true, pre1): \n",
        "    true, pre1 = np.array(true), np.array(pre1)\n",
        "    return np.mean(np.abs((true - pre1) / true)) * 100\n",
        "mape(true, pre1)"
      ],
      "metadata": {
        "colab": {
          "base_uri": "https://localhost:8080/"
        },
        "outputId": "4773dd50-ad7a-4a6f-aaaa-0476e39009ec",
        "id": "VapYGx2VX-st"
      },
      "execution_count": 93,
      "outputs": [
        {
          "output_type": "execute_result",
          "data": {
            "text/plain": [
              "17.643894993894996"
            ]
          },
          "metadata": {},
          "execution_count": 93
        }
      ]
    },
    {
      "cell_type": "code",
      "source": [
        "import numpy as np\n",
        "\n",
        "def mape(true, pre2): \n",
        "    true, pre2 = np.array(true), np.array(pre2)\n",
        "    return np.mean(np.abs((true - pre2) / true)) * 100\n",
        "mape(true, pre2)"
      ],
      "metadata": {
        "colab": {
          "base_uri": "https://localhost:8080/"
        },
        "outputId": "24c87dd2-1461-4c15-a452-e70f2e07f8a1",
        "id": "zsfoSALmX-su"
      },
      "execution_count": 94,
      "outputs": [
        {
          "output_type": "execute_result",
          "data": {
            "text/plain": [
              "11.732295482295482"
            ]
          },
          "metadata": {},
          "execution_count": 94
        }
      ]
    },
    {
      "cell_type": "markdown",
      "source": [
        "##MAPE ผู้ประเมินเป็นหลัก เทียบ ผู้ประเมิน\n",
        "\n",
        "หา mean absolute percentage error\n",
        "\n",
        "- โดยผู้ประเมินคนที่ 1 เทียบกับผู้ประเมินคนที่ 2 มีค่า MAPE เท่ากับ 21.58208906103643\n",
        "- โดยผู้ประเมินคนที่ 2 เทียบกับผู้ประเมินคนที่ 1 มีค่า MAPE เท่ากับ 16.97142857142857\n"
      ],
      "metadata": {
        "id": "--8HN32vX-sv"
      }
    },
    {
      "cell_type": "code",
      "source": [
        "import numpy as np\n",
        "\n",
        "def mape(pre1, pre2): \n",
        "    pre1, pre2 = np.array(pre1), np.array(pre2)\n",
        "    return np.mean(np.abs((pre1 - pre2) / pre1)) * 100\n",
        "mape(pre1, pre2)"
      ],
      "metadata": {
        "colab": {
          "base_uri": "https://localhost:8080/"
        },
        "outputId": "fdeab4f8-aebc-43ee-b771-b1c575425b72",
        "id": "zc_twPGJX-sv"
      },
      "execution_count": 95,
      "outputs": [
        {
          "output_type": "execute_result",
          "data": {
            "text/plain": [
              "21.58208906103643"
            ]
          },
          "metadata": {},
          "execution_count": 95
        }
      ]
    },
    {
      "cell_type": "code",
      "source": [
        "import numpy as np\n",
        "\n",
        "def mape(pre2, pre1): \n",
        "    pre2, pre1 = np.array(pre2), np.array(pre1)\n",
        "    return np.mean(np.abs((pre2 - pre1) / pre2)) * 100\n",
        "mape(pre2, pre1)"
      ],
      "metadata": {
        "colab": {
          "base_uri": "https://localhost:8080/"
        },
        "outputId": "abbcb5d1-8bd1-4c26-bd4b-1b2bc08358c6",
        "id": "HoQUS87oX-sw"
      },
      "execution_count": 96,
      "outputs": [
        {
          "output_type": "execute_result",
          "data": {
            "text/plain": [
              "16.97142857142857"
            ]
          },
          "metadata": {},
          "execution_count": 96
        }
      ]
    },
    {
      "cell_type": "markdown",
      "source": [
        "##MAPE ผู้ประเมินเป็นหลัก เทียบ ราคาทรัพย์\n",
        "\n",
        "- โดยผู้ประเมินคนที่ 1 เป็นหลัก เทียบกับราคาทรัพย์มีค่า MAPE เท่ากับ 25.4518341307815\n",
        "\n",
        "- โดยผู้ประเมินคนที่ 2 เป็นหลัก เทียบกับราคาทรัพย์มีค่า MAPE เท่ากับ 12.428571428571429\n"
      ],
      "metadata": {
        "id": "V3QsgGtztPBu"
      }
    },
    {
      "cell_type": "code",
      "source": [
        "from sklearn.metrics import mean_absolute_percentage_error\n",
        "y_true = build['ประเมิน1']\n",
        "y_pred = build['ราคาทรัพย์']\n",
        "mean_absolute_percentage_error(y_true, y_pred) * 100"
      ],
      "metadata": {
        "id": "0gs3ia6ktTuW",
        "outputId": "fae85748-b0a6-415d-c57a-ad96ca62f613",
        "colab": {
          "base_uri": "https://localhost:8080/"
        }
      },
      "execution_count": 97,
      "outputs": [
        {
          "output_type": "execute_result",
          "data": {
            "text/plain": [
              "25.4518341307815"
            ]
          },
          "metadata": {},
          "execution_count": 97
        }
      ]
    },
    {
      "cell_type": "code",
      "source": [
        "from sklearn.metrics import mean_absolute_percentage_error\n",
        "y_true = build['ประเมิน2']\n",
        "y_pred = build['ราคาทรัพย์']\n",
        "mean_absolute_percentage_error(y_true, y_pred) * 100"
      ],
      "metadata": {
        "id": "U6_gzl1ftZqG",
        "outputId": "ff55ae7c-6e54-4c1b-a3d0-0ea4207a402a",
        "colab": {
          "base_uri": "https://localhost:8080/"
        }
      },
      "execution_count": 98,
      "outputs": [
        {
          "output_type": "execute_result",
          "data": {
            "text/plain": [
              "12.428571428571429"
            ]
          },
          "metadata": {},
          "execution_count": 98
        }
      ]
    },
    {
      "cell_type": "code",
      "source": [],
      "metadata": {
        "id": "zQtrFIEmGnSZ"
      },
      "execution_count": 98,
      "outputs": []
    }
  ]
}